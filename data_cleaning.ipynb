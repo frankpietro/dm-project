{
 "cells": [
  {
   "cell_type": "markdown",
   "id": "07b99d6b",
   "metadata": {},
   "source": [
    "# Data Mining Project\n",
    "### Giorgio Donati, g.donati24@studenti.unipi.it\n",
    "### Pietro Francaviglia, p.francaviglia1@studenti.unipi.it\n",
    "#### A.Y. 2021-2022\n"
   ]
  },
  {
   "cell_type": "markdown",
   "id": "6defe5e4",
   "metadata": {},
   "source": [
    "# Libraries and datasets"
   ]
  },
  {
   "cell_type": "code",
   "execution_count": 1,
   "id": "d45a9a1e",
   "metadata": {},
   "outputs": [],
   "source": [
    "import math\n",
    "import numpy as np\n",
    "import pandas as pd\n",
    "import scipy.stats as stats\n",
    "import matplotlib.pyplot as plt\n",
    "import seaborn as sns\n",
    "import pickle\n",
    "\n",
    "from col_names import *"
   ]
  },
  {
   "cell_type": "code",
   "execution_count": 2,
   "id": "aa4f4d7a",
   "metadata": {},
   "outputs": [],
   "source": [
    "# load datasets\n",
    "original_basket_df = pd.read_csv('datasets/baskets_supermarket.csv')\n",
    "original_categories_df = pd.read_csv('datasets/item_categories.csv')\n",
    "original_items_df = pd.read_csv('datasets/items.csv')"
   ]
  },
  {
   "cell_type": "code",
   "execution_count": 3,
   "id": "5b7db67b",
   "metadata": {},
   "outputs": [
    {
     "name": "stdout",
     "output_type": "stream",
     "text": [
      "<class 'pandas.core.frame.DataFrame'>\n",
      "RangeIndex: 504087 entries, 0 to 504086\n",
      "Data columns (total 8 columns):\n",
      " #   Column        Non-Null Count   Dtype  \n",
      "---  ------        --------------   -----  \n",
      " 0   Unnamed: 0    504087 non-null  int64  \n",
      " 1   date          352861 non-null  object \n",
      " 2   shop_id       469023 non-null  float64\n",
      " 3   item_id       405085 non-null  float64\n",
      " 4   item_price    451795 non-null  float64\n",
      " 5   item_cnt_day  497039 non-null  float64\n",
      " 6   user_id       433351 non-null  float64\n",
      " 7   basket_id     437967 non-null  object \n",
      "dtypes: float64(5), int64(1), object(2)\n",
      "memory usage: 30.8+ MB\n"
     ]
    }
   ],
   "source": [
    "original_basket_df.info()"
   ]
  },
  {
   "cell_type": "code",
   "execution_count": 4,
   "id": "9a01b2ed",
   "metadata": {},
   "outputs": [
    {
     "name": "stdout",
     "output_type": "stream",
     "text": [
      "<class 'pandas.core.frame.DataFrame'>\n",
      "RangeIndex: 22170 entries, 0 to 22169\n",
      "Data columns (total 3 columns):\n",
      " #   Column            Non-Null Count  Dtype \n",
      "---  ------            --------------  ----- \n",
      " 0   item_name         22170 non-null  object\n",
      " 1   item_id           22170 non-null  int64 \n",
      " 2   item_category_id  22170 non-null  int64 \n",
      "dtypes: int64(2), object(1)\n",
      "memory usage: 519.7+ KB\n"
     ]
    }
   ],
   "source": [
    "original_items_df.info()"
   ]
  },
  {
   "cell_type": "code",
   "execution_count": 5,
   "id": "41fa7ebc",
   "metadata": {},
   "outputs": [
    {
     "name": "stdout",
     "output_type": "stream",
     "text": [
      "<class 'pandas.core.frame.DataFrame'>\n",
      "RangeIndex: 84 entries, 0 to 83\n",
      "Data columns (total 2 columns):\n",
      " #   Column              Non-Null Count  Dtype \n",
      "---  ------              --------------  ----- \n",
      " 0   item_category_name  84 non-null     object\n",
      " 1   item_category_id    84 non-null     int64 \n",
      "dtypes: int64(1), object(1)\n",
      "memory usage: 1.4+ KB\n"
     ]
    }
   ],
   "source": [
    "original_categories_df.info()"
   ]
  },
  {
   "cell_type": "markdown",
   "id": "15e18099",
   "metadata": {},
   "source": [
    "# Data cleaning"
   ]
  },
  {
   "cell_type": "markdown",
   "id": "972e2daf",
   "metadata": {},
   "source": [
    "## Basket dataset"
   ]
  },
  {
   "cell_type": "code",
   "execution_count": 6,
   "id": "21fcc1da",
   "metadata": {
    "scrolled": true
   },
   "outputs": [],
   "source": [
    "basket_df = original_basket_df"
   ]
  },
  {
   "cell_type": "markdown",
   "id": "a25b906f",
   "metadata": {},
   "source": [
    "### Cleaning ID columns"
   ]
  },
  {
   "cell_type": "code",
   "execution_count": 7,
   "id": "ecd0c607",
   "metadata": {},
   "outputs": [
    {
     "name": "stdout",
     "output_type": "stream",
     "text": [
      "<class 'pandas.core.frame.DataFrame'>\n",
      "RangeIndex: 504087 entries, 0 to 504086\n",
      "Data columns (total 8 columns):\n",
      " #   Column        Non-Null Count   Dtype         \n",
      "---  ------        --------------   -----         \n",
      " 0   Unnamed: 0    504087 non-null  int64         \n",
      " 1   date          352861 non-null  datetime64[ns]\n",
      " 2   shop_id       469023 non-null  Int64         \n",
      " 3   item_id       405085 non-null  Int64         \n",
      " 4   item_price    451795 non-null  float64       \n",
      " 5   item_cnt_day  497039 non-null  Int64         \n",
      " 6   user_id       433351 non-null  Int64         \n",
      " 7   basket_id     437967 non-null  object        \n",
      "dtypes: Int64(4), datetime64[ns](1), float64(1), int64(1), object(1)\n",
      "memory usage: 32.7+ MB\n"
     ]
    }
   ],
   "source": [
    "integer_attributes = [SHOP, ITEM, CNT, USER]\n",
    "for col in integer_attributes:\n",
    "    basket_df[col] = basket_df[col].astype('Int64')\n",
    "\n",
    "basket_df[DATE] = pd.to_datetime(basket_df[DATE])\n",
    "    \n",
    "basket_df.info()"
   ]
  },
  {
   "cell_type": "markdown",
   "id": "6a9dd9a0",
   "metadata": {},
   "source": [
    "#### Subset with basket_id"
   ]
  },
  {
   "cell_type": "code",
   "execution_count": 8,
   "id": "f447d5b5",
   "metadata": {
    "scrolled": true
   },
   "outputs": [
    {
     "name": "stdout",
     "output_type": "stream",
     "text": [
      "<class 'pandas.core.frame.DataFrame'>\n",
      "Int64Index: 437967 entries, 0 to 504086\n",
      "Data columns (total 8 columns):\n",
      " #   Column        Non-Null Count   Dtype         \n",
      "---  ------        --------------   -----         \n",
      " 0   Unnamed: 0    437967 non-null  int64         \n",
      " 1   date          306631 non-null  datetime64[ns]\n",
      " 2   shop_id       407650 non-null  Int64         \n",
      " 3   item_id       352049 non-null  Int64         \n",
      " 4   item_price    392583 non-null  float64       \n",
      " 5   item_cnt_day  431863 non-null  Int64         \n",
      " 6   user_id       376422 non-null  Int64         \n",
      " 7   basket_id     437967 non-null  object        \n",
      "dtypes: Int64(4), datetime64[ns](1), float64(1), int64(1), object(1)\n",
      "memory usage: 31.7+ MB\n"
     ]
    }
   ],
   "source": [
    "stored_basket_df = basket_df[basket_df[BASKET].notna()]\n",
    "stored_basket_df.info()"
   ]
  },
  {
   "cell_type": "code",
   "execution_count": 9,
   "id": "ff0cd76f",
   "metadata": {},
   "outputs": [],
   "source": [
    "def integrate(int_attr, gr_attr, df):\n",
    "    df[int_attr] = df.groupby(gr_attr)[int_attr].apply(lambda x: x.fillna(x.mode().iloc[0] if len(x.mode()) == 1 else x))"
   ]
  },
  {
   "cell_type": "code",
   "execution_count": 10,
   "id": "148dd7a9",
   "metadata": {
    "scrolled": true
   },
   "outputs": [
    {
     "name": "stderr",
     "output_type": "stream",
     "text": [
      "/tmp/ipykernel_163164/631791158.py:2: SettingWithCopyWarning: \n",
      "A value is trying to be set on a copy of a slice from a DataFrame.\n",
      "Try using .loc[row_indexer,col_indexer] = value instead\n",
      "\n",
      "See the caveats in the documentation: https://pandas.pydata.org/pandas-docs/stable/user_guide/indexing.html#returning-a-view-versus-a-copy\n",
      "  df[int_attr] = df.groupby(gr_attr)[int_attr].apply(lambda x: x.fillna(x.mode().iloc[0] if len(x.mode()) == 1 else x))\n",
      "/tmp/ipykernel_163164/631791158.py:2: SettingWithCopyWarning: \n",
      "A value is trying to be set on a copy of a slice from a DataFrame.\n",
      "Try using .loc[row_indexer,col_indexer] = value instead\n",
      "\n",
      "See the caveats in the documentation: https://pandas.pydata.org/pandas-docs/stable/user_guide/indexing.html#returning-a-view-versus-a-copy\n",
      "  df[int_attr] = df.groupby(gr_attr)[int_attr].apply(lambda x: x.fillna(x.mode().iloc[0] if len(x.mode()) == 1 else x))\n"
     ]
    },
    {
     "name": "stdout",
     "output_type": "stream",
     "text": [
      "<class 'pandas.core.frame.DataFrame'>\n",
      "Int64Index: 437708 entries, 0 to 504086\n",
      "Data columns (total 8 columns):\n",
      " #   Column        Non-Null Count   Dtype         \n",
      "---  ------        --------------   -----         \n",
      " 0   Unnamed: 0    437708 non-null  int64         \n",
      " 1   date          435787 non-null  datetime64[ns]\n",
      " 2   shop_id       437524 non-null  Int64         \n",
      " 3   item_id       351844 non-null  Int64         \n",
      " 4   item_price    392353 non-null  float64       \n",
      " 5   item_cnt_day  431606 non-null  Int64         \n",
      " 6   user_id       437212 non-null  Int64         \n",
      " 7   basket_id     437708 non-null  object        \n",
      "dtypes: Int64(4), datetime64[ns](1), float64(1), int64(1), object(1)\n",
      "memory usage: 31.7+ MB\n"
     ]
    },
    {
     "name": "stderr",
     "output_type": "stream",
     "text": [
      "/tmp/ipykernel_163164/631791158.py:2: SettingWithCopyWarning: \n",
      "A value is trying to be set on a copy of a slice from a DataFrame.\n",
      "Try using .loc[row_indexer,col_indexer] = value instead\n",
      "\n",
      "See the caveats in the documentation: https://pandas.pydata.org/pandas-docs/stable/user_guide/indexing.html#returning-a-view-versus-a-copy\n",
      "  df[int_attr] = df.groupby(gr_attr)[int_attr].apply(lambda x: x.fillna(x.mode().iloc[0] if len(x.mode()) == 1 else x))\n"
     ]
    }
   ],
   "source": [
    "basket_dependent_attributes = [DATE, SHOP, USER]\n",
    "for attr in basket_dependent_attributes:\n",
    "    integrate(attr, BASKET, stored_basket_df)\n",
    "\n",
    "stored_basket_df = stored_basket_df.dropna(subset=basket_dependent_attributes, thresh=2)\n",
    "    \n",
    "stored_basket_df.info()"
   ]
  },
  {
   "cell_type": "markdown",
   "id": "cff76925",
   "metadata": {},
   "source": [
    "#### Subset without basket_id"
   ]
  },
  {
   "cell_type": "code",
   "execution_count": 11,
   "id": "6f3025cf",
   "metadata": {},
   "outputs": [
    {
     "name": "stdout",
     "output_type": "stream",
     "text": [
      "<class 'pandas.core.frame.DataFrame'>\n",
      "Int64Index: 66120 entries, 20 to 504077\n",
      "Data columns (total 8 columns):\n",
      " #   Column        Non-Null Count  Dtype         \n",
      "---  ------        --------------  -----         \n",
      " 0   Unnamed: 0    66120 non-null  int64         \n",
      " 1   date          46230 non-null  datetime64[ns]\n",
      " 2   shop_id       61373 non-null  Int64         \n",
      " 3   item_id       53036 non-null  Int64         \n",
      " 4   item_price    59212 non-null  float64       \n",
      " 5   item_cnt_day  65176 non-null  Int64         \n",
      " 6   user_id       56929 non-null  Int64         \n",
      " 7   basket_id     0 non-null      object        \n",
      "dtypes: Int64(4), datetime64[ns](1), float64(1), int64(1), object(1)\n",
      "memory usage: 4.8+ MB\n"
     ]
    }
   ],
   "source": [
    "null_basket_df = basket_df[basket_df[BASKET].isna()]\n",
    "\n",
    "null_basket_df.info()"
   ]
  },
  {
   "cell_type": "code",
   "execution_count": 12,
   "id": "f06a07f5",
   "metadata": {
    "scrolled": true
   },
   "outputs": [
    {
     "name": "stdout",
     "output_type": "stream",
     "text": [
      "<class 'pandas.core.frame.DataFrame'>\n",
      "Int64Index: 36987 entries, 61 to 504077\n",
      "Data columns (total 8 columns):\n",
      " #   Column        Non-Null Count  Dtype         \n",
      "---  ------        --------------  -----         \n",
      " 0   Unnamed: 0    36987 non-null  int64         \n",
      " 1   date          36987 non-null  datetime64[ns]\n",
      " 2   shop_id       36987 non-null  Int64         \n",
      " 3   item_id       29726 non-null  Int64         \n",
      " 4   item_price    33150 non-null  float64       \n",
      " 5   item_cnt_day  36454 non-null  Int64         \n",
      " 6   user_id       36987 non-null  Int64         \n",
      " 7   basket_id     0 non-null      object        \n",
      "dtypes: Int64(4), datetime64[ns](1), float64(1), int64(1), object(1)\n",
      "memory usage: 2.7+ MB\n"
     ]
    }
   ],
   "source": [
    "null_basket_df = null_basket_df.dropna(subset=basket_dependent_attributes)\n",
    "null_basket_df.info()"
   ]
  },
  {
   "cell_type": "code",
   "execution_count": 13,
   "id": "d230b33c",
   "metadata": {},
   "outputs": [
    {
     "data": {
      "text/plain": [
       "61           0\n",
       "67           0\n",
       "105          1\n",
       "107          1\n",
       "109          1\n",
       "          ... \n",
       "504036    6737\n",
       "504038    6737\n",
       "504051    6737\n",
       "504063    6736\n",
       "504077    6738\n",
       "Name: temp_id, Length: 36987, dtype: int64"
      ]
     },
     "execution_count": 13,
     "metadata": {},
     "output_type": "execute_result"
    }
   ],
   "source": [
    "null_basket_df[TMP] = null_basket_df.groupby(basket_dependent_attributes).ngroup().astype(int)\n",
    "null_basket_df[TMP]"
   ]
  },
  {
   "cell_type": "code",
   "execution_count": 14,
   "id": "e1bbfb08",
   "metadata": {},
   "outputs": [
    {
     "name": "stdout",
     "output_type": "stream",
     "text": [
      "<class 'pandas.core.frame.DataFrame'>\n",
      "Int64Index: 27748 entries, 61 to 504051\n",
      "Data columns (total 8 columns):\n",
      " #   Column        Non-Null Count  Dtype         \n",
      "---  ------        --------------  -----         \n",
      " 0   Unnamed: 0    27748 non-null  int64         \n",
      " 1   date          27748 non-null  datetime64[ns]\n",
      " 2   shop_id       27748 non-null  Int64         \n",
      " 3   item_id       22323 non-null  Int64         \n",
      " 4   item_price    24897 non-null  float64       \n",
      " 5   item_cnt_day  27342 non-null  Int64         \n",
      " 6   user_id       27748 non-null  Int64         \n",
      " 7   basket_id     27748 non-null  object        \n",
      "dtypes: Int64(4), datetime64[ns](1), float64(1), int64(1), object(1)\n",
      "memory usage: 2.0+ MB\n"
     ]
    },
    {
     "name": "stderr",
     "output_type": "stream",
     "text": [
      "/tmp/ipykernel_163164/4133404889.py:2: SettingWithCopyWarning: \n",
      "A value is trying to be set on a copy of a slice from a DataFrame.\n",
      "Try using .loc[row_indexer,col_indexer] = value instead\n",
      "\n",
      "See the caveats in the documentation: https://pandas.pydata.org/pandas-docs/stable/user_guide/indexing.html#returning-a-view-versus-a-copy\n",
      "  new_basket_df[BASKET] = 'R' + null_basket_df[TMP].astype(str)\n",
      "/tmp/ipykernel_163164/4133404889.py:3: FutureWarning: In a future version of pandas all arguments of DataFrame.drop except for the argument 'labels' will be keyword-only.\n",
      "  new_basket_df = new_basket_df.drop(TMP, 1)\n"
     ]
    }
   ],
   "source": [
    "new_basket_df = null_basket_df[null_basket_df.duplicated(subset=[TMP], keep=False)]\n",
    "new_basket_df[BASKET] = 'R' + null_basket_df[TMP].astype(str)\n",
    "new_basket_df = new_basket_df.drop(TMP, 1)\n",
    "new_basket_df.info()"
   ]
  },
  {
   "cell_type": "code",
   "execution_count": 15,
   "id": "861852ae",
   "metadata": {},
   "outputs": [
    {
     "name": "stdout",
     "output_type": "stream",
     "text": [
      "<class 'pandas.core.frame.DataFrame'>\n",
      "Int64Index: 9239 entries, 121 to 504077\n",
      "Data columns (total 9 columns):\n",
      " #   Column        Non-Null Count  Dtype         \n",
      "---  ------        --------------  -----         \n",
      " 0   Unnamed: 0    9239 non-null   int64         \n",
      " 1   date          9239 non-null   datetime64[ns]\n",
      " 2   shop_id       9239 non-null   Int64         \n",
      " 3   item_id       7403 non-null   Int64         \n",
      " 4   item_price    8253 non-null   float64       \n",
      " 5   item_cnt_day  9112 non-null   Int64         \n",
      " 6   user_id       9239 non-null   Int64         \n",
      " 7   basket_id     0 non-null      object        \n",
      " 8   temp_id       9239 non-null   int64         \n",
      "dtypes: Int64(4), datetime64[ns](1), float64(1), int64(2), object(1)\n",
      "memory usage: 757.9+ KB\n"
     ]
    }
   ],
   "source": [
    "single_basket_df = null_basket_df.drop_duplicates(subset=[TMP], keep=False)\n",
    "single_basket_df.info()"
   ]
  },
  {
   "cell_type": "code",
   "execution_count": 16,
   "id": "186bb143",
   "metadata": {},
   "outputs": [
    {
     "name": "stdout",
     "output_type": "stream",
     "text": [
      "<class 'pandas.core.frame.DataFrame'>\n",
      "Int64Index: 446947 entries, 0 to 504077\n",
      "Data columns (total 9 columns):\n",
      " #   Column        Non-Null Count   Dtype         \n",
      "---  ------        --------------   -----         \n",
      " 0   Unnamed: 0    446947 non-null  int64         \n",
      " 1   date          445026 non-null  datetime64[ns]\n",
      " 2   shop_id       446763 non-null  Int64         \n",
      " 3   item_id       359247 non-null  Int64         \n",
      " 4   item_price    400606 non-null  float64       \n",
      " 5   item_cnt_day  440718 non-null  Int64         \n",
      " 6   user_id       446451 non-null  Int64         \n",
      " 7   basket_id     437708 non-null  object        \n",
      " 8   temp_id       9239 non-null    float64       \n",
      "dtypes: Int64(4), datetime64[ns](1), float64(2), int64(1), object(1)\n",
      "memory usage: 35.8+ MB\n"
     ]
    }
   ],
   "source": [
    "restoring_basket_df = pd.concat([stored_basket_df, single_basket_df])\n",
    "restoring_basket_df.info()"
   ]
  },
  {
   "cell_type": "code",
   "execution_count": 17,
   "id": "8dcddda5",
   "metadata": {},
   "outputs": [
    {
     "name": "stdout",
     "output_type": "stream",
     "text": [
      "<class 'pandas.core.frame.DataFrame'>\n",
      "Int64Index: 446947 entries, 0 to 504077\n",
      "Data columns (total 9 columns):\n",
      " #   Column        Non-Null Count   Dtype         \n",
      "---  ------        --------------   -----         \n",
      " 0   Unnamed: 0    446947 non-null  int64         \n",
      " 1   date          445026 non-null  datetime64[ns]\n",
      " 2   shop_id       446763 non-null  Int64         \n",
      " 3   item_id       359247 non-null  Int64         \n",
      " 4   item_price    400606 non-null  float64       \n",
      " 5   item_cnt_day  440718 non-null  Int64         \n",
      " 6   user_id       446451 non-null  Int64         \n",
      " 7   basket_id     443752 non-null  object        \n",
      " 8   temp_id       9239 non-null    float64       \n",
      "dtypes: Int64(4), datetime64[ns](1), float64(2), int64(1), object(1)\n",
      "memory usage: 35.8+ MB\n"
     ]
    }
   ],
   "source": [
    "integrate(BASKET, basket_dependent_attributes, restoring_basket_df)\n",
    "restoring_basket_df.info()"
   ]
  },
  {
   "cell_type": "code",
   "execution_count": 18,
   "id": "e3d462b1",
   "metadata": {
    "scrolled": true
   },
   "outputs": [
    {
     "name": "stdout",
     "output_type": "stream",
     "text": [
      "<class 'pandas.core.frame.DataFrame'>\n",
      "Int64Index: 444346 entries, 0 to 504077\n",
      "Data columns (total 9 columns):\n",
      " #   Column        Non-Null Count   Dtype         \n",
      "---  ------        --------------   -----         \n",
      " 0   Unnamed: 0    444346 non-null  int64         \n",
      " 1   date          444346 non-null  datetime64[ns]\n",
      " 2   shop_id       444346 non-null  Int64         \n",
      " 3   item_id       357166 non-null  Int64         \n",
      " 4   item_price    398288 non-null  float64       \n",
      " 5   item_cnt_day  438157 non-null  Int64         \n",
      " 6   user_id       444346 non-null  Int64         \n",
      " 7   basket_id     443752 non-null  object        \n",
      " 8   temp_id       9239 non-null    float64       \n",
      "dtypes: Int64(4), datetime64[ns](1), float64(2), int64(1), object(1)\n",
      "memory usage: 35.6+ MB\n"
     ]
    }
   ],
   "source": [
    "restoring_basket_df = restoring_basket_df.dropna(subset=[BASKET, DATE, SHOP, USER], thresh=3)\n",
    "restoring_basket_df.info()"
   ]
  },
  {
   "cell_type": "code",
   "execution_count": 19,
   "id": "9d0418a6",
   "metadata": {},
   "outputs": [
    {
     "name": "stdout",
     "output_type": "stream",
     "text": [
      "<class 'pandas.core.frame.DataFrame'>\n",
      "Int64Index: 444346 entries, 0 to 504077\n",
      "Data columns (total 8 columns):\n",
      " #   Column        Non-Null Count   Dtype         \n",
      "---  ------        --------------   -----         \n",
      " 0   Unnamed: 0    444346 non-null  int64         \n",
      " 1   date          444346 non-null  datetime64[ns]\n",
      " 2   shop_id       444346 non-null  Int64         \n",
      " 3   item_id       357166 non-null  Int64         \n",
      " 4   item_price    398288 non-null  float64       \n",
      " 5   item_cnt_day  438157 non-null  Int64         \n",
      " 6   user_id       444346 non-null  Int64         \n",
      " 7   basket_id     444346 non-null  object        \n",
      "dtypes: Int64(4), datetime64[ns](1), float64(1), int64(1), object(1)\n",
      "memory usage: 32.2+ MB\n"
     ]
    },
    {
     "name": "stderr",
     "output_type": "stream",
     "text": [
      "/tmp/ipykernel_163164/2587483246.py:2: FutureWarning: In a future version of pandas all arguments of DataFrame.drop except for the argument 'labels' will be keyword-only.\n",
      "  restoring_basket_df = restoring_basket_df.drop(TMP, 1)\n"
     ]
    }
   ],
   "source": [
    "restoring_basket_df[BASKET] = restoring_basket_df[BASKET].fillna('S' + restoring_basket_df[TMP].astype(str))\n",
    "restoring_basket_df = restoring_basket_df.drop(TMP, 1)\n",
    "restoring_basket_df.info()"
   ]
  },
  {
   "cell_type": "markdown",
   "id": "4be169d6",
   "metadata": {},
   "source": [
    "#### Merging subsets"
   ]
  },
  {
   "cell_type": "code",
   "execution_count": 20,
   "id": "356651ed",
   "metadata": {},
   "outputs": [
    {
     "name": "stdout",
     "output_type": "stream",
     "text": [
      "<class 'pandas.core.frame.DataFrame'>\n",
      "Int64Index: 472094 entries, 0 to 504051\n",
      "Data columns (total 8 columns):\n",
      " #   Column        Non-Null Count   Dtype         \n",
      "---  ------        --------------   -----         \n",
      " 0   Unnamed: 0    472094 non-null  int64         \n",
      " 1   date          472094 non-null  datetime64[ns]\n",
      " 2   shop_id       472094 non-null  Int64         \n",
      " 3   item_id       379489 non-null  Int64         \n",
      " 4   item_price    423185 non-null  float64       \n",
      " 5   item_cnt_day  465499 non-null  Int64         \n",
      " 6   user_id       472094 non-null  Int64         \n",
      " 7   basket_id     472094 non-null  object        \n",
      "dtypes: Int64(4), datetime64[ns](1), float64(1), int64(1), object(1)\n",
      "memory usage: 34.2+ MB\n"
     ]
    }
   ],
   "source": [
    "clean_basket_df = pd.concat([restoring_basket_df, new_basket_df])\n",
    "clean_basket_df.info()"
   ]
  },
  {
   "cell_type": "markdown",
   "id": "bfe00415",
   "metadata": {},
   "source": [
    "### Cleaning item columns"
   ]
  },
  {
   "cell_type": "code",
   "execution_count": 21,
   "id": "cc01db2d",
   "metadata": {},
   "outputs": [
    {
     "name": "stdout",
     "output_type": "stream",
     "text": [
      "<class 'pandas.core.frame.DataFrame'>\n",
      "Int64Index: 464180 entries, 0 to 504051\n",
      "Data columns (total 8 columns):\n",
      " #   Column        Non-Null Count   Dtype         \n",
      "---  ------        --------------   -----         \n",
      " 0   Unnamed: 0    464180 non-null  int64         \n",
      " 1   date          464180 non-null  datetime64[ns]\n",
      " 2   shop_id       464180 non-null  Int64         \n",
      " 3   item_id       373163 non-null  Int64         \n",
      " 4   item_price    416080 non-null  float64       \n",
      " 5   item_cnt_day  464180 non-null  Int64         \n",
      " 6   user_id       464180 non-null  Int64         \n",
      " 7   basket_id     464180 non-null  object        \n",
      "dtypes: Int64(4), datetime64[ns](1), float64(1), int64(1), object(1)\n",
      "memory usage: 33.6+ MB\n"
     ]
    }
   ],
   "source": [
    "clean_basket_df = clean_basket_df.dropna(subset=CNT)\n",
    "clean_basket_df = clean_basket_df[clean_basket_df[CNT] > 0]\n",
    "clean_basket_df.info()"
   ]
  },
  {
   "cell_type": "code",
   "execution_count": 22,
   "id": "11e5bb07",
   "metadata": {},
   "outputs": [
    {
     "name": "stdout",
     "output_type": "stream",
     "text": [
      "<class 'pandas.core.frame.DataFrame'>\n",
      "Int64Index: 454723 entries, 0 to 504051\n",
      "Data columns (total 8 columns):\n",
      " #   Column        Non-Null Count   Dtype         \n",
      "---  ------        --------------   -----         \n",
      " 0   Unnamed: 0    454723 non-null  int64         \n",
      " 1   date          454723 non-null  datetime64[ns]\n",
      " 2   shop_id       454723 non-null  Int64         \n",
      " 3   item_id       373163 non-null  Int64         \n",
      " 4   item_price    416080 non-null  float64       \n",
      " 5   item_cnt_day  454723 non-null  Int64         \n",
      " 6   user_id       454723 non-null  Int64         \n",
      " 7   basket_id     454723 non-null  object        \n",
      "dtypes: Int64(4), datetime64[ns](1), float64(1), int64(1), object(1)\n",
      "memory usage: 33.0+ MB\n"
     ]
    }
   ],
   "source": [
    "clean_basket_df = clean_basket_df.dropna(subset=[ITEM, PUNIT], thresh=1)\n",
    "clean_basket_df.info()"
   ]
  },
  {
   "cell_type": "code",
   "execution_count": 23,
   "id": "f5e8c4fd",
   "metadata": {},
   "outputs": [
    {
     "name": "stdout",
     "output_type": "stream",
     "text": [
      "<class 'pandas.core.frame.DataFrame'>\n",
      "Int64Index: 454723 entries, 0 to 504051\n",
      "Data columns (total 8 columns):\n",
      " #   Column        Non-Null Count   Dtype         \n",
      "---  ------        --------------   -----         \n",
      " 0   Unnamed: 0    454723 non-null  int64         \n",
      " 1   date          454723 non-null  datetime64[ns]\n",
      " 2   shop_id       454723 non-null  Int64         \n",
      " 3   item_id       454723 non-null  Int64         \n",
      " 4   item_price    416080 non-null  float64       \n",
      " 5   item_cnt_day  454723 non-null  Int64         \n",
      " 6   user_id       454723 non-null  Int64         \n",
      " 7   basket_id     454723 non-null  object        \n",
      "dtypes: Int64(4), datetime64[ns](1), float64(1), int64(1), object(1)\n",
      "memory usage: 49.1+ MB\n"
     ]
    }
   ],
   "source": [
    "s = clean_basket_df.loc[clean_basket_df[ITEM].isna(), ITEM].fillna(-clean_basket_df[ITEM].isna().cumsum())\n",
    "clean_basket_df[ITEM] = clean_basket_df[ITEM].fillna(s)\n",
    "clean_basket_df.info()"
   ]
  },
  {
   "cell_type": "code",
   "execution_count": 24,
   "id": "af2b1b65",
   "metadata": {},
   "outputs": [
    {
     "name": "stdout",
     "output_type": "stream",
     "text": [
      "<class 'pandas.core.frame.DataFrame'>\n",
      "Int64Index: 22170 entries, 0 to 22169\n",
      "Data columns (total 4 columns):\n",
      " #   Column            Non-Null Count  Dtype  \n",
      "---  ------            --------------  -----  \n",
      " 0   item_name         22170 non-null  object \n",
      " 1   item_id           22170 non-null  int64  \n",
      " 2   item_category_id  22170 non-null  int64  \n",
      " 3   item_price        16813 non-null  float64\n",
      "dtypes: float64(1), int64(2), object(1)\n",
      "memory usage: 866.0+ KB\n"
     ]
    }
   ],
   "source": [
    "temp = clean_basket_df.groupby(ITEM)[PUNIT].mean()\n",
    "priced_items_df = pd.merge(original_items_df, temp, on=ITEM, how='left')\n",
    "priced_items_df.info()"
   ]
  },
  {
   "cell_type": "code",
   "execution_count": 25,
   "id": "2cac6454",
   "metadata": {},
   "outputs": [
    {
     "name": "stdout",
     "output_type": "stream",
     "text": [
      "<class 'pandas.core.frame.DataFrame'>\n",
      "Int64Index: 454412 entries, 0 to 454722\n",
      "Data columns (total 7 columns):\n",
      " #   Column        Non-Null Count   Dtype         \n",
      "---  ------        --------------   -----         \n",
      " 0   item_id       454412 non-null  Int64         \n",
      " 1   date          454412 non-null  datetime64[ns]\n",
      " 2   shop_id       454412 non-null  Int64         \n",
      " 3   item_price    454412 non-null  float64       \n",
      " 4   item_cnt_day  454412 non-null  Int64         \n",
      " 5   user_id       454412 non-null  Int64         \n",
      " 6   basket_id     454412 non-null  object        \n",
      "dtypes: Int64(4), datetime64[ns](1), float64(1), object(1)\n",
      "memory usage: 29.5+ MB\n"
     ]
    }
   ],
   "source": [
    "suffix = '_temp'\n",
    "clean_basket_df = clean_basket_df.set_index(ITEM).join(priced_items_df.set_index(ITEM), lsuffix='', rsuffix=suffix).reset_index()\n",
    "clean_basket_df[PUNIT] = clean_basket_df[PUNIT].fillna(clean_basket_df[f'{PUNIT}{suffix}'])\n",
    "clean_basket_df = clean_basket_df.drop([INAME, CAT, f'{PUNIT}{suffix}'], axis=1)\n",
    "clean_basket_df = clean_basket_df.dropna()\n",
    "clean_basket_df = clean_basket_df.drop('Unnamed: 0', axis=1)\n",
    "\n",
    "clean_basket_df.info()"
   ]
  },
  {
   "cell_type": "markdown",
   "id": "7080d747",
   "metadata": {},
   "source": [
    "### Baskets have unique entry for each item"
   ]
  },
  {
   "cell_type": "code",
   "execution_count": 26,
   "id": "9b5a9f79",
   "metadata": {},
   "outputs": [
    {
     "data": {
      "text/plain": [
       "basket_id  item_id\n",
       "R2533      16581      2\n",
       "dtype: int64"
      ]
     },
     "execution_count": 26,
     "metadata": {},
     "output_type": "execute_result"
    }
   ],
   "source": [
    "basket_item_count = clean_basket_df[clean_basket_df[ITEM] > 0].groupby([BASKET, ITEM]).size()\n",
    "basket_item_count[basket_item_count > 1]"
   ]
  },
  {
   "cell_type": "code",
   "execution_count": 27,
   "id": "a8f80c23",
   "metadata": {},
   "outputs": [],
   "source": [
    "id = basket_item_count[basket_item_count > 1].index\n",
    "index = clean_basket_df[(clean_basket_df[BASKET] == id[0][0]) & (clean_basket_df[ITEM] == id[0][1])].index\n",
    "dropIndex = index[0]\n",
    "keepIndex = index[1]"
   ]
  },
  {
   "cell_type": "code",
   "execution_count": 28,
   "id": "c3c174d4",
   "metadata": {},
   "outputs": [],
   "source": [
    "# add qty of drop to the keeping row and drop the other row\n",
    "clean_basket_df[CNT][keepIndex] += clean_basket_df[CNT][dropIndex]\n",
    "clean_basket_df.drop(axis=0, labels=dropIndex, inplace=True)"
   ]
  },
  {
   "cell_type": "code",
   "execution_count": 29,
   "id": "29d66bf2",
   "metadata": {},
   "outputs": [
    {
     "data": {
      "text/plain": [
       "True"
      ]
     },
     "execution_count": 29,
     "metadata": {},
     "output_type": "execute_result"
    }
   ],
   "source": [
    "basket_item_count = clean_basket_df[clean_basket_df[ITEM] > 0].groupby([BASKET, ITEM]).size()\n",
    "basket_item_count[basket_item_count > 1].empty"
   ]
  },
  {
   "cell_type": "markdown",
   "id": "bd26d571",
   "metadata": {},
   "source": [
    "### Baskets have same shop, user and date"
   ]
  },
  {
   "cell_type": "code",
   "execution_count": 30,
   "id": "bc9a0fdb",
   "metadata": {},
   "outputs": [
    {
     "name": "stdout",
     "output_type": "stream",
     "text": [
      "True\n"
     ]
    }
   ],
   "source": [
    "# data integrity\n",
    "basketsCount = len(clean_basket_df.groupby(BASKET)[BASKET])\n",
    "basketShopCount = len(clean_basket_df.groupby([BASKET, SHOP])[[BASKET, SHOP]])\n",
    "basketUserCount = len(clean_basket_df.groupby([BASKET, USER])[[BASKET, USER]])\n",
    "basketDateCount = len(clean_basket_df.groupby([BASKET, DATE])[[BASKET, DATE]])\n",
    "\n",
    "if (basketShopCount == basketsCount and basketUserCount == basketsCount and basketDateCount == basketsCount):\n",
    "    print(True)"
   ]
  },
  {
   "cell_type": "markdown",
   "id": "f332e107",
   "metadata": {},
   "source": [
    "### Record total price"
   ]
  },
  {
   "cell_type": "code",
   "execution_count": 31,
   "id": "5ea08843",
   "metadata": {},
   "outputs": [
    {
     "name": "stdout",
     "output_type": "stream",
     "text": [
      "<class 'pandas.core.frame.DataFrame'>\n",
      "Int64Index: 454411 entries, 0 to 454410\n",
      "Data columns (total 9 columns):\n",
      " #   Column            Non-Null Count   Dtype         \n",
      "---  ------            --------------   -----         \n",
      " 0   item_id           454411 non-null  Int64         \n",
      " 1   date              454411 non-null  datetime64[ns]\n",
      " 2   shop_id           454411 non-null  Int64         \n",
      " 3   item_price        454411 non-null  float64       \n",
      " 4   item_cnt_day      454411 non-null  Int64         \n",
      " 5   user_id           454411 non-null  Int64         \n",
      " 6   basket_id         454411 non-null  object        \n",
      " 7   total_price       454411 non-null  Float64       \n",
      " 8   item_category_id  372851 non-null  float64       \n",
      "dtypes: Float64(1), Int64(4), datetime64[ns](1), float64(2), object(1)\n",
      "memory usage: 36.8+ MB\n"
     ]
    }
   ],
   "source": [
    "clean_basket_df[PSUM] = clean_basket_df[PUNIT] * clean_basket_df[CNT]\n",
    "clean_basket_df = pd.merge(clean_basket_df, original_items_df.drop(INAME, axis=1), on=ITEM, how='left')\n",
    "clean_basket_df.info()"
   ]
  },
  {
   "cell_type": "markdown",
   "id": "c61d5fa6",
   "metadata": {},
   "source": [
    "## Save dataset"
   ]
  },
  {
   "cell_type": "code",
   "execution_count": 32,
   "id": "b84950bd",
   "metadata": {},
   "outputs": [],
   "source": [
    "with open('clean_basket_df.pkl', 'wb') as f:\n",
    "    pickle.dump(clean_basket_df, f)"
   ]
  }
 ],
 "metadata": {
  "kernelspec": {
   "display_name": "dm-exam-venv",
   "language": "python",
   "name": "dm-exam-venv"
  },
  "language_info": {
   "codemirror_mode": {
    "name": "ipython",
    "version": 3
   },
   "file_extension": ".py",
   "mimetype": "text/x-python",
   "name": "python",
   "nbconvert_exporter": "python",
   "pygments_lexer": "ipython3",
   "version": "3.10.4"
  },
  "vscode": {
   "interpreter": {
    "hash": "31f2aee4e71d21fbe5cf8b01ff0e069b9275f58929596ceb00d14d90e3e16cd6"
   }
  }
 },
 "nbformat": 4,
 "nbformat_minor": 5
}
