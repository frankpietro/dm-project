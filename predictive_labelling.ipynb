{
 "cells": [
  {
   "cell_type": "code",
   "execution_count": 4,
   "metadata": {},
   "outputs": [],
   "source": [
    "import matplotlib.pyplot as plt\n",
    "import pandas as pd\n",
    "import seaborn as sns\n",
    "from col_names import *\n",
    "import pickle\n",
    "\n",
    "from sklearn.model_selection import train_test_split"
   ]
  },
  {
   "cell_type": "code",
   "execution_count": 5,
   "metadata": {},
   "outputs": [],
   "source": [
    "with open(f'{PICKLE_FOLDER}user_labelled_df.pkl', 'rb') as f:\n",
    "    u_df = pickle.load(f)\n",
    "\n",
    "with open(f'{PICKLE_FOLDER}pure_user_labelled_df.pkl', 'rb') as f:\n",
    "    pure_u_df = pickle.load(f)"
   ]
  },
  {
   "cell_type": "code",
   "execution_count": 10,
   "metadata": {},
   "outputs": [
    {
     "name": "stdout",
     "output_type": "stream",
     "text": [
      "<class 'pandas.core.frame.DataFrame'>\n",
      "Index: 783 entries, 1 to 823\n",
      "Data columns (total 22 columns):\n",
      " #   Column                            Non-Null Count  Dtype  \n",
      "---  ------                            --------------  -----  \n",
      " 0   user_id                           783 non-null    int64  \n",
      " 1   item_count                        783 non-null    int64  \n",
      " 2   item_dist_count                   783 non-null    int64  \n",
      " 3   max_items_per_b                   783 non-null    int64  \n",
      " 4   shop_entropy                      783 non-null    float64\n",
      " 5   category_entropy                  783 non-null    float64\n",
      " 6   item_entropy                      783 non-null    float64\n",
      " 7   price_entropy                     783 non-null    float64\n",
      " 8   max_item_dist_per_b               783 non-null    int64  \n",
      " 9   total_price                       783 non-null    float64\n",
      " 10  basket_count                      783 non-null    int64  \n",
      " 11  category_count                    783 non-null    int64  \n",
      " 12  shop_count                        783 non-null    int64  \n",
      " 13  avg_items_per_basket              783 non-null    float64\n",
      " 14  avg_baskets_per_d                 783 non-null    float64\n",
      " 15  natural_average_basket_ranking    783 non-null    float64\n",
      " 16  natural_average_item_ranking      783 non-null    float64\n",
      " 17  natural_average_price_ranking     783 non-null    float64\n",
      " 18  frequency_average_basket_ranking  783 non-null    float64\n",
      " 19  frequency_average_item_ranking    783 non-null    float64\n",
      " 20  frequency_average_price_ranking   783 non-null    float64\n",
      " 21  label                             744 non-null    object \n",
      "dtypes: float64(13), int64(8), object(1)\n",
      "memory usage: 141.5+ KB\n"
     ]
    }
   ],
   "source": [
    "u_df.info()"
   ]
  },
  {
   "cell_type": "code",
   "execution_count": 7,
   "metadata": {},
   "outputs": [],
   "source": [
    "u_df[LAB].value_counts()\n",
    "mask = u_df[LAB].lt(7)"
   ]
  },
  {
   "cell_type": "code",
   "execution_count": 11,
   "metadata": {},
   "outputs": [
    {
     "data": {
      "image/png": "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",
      "text/plain": [
       "<Figure size 864x360 with 2 Axes>"
      ]
     },
     "metadata": {
      "needs_background": "light"
     },
     "output_type": "display_data"
    }
   ],
   "source": [
    "fig, (ax1, ax2) = plt.subplots(1, 2, figsize=(12,5))\n",
    "sns.boxplot(x=LAB, y=ABXVD, data=u_df[mask], ax=ax1)\n",
    "sns.boxplot(x=LAB, y=BCNT, data=u_df[mask], ax=ax2)\n",
    "plt.show()"
   ]
  },
  {
   "cell_type": "markdown",
   "id": "6defe5e4",
   "metadata": {},
   "source": [
    "## Libraries and datasets"
   ]
  },
  {
   "cell_type": "code",
   "execution_count": 4,
   "id": "d45a9a1e",
   "metadata": {},
   "outputs": [],
   "source": [
    "import pandas as pd\n",
    "import matplotlib.pyplot as plt\n",
    "import seaborn as sns\n",
    "import pickle\n",
    "\n",
    "from col_names import *\n",
    "from utility import *"
   ]
  },
  {
   "cell_type": "code",
   "execution_count": 5,
   "metadata": {},
   "outputs": [],
   "source": [
    "with open(f'{PICKLE_FOLDER}user_labelled_df.pkl', 'rb') as f:\n",
    "    u_df = pickle.load(f)\n",
    "\n",
    "with open(f'{PICKLE_FOLDER}pure_user_labelled_df.pkl', 'rb') as f:\n",
    "    pure_u_df = pickle.load(f)"
   ]
  },
  {
   "cell_type": "code",
   "execution_count": null,
   "metadata": {},
   "outputs": [],
   "source": []
  }
 ],
 "metadata": {
  "kernelspec": {
<<<<<<< HEAD
   "display_name": "Python 3.8.9 64-bit",
=======
   "display_name": "dm-exam-venv",
>>>>>>> 064061eaa4375df148fe457c0f15827579ee9799
   "language": "python",
   "name": "dm-exam-venv"
  },
  "language_info": {
   "codemirror_mode": {
    "name": "ipython",
    "version": 3
   },
   "file_extension": ".py",
   "mimetype": "text/x-python",
   "name": "python",
   "nbconvert_exporter": "python",
   "pygments_lexer": "ipython3",
<<<<<<< HEAD
   "version": "3.8.9"
=======
   "version": "3.10.4"
>>>>>>> 064061eaa4375df148fe457c0f15827579ee9799
  },
  "orig_nbformat": 4,
  "vscode": {
   "interpreter": {
    "hash": "31f2aee4e71d21fbe5cf8b01ff0e069b9275f58929596ceb00d14d90e3e16cd6"
   }
  }
 },
 "nbformat": 4,
 "nbformat_minor": 2
}
