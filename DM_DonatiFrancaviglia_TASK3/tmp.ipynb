{
 "cells": [
  {
   "cell_type": "code",
   "execution_count": null,
   "metadata": {},
   "outputs": [],
   "source": [
    "import itertools\n"
   ]
  },
  {
   "cell_type": "code",
   "execution_count": null,
   "metadata": {},
   "outputs": [],
   "source": [
    "## Hyper-parameters grid search for Decision Tree\n",
    "\n",
    "hyp_dict = {\n",
    "    'criterion': ['gini', 'entropy'],\n",
    "    'min_impurity_decrease': [0, 1, 1e-1, 1e-2, 1e-3, 1e-4],\n",
    "    'min_samples_leaf': [1, 3, 5]\n",
    "}\n",
    "all_keys = sorted(hyp_dict)\n",
    "combinations = itertools.product(*(hyp_dict[key] for key in all_keys))\n",
    "\n",
    "results = []"
   ]
  }
 ],
 "metadata": {
  "language_info": {
   "name": "python"
  },
  "orig_nbformat": 4
 },
 "nbformat": 4,
 "nbformat_minor": 2
}
