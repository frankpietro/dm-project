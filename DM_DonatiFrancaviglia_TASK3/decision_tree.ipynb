{
 "cells": [
  {
   "cell_type": "markdown",
   "id": "07b99d6b",
   "metadata": {},
   "source": [
    "# Data Mining Project\n",
    "### Giorgio Donati, g.donati24@studenti.unipi.it\n",
    "### Pietro Francaviglia, p.francaviglia1@studenti.unipi.it\n",
    "#### A.Y. 2021-2022\n"
   ]
  },
  {
   "cell_type": "markdown",
   "id": "6defe5e4",
   "metadata": {},
   "source": [
    "## Libraries and datasets"
   ]
  },
  {
   "cell_type": "code",
   "execution_count": 5,
   "id": "d45a9a1e",
   "metadata": {},
   "outputs": [],
   "source": [
    "from sklearn import tree\n",
    "\n",
    "from t3_constants import *\n",
    "from t3_utility import *"
   ]
  },
  {
   "cell_type": "markdown",
   "metadata": {},
   "source": [
    "# Decision Tree\n",
    "## Training"
   ]
  },
  {
   "cell_type": "code",
   "execution_count": 6,
   "metadata": {},
   "outputs": [],
   "source": [
    "with open(f'{PICKLE_FOLDER}{TRAIN}{X}.pkl', 'rb') as f:\n",
    "    train_x = pickle.load(f)\n",
    "with open(f'{PICKLE_FOLDER}{TRAIN}{Y}.pkl', 'rb') as f:\n",
    "    train_y = pickle.load(f)\n",
    "\n",
    "x = train_x.values\n",
    "y = train_y.values.ravel()"
   ]
  },
  {
   "cell_type": "code",
   "execution_count": 7,
   "metadata": {},
   "outputs": [
    {
     "data": {
      "text/html": [
       "<div>\n",
       "<style scoped>\n",
       "    .dataframe tbody tr th:only-of-type {\n",
       "        vertical-align: middle;\n",
       "    }\n",
       "\n",
       "    .dataframe tbody tr th {\n",
       "        vertical-align: top;\n",
       "    }\n",
       "\n",
       "    .dataframe thead th {\n",
       "        text-align: right;\n",
       "    }\n",
       "</style>\n",
       "<table border=\"1\" class=\"dataframe\">\n",
       "  <thead>\n",
       "    <tr style=\"text-align: right;\">\n",
       "      <th></th>\n",
       "      <th>criterion</th>\n",
       "      <th>min_impurity_decrease</th>\n",
       "      <th>min_samples_leaf</th>\n",
       "      <th>mean_val_score</th>\n",
       "      <th>std_val_score</th>\n",
       "    </tr>\n",
       "  </thead>\n",
       "  <tbody>\n",
       "    <tr>\n",
       "      <th>34</th>\n",
       "      <td>entropy</td>\n",
       "      <td>0.0001</td>\n",
       "      <td>3</td>\n",
       "      <td>0.809892</td>\n",
       "      <td>0.014803</td>\n",
       "    </tr>\n",
       "    <tr>\n",
       "      <th>31</th>\n",
       "      <td>entropy</td>\n",
       "      <td>0.0010</td>\n",
       "      <td>3</td>\n",
       "      <td>0.809892</td>\n",
       "      <td>0.014803</td>\n",
       "    </tr>\n",
       "    <tr>\n",
       "      <th>14</th>\n",
       "      <td>gini</td>\n",
       "      <td>0.0010</td>\n",
       "      <td>5</td>\n",
       "      <td>0.813016</td>\n",
       "      <td>0.029272</td>\n",
       "    </tr>\n",
       "  </tbody>\n",
       "</table>\n",
       "</div>"
      ],
      "text/plain": [
       "   criterion  min_impurity_decrease  min_samples_leaf  mean_val_score  \\\n",
       "34   entropy                 0.0001                 3        0.809892   \n",
       "31   entropy                 0.0010                 3        0.809892   \n",
       "14      gini                 0.0010                 5        0.813016   \n",
       "\n",
       "    std_val_score  \n",
       "34       0.014803  \n",
       "31       0.014803  \n",
       "14       0.029272  "
      ]
     },
     "execution_count": 7,
     "metadata": {},
     "output_type": "execute_result"
    }
   ],
   "source": [
    "## Hyper-parameters grid search for Decision Tree\n",
    "\n",
    "param_d = {\n",
    "    'criterion': ['gini', 'entropy'],\n",
    "    'min_impurity_decrease': [0, 1, 1e-1, 1e-2, 1e-3, 1e-4],\n",
    "    'min_samples_leaf': [1, 3, 5]\n",
    "}\n",
    "combinations = itertools.product(*(param_d[key] for key in sorted(param_d)))\n",
    "\n",
    "results = []\n",
    "\n",
    "for criterion, min_impurity_decrease, min_samples_leaf in combinations:\n",
    "    model = tree.DecisionTreeClassifier(\n",
    "        criterion=criterion,\n",
    "        min_impurity_decrease=min_impurity_decrease,\n",
    "        min_samples_leaf=min_samples_leaf,\n",
    "        random_state=0\n",
    "    )\n",
    "    mean_val_score, std_val_score = cross_validation_summary(model, x, y, 5)\n",
    "    res = criterion, min_impurity_decrease, min_samples_leaf, mean_val_score, std_val_score\n",
    "    results.append(res)\n",
    "\n",
    "decision_tree_results_df = pd.DataFrame(results, columns=['criterion', 'min_impurity_decrease', 'min_samples_leaf', 'mean_val_score', 'std_val_score'])\n",
    "decision_tree_results_df.sort_values('mean_val_score').tail(3)"
   ]
  },
  {
   "cell_type": "code",
   "execution_count": 8,
   "metadata": {},
   "outputs": [
    {
     "data": {
      "text/html": [
       "<div>\n",
       "<style scoped>\n",
       "    .dataframe tbody tr th:only-of-type {\n",
       "        vertical-align: middle;\n",
       "    }\n",
       "\n",
       "    .dataframe tbody tr th {\n",
       "        vertical-align: top;\n",
       "    }\n",
       "\n",
       "    .dataframe thead th {\n",
       "        text-align: right;\n",
       "    }\n",
       "</style>\n",
       "<table border=\"1\" class=\"dataframe\">\n",
       "  <thead>\n",
       "    <tr style=\"text-align: right;\">\n",
       "      <th></th>\n",
       "      <th>min_impurity_decrease</th>\n",
       "      <th>min_samples_leaf</th>\n",
       "      <th>mean_val_score</th>\n",
       "      <th>std_val_score</th>\n",
       "    </tr>\n",
       "    <tr>\n",
       "      <th>criterion</th>\n",
       "      <th></th>\n",
       "      <th></th>\n",
       "      <th></th>\n",
       "      <th></th>\n",
       "    </tr>\n",
       "  </thead>\n",
       "  <tbody>\n",
       "    <tr>\n",
       "      <th>entropy</th>\n",
       "      <td>0.185183</td>\n",
       "      <td>3.0</td>\n",
       "      <td>0.723599</td>\n",
       "      <td>0.020388</td>\n",
       "    </tr>\n",
       "    <tr>\n",
       "      <th>gini</th>\n",
       "      <td>0.185183</td>\n",
       "      <td>3.0</td>\n",
       "      <td>0.702642</td>\n",
       "      <td>0.028565</td>\n",
       "    </tr>\n",
       "  </tbody>\n",
       "</table>\n",
       "</div>"
      ],
      "text/plain": [
       "           min_impurity_decrease  min_samples_leaf  mean_val_score  \\\n",
       "criterion                                                            \n",
       "entropy                 0.185183               3.0        0.723599   \n",
       "gini                    0.185183               3.0        0.702642   \n",
       "\n",
       "           std_val_score  \n",
       "criterion                 \n",
       "entropy         0.020388  \n",
       "gini            0.028565  "
      ]
     },
     "execution_count": 8,
     "metadata": {},
     "output_type": "execute_result"
    }
   ],
   "source": [
    "decision_tree_results_df.groupby('criterion').mean()"
   ]
  },
  {
   "cell_type": "code",
   "execution_count": 9,
   "metadata": {},
   "outputs": [
    {
     "data": {
      "image/png": "[encoded data removed]",
      "text/plain": [
       "<Figure size 864x432 with 1 Axes>"
      ]
     },
     "metadata": {
      "needs_background": "light"
     },
     "output_type": "display_data"
    }
   ],
   "source": [
    "model = tree.DecisionTreeClassifier(criterion='entropy', min_impurity_decrease=0.01, min_samples_leaf=1, random_state=0)\n",
    "model.fit(x, y)\n",
    "plt.figure(figsize=(12, 6))\n",
    "tree.plot_tree(model, fontsize=10, max_depth=2, feature_names=train_x.columns)\n",
    "plt.show()"
   ]
  },
  {
   "cell_type": "code",
   "execution_count": 10,
   "metadata": {},
   "outputs": [
    {
     "data": {
      "text/plain": [
       "avg_baskets_per_d                 0.009703\n",
       "natural_average_price_ranking     0.025390\n",
       "natural_average_basket_ranking    0.037060\n",
       "price_entropy                     0.043328\n",
       "category_entropy                  0.056419\n",
       "natural_average_item_ranking      0.056506\n",
       "shop_entropy                      0.057079\n",
       "max_items_per_b                   0.085785\n",
       "max_item_dist_per_b               0.098124\n",
       "category_count                    0.171837\n",
       "item_count                        0.358770\n",
       "dtype: float64"
      ]
     },
     "execution_count": 10,
     "metadata": {},
     "output_type": "execute_result"
    }
   ],
   "source": [
    "pd.Series(model.feature_importances_, index = train_x.columns).sort_values()"
   ]
  },
  {
   "cell_type": "markdown",
   "metadata": {},
   "source": [
    "## Testing"
   ]
  },
  {
   "cell_type": "code",
   "execution_count": 17,
   "metadata": {},
   "outputs": [],
   "source": [
    "with open(f'{PICKLE_FOLDER}{TEST}{X}.pkl', 'rb') as f:\n",
    "    test_x = pickle.load(f)\n",
    "with open(f'{PICKLE_FOLDER}{TEST}{Y}.pkl', 'rb') as f:\n",
    "    test_y = pickle.load(f)"
   ]
  },
  {
   "cell_type": "code",
   "execution_count": 28,
   "metadata": {},
   "outputs": [],
   "source": [
    "best_result = decision_tree_results_df.sort_values('mean_val_score').tail(1)\n"
   ]
  },
  {
   "cell_type": "code",
   "execution_count": 32,
   "metadata": {},
   "outputs": [
    {
     "ename": "TypeError",
     "evalue": "'numpy.ndarray' object is not callable",
     "output_type": "error",
     "traceback": [
      "\u001b[0;31m---------------------------------------------------------------------------\u001b[0m",
      "\u001b[0;31mTypeError\u001b[0m                                 Traceback (most recent call last)",
      "\u001b[1;32m/Users/hdjdox/Documents/e_education/magistrale/data_mining/dm-project/DM_DonatiFrancaviglia_TASK3/decision_tree.ipynb Cell 13\u001b[0m in \u001b[0;36m<cell line: 10>\u001b[0;34m()\u001b[0m\n\u001b[1;32m      <a href='vscode-notebook-cell:/Users/hdjdox/Documents/e_education/magistrale/data_mining/dm-project/DM_DonatiFrancaviglia_TASK3/decision_tree.ipynb#ch0000025?line=0'>1</a>\u001b[0m \u001b[39mfrom\u001b[39;00m \u001b[39mxgboost\u001b[39;00m \u001b[39mimport\u001b[39;00m train\n\u001b[1;32m      <a href='vscode-notebook-cell:/Users/hdjdox/Documents/e_education/magistrale/data_mining/dm-project/DM_DonatiFrancaviglia_TASK3/decision_tree.ipynb#ch0000025?line=3'>4</a>\u001b[0m model \u001b[39m=\u001b[39m tree\u001b[39m.\u001b[39mDecisionTreeClassifier(\n\u001b[1;32m      <a href='vscode-notebook-cell:/Users/hdjdox/Documents/e_education/magistrale/data_mining/dm-project/DM_DonatiFrancaviglia_TASK3/decision_tree.ipynb#ch0000025?line=4'>5</a>\u001b[0m         criterion\u001b[39m=\u001b[39mbest_result[\u001b[39m'\u001b[39m\u001b[39mcriterion\u001b[39m\u001b[39m'\u001b[39m],\n\u001b[1;32m      <a href='vscode-notebook-cell:/Users/hdjdox/Documents/e_education/magistrale/data_mining/dm-project/DM_DonatiFrancaviglia_TASK3/decision_tree.ipynb#ch0000025?line=5'>6</a>\u001b[0m         min_impurity_decrease\u001b[39m=\u001b[39mbest_result[\u001b[39m'\u001b[39m\u001b[39mmin_impurity_decrease\u001b[39m\u001b[39m'\u001b[39m],\n\u001b[1;32m      <a href='vscode-notebook-cell:/Users/hdjdox/Documents/e_education/magistrale/data_mining/dm-project/DM_DonatiFrancaviglia_TASK3/decision_tree.ipynb#ch0000025?line=6'>7</a>\u001b[0m         min_samples_leaf\u001b[39m=\u001b[39mbest_result[\u001b[39m'\u001b[39m\u001b[39mmin_samples_leaf\u001b[39m\u001b[39m'\u001b[39m],\n\u001b[1;32m      <a href='vscode-notebook-cell:/Users/hdjdox/Documents/e_education/magistrale/data_mining/dm-project/DM_DonatiFrancaviglia_TASK3/decision_tree.ipynb#ch0000025?line=7'>8</a>\u001b[0m         random_state\u001b[39m=\u001b[39m\u001b[39m0\u001b[39m\n\u001b[1;32m      <a href='vscode-notebook-cell:/Users/hdjdox/Documents/e_education/magistrale/data_mining/dm-project/DM_DonatiFrancaviglia_TASK3/decision_tree.ipynb#ch0000025?line=8'>9</a>\u001b[0m     )\n\u001b[0;32m---> <a href='vscode-notebook-cell:/Users/hdjdox/Documents/e_education/magistrale/data_mining/dm-project/DM_DonatiFrancaviglia_TASK3/decision_tree.ipynb#ch0000025?line=9'>10</a>\u001b[0m model\u001b[39m.\u001b[39mfit(train_x\u001b[39m.\u001b[39;49mvalues(), y)\n",
      "\u001b[0;31mTypeError\u001b[0m: 'numpy.ndarray' object is not callable"
     ]
    }
   ],
   "source": [
    "\n",
    "from xgboost import train\n",
    "\n",
    "\n",
    "model = tree.DecisionTreeClassifier(\n",
    "        criterion=best_result['criterion'],\n",
    "        min_impurity_decrease=best_result['min_impurity_decrease'],\n",
    "        min_samples_leaf=best_result['min_samples_leaf'],\n",
    "        random_state=0\n",
    "    )\n",
    "model.fit(x, y)"
   ]
  }
 ],
 "metadata": {
  "kernelspec": {
   "display_name": "Python 3.8.9 64-bit",
   "language": "python",
   "name": "python3"
  },
  "language_info": {
   "codemirror_mode": {
    "name": "ipython",
    "version": 3
   },
   "file_extension": ".py",
   "mimetype": "text/x-python",
   "name": "python",
   "nbconvert_exporter": "python",
   "pygments_lexer": "ipython3",
   "version": "3.8.9"
  },
  "orig_nbformat": 4,
  "vscode": {
   "interpreter": {
    "hash": "31f2aee4e71d21fbe5cf8b01ff0e069b9275f58929596ceb00d14d90e3e16cd6"
   }
  }
 },
 "nbformat": 4,
 "nbformat_minor": 2
}
