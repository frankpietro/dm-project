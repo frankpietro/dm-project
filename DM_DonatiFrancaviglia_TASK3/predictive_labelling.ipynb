{
 "cells": [
  {
   "cell_type": "markdown",
   "id": "07b99d6b",
   "metadata": {},
   "source": [
    "# Data Mining Project\n",
    "### Giorgio Donati, g.donati24@studenti.unipi.it\n",
    "### Pietro Francaviglia, p.francaviglia1@studenti.unipi.it\n",
    "#### A.Y. 2021-2022\n"
   ]
  },
  {
   "cell_type": "markdown",
   "id": "6defe5e4",
   "metadata": {},
   "source": [
    "## Libraries and datasets"
   ]
  },
  {
   "cell_type": "code",
<<<<<<< HEAD
   "execution_count": 45,
=======
   "execution_count": 1,
>>>>>>> 1ecbef54795279662f3fb256dbf192a671e76205
   "id": "d45a9a1e",
   "metadata": {},
   "outputs": [],
   "source": [
    "import pandas as pd\n",
    "import matplotlib.pyplot as plt\n",
    "import seaborn as sns\n",
    "import pickle\n",
    "import itertools\n",
    "from sklearn import tree\n",
    "from sklearn.model_selection import StratifiedKFold\n",
    "from sklearn.model_selection import train_test_split\n",
    "\n",
    "from t3_constants import *\n",
    "from t3_utility import *"
   ]
  },
  {
   "cell_type": "code",
<<<<<<< HEAD
   "execution_count": 46,
=======
   "execution_count": 2,
>>>>>>> 1ecbef54795279662f3fb256dbf192a671e76205
   "metadata": {},
   "outputs": [],
   "source": [
    "with open(f'{PICKLE_FOLDER}{LABELLED}{USER_DF}.pkl', 'rb') as f:\n",
    "    u_df = pickle.load(f)\n",
    "\n",
    "with open(f'{PICKLE_FOLDER}{PURE}{LABELLED}{USER_DF}.pkl', 'rb') as f:\n",
    "    pure_u_df = pickle.load(f)"
   ]
  },
  {
   "cell_type": "code",
<<<<<<< HEAD
   "execution_count": 47,
   "metadata": {},
   "outputs": [
    {
     "name": "stdout",
     "output_type": "stream",
     "text": [
      "<class 'pandas.core.frame.DataFrame'>\n",
      "Int64Index: 795 entries, 1 to 823\n",
      "Data columns (total 12 columns):\n",
      " #   Column                Non-Null Count  Dtype  \n",
      "---  ------                --------------  -----  \n",
      " 0   item_count            795 non-null    int64  \n",
      " 1   item_dist_count       795 non-null    int64  \n",
      " 2   max_items_per_b       795 non-null    int64  \n",
      " 3   price_entropy         795 non-null    float64\n",
      " 4   max_item_dist_per_b   795 non-null    int64  \n",
      " 5   total_price           795 non-null    float64\n",
      " 6   basket_count          795 non-null    int64  \n",
      " 7   category_count        795 non-null    int64  \n",
      " 8   shop_count            795 non-null    int64  \n",
      " 9   avg_items_per_basket  795 non-null    float64\n",
      " 10  avg_baskets_per_d     795 non-null    float64\n",
      " 11  label                 766 non-null    object \n",
      "dtypes: float64(4), int64(7), object(1)\n",
      "memory usage: 80.7+ KB\n"
     ]
    }
   ],
   "source": [
    "u_df.info()"
   ]
  },
  {
   "cell_type": "code",
   "execution_count": 51,
=======
   "execution_count": 3,
>>>>>>> 1ecbef54795279662f3fb256dbf192a671e76205
   "metadata": {},
   "outputs": [
    {
     "data": {
      "text/plain": [
       "array([8, 9, 7, 1, 2, 2, 5, 2, 7, 1, 2, 0, 7, 0, 7, 0, 1, 2, 7, 0, 4, 4,\n",
       "       5, 5, 1, 4, 4, 3, 2, 3, 1, 2, 1, 3, 3, 5, 2, 1, 7, 0, 8, 3, 7, 6,\n",
       "       2, 3, 0, 5, 0, 0, 0, 2, 0, 1, 0, 2, 5, 0, 5, 3, 6, 4, 4, 2, 7, 1,\n",
       "       4, 7, 7, 4, 1, 3, 5, 4, 6, 4, 3, 6, 1, 7, 6, 9, 7, 4, 2, 2, 2, 1,\n",
       "       1, 0, 4, 1, 1, 6, 3, 1, 0, 2, 3, 2, 6, 3, 1, 7, 5, 8, 2, 0, 0, 4,\n",
       "       7, 5, 3, 4, 1, 1, 1, 8, 1, 4, 6, 6, 1, 2, 3, 1, 6, 1, 3, 4, 6, 3,\n",
       "       5, 4, 3, 0, 4, 1, 4, 0, 1, 0, 4, 0, 0, 7, 6, 1, 6, 7, 7, 0, 2, 5,\n",
       "       2, 4, 7, 2, 5, 1, 0, 2, 0, 5, 6, 0, 3, 3, 5, 2, 6, 5, 0, 7, 5, 6,\n",
       "       4, 0, 3, 0, 4, 0, 2, 7, 0, 2, 5, 1, 1, 0, 1, 3, 3, 6, 5, 3, 4, 0,\n",
       "       2, 5, 0, 4, 0, 4, 3, 2, 7, 3, 5, 7, 6, 2, 4, 1, 8, 3, 1, 7, 4, 5,\n",
       "       2, 1, 7, 6, 2, 5, 4, 5, 4, 6, 8, 4, 7, 8, 6, 3, 5, 5, 3, 4, 7, 2,\n",
       "       3, 2, 0, 7, 1, 5, 6, 1, 0, 6, 9, 3, 0, 1, 6, 0, 0, 0, 3, 1, 6, 3,\n",
       "       5, 1, 0, 2, 1, 3, 6, 0, 3, 4, 0, 0, 5, 1, 5, 8, 4, 7, 0, 0, 4, 7,\n",
       "       3, 3, 1, 6, 0, 5, 5, 5, 2, 5, 0, 1, 1, 0, 0, 8, 7, 1, 3, 6, 4, 0,\n",
       "       7, 8, 1, 3, 6, 4, 5, 0, 4, 1, 4, 5, 0, 1, 7, 6, 4, 0, 5, 2, 4, 3,\n",
       "       3, 0, 1, 3, 3, 8, 1, 6, 7, 1, 6, 8, 1, 4, 5, 6, 3, 6, 4, 0, 6, 1,\n",
       "       1, 0, 0, 1, 0, 5, 6, 1, 0, 8, 3, 5, 7, 1, 2, 2, 4, 4, 3, 6, 0, 1,\n",
       "       2, 7, 3, 3, 0, 1, 3, 1, 7, 7, 0, 0, 6, 0, 5, 0, 5, 5, 8, 1, 2, 0,\n",
       "       0, 1, 2, 2, 6, 1, 5, 2, 8, 4, 7, 0, 5, 4, 1, 4, 3, 6, 7, 5, 9, 5,\n",
       "       6, 1, 6, 0, 1, 0, 6, 3, 2, 5, 7, 5, 1, 2, 0, 7, 2, 4, 5, 5, 2, 2,\n",
       "       2, 0, 4, 1, 5, 2, 1, 1, 8, 4, 4, 7, 3, 4, 8, 4, 5, 4, 1, 0, 4, 5,\n",
       "       3, 7, 8, 3, 3, 5, 0, 1, 4, 0, 0, 1, 6, 2, 1, 2, 6, 2, 3, 5, 3, 5,\n",
       "       5, 7, 4, 5, 0, 3, 0, 2, 2, 0, 2, 3, 2, 1, 6, 1, 5, 0, 2, 0, 3, 1,\n",
       "       1, 8, 1, 1, 0, 0, 2, 7, 4, 5, 0, 4, 7, 1, 2, 2, 0, 4, 6, 0, 2, 3,\n",
       "       9, 1, 0, 0, 2, 1, 2, 0, 0, 0, 3, 8, 0, 1, 0, 3, 6, 1, 3, 3, 7, 7,\n",
       "       3, 6, 4, 0, 7, 9, 8, 3, 7, 7, 0, 1, 1, 6, 4, 2, 2, 3, 4, 2, 3, 1,\n",
       "       5, 0, 2, 3, 7, 8, 0, 1, 5, 3, 2, 2, 6, 0, 1, 4, 3, 2, 2, 2, 6, 7,\n",
       "       1, 3, 0, 2, 8, 2, 9, 6, 7, 3, 3, 1, 0, 0, 3, 5, 2, 4])"
      ]
     },
<<<<<<< HEAD
     "execution_count": 51,
=======
     "execution_count": 3,
>>>>>>> 1ecbef54795279662f3fb256dbf192a671e76205
     "metadata": {},
     "output_type": "execute_result"
    }
   ],
   "source": [
    "train_x, test_x, train_y, test_y = train_test_split(\n",
    "    u_df[u_df[LAB].notna()].drop(columns=[LAB]),\n",
    "    u_df[u_df[LAB].notna()][LAB],\n",
    "    test_size=0.2,\n",
    "    stratify=u_df[u_df[LAB].notna()][LAB])\n",
    "x = train_x.values\n",
    "y = train_y.values.ravel().astype(int)\n",
    "y"
   ]
  },
  {
   "cell_type": "markdown",
   "metadata": {},
   "source": [
    "## Predictive labelling"
   ]
  },
  {
   "cell_type": "code",
   "execution_count": 4,
   "metadata": {},
   "outputs": [],
   "source": [
    "predictive_df = u_df[[ICNT, AIXB, PSUM]]"
   ]
  },
  {
   "cell_type": "code",
   "execution_count": 5,
   "metadata": {},
   "outputs": [],
   "source": [
    "predictive_df_array, predictive_df = scale_df(predictive_df, 1)\n",
    "predictive_df['all'] = predictive_df[ICNT] + predictive_df[PSUM] + predictive_df[AIXB]\n",
    "predictive_df_array, predictive_df = scale_df(predictive_df, 1)"
   ]
  },
  {
   "cell_type": "code",
   "execution_count": 6,
   "metadata": {},
   "outputs": [
    {
     "data": {
      "text/html": [
       "<div>\n",
       "<style scoped>\n",
       "    .dataframe tbody tr th:only-of-type {\n",
       "        vertical-align: middle;\n",
       "    }\n",
       "\n",
       "    .dataframe tbody tr th {\n",
       "        vertical-align: top;\n",
       "    }\n",
       "\n",
       "    .dataframe thead tr th {\n",
       "        text-align: left;\n",
       "    }\n",
       "\n",
       "    .dataframe thead tr:last-of-type th {\n",
       "        text-align: right;\n",
       "    }\n",
       "</style>\n",
       "<table border=\"1\" class=\"dataframe\">\n",
       "  <thead>\n",
       "    <tr>\n",
       "      <th></th>\n",
       "      <th colspan=\"8\" halign=\"left\">item_count</th>\n",
       "      <th colspan=\"2\" halign=\"left\">avg_items_per_basket</th>\n",
       "      <th>...</th>\n",
       "      <th colspan=\"2\" halign=\"left\">total_price</th>\n",
       "      <th colspan=\"8\" halign=\"left\">all</th>\n",
       "    </tr>\n",
       "    <tr>\n",
       "      <th></th>\n",
       "      <th>count</th>\n",
       "      <th>mean</th>\n",
       "      <th>std</th>\n",
       "      <th>min</th>\n",
       "      <th>25%</th>\n",
       "      <th>50%</th>\n",
       "      <th>75%</th>\n",
       "      <th>max</th>\n",
       "      <th>count</th>\n",
       "      <th>mean</th>\n",
       "      <th>...</th>\n",
       "      <th>75%</th>\n",
       "      <th>max</th>\n",
       "      <th>count</th>\n",
       "      <th>mean</th>\n",
       "      <th>std</th>\n",
       "      <th>min</th>\n",
       "      <th>25%</th>\n",
       "      <th>50%</th>\n",
       "      <th>75%</th>\n",
       "      <th>max</th>\n",
       "    </tr>\n",
       "    <tr>\n",
       "      <th>label</th>\n",
       "      <th></th>\n",
       "      <th></th>\n",
       "      <th></th>\n",
       "      <th></th>\n",
       "      <th></th>\n",
       "      <th></th>\n",
       "      <th></th>\n",
       "      <th></th>\n",
       "      <th></th>\n",
       "      <th></th>\n",
       "      <th></th>\n",
       "      <th></th>\n",
       "      <th></th>\n",
       "      <th></th>\n",
       "      <th></th>\n",
       "      <th></th>\n",
       "      <th></th>\n",
       "      <th></th>\n",
       "      <th></th>\n",
       "      <th></th>\n",
       "      <th></th>\n",
       "    </tr>\n",
       "  </thead>\n",
       "  <tbody>\n",
       "    <tr>\n",
       "      <th>0</th>\n",
       "      <td>298.0</td>\n",
       "      <td>-0.888201</td>\n",
       "      <td>0.397820</td>\n",
       "      <td>-2.411239</td>\n",
       "      <td>-1.112819</td>\n",
       "      <td>-0.814663</td>\n",
       "      <td>-0.631922</td>\n",
       "      <td>0.050951</td>\n",
       "      <td>298.0</td>\n",
       "      <td>-0.772918</td>\n",
       "      <td>...</td>\n",
       "      <td>-0.559073</td>\n",
       "      <td>-0.002558</td>\n",
       "      <td>298.0</td>\n",
       "      <td>-0.888189</td>\n",
       "      <td>0.351591</td>\n",
       "      <td>-2.185101</td>\n",
       "      <td>-1.117294</td>\n",
       "      <td>-0.839475</td>\n",
       "      <td>-0.589206</td>\n",
       "      <td>-0.434293</td>\n",
       "    </tr>\n",
       "    <tr>\n",
       "      <th>1</th>\n",
       "      <td>298.0</td>\n",
       "      <td>0.030876</td>\n",
       "      <td>0.373559</td>\n",
       "      <td>-0.958932</td>\n",
       "      <td>-0.252014</td>\n",
       "      <td>0.036524</td>\n",
       "      <td>0.286590</td>\n",
       "      <td>1.118541</td>\n",
       "      <td>298.0</td>\n",
       "      <td>-0.001519</td>\n",
       "      <td>...</td>\n",
       "      <td>0.269947</td>\n",
       "      <td>1.300844</td>\n",
       "      <td>298.0</td>\n",
       "      <td>0.006697</td>\n",
       "      <td>0.276161</td>\n",
       "      <td>-0.427699</td>\n",
       "      <td>-0.229902</td>\n",
       "      <td>0.020504</td>\n",
       "      <td>0.238870</td>\n",
       "      <td>0.558563</td>\n",
       "    </tr>\n",
       "    <tr>\n",
       "      <th>2</th>\n",
       "      <td>199.0</td>\n",
       "      <td>1.283834</td>\n",
       "      <td>0.850363</td>\n",
       "      <td>-0.151026</td>\n",
       "      <td>0.805958</td>\n",
       "      <td>1.104114</td>\n",
       "      <td>1.520089</td>\n",
       "      <td>7.216308</td>\n",
       "      <td>199.0</td>\n",
       "      <td>1.159709</td>\n",
       "      <td>...</td>\n",
       "      <td>1.470140</td>\n",
       "      <td>5.975984</td>\n",
       "      <td>199.0</td>\n",
       "      <td>1.320023</td>\n",
       "      <td>0.881304</td>\n",
       "      <td>0.558760</td>\n",
       "      <td>0.785561</td>\n",
       "      <td>1.096835</td>\n",
       "      <td>1.516908</td>\n",
       "      <td>7.336478</td>\n",
       "    </tr>\n",
       "  </tbody>\n",
       "</table>\n",
       "<p>3 rows × 32 columns</p>\n",
       "</div>"
      ],
      "text/plain": [
       "      item_count                                                              \\\n",
       "           count      mean       std       min       25%       50%       75%   \n",
       "label                                                                          \n",
       "0          298.0 -0.888201  0.397820 -2.411239 -1.112819 -0.814663 -0.631922   \n",
       "1          298.0  0.030876  0.373559 -0.958932 -0.252014  0.036524  0.286590   \n",
       "2          199.0  1.283834  0.850363 -0.151026  0.805958  1.104114  1.520089   \n",
       "\n",
       "                avg_items_per_basket            ... total_price            \\\n",
       "            max                count      mean  ...         75%       max   \n",
       "label                                           ...                         \n",
       "0      0.050951                298.0 -0.772918  ...   -0.559073 -0.002558   \n",
       "1      1.118541                298.0 -0.001519  ...    0.269947  1.300844   \n",
       "2      7.216308                199.0  1.159709  ...    1.470140  5.975984   \n",
       "\n",
       "         all                                                              \\\n",
       "       count      mean       std       min       25%       50%       75%   \n",
       "label                                                                      \n",
       "0      298.0 -0.888189  0.351591 -2.185101 -1.117294 -0.839475 -0.589206   \n",
       "1      298.0  0.006697  0.276161 -0.427699 -0.229902  0.020504  0.238870   \n",
       "2      199.0  1.320023  0.881304  0.558760  0.785561  1.096835  1.516908   \n",
       "\n",
       "                 \n",
       "            max  \n",
       "label            \n",
       "0     -0.434293  \n",
       "1      0.558563  \n",
       "2      7.336478  \n",
       "\n",
       "[3 rows x 32 columns]"
      ]
     },
     "execution_count": 6,
     "metadata": {},
     "output_type": "execute_result"
    }
   ],
   "source": [
    "predictive_df[LAB] = rankings(predictive_df['all'],1,8)\n",
    "\n",
    "predictive_df[LAB] = predictive_df[LAB].map({0:0,1:0,2:0,3:1,4:1,5:1,6:2,7:2})\n",
    "\n",
    "predictive_df.groupby(LAB).describe()"
   ]
  },
  {
   "cell_type": "code",
<<<<<<< HEAD
   "execution_count": 49,
   "metadata": {},
   "outputs": [],
   "source": [
    "def cross_validation(model, X: np.ndarray, y: np.ndarray, n_splits: int) -> np.ndarray:\n",
    "    \"\"\"Return validation scores across the k folds of cross-validation.\"\"\"\n",
    "    skf = StratifiedKFold(n_splits=n_splits, random_state=0, shuffle=True)\n",
    "    val_score = []\n",
    "    for train_index, test_index in skf.split(X, y):\n",
    "        model.fit(X[train_index], y[train_index].ravel())\n",
    "        val_score.append(model.score(X[test_index], y[test_index].ravel() + 1))\n",
    "    return np.array(val_score)\n",
    "\n",
    "def cross_validation_summary(model, X: np.ndarray, y: np.ndarray, n_splits: int) -> np.ndarray:\n",
    "    \"\"\"Returns validation accuracy score of model (mean and std over all the splits).\"\"\"\n",
    "    val_score = cross_validation(model, X, y, n_splits)\n",
    "    return val_score.mean(), val_score.std()\n"
=======
   "execution_count": 7,
   "metadata": {},
   "outputs": [
    {
     "data": {
      "text/plain": [
       "<AxesSubplot:xlabel='label', ylabel='item_count'>"
      ]
     },
     "execution_count": 7,
     "metadata": {},
     "output_type": "execute_result"
    },
    {
     "data": {
      "image/png": "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",
      "text/plain": [
       "<Figure size 432x288 with 1 Axes>"
      ]
     },
     "metadata": {
      "needs_background": "light"
     },
     "output_type": "display_data"
    }
   ],
   "source": [
    "sns.boxplot(x=LAB, y=ICNT, data=predictive_df)"
   ]
  },
  {
   "cell_type": "code",
   "execution_count": 8,
   "metadata": {},
   "outputs": [],
   "source": [
    "u_df[LAB] = predictive_df[LAB]"
>>>>>>> 1ecbef54795279662f3fb256dbf192a671e76205
   ]
  },
  {
   "cell_type": "code",
<<<<<<< HEAD
   "execution_count": 50,
   "metadata": {},
   "outputs": [
    {
     "ename": "ValueError",
     "evalue": "Supported target types are: ('binary', 'multiclass'). Got 'unknown' instead.",
     "output_type": "error",
     "traceback": [
      "\u001b[0;31m---------------------------------------------------------------------------\u001b[0m",
      "\u001b[0;31mValueError\u001b[0m                                Traceback (most recent call last)",
      "\u001b[1;32m/Users/hdjdox/Documents/e_education/magistrale/data_mining/dm-project/DM_DonatiFrancaviglia_TASK3/predictive_labelling.ipynb Cell 8\u001b[0m in \u001b[0;36m<cell line: 12>\u001b[0;34m()\u001b[0m\n\u001b[1;32m     <a href='vscode-notebook-cell:/Users/hdjdox/Documents/e_education/magistrale/data_mining/dm-project/DM_DonatiFrancaviglia_TASK3/predictive_labelling.ipynb#ch0000005?line=11'>12</a>\u001b[0m \u001b[39mfor\u001b[39;00m criterion, min_impurity_decrease, min_samples_leaf \u001b[39min\u001b[39;00m combinations:\n\u001b[1;32m     <a href='vscode-notebook-cell:/Users/hdjdox/Documents/e_education/magistrale/data_mining/dm-project/DM_DonatiFrancaviglia_TASK3/predictive_labelling.ipynb#ch0000005?line=12'>13</a>\u001b[0m     model \u001b[39m=\u001b[39m tree\u001b[39m.\u001b[39mDecisionTreeClassifier(\n\u001b[1;32m     <a href='vscode-notebook-cell:/Users/hdjdox/Documents/e_education/magistrale/data_mining/dm-project/DM_DonatiFrancaviglia_TASK3/predictive_labelling.ipynb#ch0000005?line=13'>14</a>\u001b[0m         criterion\u001b[39m=\u001b[39mcriterion,\n\u001b[1;32m     <a href='vscode-notebook-cell:/Users/hdjdox/Documents/e_education/magistrale/data_mining/dm-project/DM_DonatiFrancaviglia_TASK3/predictive_labelling.ipynb#ch0000005?line=14'>15</a>\u001b[0m         min_impurity_decrease\u001b[39m=\u001b[39mmin_impurity_decrease,\n\u001b[1;32m     <a href='vscode-notebook-cell:/Users/hdjdox/Documents/e_education/magistrale/data_mining/dm-project/DM_DonatiFrancaviglia_TASK3/predictive_labelling.ipynb#ch0000005?line=15'>16</a>\u001b[0m         min_samples_leaf\u001b[39m=\u001b[39mmin_samples_leaf,\n\u001b[1;32m     <a href='vscode-notebook-cell:/Users/hdjdox/Documents/e_education/magistrale/data_mining/dm-project/DM_DonatiFrancaviglia_TASK3/predictive_labelling.ipynb#ch0000005?line=16'>17</a>\u001b[0m         random_state\u001b[39m=\u001b[39m\u001b[39m0\u001b[39m\n\u001b[1;32m     <a href='vscode-notebook-cell:/Users/hdjdox/Documents/e_education/magistrale/data_mining/dm-project/DM_DonatiFrancaviglia_TASK3/predictive_labelling.ipynb#ch0000005?line=17'>18</a>\u001b[0m     )\n\u001b[0;32m---> <a href='vscode-notebook-cell:/Users/hdjdox/Documents/e_education/magistrale/data_mining/dm-project/DM_DonatiFrancaviglia_TASK3/predictive_labelling.ipynb#ch0000005?line=18'>19</a>\u001b[0m     mean_val_score, std_val_score \u001b[39m=\u001b[39m cross_validation_summary(model, x, y, \u001b[39m5\u001b[39;49m)\n\u001b[1;32m     <a href='vscode-notebook-cell:/Users/hdjdox/Documents/e_education/magistrale/data_mining/dm-project/DM_DonatiFrancaviglia_TASK3/predictive_labelling.ipynb#ch0000005?line=19'>20</a>\u001b[0m     res \u001b[39m=\u001b[39m criterion, min_impurity_decrease, min_samples_leaf, mean_val_score, std_val_score\n\u001b[1;32m     <a href='vscode-notebook-cell:/Users/hdjdox/Documents/e_education/magistrale/data_mining/dm-project/DM_DonatiFrancaviglia_TASK3/predictive_labelling.ipynb#ch0000005?line=20'>21</a>\u001b[0m     results\u001b[39m.\u001b[39mappend(res)\n",
      "\u001b[1;32m/Users/hdjdox/Documents/e_education/magistrale/data_mining/dm-project/DM_DonatiFrancaviglia_TASK3/predictive_labelling.ipynb Cell 8\u001b[0m in \u001b[0;36mcross_validation_summary\u001b[0;34m(model, X, y, n_splits)\u001b[0m\n\u001b[1;32m     <a href='vscode-notebook-cell:/Users/hdjdox/Documents/e_education/magistrale/data_mining/dm-project/DM_DonatiFrancaviglia_TASK3/predictive_labelling.ipynb#ch0000005?line=9'>10</a>\u001b[0m \u001b[39mdef\u001b[39;00m \u001b[39mcross_validation_summary\u001b[39m(model, X: np\u001b[39m.\u001b[39mndarray, y: np\u001b[39m.\u001b[39mndarray, n_splits: \u001b[39mint\u001b[39m) \u001b[39m-\u001b[39m\u001b[39m>\u001b[39m np\u001b[39m.\u001b[39mndarray:\n\u001b[1;32m     <a href='vscode-notebook-cell:/Users/hdjdox/Documents/e_education/magistrale/data_mining/dm-project/DM_DonatiFrancaviglia_TASK3/predictive_labelling.ipynb#ch0000005?line=10'>11</a>\u001b[0m     \u001b[39m\"\"\"Returns validation accuracy score of model (mean and std over all the splits).\"\"\"\u001b[39;00m\n\u001b[0;32m---> <a href='vscode-notebook-cell:/Users/hdjdox/Documents/e_education/magistrale/data_mining/dm-project/DM_DonatiFrancaviglia_TASK3/predictive_labelling.ipynb#ch0000005?line=11'>12</a>\u001b[0m     val_score \u001b[39m=\u001b[39m cross_validation(model, X, y, n_splits)\n\u001b[1;32m     <a href='vscode-notebook-cell:/Users/hdjdox/Documents/e_education/magistrale/data_mining/dm-project/DM_DonatiFrancaviglia_TASK3/predictive_labelling.ipynb#ch0000005?line=12'>13</a>\u001b[0m     \u001b[39mreturn\u001b[39;00m val_score\u001b[39m.\u001b[39mmean(), val_score\u001b[39m.\u001b[39mstd()\n",
      "\u001b[1;32m/Users/hdjdox/Documents/e_education/magistrale/data_mining/dm-project/DM_DonatiFrancaviglia_TASK3/predictive_labelling.ipynb Cell 8\u001b[0m in \u001b[0;36mcross_validation\u001b[0;34m(model, X, y, n_splits)\u001b[0m\n\u001b[1;32m      <a href='vscode-notebook-cell:/Users/hdjdox/Documents/e_education/magistrale/data_mining/dm-project/DM_DonatiFrancaviglia_TASK3/predictive_labelling.ipynb#ch0000005?line=2'>3</a>\u001b[0m skf \u001b[39m=\u001b[39m StratifiedKFold(n_splits\u001b[39m=\u001b[39mn_splits, random_state\u001b[39m=\u001b[39m\u001b[39m0\u001b[39m, shuffle\u001b[39m=\u001b[39m\u001b[39mTrue\u001b[39;00m)\n\u001b[1;32m      <a href='vscode-notebook-cell:/Users/hdjdox/Documents/e_education/magistrale/data_mining/dm-project/DM_DonatiFrancaviglia_TASK3/predictive_labelling.ipynb#ch0000005?line=3'>4</a>\u001b[0m val_score \u001b[39m=\u001b[39m []\n\u001b[0;32m----> <a href='vscode-notebook-cell:/Users/hdjdox/Documents/e_education/magistrale/data_mining/dm-project/DM_DonatiFrancaviglia_TASK3/predictive_labelling.ipynb#ch0000005?line=4'>5</a>\u001b[0m \u001b[39mfor\u001b[39;00m train_index, test_index \u001b[39min\u001b[39;00m skf\u001b[39m.\u001b[39msplit(X, y):\n\u001b[1;32m      <a href='vscode-notebook-cell:/Users/hdjdox/Documents/e_education/magistrale/data_mining/dm-project/DM_DonatiFrancaviglia_TASK3/predictive_labelling.ipynb#ch0000005?line=5'>6</a>\u001b[0m     model\u001b[39m.\u001b[39mfit(X[train_index], y[train_index]\u001b[39m.\u001b[39mravel())\n\u001b[1;32m      <a href='vscode-notebook-cell:/Users/hdjdox/Documents/e_education/magistrale/data_mining/dm-project/DM_DonatiFrancaviglia_TASK3/predictive_labelling.ipynb#ch0000005?line=6'>7</a>\u001b[0m     val_score\u001b[39m.\u001b[39mappend(model\u001b[39m.\u001b[39mscore(X[test_index], y[test_index]\u001b[39m.\u001b[39mravel() \u001b[39m+\u001b[39m \u001b[39m1\u001b[39m))\n",
      "File \u001b[0;32m~/Library/Python/3.8/lib/python/site-packages/sklearn/model_selection/_split.py:340\u001b[0m, in \u001b[0;36m_BaseKFold.split\u001b[0;34m(self, X, y, groups)\u001b[0m\n\u001b[1;32m    332\u001b[0m \u001b[39mif\u001b[39;00m \u001b[39mself\u001b[39m\u001b[39m.\u001b[39mn_splits \u001b[39m>\u001b[39m n_samples:\n\u001b[1;32m    333\u001b[0m     \u001b[39mraise\u001b[39;00m \u001b[39mValueError\u001b[39;00m(\n\u001b[1;32m    334\u001b[0m         (\n\u001b[1;32m    335\u001b[0m             \u001b[39m\"\u001b[39m\u001b[39mCannot have number of splits n_splits=\u001b[39m\u001b[39m{0}\u001b[39;00m\u001b[39m greater\u001b[39m\u001b[39m\"\u001b[39m\n\u001b[1;32m    336\u001b[0m             \u001b[39m\"\u001b[39m\u001b[39m than the number of samples: n_samples=\u001b[39m\u001b[39m{1}\u001b[39;00m\u001b[39m.\u001b[39m\u001b[39m\"\u001b[39m\n\u001b[1;32m    337\u001b[0m         )\u001b[39m.\u001b[39mformat(\u001b[39mself\u001b[39m\u001b[39m.\u001b[39mn_splits, n_samples)\n\u001b[1;32m    338\u001b[0m     )\n\u001b[0;32m--> 340\u001b[0m \u001b[39mfor\u001b[39;00m train, test \u001b[39min\u001b[39;00m \u001b[39msuper\u001b[39m()\u001b[39m.\u001b[39msplit(X, y, groups):\n\u001b[1;32m    341\u001b[0m     \u001b[39myield\u001b[39;00m train, test\n",
      "File \u001b[0;32m~/Library/Python/3.8/lib/python/site-packages/sklearn/model_selection/_split.py:86\u001b[0m, in \u001b[0;36mBaseCrossValidator.split\u001b[0;34m(self, X, y, groups)\u001b[0m\n\u001b[1;32m     84\u001b[0m X, y, groups \u001b[39m=\u001b[39m indexable(X, y, groups)\n\u001b[1;32m     85\u001b[0m indices \u001b[39m=\u001b[39m np\u001b[39m.\u001b[39marange(_num_samples(X))\n\u001b[0;32m---> 86\u001b[0m \u001b[39mfor\u001b[39;00m test_index \u001b[39min\u001b[39;00m \u001b[39mself\u001b[39m\u001b[39m.\u001b[39m_iter_test_masks(X, y, groups):\n\u001b[1;32m     87\u001b[0m     train_index \u001b[39m=\u001b[39m indices[np\u001b[39m.\u001b[39mlogical_not(test_index)]\n\u001b[1;32m     88\u001b[0m     test_index \u001b[39m=\u001b[39m indices[test_index]\n",
      "File \u001b[0;32m~/Library/Python/3.8/lib/python/site-packages/sklearn/model_selection/_split.py:713\u001b[0m, in \u001b[0;36mStratifiedKFold._iter_test_masks\u001b[0;34m(self, X, y, groups)\u001b[0m\n\u001b[1;32m    712\u001b[0m \u001b[39mdef\u001b[39;00m \u001b[39m_iter_test_masks\u001b[39m(\u001b[39mself\u001b[39m, X, y\u001b[39m=\u001b[39m\u001b[39mNone\u001b[39;00m, groups\u001b[39m=\u001b[39m\u001b[39mNone\u001b[39;00m):\n\u001b[0;32m--> 713\u001b[0m     test_folds \u001b[39m=\u001b[39m \u001b[39mself\u001b[39;49m\u001b[39m.\u001b[39;49m_make_test_folds(X, y)\n\u001b[1;32m    714\u001b[0m     \u001b[39mfor\u001b[39;00m i \u001b[39min\u001b[39;00m \u001b[39mrange\u001b[39m(\u001b[39mself\u001b[39m\u001b[39m.\u001b[39mn_splits):\n\u001b[1;32m    715\u001b[0m         \u001b[39myield\u001b[39;00m test_folds \u001b[39m==\u001b[39m i\n",
      "File \u001b[0;32m~/Library/Python/3.8/lib/python/site-packages/sklearn/model_selection/_split.py:656\u001b[0m, in \u001b[0;36mStratifiedKFold._make_test_folds\u001b[0;34m(self, X, y)\u001b[0m\n\u001b[1;32m    654\u001b[0m allowed_target_types \u001b[39m=\u001b[39m (\u001b[39m\"\u001b[39m\u001b[39mbinary\u001b[39m\u001b[39m\"\u001b[39m, \u001b[39m\"\u001b[39m\u001b[39mmulticlass\u001b[39m\u001b[39m\"\u001b[39m)\n\u001b[1;32m    655\u001b[0m \u001b[39mif\u001b[39;00m type_of_target_y \u001b[39mnot\u001b[39;00m \u001b[39min\u001b[39;00m allowed_target_types:\n\u001b[0;32m--> 656\u001b[0m     \u001b[39mraise\u001b[39;00m \u001b[39mValueError\u001b[39;00m(\n\u001b[1;32m    657\u001b[0m         \u001b[39m\"\u001b[39m\u001b[39mSupported target types are: \u001b[39m\u001b[39m{}\u001b[39;00m\u001b[39m. Got \u001b[39m\u001b[39m{!r}\u001b[39;00m\u001b[39m instead.\u001b[39m\u001b[39m\"\u001b[39m\u001b[39m.\u001b[39mformat(\n\u001b[1;32m    658\u001b[0m             allowed_target_types, type_of_target_y\n\u001b[1;32m    659\u001b[0m         )\n\u001b[1;32m    660\u001b[0m     )\n\u001b[1;32m    662\u001b[0m y \u001b[39m=\u001b[39m column_or_1d(y)\n\u001b[1;32m    664\u001b[0m _, y_idx, y_inv \u001b[39m=\u001b[39m np\u001b[39m.\u001b[39munique(y, return_index\u001b[39m=\u001b[39m\u001b[39mTrue\u001b[39;00m, return_inverse\u001b[39m=\u001b[39m\u001b[39mTrue\u001b[39;00m)\n",
      "\u001b[0;31mValueError\u001b[0m: Supported target types are: ('binary', 'multiclass'). Got 'unknown' instead."
     ]
    }
   ],
   "source": [
    "## Hyper-parameters grid search for Decision Tree\n",
    "\n",
    "hyp_dict = {\n",
    "    'criterion': ['gini', 'entropy'],\n",
    "    'min_impurity_decrease': [0, 1, 1e-1, 1e-2, 1e-3, 1e-4],\n",
    "    'min_samples_leaf': [1, 3, 5]\n",
    "}\n",
    "combinations = itertools.product(*(hyp_dict[key] for key in sorted(hyp_dict)))\n",
    "\n",
    "results = []\n",
    "\n",
    "for criterion, min_impurity_decrease, min_samples_leaf in combinations:\n",
    "    model = tree.DecisionTreeClassifier(\n",
    "        criterion=criterion,\n",
    "        min_impurity_decrease=min_impurity_decrease,\n",
    "        min_samples_leaf=min_samples_leaf,\n",
    "        random_state=0\n",
    "    )\n",
    "    mean_val_score, std_val_score = cross_validation_summary(model, x, y, 5)\n",
    "    res = criterion, min_impurity_decrease, min_samples_leaf, mean_val_score, std_val_score\n",
    "    results.append(res)\n",
    "\n",
    "decision_tree_results_df = pd.DataFrame(results, columns=['criterion', 'min_impurity_decrease', 'min_samples_leaf', 'mean_val_score', 'std_val_score'])\n",
    "decision_tree_results_df.sort_values('mean_val_score').tail(1)"
=======
   "execution_count": 14,
   "metadata": {},
   "outputs": [
    {
     "data": {
      "text/plain": [
       "<AxesSubplot:xlabel='label', ylabel='avg_baskets_per_d'>"
      ]
     },
     "execution_count": 14,
     "metadata": {},
     "output_type": "execute_result"
    },
    {
     "data": {
      "image/png": "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",
      "text/plain": [
       "<Figure size 432x288 with 1 Axes>"
      ]
     },
     "metadata": {
      "needs_background": "light"
     },
     "output_type": "display_data"
    }
   ],
   "source": [
    "sns.boxplot(data=u_df, x=LAB, y=ABXVD)"
>>>>>>> 1ecbef54795279662f3fb256dbf192a671e76205
   ]
  }
 ],
 "metadata": {
  "kernelspec": {
   "display_name": "Python 3.8.9 64-bit",
   "language": "python",
   "name": "python3"
  },
  "language_info": {
   "codemirror_mode": {
    "name": "ipython",
    "version": 3
   },
   "file_extension": ".py",
   "mimetype": "text/x-python",
   "name": "python",
   "nbconvert_exporter": "python",
   "pygments_lexer": "ipython3",
   "version": "3.8.9"
  },
  "orig_nbformat": 4,
  "vscode": {
   "interpreter": {
    "hash": "31f2aee4e71d21fbe5cf8b01ff0e069b9275f58929596ceb00d14d90e3e16cd6"
   }
  }
 },
 "nbformat": 4,
 "nbformat_minor": 2
}
