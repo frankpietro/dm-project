{
 "cells": [
  {
   "cell_type": "markdown",
   "id": "07b99d6b",
   "metadata": {},
   "source": [
    "# Data Mining Project\n",
    "### Giorgio Donati, g.donati24@studenti.unipi.it\n",
    "### Pietro Francaviglia, p.francaviglia1@studenti.unipi.it\n",
    "#### A.Y. 2021-2022\n"
   ]
  },
  {
   "cell_type": "markdown",
   "id": "6defe5e4",
   "metadata": {},
   "source": [
    "## Libraries and datasets"
   ]
  },
  {
   "cell_type": "code",
   "execution_count": 1,
   "id": "d45a9a1e",
   "metadata": {},
   "outputs": [],
   "source": [
    "import itertools\n",
    "from sklearn import tree\n",
    "from sklearn.model_selection import StratifiedKFold\n",
    "from sklearn.model_selection import train_test_split\n",
    "from sklearn.model_selection import RandomizedSearchCV\n",
    "from sklearn.ensemble import AdaBoostClassifier, BaggingClassifier, GradientBoostingClassifier, RandomForestClassifier\n",
    "\n",
    "from t3_constants import *\n",
    "from t3_utility import *"
   ]
  },
  {
   "cell_type": "code",
   "execution_count": 2,
   "metadata": {},
   "outputs": [],
   "source": [
    "with open(f'{PICKLE_FOLDER}{LABELLED}{USER_DF}.pkl', 'rb') as f:\n",
    "    u_df = pickle.load(f)"
   ]
  },
  {
   "cell_type": "code",
   "execution_count": 3,
   "metadata": {},
   "outputs": [
    {
     "data": {
      "text/html": [
       "<div>\n",
       "<style scoped>\n",
       "    .dataframe tbody tr th:only-of-type {\n",
       "        vertical-align: middle;\n",
       "    }\n",
       "\n",
       "    .dataframe tbody tr th {\n",
       "        vertical-align: top;\n",
       "    }\n",
       "\n",
       "    .dataframe thead tr th {\n",
       "        text-align: left;\n",
       "    }\n",
       "\n",
       "    .dataframe thead tr:last-of-type th {\n",
       "        text-align: right;\n",
       "    }\n",
       "</style>\n",
       "<table border=\"1\" class=\"dataframe\">\n",
       "  <thead>\n",
       "    <tr>\n",
       "      <th></th>\n",
       "      <th colspan=\"8\" halign=\"left\">item_count</th>\n",
       "      <th colspan=\"2\" halign=\"left\">avg_items_per_basket</th>\n",
       "      <th>...</th>\n",
       "      <th colspan=\"2\" halign=\"left\">total_price</th>\n",
       "      <th colspan=\"8\" halign=\"left\">all</th>\n",
       "    </tr>\n",
       "    <tr>\n",
       "      <th></th>\n",
       "      <th>count</th>\n",
       "      <th>mean</th>\n",
       "      <th>std</th>\n",
       "      <th>min</th>\n",
       "      <th>25%</th>\n",
       "      <th>50%</th>\n",
       "      <th>75%</th>\n",
       "      <th>max</th>\n",
       "      <th>count</th>\n",
       "      <th>mean</th>\n",
       "      <th>...</th>\n",
       "      <th>75%</th>\n",
       "      <th>max</th>\n",
       "      <th>count</th>\n",
       "      <th>mean</th>\n",
       "      <th>std</th>\n",
       "      <th>min</th>\n",
       "      <th>25%</th>\n",
       "      <th>50%</th>\n",
       "      <th>75%</th>\n",
       "      <th>max</th>\n",
       "    </tr>\n",
       "    <tr>\n",
       "      <th>label</th>\n",
       "      <th></th>\n",
       "      <th></th>\n",
       "      <th></th>\n",
       "      <th></th>\n",
       "      <th></th>\n",
       "      <th></th>\n",
       "      <th></th>\n",
       "      <th></th>\n",
       "      <th></th>\n",
       "      <th></th>\n",
       "      <th></th>\n",
       "      <th></th>\n",
       "      <th></th>\n",
       "      <th></th>\n",
       "      <th></th>\n",
       "      <th></th>\n",
       "      <th></th>\n",
       "      <th></th>\n",
       "      <th></th>\n",
       "      <th></th>\n",
       "      <th></th>\n",
       "    </tr>\n",
       "  </thead>\n",
       "  <tbody>\n",
       "    <tr>\n",
       "      <th>0</th>\n",
       "      <td>294.0</td>\n",
       "      <td>-0.887578</td>\n",
       "      <td>0.399286</td>\n",
       "      <td>-2.407901</td>\n",
       "      <td>-1.114085</td>\n",
       "      <td>-0.816987</td>\n",
       "      <td>-0.627707</td>\n",
       "      <td>0.045557</td>\n",
       "      <td>294.0</td>\n",
       "      <td>-0.772949</td>\n",
       "      <td>...</td>\n",
       "      <td>-0.553536</td>\n",
       "      <td>0.265168</td>\n",
       "      <td>294.0</td>\n",
       "      <td>-2.486879</td>\n",
       "      <td>0.990668</td>\n",
       "      <td>-6.111661</td>\n",
       "      <td>-3.129806</td>\n",
       "      <td>-2.354049</td>\n",
       "      <td>-1.636774</td>\n",
       "      <td>-1.199438</td>\n",
       "    </tr>\n",
       "    <tr>\n",
       "      <th>1</th>\n",
       "      <td>293.0</td>\n",
       "      <td>0.033602</td>\n",
       "      <td>0.375554</td>\n",
       "      <td>-0.960744</td>\n",
       "      <td>-0.256334</td>\n",
       "      <td>0.035973</td>\n",
       "      <td>0.285152</td>\n",
       "      <td>1.109361</td>\n",
       "      <td>293.0</td>\n",
       "      <td>-0.005650</td>\n",
       "      <td>...</td>\n",
       "      <td>0.263666</td>\n",
       "      <td>1.290074</td>\n",
       "      <td>293.0</td>\n",
       "      <td>0.016575</td>\n",
       "      <td>0.773349</td>\n",
       "      <td>-1.191957</td>\n",
       "      <td>-0.649848</td>\n",
       "      <td>0.046993</td>\n",
       "      <td>0.664775</td>\n",
       "      <td>1.555062</td>\n",
       "    </tr>\n",
       "    <tr>\n",
       "      <th>2</th>\n",
       "      <td>196.0</td>\n",
       "      <td>1.281136</td>\n",
       "      <td>0.851737</td>\n",
       "      <td>-0.155703</td>\n",
       "      <td>0.797887</td>\n",
       "      <td>1.106965</td>\n",
       "      <td>1.520267</td>\n",
       "      <td>7.185503</td>\n",
       "      <td>196.0</td>\n",
       "      <td>1.167869</td>\n",
       "      <td>...</td>\n",
       "      <td>1.464961</td>\n",
       "      <td>5.945153</td>\n",
       "      <td>196.0</td>\n",
       "      <td>3.705539</td>\n",
       "      <td>2.467618</td>\n",
       "      <td>1.570300</td>\n",
       "      <td>2.232774</td>\n",
       "      <td>3.077602</td>\n",
       "      <td>4.239451</td>\n",
       "      <td>20.475785</td>\n",
       "    </tr>\n",
       "  </tbody>\n",
       "</table>\n",
       "<p>3 rows × 32 columns</p>\n",
       "</div>"
      ],
      "text/plain": [
       "      item_count                                                              \\\n",
       "           count      mean       std       min       25%       50%       75%   \n",
       "label                                                                          \n",
       "0          294.0 -0.887578  0.399286 -2.407901 -1.114085 -0.816987 -0.627707   \n",
       "1          293.0  0.033602  0.375554 -0.960744 -0.256334  0.035973  0.285152   \n",
       "2          196.0  1.281136  0.851737 -0.155703  0.797887  1.106965  1.520267   \n",
       "\n",
       "                avg_items_per_basket            ... total_price            \\\n",
       "            max                count      mean  ...         75%       max   \n",
       "label                                           ...                         \n",
       "0      0.045557                294.0 -0.772949  ...   -0.553536  0.265168   \n",
       "1      1.109361                293.0 -0.005650  ...    0.263666  1.290074   \n",
       "2      7.185503                196.0  1.167869  ...    1.464961  5.945153   \n",
       "\n",
       "         all                                                              \\\n",
       "       count      mean       std       min       25%       50%       75%   \n",
       "label                                                                      \n",
       "0      294.0 -2.486879  0.990668 -6.111661 -3.129806 -2.354049 -1.636774   \n",
       "1      293.0  0.016575  0.773349 -1.191957 -0.649848  0.046993  0.664775   \n",
       "2      196.0  3.705539  2.467618  1.570300  2.232774  3.077602  4.239451   \n",
       "\n",
       "                  \n",
       "             max  \n",
       "label             \n",
       "0      -1.199438  \n",
       "1       1.555062  \n",
       "2      20.475785  \n",
       "\n",
       "[3 rows x 32 columns]"
      ]
     },
     "execution_count": 3,
     "metadata": {},
     "output_type": "execute_result"
    }
   ],
   "source": [
    "p_df = u_df[[ICNT, AIXB, PSUM]]\n",
    "p_a, p_df = scale_df(p_df, 1)\n",
    "p_df[WLAB] = p_df[ICNT] + p_df[AIXB] + p_df[PSUM]\n",
    "p_df[LAB] = rankings(p_df[WLAB], 1, 8)\n",
    "p_df[LAB] = p_df[LAB].map({0:0, 1:0, 2:0, 3:1, 4:1, 5:1, 6:2, 7:2})\n",
    "p_df.groupby(LAB).describe()"
   ]
  },
  {
   "cell_type": "code",
   "execution_count": 4,
   "metadata": {},
   "outputs": [
    {
     "data": {
      "text/plain": [
       "<AxesSubplot:ylabel='Frequency'>"
      ]
     },
     "execution_count": 4,
     "metadata": {},
     "output_type": "execute_result"
    },
    {
     "data": {
      "image/png": "[encoded data removed]",
      "text/plain": [
       "<Figure size 432x288 with 1 Axes>"
      ]
     },
     "metadata": {
      "needs_background": "light"
     },
     "output_type": "display_data"
    }
   ],
   "source": [
    "u_df[WLAB] = p_df[LAB]\n",
    "u_df[u_df[WLAB] == 0][LAB].plot(kind='hist')"
   ]
  },
  {
   "cell_type": "code",
   "execution_count": 5,
   "metadata": {},
   "outputs": [
    {
     "data": {
      "text/plain": [
       "<AxesSubplot:ylabel='Frequency'>"
      ]
     },
     "execution_count": 5,
     "metadata": {},
     "output_type": "execute_result"
    },
    {
     "data": {
      "image/png": "[encoded data removed]",
      "text/plain": [
       "<Figure size 432x288 with 1 Axes>"
      ]
     },
     "metadata": {
      "needs_background": "light"
     },
     "output_type": "display_data"
    }
   ],
   "source": [
    "u_df[u_df[WLAB] == 1][LAB].plot(kind='hist')"
   ]
  },
  {
   "cell_type": "code",
   "execution_count": 6,
   "metadata": {},
   "outputs": [
    {
     "data": {
      "text/plain": [
       "<AxesSubplot:ylabel='Frequency'>"
      ]
     },
     "execution_count": 6,
     "metadata": {},
     "output_type": "execute_result"
    },
    {
     "data": {
      "image/png": "[encoded data removed]",
      "text/plain": [
       "<Figure size 432x288 with 1 Axes>"
      ]
     },
     "metadata": {
      "needs_background": "light"
     },
     "output_type": "display_data"
    }
   ],
   "source": [
    "u_df[u_df[WLAB] == 2][LAB].plot(kind='hist')"
   ]
  },
  {
   "cell_type": "code",
   "execution_count": 7,
   "metadata": {},
   "outputs": [
    {
     "name": "stdout",
     "output_type": "stream",
     "text": [
      "<class 'pandas.core.frame.DataFrame'>\n",
      "Int64Index: 783 entries, 1 to 823\n",
      "Data columns (total 19 columns):\n",
      " #   Column                          Non-Null Count  Dtype  \n",
      "---  ------                          --------------  -----  \n",
      " 0   item_count                      783 non-null    int64  \n",
      " 1   item_dist_count                 783 non-null    int64  \n",
      " 2   max_items_per_b                 783 non-null    int64  \n",
      " 3   shop_entropy                    783 non-null    float64\n",
      " 4   category_entropy                783 non-null    float64\n",
      " 5   item_entropy                    783 non-null    float64\n",
      " 6   price_entropy                   783 non-null    float64\n",
      " 7   max_item_dist_per_b             783 non-null    int64  \n",
      " 8   total_price                     783 non-null    float64\n",
      " 9   basket_count                    783 non-null    int64  \n",
      " 10  category_count                  783 non-null    int64  \n",
      " 11  shop_count                      783 non-null    int64  \n",
      " 12  avg_items_per_basket            783 non-null    float64\n",
      " 13  avg_baskets_per_d               783 non-null    float64\n",
      " 14  natural_average_basket_ranking  783 non-null    float64\n",
      " 15  natural_average_item_ranking    783 non-null    float64\n",
      " 16  natural_average_price_ranking   783 non-null    float64\n",
      " 17  label                           783 non-null    object \n",
      " 18  all                             783 non-null    int64  \n",
      "dtypes: float64(10), int64(8), object(1)\n",
      "memory usage: 122.3+ KB\n"
     ]
    }
   ],
   "source": [
    "u_df.info()"
   ]
  },
  {
   "cell_type": "code",
   "execution_count": 8,
   "metadata": {},
   "outputs": [
    {
     "data": {
      "image/png": "[encoded data removed]",
      "text/plain": [
       "<Figure size 1080x576 with 1 Axes>"
      ]
     },
     "metadata": {
      "needs_background": "light"
     },
     "output_type": "display_data"
    },
    {
     "data": {
      "image/png": "[encoded data removed]",
      "text/plain": [
       "<Figure size 1080x576 with 1 Axes>"
      ]
     },
     "metadata": {
      "needs_background": "light"
     },
     "output_type": "display_data"
    },
    {
     "data": {
      "image/png": "[encoded data removed]",
      "text/plain": [
       "<Figure size 1080x576 with 1 Axes>"
      ]
     },
     "metadata": {
      "needs_background": "light"
     },
     "output_type": "display_data"
    }
   ],
   "source": [
    "for c in [ICNT, PSUM, AIXB]:\n",
    "    _, ax = plt.subplots(figsize=(15,8))\n",
    "    sns.boxplot(x=LAB, y=c, data=u_df)"
   ]
  },
  {
   "cell_type": "code",
   "execution_count": 9,
   "metadata": {},
   "outputs": [],
   "source": [
    "### spending label\n",
    "# High spending 2, 6\n",
    "# Medium spending 0, 4, 5, 7\n",
    "# Low spending 1, 3\n",
    "\n",
    "u_df[SLAB] = MS\n",
    "u_df.loc[u_df[LAB].isin([2, 6]), SLAB] = HS\n",
    "u_df.loc[u_df[LAB].isin([1, 3]), SLAB] = LS"
   ]
  },
  {
   "cell_type": "code",
   "execution_count": 10,
   "metadata": {},
   "outputs": [
    {
     "data": {
      "image/png": "[encoded data removed]",
      "text/plain": [
       "<Figure size 1080x576 with 1 Axes>"
      ]
     },
     "metadata": {
      "needs_background": "light"
     },
     "output_type": "display_data"
    },
    {
     "data": {
      "image/png": "[encoded data removed]",
      "text/plain": [
       "<Figure size 1080x576 with 1 Axes>"
      ]
     },
     "metadata": {
      "needs_background": "light"
     },
     "output_type": "display_data"
    },
    {
     "data": {
      "image/png": "[encoded data removed]",
      "text/plain": [
       "<Figure size 1080x576 with 1 Axes>"
      ]
     },
     "metadata": {
      "needs_background": "light"
     },
     "output_type": "display_data"
    }
   ],
   "source": [
    "for c in [ICNT, PSUM, AIXB]:\n",
    "    _, ax = plt.subplots(figsize=(15,8))\n",
    "    sns.boxplot(x=SLAB, y=c, data=u_df)"
   ]
  },
  {
   "cell_type": "code",
   "execution_count": 11,
   "metadata": {},
   "outputs": [
    {
     "name": "stdout",
     "output_type": "stream",
     "text": [
      "<class 'pandas.core.frame.DataFrame'>\n",
      "Int64Index: 783 entries, 1 to 823\n",
      "Data columns (total 20 columns):\n",
      " #   Column                          Non-Null Count  Dtype  \n",
      "---  ------                          --------------  -----  \n",
      " 0   item_count                      783 non-null    int64  \n",
      " 1   item_dist_count                 783 non-null    int64  \n",
      " 2   max_items_per_b                 783 non-null    int64  \n",
      " 3   shop_entropy                    783 non-null    float64\n",
      " 4   category_entropy                783 non-null    float64\n",
      " 5   item_entropy                    783 non-null    float64\n",
      " 6   price_entropy                   783 non-null    float64\n",
      " 7   max_item_dist_per_b             783 non-null    int64  \n",
      " 8   total_price                     783 non-null    float64\n",
      " 9   basket_count                    783 non-null    int64  \n",
      " 10  category_count                  783 non-null    int64  \n",
      " 11  shop_count                      783 non-null    int64  \n",
      " 12  avg_items_per_basket            783 non-null    float64\n",
      " 13  avg_baskets_per_d               783 non-null    float64\n",
      " 14  natural_average_basket_ranking  783 non-null    float64\n",
      " 15  natural_average_item_ranking    783 non-null    float64\n",
      " 16  natural_average_price_ranking   783 non-null    float64\n",
      " 17  label                           783 non-null    object \n",
      " 18  all                             783 non-null    int64  \n",
      " 19  spending_label                  783 non-null    int64  \n",
      "dtypes: float64(10), int64(9), object(1)\n",
      "memory usage: 128.5+ KB\n"
     ]
    }
   ],
   "source": [
    "u_df.info()"
   ]
  },
  {
   "cell_type": "code",
   "execution_count": 12,
   "metadata": {},
   "outputs": [],
   "source": [
    "train_x, test_x, train_y, test_y = train_test_split(\n",
    "    u_df.drop(columns=[WLAB, LAB, SLAB]),\n",
    "    u_df[SLAB],\n",
    "    test_size=0.2,\n",
    "    stratify=u_df[SLAB])\n",
    "x = train_x.values\n",
    "y = train_y.values.ravel().astype(int)"
   ]
  },
  {
   "cell_type": "code",
   "execution_count": 13,
   "metadata": {},
   "outputs": [],
   "source": [
    "def cross_validation(model, X: np.ndarray, y: np.ndarray, n_splits: int) -> np.ndarray:\n",
    "    \"\"\"Return validation scores across the k folds of cross-validation.\"\"\"\n",
    "    skf = StratifiedKFold(n_splits=n_splits, random_state=0, shuffle=True)\n",
    "    val_score = []\n",
    "    for train_index, test_index in skf.split(X, y):\n",
    "        model.fit(X[train_index], y[train_index].ravel())\n",
    "        val_score.append(model.score(X[test_index], y[test_index].ravel() + 1))\n",
    "    return np.array(val_score)\n",
    "\n",
    "def cross_validation_summary(model, X: np.ndarray, y: np.ndarray, n_splits: int) -> np.ndarray:\n",
    "    \"\"\"Returns validation accuracy score of model (mean and std over all the splits).\"\"\"\n",
    "    val_score = cross_validation(model, X, y, n_splits)\n",
    "    return val_score.mean(), val_score.std()\n"
   ]
  },
  {
   "cell_type": "code",
   "execution_count": 14,
   "metadata": {},
   "outputs": [
    {
     "data": {
      "text/html": [
       "<div>\n",
       "<style scoped>\n",
       "    .dataframe tbody tr th:only-of-type {\n",
       "        vertical-align: middle;\n",
       "    }\n",
       "\n",
       "    .dataframe tbody tr th {\n",
       "        vertical-align: top;\n",
       "    }\n",
       "\n",
       "    .dataframe thead th {\n",
       "        text-align: right;\n",
       "    }\n",
       "</style>\n",
       "<table border=\"1\" class=\"dataframe\">\n",
       "  <thead>\n",
       "    <tr style=\"text-align: right;\">\n",
       "      <th></th>\n",
       "      <th>criterion</th>\n",
       "      <th>min_impurity_decrease</th>\n",
       "      <th>min_samples_leaf</th>\n",
       "      <th>mean_val_score</th>\n",
       "      <th>std_val_score</th>\n",
       "    </tr>\n",
       "  </thead>\n",
       "  <tbody>\n",
       "    <tr>\n",
       "      <th>17</th>\n",
       "      <td>gini</td>\n",
       "      <td>0.0001</td>\n",
       "      <td>5</td>\n",
       "      <td>0.075098</td>\n",
       "      <td>0.019352</td>\n",
       "    </tr>\n",
       "    <tr>\n",
       "      <th>2</th>\n",
       "      <td>gini</td>\n",
       "      <td>0.0000</td>\n",
       "      <td>5</td>\n",
       "      <td>0.075098</td>\n",
       "      <td>0.019352</td>\n",
       "    </tr>\n",
       "    <tr>\n",
       "      <th>14</th>\n",
       "      <td>gini</td>\n",
       "      <td>0.0010</td>\n",
       "      <td>5</td>\n",
       "      <td>0.075098</td>\n",
       "      <td>0.019352</td>\n",
       "    </tr>\n",
       "    <tr>\n",
       "      <th>13</th>\n",
       "      <td>gini</td>\n",
       "      <td>0.0010</td>\n",
       "      <td>3</td>\n",
       "      <td>0.078257</td>\n",
       "      <td>0.009710</td>\n",
       "    </tr>\n",
       "    <tr>\n",
       "      <th>1</th>\n",
       "      <td>gini</td>\n",
       "      <td>0.0000</td>\n",
       "      <td>3</td>\n",
       "      <td>0.079860</td>\n",
       "      <td>0.008020</td>\n",
       "    </tr>\n",
       "    <tr>\n",
       "      <th>16</th>\n",
       "      <td>gini</td>\n",
       "      <td>0.0001</td>\n",
       "      <td>3</td>\n",
       "      <td>0.079860</td>\n",
       "      <td>0.008020</td>\n",
       "    </tr>\n",
       "    <tr>\n",
       "      <th>28</th>\n",
       "      <td>entropy</td>\n",
       "      <td>0.0100</td>\n",
       "      <td>3</td>\n",
       "      <td>0.092596</td>\n",
       "      <td>0.031475</td>\n",
       "    </tr>\n",
       "    <tr>\n",
       "      <th>33</th>\n",
       "      <td>entropy</td>\n",
       "      <td>0.0001</td>\n",
       "      <td>1</td>\n",
       "      <td>0.094191</td>\n",
       "      <td>0.033582</td>\n",
       "    </tr>\n",
       "    <tr>\n",
       "      <th>30</th>\n",
       "      <td>entropy</td>\n",
       "      <td>0.0010</td>\n",
       "      <td>1</td>\n",
       "      <td>0.094191</td>\n",
       "      <td>0.033582</td>\n",
       "    </tr>\n",
       "    <tr>\n",
       "      <th>18</th>\n",
       "      <td>entropy</td>\n",
       "      <td>0.0000</td>\n",
       "      <td>1</td>\n",
       "      <td>0.094191</td>\n",
       "      <td>0.033582</td>\n",
       "    </tr>\n",
       "    <tr>\n",
       "      <th>27</th>\n",
       "      <td>entropy</td>\n",
       "      <td>0.0100</td>\n",
       "      <td>1</td>\n",
       "      <td>0.095786</td>\n",
       "      <td>0.035707</td>\n",
       "    </tr>\n",
       "    <tr>\n",
       "      <th>31</th>\n",
       "      <td>entropy</td>\n",
       "      <td>0.0010</td>\n",
       "      <td>3</td>\n",
       "      <td>0.097427</td>\n",
       "      <td>0.022824</td>\n",
       "    </tr>\n",
       "    <tr>\n",
       "      <th>19</th>\n",
       "      <td>entropy</td>\n",
       "      <td>0.0000</td>\n",
       "      <td>3</td>\n",
       "      <td>0.097427</td>\n",
       "      <td>0.022824</td>\n",
       "    </tr>\n",
       "    <tr>\n",
       "      <th>34</th>\n",
       "      <td>entropy</td>\n",
       "      <td>0.0001</td>\n",
       "      <td>3</td>\n",
       "      <td>0.097427</td>\n",
       "      <td>0.022824</td>\n",
       "    </tr>\n",
       "    <tr>\n",
       "      <th>32</th>\n",
       "      <td>entropy</td>\n",
       "      <td>0.0010</td>\n",
       "      <td>5</td>\n",
       "      <td>0.099014</td>\n",
       "      <td>0.024719</td>\n",
       "    </tr>\n",
       "    <tr>\n",
       "      <th>20</th>\n",
       "      <td>entropy</td>\n",
       "      <td>0.0000</td>\n",
       "      <td>5</td>\n",
       "      <td>0.099014</td>\n",
       "      <td>0.024719</td>\n",
       "    </tr>\n",
       "    <tr>\n",
       "      <th>35</th>\n",
       "      <td>entropy</td>\n",
       "      <td>0.0001</td>\n",
       "      <td>5</td>\n",
       "      <td>0.099014</td>\n",
       "      <td>0.024719</td>\n",
       "    </tr>\n",
       "    <tr>\n",
       "      <th>10</th>\n",
       "      <td>gini</td>\n",
       "      <td>0.0100</td>\n",
       "      <td>3</td>\n",
       "      <td>0.100624</td>\n",
       "      <td>0.010202</td>\n",
       "    </tr>\n",
       "    <tr>\n",
       "      <th>9</th>\n",
       "      <td>gini</td>\n",
       "      <td>0.0100</td>\n",
       "      <td>1</td>\n",
       "      <td>0.100624</td>\n",
       "      <td>0.010202</td>\n",
       "    </tr>\n",
       "    <tr>\n",
       "      <th>12</th>\n",
       "      <td>gini</td>\n",
       "      <td>0.0010</td>\n",
       "      <td>1</td>\n",
       "      <td>0.103822</td>\n",
       "      <td>0.022160</td>\n",
       "    </tr>\n",
       "    <tr>\n",
       "      <th>15</th>\n",
       "      <td>gini</td>\n",
       "      <td>0.0001</td>\n",
       "      <td>1</td>\n",
       "      <td>0.103822</td>\n",
       "      <td>0.022160</td>\n",
       "    </tr>\n",
       "    <tr>\n",
       "      <th>0</th>\n",
       "      <td>gini</td>\n",
       "      <td>0.0000</td>\n",
       "      <td>1</td>\n",
       "      <td>0.103822</td>\n",
       "      <td>0.022160</td>\n",
       "    </tr>\n",
       "    <tr>\n",
       "      <th>29</th>\n",
       "      <td>entropy</td>\n",
       "      <td>0.0100</td>\n",
       "      <td>5</td>\n",
       "      <td>0.105394</td>\n",
       "      <td>0.027233</td>\n",
       "    </tr>\n",
       "    <tr>\n",
       "      <th>11</th>\n",
       "      <td>gini</td>\n",
       "      <td>0.0100</td>\n",
       "      <td>5</td>\n",
       "      <td>0.105401</td>\n",
       "      <td>0.013338</td>\n",
       "    </tr>\n",
       "    <tr>\n",
       "      <th>8</th>\n",
       "      <td>gini</td>\n",
       "      <td>0.1000</td>\n",
       "      <td>5</td>\n",
       "      <td>0.137483</td>\n",
       "      <td>0.060021</td>\n",
       "    </tr>\n",
       "    <tr>\n",
       "      <th>7</th>\n",
       "      <td>gini</td>\n",
       "      <td>0.1000</td>\n",
       "      <td>3</td>\n",
       "      <td>0.137483</td>\n",
       "      <td>0.060021</td>\n",
       "    </tr>\n",
       "    <tr>\n",
       "      <th>6</th>\n",
       "      <td>gini</td>\n",
       "      <td>0.1000</td>\n",
       "      <td>1</td>\n",
       "      <td>0.137483</td>\n",
       "      <td>0.060021</td>\n",
       "    </tr>\n",
       "    <tr>\n",
       "      <th>24</th>\n",
       "      <td>entropy</td>\n",
       "      <td>0.1000</td>\n",
       "      <td>1</td>\n",
       "      <td>0.199722</td>\n",
       "      <td>0.024258</td>\n",
       "    </tr>\n",
       "    <tr>\n",
       "      <th>25</th>\n",
       "      <td>entropy</td>\n",
       "      <td>0.1000</td>\n",
       "      <td>3</td>\n",
       "      <td>0.199722</td>\n",
       "      <td>0.024258</td>\n",
       "    </tr>\n",
       "    <tr>\n",
       "      <th>26</th>\n",
       "      <td>entropy</td>\n",
       "      <td>0.1000</td>\n",
       "      <td>5</td>\n",
       "      <td>0.199722</td>\n",
       "      <td>0.024258</td>\n",
       "    </tr>\n",
       "    <tr>\n",
       "      <th>22</th>\n",
       "      <td>entropy</td>\n",
       "      <td>1.0000</td>\n",
       "      <td>3</td>\n",
       "      <td>0.362624</td>\n",
       "      <td>0.002761</td>\n",
       "    </tr>\n",
       "    <tr>\n",
       "      <th>23</th>\n",
       "      <td>entropy</td>\n",
       "      <td>1.0000</td>\n",
       "      <td>5</td>\n",
       "      <td>0.362624</td>\n",
       "      <td>0.002761</td>\n",
       "    </tr>\n",
       "    <tr>\n",
       "      <th>5</th>\n",
       "      <td>gini</td>\n",
       "      <td>1.0000</td>\n",
       "      <td>5</td>\n",
       "      <td>0.362624</td>\n",
       "      <td>0.002761</td>\n",
       "    </tr>\n",
       "    <tr>\n",
       "      <th>4</th>\n",
       "      <td>gini</td>\n",
       "      <td>1.0000</td>\n",
       "      <td>3</td>\n",
       "      <td>0.362624</td>\n",
       "      <td>0.002761</td>\n",
       "    </tr>\n",
       "    <tr>\n",
       "      <th>3</th>\n",
       "      <td>gini</td>\n",
       "      <td>1.0000</td>\n",
       "      <td>1</td>\n",
       "      <td>0.362624</td>\n",
       "      <td>0.002761</td>\n",
       "    </tr>\n",
       "    <tr>\n",
       "      <th>21</th>\n",
       "      <td>entropy</td>\n",
       "      <td>1.0000</td>\n",
       "      <td>1</td>\n",
       "      <td>0.362624</td>\n",
       "      <td>0.002761</td>\n",
       "    </tr>\n",
       "  </tbody>\n",
       "</table>\n",
       "</div>"
      ],
      "text/plain": [
       "   criterion  min_impurity_decrease  min_samples_leaf  mean_val_score  \\\n",
       "17      gini                 0.0001                 5        0.075098   \n",
       "2       gini                 0.0000                 5        0.075098   \n",
       "14      gini                 0.0010                 5        0.075098   \n",
       "13      gini                 0.0010                 3        0.078257   \n",
       "1       gini                 0.0000                 3        0.079860   \n",
       "16      gini                 0.0001                 3        0.079860   \n",
       "28   entropy                 0.0100                 3        0.092596   \n",
       "33   entropy                 0.0001                 1        0.094191   \n",
       "30   entropy                 0.0010                 1        0.094191   \n",
       "18   entropy                 0.0000                 1        0.094191   \n",
       "27   entropy                 0.0100                 1        0.095786   \n",
       "31   entropy                 0.0010                 3        0.097427   \n",
       "19   entropy                 0.0000                 3        0.097427   \n",
       "34   entropy                 0.0001                 3        0.097427   \n",
       "32   entropy                 0.0010                 5        0.099014   \n",
       "20   entropy                 0.0000                 5        0.099014   \n",
       "35   entropy                 0.0001                 5        0.099014   \n",
       "10      gini                 0.0100                 3        0.100624   \n",
       "9       gini                 0.0100                 1        0.100624   \n",
       "12      gini                 0.0010                 1        0.103822   \n",
       "15      gini                 0.0001                 1        0.103822   \n",
       "0       gini                 0.0000                 1        0.103822   \n",
       "29   entropy                 0.0100                 5        0.105394   \n",
       "11      gini                 0.0100                 5        0.105401   \n",
       "8       gini                 0.1000                 5        0.137483   \n",
       "7       gini                 0.1000                 3        0.137483   \n",
       "6       gini                 0.1000                 1        0.137483   \n",
       "24   entropy                 0.1000                 1        0.199722   \n",
       "25   entropy                 0.1000                 3        0.199722   \n",
       "26   entropy                 0.1000                 5        0.199722   \n",
       "22   entropy                 1.0000                 3        0.362624   \n",
       "23   entropy                 1.0000                 5        0.362624   \n",
       "5       gini                 1.0000                 5        0.362624   \n",
       "4       gini                 1.0000                 3        0.362624   \n",
       "3       gini                 1.0000                 1        0.362624   \n",
       "21   entropy                 1.0000                 1        0.362624   \n",
       "\n",
       "    std_val_score  \n",
       "17       0.019352  \n",
       "2        0.019352  \n",
       "14       0.019352  \n",
       "13       0.009710  \n",
       "1        0.008020  \n",
       "16       0.008020  \n",
       "28       0.031475  \n",
       "33       0.033582  \n",
       "30       0.033582  \n",
       "18       0.033582  \n",
       "27       0.035707  \n",
       "31       0.022824  \n",
       "19       0.022824  \n",
       "34       0.022824  \n",
       "32       0.024719  \n",
       "20       0.024719  \n",
       "35       0.024719  \n",
       "10       0.010202  \n",
       "9        0.010202  \n",
       "12       0.022160  \n",
       "15       0.022160  \n",
       "0        0.022160  \n",
       "29       0.027233  \n",
       "11       0.013338  \n",
       "8        0.060021  \n",
       "7        0.060021  \n",
       "6        0.060021  \n",
       "24       0.024258  \n",
       "25       0.024258  \n",
       "26       0.024258  \n",
       "22       0.002761  \n",
       "23       0.002761  \n",
       "5        0.002761  \n",
       "4        0.002761  \n",
       "3        0.002761  \n",
       "21       0.002761  "
      ]
     },
     "execution_count": 14,
     "metadata": {},
     "output_type": "execute_result"
    }
   ],
   "source": [
    "## Hyper-parameters grid search for Decision Tree\n",
    "\n",
    "hyp_dict = {\n",
    "    'criterion': ['gini', 'entropy'],\n",
    "    'min_impurity_decrease': [0, 1, 1e-1, 1e-2, 1e-3, 1e-4],\n",
    "    'min_samples_leaf': [1, 3, 5]\n",
    "}\n",
    "combinations = itertools.product(*(hyp_dict[key] for key in sorted(hyp_dict)))\n",
    "\n",
    "results = []\n",
    "\n",
    "for criterion, min_impurity_decrease, min_samples_leaf in combinations:\n",
    "    model = tree.DecisionTreeClassifier(\n",
    "        criterion=criterion,\n",
    "        min_impurity_decrease=min_impurity_decrease,\n",
    "        min_samples_leaf=min_samples_leaf,\n",
    "        random_state=0\n",
    "    )\n",
    "    mean_val_score, std_val_score = cross_validation_summary(model, x, y, 3)\n",
    "    res = criterion, min_impurity_decrease, min_samples_leaf, mean_val_score, std_val_score\n",
    "    results.append(res)\n",
    "\n",
    "decision_tree_results_df = pd.DataFrame(results, columns=['criterion', 'min_impurity_decrease', 'min_samples_leaf', 'mean_val_score', 'std_val_score'])\n",
    "decision_tree_results_df.sort_values('mean_val_score')"
   ]
  },
  {
   "cell_type": "code",
   "execution_count": 15,
   "metadata": {},
   "outputs": [
    {
     "data": {
      "text/html": [
       "<div>\n",
       "<style scoped>\n",
       "    .dataframe tbody tr th:only-of-type {\n",
       "        vertical-align: middle;\n",
       "    }\n",
       "\n",
       "    .dataframe tbody tr th {\n",
       "        vertical-align: top;\n",
       "    }\n",
       "\n",
       "    .dataframe thead th {\n",
       "        text-align: right;\n",
       "    }\n",
       "</style>\n",
       "<table border=\"1\" class=\"dataframe\">\n",
       "  <thead>\n",
       "    <tr style=\"text-align: right;\">\n",
       "      <th></th>\n",
       "      <th>min_impurity_decrease</th>\n",
       "      <th>min_samples_leaf</th>\n",
       "      <th>mean_val_score</th>\n",
       "      <th>std_val_score</th>\n",
       "    </tr>\n",
       "    <tr>\n",
       "      <th>criterion</th>\n",
       "      <th></th>\n",
       "      <th></th>\n",
       "      <th></th>\n",
       "      <th></th>\n",
       "    </tr>\n",
       "  </thead>\n",
       "  <tbody>\n",
       "    <tr>\n",
       "      <th>entropy</th>\n",
       "      <td>0.185183</td>\n",
       "      <td>3.0</td>\n",
       "      <td>0.158484</td>\n",
       "      <td>0.023269</td>\n",
       "    </tr>\n",
       "    <tr>\n",
       "      <th>gini</th>\n",
       "      <td>0.185183</td>\n",
       "      <td>3.0</td>\n",
       "      <td>0.143428</td>\n",
       "      <td>0.020688</td>\n",
       "    </tr>\n",
       "  </tbody>\n",
       "</table>\n",
       "</div>"
      ],
      "text/plain": [
       "           min_impurity_decrease  min_samples_leaf  mean_val_score  \\\n",
       "criterion                                                            \n",
       "entropy                 0.185183               3.0        0.158484   \n",
       "gini                    0.185183               3.0        0.143428   \n",
       "\n",
       "           std_val_score  \n",
       "criterion                 \n",
       "entropy         0.023269  \n",
       "gini            0.020688  "
      ]
     },
     "execution_count": 15,
     "metadata": {},
     "output_type": "execute_result"
    }
   ],
   "source": [
    "decision_tree_results_df.groupby('criterion').mean()"
   ]
  },
  {
   "cell_type": "code",
   "execution_count": 16,
   "metadata": {},
   "outputs": [
    {
     "data": {
      "text/plain": [
       "[Text(0.5, 0.875, 'item_count <= 768.5\\nentropy = 1.511\\nsamples = 626\\nvalue = [227, 277, 122]'),\n",
       " Text(0.25, 0.625, 'category_count <= 45.5\\nentropy = 1.111\\nsamples = 432\\nvalue = [226, 198, 8]'),\n",
       " Text(0.125, 0.375, 'natural_average_item_ranking <= 2.131\\nentropy = 0.842\\nsamples = 259\\nvalue = [189, 70, 0]'),\n",
       " Text(0.0625, 0.125, '\\n  (...)  \\n'),\n",
       " Text(0.1875, 0.125, '\\n  (...)  \\n'),\n",
       " Text(0.375, 0.375, 'natural_average_item_ranking <= 2.231\\nentropy = 1.003\\nsamples = 173\\nvalue = [37, 128, 8]'),\n",
       " Text(0.3125, 0.125, '\\n  (...)  \\n'),\n",
       " Text(0.4375, 0.125, '\\n  (...)  \\n'),\n",
       " Text(0.75, 0.625, 'max_item_dist_per_b <= 83.5\\nentropy = 1.018\\nsamples = 194\\nvalue = [1, 79, 114]'),\n",
       " Text(0.625, 0.375, 'natural_average_basket_ranking <= 4.473\\nentropy = 0.868\\nsamples = 64\\nvalue = [1, 49, 14]'),\n",
       " Text(0.5625, 0.125, '\\n  (...)  \\n'),\n",
       " Text(0.6875, 0.125, '\\n  (...)  \\n'),\n",
       " Text(0.875, 0.375, 'avg_baskets_per_d <= 1.292\\nentropy = 0.779\\nsamples = 130\\nvalue = [0, 30, 100]'),\n",
       " Text(0.8125, 0.125, '\\n  (...)  \\n'),\n",
       " Text(0.9375, 0.125, '\\n  (...)  \\n')]"
      ]
     },
     "execution_count": 16,
     "metadata": {},
     "output_type": "execute_result"
    },
    {
     "data": {
      "image/png": "[encoded data removed]",
      "text/plain": [
       "<Figure size 864x432 with 1 Axes>"
      ]
     },
     "metadata": {
      "needs_background": "light"
     },
     "output_type": "display_data"
    }
   ],
   "source": [
    "model = tree.DecisionTreeClassifier(criterion='entropy', min_impurity_decrease=0.01, min_samples_leaf=1, random_state=0)\n",
    "model.fit(x, y)\n",
    "plt.figure(figsize=(12, 6))\n",
    "tree.plot_tree(model, fontsize=10, max_depth=2, feature_names=train_x.columns)"
   ]
  },
  {
   "cell_type": "code",
   "execution_count": 17,
   "metadata": {},
   "outputs": [
    {
     "data": {
      "text/plain": [
       "natural_average_price_ranking     0.000000\n",
       "item_dist_count                   0.000000\n",
       "shop_entropy                      0.000000\n",
       "item_entropy                      0.000000\n",
       "avg_items_per_basket              0.008251\n",
       "basket_count                      0.009367\n",
       "total_price                       0.010163\n",
       "max_items_per_b                   0.020591\n",
       "natural_average_basket_ranking    0.023279\n",
       "shop_count                        0.039695\n",
       "avg_baskets_per_d                 0.043613\n",
       "price_entropy                     0.058477\n",
       "category_entropy                  0.069194\n",
       "max_item_dist_per_b               0.090137\n",
       "natural_average_item_ranking      0.120983\n",
       "category_count                    0.121619\n",
       "item_count                        0.384630\n",
       "dtype: float64"
      ]
     },
     "execution_count": 17,
     "metadata": {},
     "output_type": "execute_result"
    }
   ],
   "source": [
    "pd.Series(model.feature_importances_, index = train_x.columns).sort_values()"
   ]
  },
  {
   "cell_type": "markdown",
   "metadata": {},
   "source": [
    "# Ensembling"
   ]
  },
  {
   "cell_type": "code",
   "execution_count": 18,
   "metadata": {},
   "outputs": [],
   "source": [
    "def randomized_cv(model, random_grid, n_iter=100):\n",
    "    \"\"\"Perform hyper-parameters grid search and return best configuration.\"\"\"\n",
    "    rf_random = RandomizedSearchCV(estimator = model, param_distributions = random_grid, n_iter = n_iter, cv = 5, verbose=0, random_state=0, n_jobs = -1)\n",
    "\n",
    "    # Run grid search\n",
    "    rf_random.fit(x, y)\n",
    "    mean_acc, std_acc = cross_validation_summary(rf_random.best_estimator_, x, y, 5)\n",
    "\n",
    "    # Print configuration  and stats about best model\n",
    "    print(f'{rf_random.best_estimator_}\\n mean acc: {mean_acc:.3f}\\n std_acc: {std_acc:.3f}')"
   ]
  },
  {
   "cell_type": "markdown",
   "metadata": {},
   "source": [
    "## Random Forest"
   ]
  },
  {
   "cell_type": "code",
   "execution_count": 19,
   "metadata": {},
   "outputs": [
    {
     "ename": "KeyboardInterrupt",
     "evalue": "",
     "output_type": "error",
     "traceback": [
      "\u001b[0;31m---------------------------------------------------------------------------\u001b[0m",
      "\u001b[0;31mKeyboardInterrupt\u001b[0m                         Traceback (most recent call last)",
      "\u001b[1;32m/Users/hdjdox/Documents/e_education/magistrale/data_mining/dm-project/DM_DonatiFrancaviglia_TASK3/predictive_labelling.ipynb Cell 24\u001b[0m in \u001b[0;36m<cell line: 10>\u001b[0;34m()\u001b[0m\n\u001b[1;32m      <a href='vscode-notebook-cell:/Users/hdjdox/Documents/e_education/magistrale/data_mining/dm-project/DM_DonatiFrancaviglia_TASK3/predictive_labelling.ipynb#ch0000018?line=0'>1</a>\u001b[0m \u001b[39m# Perform the hyper-parameters grid-search on random forest\u001b[39;00m\n\u001b[1;32m      <a href='vscode-notebook-cell:/Users/hdjdox/Documents/e_education/magistrale/data_mining/dm-project/DM_DonatiFrancaviglia_TASK3/predictive_labelling.ipynb#ch0000018?line=1'>2</a>\u001b[0m random_grid \u001b[39m=\u001b[39m \u001b[39mdict\u001b[39m(\n\u001b[1;32m      <a href='vscode-notebook-cell:/Users/hdjdox/Documents/e_education/magistrale/data_mining/dm-project/DM_DonatiFrancaviglia_TASK3/predictive_labelling.ipynb#ch0000018?line=2'>3</a>\u001b[0m     n_estimators \u001b[39m=\u001b[39m np\u001b[39m.\u001b[39mlogspace(\u001b[39m1\u001b[39m, \u001b[39m2.5\u001b[39m, num\u001b[39m=\u001b[39m\u001b[39m10\u001b[39m)\u001b[39m.\u001b[39mastype(\u001b[39mint\u001b[39m)\u001b[39m.\u001b[39mtolist(),\n\u001b[1;32m      <a href='vscode-notebook-cell:/Users/hdjdox/Documents/e_education/magistrale/data_mining/dm-project/DM_DonatiFrancaviglia_TASK3/predictive_labelling.ipynb#ch0000018?line=3'>4</a>\u001b[0m     max_features \u001b[39m=\u001b[39m [\u001b[39m'\u001b[39m\u001b[39msqrt\u001b[39m\u001b[39m'\u001b[39m],\n\u001b[0;32m   (...)\u001b[0m\n\u001b[1;32m      <a href='vscode-notebook-cell:/Users/hdjdox/Documents/e_education/magistrale/data_mining/dm-project/DM_DonatiFrancaviglia_TASK3/predictive_labelling.ipynb#ch0000018?line=7'>8</a>\u001b[0m     bootstrap \u001b[39m=\u001b[39m [\u001b[39mTrue\u001b[39;00m, \u001b[39mFalse\u001b[39;00m]\n\u001b[1;32m      <a href='vscode-notebook-cell:/Users/hdjdox/Documents/e_education/magistrale/data_mining/dm-project/DM_DonatiFrancaviglia_TASK3/predictive_labelling.ipynb#ch0000018?line=8'>9</a>\u001b[0m )\n\u001b[0;32m---> <a href='vscode-notebook-cell:/Users/hdjdox/Documents/e_education/magistrale/data_mining/dm-project/DM_DonatiFrancaviglia_TASK3/predictive_labelling.ipynb#ch0000018?line=9'>10</a>\u001b[0m randomized_cv(\n\u001b[1;32m     <a href='vscode-notebook-cell:/Users/hdjdox/Documents/e_education/magistrale/data_mining/dm-project/DM_DonatiFrancaviglia_TASK3/predictive_labelling.ipynb#ch0000018?line=10'>11</a>\u001b[0m     model\u001b[39m=\u001b[39;49mRandomForestClassifier(random_state\u001b[39m=\u001b[39;49m\u001b[39m0\u001b[39;49m),\n\u001b[1;32m     <a href='vscode-notebook-cell:/Users/hdjdox/Documents/e_education/magistrale/data_mining/dm-project/DM_DonatiFrancaviglia_TASK3/predictive_labelling.ipynb#ch0000018?line=11'>12</a>\u001b[0m     random_grid\u001b[39m=\u001b[39;49mrandom_grid,\n\u001b[1;32m     <a href='vscode-notebook-cell:/Users/hdjdox/Documents/e_education/magistrale/data_mining/dm-project/DM_DonatiFrancaviglia_TASK3/predictive_labelling.ipynb#ch0000018?line=12'>13</a>\u001b[0m     n_iter\u001b[39m=\u001b[39;49m\u001b[39m1000\u001b[39;49m\n\u001b[1;32m     <a href='vscode-notebook-cell:/Users/hdjdox/Documents/e_education/magistrale/data_mining/dm-project/DM_DonatiFrancaviglia_TASK3/predictive_labelling.ipynb#ch0000018?line=13'>14</a>\u001b[0m )\n",
      "\u001b[1;32m/Users/hdjdox/Documents/e_education/magistrale/data_mining/dm-project/DM_DonatiFrancaviglia_TASK3/predictive_labelling.ipynb Cell 24\u001b[0m in \u001b[0;36mrandomized_cv\u001b[0;34m(model, random_grid, n_iter)\u001b[0m\n\u001b[1;32m      <a href='vscode-notebook-cell:/Users/hdjdox/Documents/e_education/magistrale/data_mining/dm-project/DM_DonatiFrancaviglia_TASK3/predictive_labelling.ipynb#ch0000018?line=2'>3</a>\u001b[0m rf_random \u001b[39m=\u001b[39m RandomizedSearchCV(estimator \u001b[39m=\u001b[39m model, param_distributions \u001b[39m=\u001b[39m random_grid, n_iter \u001b[39m=\u001b[39m n_iter, cv \u001b[39m=\u001b[39m \u001b[39m5\u001b[39m, verbose\u001b[39m=\u001b[39m\u001b[39m0\u001b[39m, random_state\u001b[39m=\u001b[39m\u001b[39m0\u001b[39m, n_jobs \u001b[39m=\u001b[39m \u001b[39m-\u001b[39m\u001b[39m1\u001b[39m)\n\u001b[1;32m      <a href='vscode-notebook-cell:/Users/hdjdox/Documents/e_education/magistrale/data_mining/dm-project/DM_DonatiFrancaviglia_TASK3/predictive_labelling.ipynb#ch0000018?line=4'>5</a>\u001b[0m \u001b[39m# Run grid search\u001b[39;00m\n\u001b[0;32m----> <a href='vscode-notebook-cell:/Users/hdjdox/Documents/e_education/magistrale/data_mining/dm-project/DM_DonatiFrancaviglia_TASK3/predictive_labelling.ipynb#ch0000018?line=5'>6</a>\u001b[0m rf_random\u001b[39m.\u001b[39;49mfit(x, y)\n\u001b[1;32m      <a href='vscode-notebook-cell:/Users/hdjdox/Documents/e_education/magistrale/data_mining/dm-project/DM_DonatiFrancaviglia_TASK3/predictive_labelling.ipynb#ch0000018?line=6'>7</a>\u001b[0m mean_acc, std_acc \u001b[39m=\u001b[39m cross_validation_summary(rf_random\u001b[39m.\u001b[39mbest_estimator_, x, y, \u001b[39m5\u001b[39m)\n\u001b[1;32m      <a href='vscode-notebook-cell:/Users/hdjdox/Documents/e_education/magistrale/data_mining/dm-project/DM_DonatiFrancaviglia_TASK3/predictive_labelling.ipynb#ch0000018?line=8'>9</a>\u001b[0m \u001b[39m# Print configuration  and stats about best model\u001b[39;00m\n",
      "File \u001b[0;32m~/Library/Python/3.8/lib/python/site-packages/sklearn/model_selection/_search.py:875\u001b[0m, in \u001b[0;36mBaseSearchCV.fit\u001b[0;34m(self, X, y, groups, **fit_params)\u001b[0m\n\u001b[1;32m    869\u001b[0m     results \u001b[39m=\u001b[39m \u001b[39mself\u001b[39m\u001b[39m.\u001b[39m_format_results(\n\u001b[1;32m    870\u001b[0m         all_candidate_params, n_splits, all_out, all_more_results\n\u001b[1;32m    871\u001b[0m     )\n\u001b[1;32m    873\u001b[0m     \u001b[39mreturn\u001b[39;00m results\n\u001b[0;32m--> 875\u001b[0m \u001b[39mself\u001b[39;49m\u001b[39m.\u001b[39;49m_run_search(evaluate_candidates)\n\u001b[1;32m    877\u001b[0m \u001b[39m# multimetric is determined here because in the case of a callable\u001b[39;00m\n\u001b[1;32m    878\u001b[0m \u001b[39m# self.scoring the return type is only known after calling\u001b[39;00m\n\u001b[1;32m    879\u001b[0m first_test_score \u001b[39m=\u001b[39m all_out[\u001b[39m0\u001b[39m][\u001b[39m\"\u001b[39m\u001b[39mtest_scores\u001b[39m\u001b[39m\"\u001b[39m]\n",
      "File \u001b[0;32m~/Library/Python/3.8/lib/python/site-packages/sklearn/model_selection/_search.py:1749\u001b[0m, in \u001b[0;36mRandomizedSearchCV._run_search\u001b[0;34m(self, evaluate_candidates)\u001b[0m\n\u001b[1;32m   1747\u001b[0m \u001b[39mdef\u001b[39;00m \u001b[39m_run_search\u001b[39m(\u001b[39mself\u001b[39m, evaluate_candidates):\n\u001b[1;32m   1748\u001b[0m     \u001b[39m\"\"\"Search n_iter candidates from param_distributions\"\"\"\u001b[39;00m\n\u001b[0;32m-> 1749\u001b[0m     evaluate_candidates(\n\u001b[1;32m   1750\u001b[0m         ParameterSampler(\n\u001b[1;32m   1751\u001b[0m             \u001b[39mself\u001b[39;49m\u001b[39m.\u001b[39;49mparam_distributions, \u001b[39mself\u001b[39;49m\u001b[39m.\u001b[39;49mn_iter, random_state\u001b[39m=\u001b[39;49m\u001b[39mself\u001b[39;49m\u001b[39m.\u001b[39;49mrandom_state\n\u001b[1;32m   1752\u001b[0m         )\n\u001b[1;32m   1753\u001b[0m     )\n",
      "File \u001b[0;32m~/Library/Python/3.8/lib/python/site-packages/sklearn/model_selection/_search.py:822\u001b[0m, in \u001b[0;36mBaseSearchCV.fit.<locals>.evaluate_candidates\u001b[0;34m(candidate_params, cv, more_results)\u001b[0m\n\u001b[1;32m    814\u001b[0m \u001b[39mif\u001b[39;00m \u001b[39mself\u001b[39m\u001b[39m.\u001b[39mverbose \u001b[39m>\u001b[39m \u001b[39m0\u001b[39m:\n\u001b[1;32m    815\u001b[0m     \u001b[39mprint\u001b[39m(\n\u001b[1;32m    816\u001b[0m         \u001b[39m\"\u001b[39m\u001b[39mFitting \u001b[39m\u001b[39m{0}\u001b[39;00m\u001b[39m folds for each of \u001b[39m\u001b[39m{1}\u001b[39;00m\u001b[39m candidates,\u001b[39m\u001b[39m\"\u001b[39m\n\u001b[1;32m    817\u001b[0m         \u001b[39m\"\u001b[39m\u001b[39m totalling \u001b[39m\u001b[39m{2}\u001b[39;00m\u001b[39m fits\u001b[39m\u001b[39m\"\u001b[39m\u001b[39m.\u001b[39mformat(\n\u001b[1;32m    818\u001b[0m             n_splits, n_candidates, n_candidates \u001b[39m*\u001b[39m n_splits\n\u001b[1;32m    819\u001b[0m         )\n\u001b[1;32m    820\u001b[0m     )\n\u001b[0;32m--> 822\u001b[0m out \u001b[39m=\u001b[39m parallel(\n\u001b[1;32m    823\u001b[0m     delayed(_fit_and_score)(\n\u001b[1;32m    824\u001b[0m         clone(base_estimator),\n\u001b[1;32m    825\u001b[0m         X,\n\u001b[1;32m    826\u001b[0m         y,\n\u001b[1;32m    827\u001b[0m         train\u001b[39m=\u001b[39;49mtrain,\n\u001b[1;32m    828\u001b[0m         test\u001b[39m=\u001b[39;49mtest,\n\u001b[1;32m    829\u001b[0m         parameters\u001b[39m=\u001b[39;49mparameters,\n\u001b[1;32m    830\u001b[0m         split_progress\u001b[39m=\u001b[39;49m(split_idx, n_splits),\n\u001b[1;32m    831\u001b[0m         candidate_progress\u001b[39m=\u001b[39;49m(cand_idx, n_candidates),\n\u001b[1;32m    832\u001b[0m         \u001b[39m*\u001b[39;49m\u001b[39m*\u001b[39;49mfit_and_score_kwargs,\n\u001b[1;32m    833\u001b[0m     )\n\u001b[1;32m    834\u001b[0m     \u001b[39mfor\u001b[39;49;00m (cand_idx, parameters), (split_idx, (train, test)) \u001b[39min\u001b[39;49;00m product(\n\u001b[1;32m    835\u001b[0m         \u001b[39menumerate\u001b[39;49m(candidate_params), \u001b[39menumerate\u001b[39;49m(cv\u001b[39m.\u001b[39;49msplit(X, y, groups))\n\u001b[1;32m    836\u001b[0m     )\n\u001b[1;32m    837\u001b[0m )\n\u001b[1;32m    839\u001b[0m \u001b[39mif\u001b[39;00m \u001b[39mlen\u001b[39m(out) \u001b[39m<\u001b[39m \u001b[39m1\u001b[39m:\n\u001b[1;32m    840\u001b[0m     \u001b[39mraise\u001b[39;00m \u001b[39mValueError\u001b[39;00m(\n\u001b[1;32m    841\u001b[0m         \u001b[39m\"\u001b[39m\u001b[39mNo fits were performed. \u001b[39m\u001b[39m\"\u001b[39m\n\u001b[1;32m    842\u001b[0m         \u001b[39m\"\u001b[39m\u001b[39mWas the CV iterator empty? \u001b[39m\u001b[39m\"\u001b[39m\n\u001b[1;32m    843\u001b[0m         \u001b[39m\"\u001b[39m\u001b[39mWere there no candidates?\u001b[39m\u001b[39m\"\u001b[39m\n\u001b[1;32m    844\u001b[0m     )\n",
      "File \u001b[0;32m~/Library/Python/3.8/lib/python/site-packages/joblib/parallel.py:1056\u001b[0m, in \u001b[0;36mParallel.__call__\u001b[0;34m(self, iterable)\u001b[0m\n\u001b[1;32m   1053\u001b[0m     \u001b[39mself\u001b[39m\u001b[39m.\u001b[39m_iterating \u001b[39m=\u001b[39m \u001b[39mFalse\u001b[39;00m\n\u001b[1;32m   1055\u001b[0m \u001b[39mwith\u001b[39;00m \u001b[39mself\u001b[39m\u001b[39m.\u001b[39m_backend\u001b[39m.\u001b[39mretrieval_context():\n\u001b[0;32m-> 1056\u001b[0m     \u001b[39mself\u001b[39;49m\u001b[39m.\u001b[39;49mretrieve()\n\u001b[1;32m   1057\u001b[0m \u001b[39m# Make sure that we get a last message telling us we are done\u001b[39;00m\n\u001b[1;32m   1058\u001b[0m elapsed_time \u001b[39m=\u001b[39m time\u001b[39m.\u001b[39mtime() \u001b[39m-\u001b[39m \u001b[39mself\u001b[39m\u001b[39m.\u001b[39m_start_time\n",
      "File \u001b[0;32m~/Library/Python/3.8/lib/python/site-packages/joblib/parallel.py:935\u001b[0m, in \u001b[0;36mParallel.retrieve\u001b[0;34m(self)\u001b[0m\n\u001b[1;32m    933\u001b[0m \u001b[39mtry\u001b[39;00m:\n\u001b[1;32m    934\u001b[0m     \u001b[39mif\u001b[39;00m \u001b[39mgetattr\u001b[39m(\u001b[39mself\u001b[39m\u001b[39m.\u001b[39m_backend, \u001b[39m'\u001b[39m\u001b[39msupports_timeout\u001b[39m\u001b[39m'\u001b[39m, \u001b[39mFalse\u001b[39;00m):\n\u001b[0;32m--> 935\u001b[0m         \u001b[39mself\u001b[39m\u001b[39m.\u001b[39m_output\u001b[39m.\u001b[39mextend(job\u001b[39m.\u001b[39;49mget(timeout\u001b[39m=\u001b[39;49m\u001b[39mself\u001b[39;49m\u001b[39m.\u001b[39;49mtimeout))\n\u001b[1;32m    936\u001b[0m     \u001b[39melse\u001b[39;00m:\n\u001b[1;32m    937\u001b[0m         \u001b[39mself\u001b[39m\u001b[39m.\u001b[39m_output\u001b[39m.\u001b[39mextend(job\u001b[39m.\u001b[39mget())\n",
      "File \u001b[0;32m~/Library/Python/3.8/lib/python/site-packages/joblib/_parallel_backends.py:542\u001b[0m, in \u001b[0;36mLokyBackend.wrap_future_result\u001b[0;34m(future, timeout)\u001b[0m\n\u001b[1;32m    539\u001b[0m \u001b[39m\"\"\"Wrapper for Future.result to implement the same behaviour as\u001b[39;00m\n\u001b[1;32m    540\u001b[0m \u001b[39mAsyncResults.get from multiprocessing.\"\"\"\u001b[39;00m\n\u001b[1;32m    541\u001b[0m \u001b[39mtry\u001b[39;00m:\n\u001b[0;32m--> 542\u001b[0m     \u001b[39mreturn\u001b[39;00m future\u001b[39m.\u001b[39;49mresult(timeout\u001b[39m=\u001b[39;49mtimeout)\n\u001b[1;32m    543\u001b[0m \u001b[39mexcept\u001b[39;00m CfTimeoutError \u001b[39mas\u001b[39;00m e:\n\u001b[1;32m    544\u001b[0m     \u001b[39mraise\u001b[39;00m \u001b[39mTimeoutError\u001b[39;00m \u001b[39mfrom\u001b[39;00m \u001b[39me\u001b[39;00m\n",
      "File \u001b[0;32m/Applications/Xcode.app/Contents/Developer/Library/Frameworks/Python3.framework/Versions/3.8/lib/python3.8/concurrent/futures/_base.py:439\u001b[0m, in \u001b[0;36mFuture.result\u001b[0;34m(self, timeout)\u001b[0m\n\u001b[1;32m    436\u001b[0m \u001b[39melif\u001b[39;00m \u001b[39mself\u001b[39m\u001b[39m.\u001b[39m_state \u001b[39m==\u001b[39m FINISHED:\n\u001b[1;32m    437\u001b[0m     \u001b[39mreturn\u001b[39;00m \u001b[39mself\u001b[39m\u001b[39m.\u001b[39m__get_result()\n\u001b[0;32m--> 439\u001b[0m \u001b[39mself\u001b[39;49m\u001b[39m.\u001b[39;49m_condition\u001b[39m.\u001b[39;49mwait(timeout)\n\u001b[1;32m    441\u001b[0m \u001b[39mif\u001b[39;00m \u001b[39mself\u001b[39m\u001b[39m.\u001b[39m_state \u001b[39min\u001b[39;00m [CANCELLED, CANCELLED_AND_NOTIFIED]:\n\u001b[1;32m    442\u001b[0m     \u001b[39mraise\u001b[39;00m CancelledError()\n",
      "File \u001b[0;32m/Applications/Xcode.app/Contents/Developer/Library/Frameworks/Python3.framework/Versions/3.8/lib/python3.8/threading.py:302\u001b[0m, in \u001b[0;36mCondition.wait\u001b[0;34m(self, timeout)\u001b[0m\n\u001b[1;32m    300\u001b[0m \u001b[39mtry\u001b[39;00m:    \u001b[39m# restore state no matter what (e.g., KeyboardInterrupt)\u001b[39;00m\n\u001b[1;32m    301\u001b[0m     \u001b[39mif\u001b[39;00m timeout \u001b[39mis\u001b[39;00m \u001b[39mNone\u001b[39;00m:\n\u001b[0;32m--> 302\u001b[0m         waiter\u001b[39m.\u001b[39;49macquire()\n\u001b[1;32m    303\u001b[0m         gotit \u001b[39m=\u001b[39m \u001b[39mTrue\u001b[39;00m\n\u001b[1;32m    304\u001b[0m     \u001b[39melse\u001b[39;00m:\n",
      "\u001b[0;31mKeyboardInterrupt\u001b[0m: "
     ]
    }
   ],
   "source": [
    "# Perform the hyper-parameters grid-search on random forest\n",
    "random_grid = dict(\n",
    "    n_estimators = np.logspace(1, 2.5, num=10).astype(int).tolist(),\n",
    "    max_features = ['sqrt'],\n",
    "    max_depth = [None] + np.logspace(0.5, 2, num=9).astype(int).tolist(),\n",
    "    min_samples_split = [2, 5, 10],\n",
    "    min_samples_leaf = [1, 2, 4],\n",
    "    bootstrap = [True, False]\n",
    ")\n",
    "randomized_cv(\n",
    "    model=RandomForestClassifier(random_state=0),\n",
    "    random_grid=random_grid,\n",
    "    n_iter=1000\n",
    ")"
   ]
  }
 ],
 "metadata": {
  "kernelspec": {
   "display_name": "Python 3.8.9 64-bit",
   "language": "python",
   "name": "python3"
  },
  "language_info": {
   "codemirror_mode": {
    "name": "ipython",
    "version": 3
   },
   "file_extension": ".py",
   "mimetype": "text/x-python",
   "name": "python",
   "nbconvert_exporter": "python",
   "pygments_lexer": "ipython3",
   "version": "3.8.9"
  },
  "orig_nbformat": 4,
  "vscode": {
   "interpreter": {
    "hash": "31f2aee4e71d21fbe5cf8b01ff0e069b9275f58929596ceb00d14d90e3e16cd6"
   }
  }
 },
 "nbformat": 4,
 "nbformat_minor": 2
}
