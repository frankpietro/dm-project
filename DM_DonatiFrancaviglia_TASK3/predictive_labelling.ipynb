{
 "cells": [
  {
   "cell_type": "markdown",
   "id": "07b99d6b",
   "metadata": {},
   "source": [
    "# Data Mining Project\n",
    "### Giorgio Donati, g.donati24@studenti.unipi.it\n",
    "### Pietro Francaviglia, p.francaviglia1@studenti.unipi.it\n",
    "#### A.Y. 2021-2022\n"
   ]
  },
  {
   "cell_type": "markdown",
   "id": "6defe5e4",
   "metadata": {},
   "source": [
    "## Libraries and datasets"
   ]
  },
  {
   "cell_type": "code",
   "execution_count": 52,
   "id": "d45a9a1e",
   "metadata": {},
   "outputs": [],
   "source": [
    "import pandas as pd\n",
    "import matplotlib.pyplot as plt\n",
    "import seaborn as sns\n",
    "import pickle\n",
    "import itertools\n",
    "from sklearn import tree\n",
    "from sklearn.model_selection import StratifiedKFold\n",
    "from sklearn.model_selection import train_test_split\n",
    "\n",
    "from t3_constants import *\n",
    "from t3_utility import *"
   ]
  },
  {
   "cell_type": "code",
   "execution_count": 53,
   "metadata": {},
   "outputs": [],
   "source": [
    "with open(f'{PICKLE_FOLDER}{LABELLED}{USER_DF}.pkl', 'rb') as f:\n",
    "    u_df = pickle.load(f)\n",
    "\n",
    "with open(f'{PICKLE_FOLDER}{PURE}{LABELLED}{USER_DF}.pkl', 'rb') as f:\n",
    "    pure_u_df = pickle.load(f)"
   ]
  },
  {
   "cell_type": "code",
   "execution_count": 54,
   "metadata": {},
   "outputs": [
    {
     "name": "stdout",
     "output_type": "stream",
     "text": [
      "<class 'pandas.core.frame.DataFrame'>\n",
      "Int64Index: 795 entries, 1 to 823\n",
      "Data columns (total 12 columns):\n",
      " #   Column                Non-Null Count  Dtype  \n",
      "---  ------                --------------  -----  \n",
      " 0   item_count            795 non-null    int64  \n",
      " 1   item_dist_count       795 non-null    int64  \n",
      " 2   max_items_per_b       795 non-null    int64  \n",
      " 3   price_entropy         795 non-null    float64\n",
      " 4   max_item_dist_per_b   795 non-null    int64  \n",
      " 5   total_price           795 non-null    float64\n",
      " 6   basket_count          795 non-null    int64  \n",
      " 7   category_count        795 non-null    int64  \n",
      " 8   shop_count            795 non-null    int64  \n",
      " 9   avg_items_per_basket  795 non-null    float64\n",
      " 10  avg_baskets_per_d     795 non-null    float64\n",
      " 11  label                 754 non-null    object \n",
      "dtypes: float64(4), int64(7), object(1)\n",
      "memory usage: 80.7+ KB\n"
     ]
    }
   ],
   "source": [
    "u_df.info()"
   ]
  },
  {
   "cell_type": "code",
   "execution_count": 55,
   "metadata": {},
   "outputs": [
    {
     "data": {
      "text/plain": [
       "array([2, 2, 5, 1, 1, 1, 3, 1, 0, 3, 3, 4, 4, 7, 5, 5, 4, 4, 8, 0, 3, 3,\n",
       "       0, 1, 1, 0, 9, 3, 0, 4, 6, 1, 1, 3, 2, 2, 2, 0, 2, 4, 0, 1, 1, 0,\n",
       "       0, 0, 2, 2, 2, 4, 1, 7, 2, 2, 3, 1, 6, 1, 2, 3, 0, 5, 0, 5, 7, 2,\n",
       "       2, 2, 0, 0, 0, 7, 1, 3, 1, 5, 1, 3, 2, 0, 5, 3, 8, 4, 4, 1, 2, 3,\n",
       "       0, 2, 5, 2, 2, 4, 0, 3, 6, 5, 8, 3, 0, 7, 3, 2, 1, 4, 1, 5, 3, 5,\n",
       "       0, 3, 3, 1, 5, 7, 4, 0, 3, 4, 4, 2, 5, 6, 1, 3, 0, 0, 5, 5, 1, 2,\n",
       "       3, 2, 3, 1, 5, 4, 2, 5, 5, 2, 2, 0, 5, 1, 5, 3, 5, 2, 3, 6, 2, 4,\n",
       "       1, 1, 0, 1, 0, 1, 5, 1, 4, 4, 3, 5, 2, 0, 1, 1, 3, 6, 3, 2, 5, 3,\n",
       "       5, 5, 4, 3, 0, 5, 2, 3, 1, 9, 3, 5, 0, 1, 1, 0, 4, 3, 0, 2, 0, 0,\n",
       "       3, 1, 1, 5, 1, 1, 3, 5, 3, 0, 3, 4, 5, 1, 5, 4, 4, 0, 6, 1, 1, 2,\n",
       "       0, 2, 4, 5, 3, 4, 5, 0, 4, 1, 3, 2, 4, 5, 4, 2, 5, 1, 1, 4, 2, 0,\n",
       "       7, 2, 2, 0, 3, 3, 2, 2, 3, 0, 3, 6, 0, 2, 1, 4, 2, 2, 1, 0, 1, 0,\n",
       "       5, 4, 4, 5, 2, 1, 2, 4, 1, 2, 1, 4, 4, 4, 1, 6, 2, 5, 2, 0, 0, 3,\n",
       "       2, 4, 0, 4, 5, 1, 2, 5, 4, 5, 4, 0, 1, 4, 1, 1, 7, 2, 4, 3, 7, 3,\n",
       "       3, 4, 1, 5, 1, 6, 6, 0, 0, 5, 3, 3, 5, 2, 4, 4, 3, 0, 2, 3, 6, 4,\n",
       "       2, 6, 0, 2, 4, 5, 0, 2, 0, 2, 0, 4, 3, 2, 4, 4, 0, 1, 0, 3, 1, 5,\n",
       "       9, 5, 0, 1, 1, 4, 2, 5, 1, 0, 0, 4, 4, 3, 3, 1, 0, 1, 4, 0, 1, 6,\n",
       "       1, 3, 3, 0, 5, 3, 4, 5, 1, 1, 3, 7, 0, 4, 5, 5, 4, 2, 3, 4, 3, 1,\n",
       "       2, 5, 4, 8, 3, 4, 3, 0, 2, 2, 1, 0, 1, 7, 3, 2, 2, 2, 3, 0, 1, 0,\n",
       "       2, 0, 3, 5, 5, 7, 1, 3, 3, 4, 0, 3, 2, 0, 2, 0, 4, 5, 3, 4, 4, 4,\n",
       "       1, 5, 5, 0, 1, 5, 4, 4, 4, 5, 0, 3, 0, 5, 1, 0, 4, 1, 3, 2, 0, 3,\n",
       "       5, 5, 2, 6, 0, 1, 0, 2, 6, 3, 2, 1, 4, 6, 5, 2, 4, 1, 2, 5, 2, 5,\n",
       "       0, 5, 3, 5, 1, 2, 5, 1, 2, 2, 3, 4, 5, 0, 3, 0, 5, 3, 5, 0, 2, 2,\n",
       "       1, 3, 0, 4, 3, 4, 3, 3, 0, 0, 0, 2, 3, 4, 0, 2, 3, 1, 3, 1, 0, 4,\n",
       "       2, 3, 0, 3, 0, 0, 3, 6, 2, 2, 8, 7, 0, 2, 1, 1, 4, 0, 1, 4, 1, 0,\n",
       "       3, 1, 7, 4, 4, 4, 1, 0, 1, 7, 8, 2, 1, 2, 2, 2, 3, 1, 1, 2, 3, 0,\n",
       "       0, 1, 4, 4, 4, 0, 2, 7, 1, 7, 5, 4, 3, 9, 1, 2, 1, 4, 4, 2, 1, 4,\n",
       "       3, 5, 1, 0, 5, 2, 0, 7, 5])"
      ]
     },
     "execution_count": 55,
     "metadata": {},
     "output_type": "execute_result"
    }
   ],
   "source": [
    "train_x, test_x, train_y, test_y = train_test_split(\n",
    "    u_df[u_df[LAB].notna()].drop(columns=[LAB]),\n",
    "    u_df[u_df[LAB].notna()][LAB],\n",
    "    test_size=0.2,\n",
    "    stratify=u_df[u_df[LAB].notna()][LAB])\n",
    "x = train_x.values\n",
    "y = train_y.values.ravel().astype(int)\n",
    "y"
   ]
  },
  {
   "cell_type": "code",
   "execution_count": 56,
   "metadata": {},
   "outputs": [],
   "source": [
    "def cross_validation(model, X: np.ndarray, y: np.ndarray, n_splits: int) -> np.ndarray:\n",
    "    \"\"\"Return validation scores across the k folds of cross-validation.\"\"\"\n",
    "    skf = StratifiedKFold(n_splits=n_splits, random_state=0, shuffle=True)\n",
    "    val_score = []\n",
    "    for train_index, test_index in skf.split(X, y):\n",
    "        model.fit(X[train_index], y[train_index].ravel())\n",
    "        val_score.append(model.score(X[test_index], y[test_index].ravel() + 1))\n",
    "    return np.array(val_score)\n",
    "\n",
    "def cross_validation_summary(model, X: np.ndarray, y: np.ndarray, n_splits: int) -> np.ndarray:\n",
    "    \"\"\"Returns validation accuracy score of model (mean and std over all the splits).\"\"\"\n",
    "    val_score = cross_validation(model, X, y, n_splits)\n",
    "    return val_score.mean(), val_score.std()\n"
   ]
  },
  {
   "cell_type": "code",
   "execution_count": 57,
   "metadata": {},
   "outputs": [
    {
     "name": "stderr",
     "output_type": "stream",
     "text": [
      "/Users/hdjdox/Library/Python/3.8/lib/python/site-packages/sklearn/model_selection/_split.py:680: UserWarning: The least populated class in y has only 4 members, which is less than n_splits=5.\n",
      "  warnings.warn(\n",
      "/Users/hdjdox/Library/Python/3.8/lib/python/site-packages/sklearn/model_selection/_split.py:680: UserWarning: The least populated class in y has only 4 members, which is less than n_splits=5.\n",
      "  warnings.warn(\n",
      "/Users/hdjdox/Library/Python/3.8/lib/python/site-packages/sklearn/model_selection/_split.py:680: UserWarning: The least populated class in y has only 4 members, which is less than n_splits=5.\n",
      "  warnings.warn(\n",
      "/Users/hdjdox/Library/Python/3.8/lib/python/site-packages/sklearn/model_selection/_split.py:680: UserWarning: The least populated class in y has only 4 members, which is less than n_splits=5.\n",
      "  warnings.warn(\n",
      "/Users/hdjdox/Library/Python/3.8/lib/python/site-packages/sklearn/model_selection/_split.py:680: UserWarning: The least populated class in y has only 4 members, which is less than n_splits=5.\n",
      "  warnings.warn(\n",
      "/Users/hdjdox/Library/Python/3.8/lib/python/site-packages/sklearn/model_selection/_split.py:680: UserWarning: The least populated class in y has only 4 members, which is less than n_splits=5.\n",
      "  warnings.warn(\n",
      "/Users/hdjdox/Library/Python/3.8/lib/python/site-packages/sklearn/model_selection/_split.py:680: UserWarning: The least populated class in y has only 4 members, which is less than n_splits=5.\n",
      "  warnings.warn(\n",
      "/Users/hdjdox/Library/Python/3.8/lib/python/site-packages/sklearn/model_selection/_split.py:680: UserWarning: The least populated class in y has only 4 members, which is less than n_splits=5.\n",
      "  warnings.warn(\n",
      "/Users/hdjdox/Library/Python/3.8/lib/python/site-packages/sklearn/model_selection/_split.py:680: UserWarning: The least populated class in y has only 4 members, which is less than n_splits=5.\n",
      "  warnings.warn(\n",
      "/Users/hdjdox/Library/Python/3.8/lib/python/site-packages/sklearn/model_selection/_split.py:680: UserWarning: The least populated class in y has only 4 members, which is less than n_splits=5.\n",
      "  warnings.warn(\n",
      "/Users/hdjdox/Library/Python/3.8/lib/python/site-packages/sklearn/model_selection/_split.py:680: UserWarning: The least populated class in y has only 4 members, which is less than n_splits=5.\n",
      "  warnings.warn(\n",
      "/Users/hdjdox/Library/Python/3.8/lib/python/site-packages/sklearn/model_selection/_split.py:680: UserWarning: The least populated class in y has only 4 members, which is less than n_splits=5.\n",
      "  warnings.warn(\n",
      "/Users/hdjdox/Library/Python/3.8/lib/python/site-packages/sklearn/model_selection/_split.py:680: UserWarning: The least populated class in y has only 4 members, which is less than n_splits=5.\n",
      "  warnings.warn(\n",
      "/Users/hdjdox/Library/Python/3.8/lib/python/site-packages/sklearn/model_selection/_split.py:680: UserWarning: The least populated class in y has only 4 members, which is less than n_splits=5.\n",
      "  warnings.warn(\n",
      "/Users/hdjdox/Library/Python/3.8/lib/python/site-packages/sklearn/model_selection/_split.py:680: UserWarning: The least populated class in y has only 4 members, which is less than n_splits=5.\n",
      "  warnings.warn(\n",
      "/Users/hdjdox/Library/Python/3.8/lib/python/site-packages/sklearn/model_selection/_split.py:680: UserWarning: The least populated class in y has only 4 members, which is less than n_splits=5.\n",
      "  warnings.warn(\n",
      "/Users/hdjdox/Library/Python/3.8/lib/python/site-packages/sklearn/model_selection/_split.py:680: UserWarning: The least populated class in y has only 4 members, which is less than n_splits=5.\n",
      "  warnings.warn(\n",
      "/Users/hdjdox/Library/Python/3.8/lib/python/site-packages/sklearn/model_selection/_split.py:680: UserWarning: The least populated class in y has only 4 members, which is less than n_splits=5.\n",
      "  warnings.warn(\n",
      "/Users/hdjdox/Library/Python/3.8/lib/python/site-packages/sklearn/model_selection/_split.py:680: UserWarning: The least populated class in y has only 4 members, which is less than n_splits=5.\n",
      "  warnings.warn(\n",
      "/Users/hdjdox/Library/Python/3.8/lib/python/site-packages/sklearn/model_selection/_split.py:680: UserWarning: The least populated class in y has only 4 members, which is less than n_splits=5.\n",
      "  warnings.warn(\n",
      "/Users/hdjdox/Library/Python/3.8/lib/python/site-packages/sklearn/model_selection/_split.py:680: UserWarning: The least populated class in y has only 4 members, which is less than n_splits=5.\n",
      "  warnings.warn(\n",
      "/Users/hdjdox/Library/Python/3.8/lib/python/site-packages/sklearn/model_selection/_split.py:680: UserWarning: The least populated class in y has only 4 members, which is less than n_splits=5.\n",
      "  warnings.warn(\n",
      "/Users/hdjdox/Library/Python/3.8/lib/python/site-packages/sklearn/model_selection/_split.py:680: UserWarning: The least populated class in y has only 4 members, which is less than n_splits=5.\n",
      "  warnings.warn(\n",
      "/Users/hdjdox/Library/Python/3.8/lib/python/site-packages/sklearn/model_selection/_split.py:680: UserWarning: The least populated class in y has only 4 members, which is less than n_splits=5.\n",
      "  warnings.warn(\n",
      "/Users/hdjdox/Library/Python/3.8/lib/python/site-packages/sklearn/model_selection/_split.py:680: UserWarning: The least populated class in y has only 4 members, which is less than n_splits=5.\n",
      "  warnings.warn(\n",
      "/Users/hdjdox/Library/Python/3.8/lib/python/site-packages/sklearn/model_selection/_split.py:680: UserWarning: The least populated class in y has only 4 members, which is less than n_splits=5.\n",
      "  warnings.warn(\n",
      "/Users/hdjdox/Library/Python/3.8/lib/python/site-packages/sklearn/model_selection/_split.py:680: UserWarning: The least populated class in y has only 4 members, which is less than n_splits=5.\n",
      "  warnings.warn(\n",
      "/Users/hdjdox/Library/Python/3.8/lib/python/site-packages/sklearn/model_selection/_split.py:680: UserWarning: The least populated class in y has only 4 members, which is less than n_splits=5.\n",
      "  warnings.warn(\n",
      "/Users/hdjdox/Library/Python/3.8/lib/python/site-packages/sklearn/model_selection/_split.py:680: UserWarning: The least populated class in y has only 4 members, which is less than n_splits=5.\n",
      "  warnings.warn(\n",
      "/Users/hdjdox/Library/Python/3.8/lib/python/site-packages/sklearn/model_selection/_split.py:680: UserWarning: The least populated class in y has only 4 members, which is less than n_splits=5.\n",
      "  warnings.warn(\n",
      "/Users/hdjdox/Library/Python/3.8/lib/python/site-packages/sklearn/model_selection/_split.py:680: UserWarning: The least populated class in y has only 4 members, which is less than n_splits=5.\n",
      "  warnings.warn(\n",
      "/Users/hdjdox/Library/Python/3.8/lib/python/site-packages/sklearn/model_selection/_split.py:680: UserWarning: The least populated class in y has only 4 members, which is less than n_splits=5.\n",
      "  warnings.warn(\n",
      "/Users/hdjdox/Library/Python/3.8/lib/python/site-packages/sklearn/model_selection/_split.py:680: UserWarning: The least populated class in y has only 4 members, which is less than n_splits=5.\n",
      "  warnings.warn(\n",
      "/Users/hdjdox/Library/Python/3.8/lib/python/site-packages/sklearn/model_selection/_split.py:680: UserWarning: The least populated class in y has only 4 members, which is less than n_splits=5.\n",
      "  warnings.warn(\n",
      "/Users/hdjdox/Library/Python/3.8/lib/python/site-packages/sklearn/model_selection/_split.py:680: UserWarning: The least populated class in y has only 4 members, which is less than n_splits=5.\n",
      "  warnings.warn(\n",
      "/Users/hdjdox/Library/Python/3.8/lib/python/site-packages/sklearn/model_selection/_split.py:680: UserWarning: The least populated class in y has only 4 members, which is less than n_splits=5.\n",
      "  warnings.warn(\n"
     ]
    },
    {
     "data": {
      "text/html": [
       "<div>\n",
       "<style scoped>\n",
       "    .dataframe tbody tr th:only-of-type {\n",
       "        vertical-align: middle;\n",
       "    }\n",
       "\n",
       "    .dataframe tbody tr th {\n",
       "        vertical-align: top;\n",
       "    }\n",
       "\n",
       "    .dataframe thead th {\n",
       "        text-align: right;\n",
       "    }\n",
       "</style>\n",
       "<table border=\"1\" class=\"dataframe\">\n",
       "  <thead>\n",
       "    <tr style=\"text-align: right;\">\n",
       "      <th></th>\n",
       "      <th>criterion</th>\n",
       "      <th>min_impurity_decrease</th>\n",
       "      <th>min_samples_leaf</th>\n",
       "      <th>mean_val_score</th>\n",
       "      <th>std_val_score</th>\n",
       "    </tr>\n",
       "  </thead>\n",
       "  <tbody>\n",
       "    <tr>\n",
       "      <th>12</th>\n",
       "      <td>gini</td>\n",
       "      <td>0.001</td>\n",
       "      <td>1</td>\n",
       "      <td>0.139284</td>\n",
       "      <td>0.019799</td>\n",
       "    </tr>\n",
       "  </tbody>\n",
       "</table>\n",
       "</div>"
      ],
      "text/plain": [
       "   criterion  min_impurity_decrease  min_samples_leaf  mean_val_score  \\\n",
       "12      gini                  0.001                 1        0.139284   \n",
       "\n",
       "    std_val_score  \n",
       "12       0.019799  "
      ]
     },
     "execution_count": 57,
     "metadata": {},
     "output_type": "execute_result"
    }
   ],
   "source": [
    "## Hyper-parameters grid search for Decision Tree\n",
    "\n",
    "hyp_dict = {\n",
    "    'criterion': ['gini', 'entropy'],\n",
    "    'min_impurity_decrease': [0, 1, 1e-1, 1e-2, 1e-3, 1e-4],\n",
    "    'min_samples_leaf': [1, 3, 5]\n",
    "}\n",
    "combinations = itertools.product(*(hyp_dict[key] for key in sorted(hyp_dict)))\n",
    "\n",
    "results = []\n",
    "\n",
    "for criterion, min_impurity_decrease, min_samples_leaf in combinations:\n",
    "    model = tree.DecisionTreeClassifier(\n",
    "        criterion=criterion,\n",
    "        min_impurity_decrease=min_impurity_decrease,\n",
    "        min_samples_leaf=min_samples_leaf,\n",
    "        random_state=0\n",
    "    )\n",
    "    mean_val_score, std_val_score = cross_validation_summary(model, x, y, 5)\n",
    "    res = criterion, min_impurity_decrease, min_samples_leaf, mean_val_score, std_val_score\n",
    "    results.append(res)\n",
    "\n",
    "decision_tree_results_df = pd.DataFrame(results, columns=['criterion', 'min_impurity_decrease', 'min_samples_leaf', 'mean_val_score', 'std_val_score'])\n",
    "decision_tree_results_df.sort_values('mean_val_score').tail(1)"
   ]
  }
 ],
 "metadata": {
  "kernelspec": {
   "display_name": "Python 3.8.9 64-bit",
   "language": "python",
   "name": "python3"
  },
  "language_info": {
   "codemirror_mode": {
    "name": "ipython",
    "version": 3
   },
   "file_extension": ".py",
   "mimetype": "text/x-python",
   "name": "python",
   "nbconvert_exporter": "python",
   "pygments_lexer": "ipython3",
   "version": "3.8.9"
  },
  "orig_nbformat": 4,
  "vscode": {
   "interpreter": {
    "hash": "31f2aee4e71d21fbe5cf8b01ff0e069b9275f58929596ceb00d14d90e3e16cd6"
   }
  }
 },
 "nbformat": 4,
 "nbformat_minor": 2
}
