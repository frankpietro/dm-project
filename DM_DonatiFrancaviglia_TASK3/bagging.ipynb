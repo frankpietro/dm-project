{
 "cells": [
  {
   "cell_type": "markdown",
   "id": "07b99d6b",
   "metadata": {},
   "source": [
    "# Data Mining Project\n",
    "### Giorgio Donati, g.donati24@studenti.unipi.it\n",
    "### Pietro Francaviglia, p.francaviglia1@studenti.unipi.it\n",
    "#### A.Y. 2021-2022\n"
   ]
  },
  {
   "cell_type": "markdown",
   "id": "6defe5e4",
   "metadata": {},
   "source": [
    "## Libraries and datasets"
   ]
  },
  {
   "cell_type": "code",
   "execution_count": 1,
   "id": "d45a9a1e",
   "metadata": {},
   "outputs": [],
   "source": [
    "from sklearn.ensemble import BaggingClassifier\n",
    "from sklearn import tree\n",
    "\n",
    "from t3_constants import *\n",
    "from t3_utility import *"
   ]
  },
  {
   "cell_type": "markdown",
   "metadata": {},
   "source": [
    "# Bagging\n",
    "## Training"
   ]
  },
  {
   "cell_type": "code",
   "execution_count": 2,
   "metadata": {},
   "outputs": [],
   "source": [
    "with open(f'{PICKLE_FOLDER}{TRAIN}{X}.pkl', 'rb') as f:\n",
    "    train_x = pickle.load(f)\n",
    "with open(f'{PICKLE_FOLDER}{TRAIN}{Y}.pkl', 'rb') as f:\n",
    "    train_y = pickle.load(f)"
   ]
  },
  {
   "cell_type": "code",
   "execution_count": 3,
   "metadata": {},
   "outputs": [],
   "source": [
    "# parameters dictionary for Bagging grid search\n",
    "param_d = {\n",
    "    CRT: ['gini', 'entropy'],\n",
    "    MSL : range(1,6),\n",
    "    NEST: np.logspace(1, 2.5, num=10).astype(int).tolist()\n",
    "}\n",
    "\n",
    "# iteration on parameters to collect results\n",
    "combinations = itertools.product(*(param_d[key] for key in sorted(param_d)))\n",
    "\n",
    "results = []\n",
    "\n",
    "for criterion, min_samples_leaf, n_estimators in combinations:\n",
    "    model = BaggingClassifier(\n",
    "        base_estimator=tree.DecisionTreeClassifier(criterion=criterion, min_samples_leaf=min_samples_leaf),\n",
    "        n_estimators=n_estimators\n",
    "    )\n",
    "    \n",
    "    mean_val_score, std_val_score = cross_validation_summary(model, train_x.values, train_y.values)\n",
    "    res = criterion, min_samples_leaf, n_estimators, mean_val_score, std_val_score\n",
    "    results.append(res)\n",
    "\n",
    "# print top 5 combination results\n",
    "bagging_results_df = pd.DataFrame(results, columns=sorted(param_d)+[MVS, SVS])"
   ]
  },
  {
   "cell_type": "code",
   "execution_count": 11,
   "metadata": {},
   "outputs": [
    {
     "data": {
      "text/html": [
       "<div>\n",
       "<style scoped>\n",
       "    .dataframe tbody tr th:only-of-type {\n",
       "        vertical-align: middle;\n",
       "    }\n",
       "\n",
       "    .dataframe tbody tr th {\n",
       "        vertical-align: top;\n",
       "    }\n",
       "\n",
       "    .dataframe thead th {\n",
       "        text-align: right;\n",
       "    }\n",
       "</style>\n",
       "<table border=\"1\" class=\"dataframe\">\n",
       "  <thead>\n",
       "    <tr style=\"text-align: right;\">\n",
       "      <th></th>\n",
       "      <th>criterion</th>\n",
       "      <th>min_samples_leaf</th>\n",
       "      <th>n_estimators</th>\n",
       "      <th>mean_val_score</th>\n",
       "      <th>std_val_score</th>\n",
       "    </tr>\n",
       "  </thead>\n",
       "  <tbody>\n",
       "    <tr>\n",
       "      <th>65</th>\n",
       "      <td>entropy</td>\n",
       "      <td>2</td>\n",
       "      <td>68</td>\n",
       "      <td>0.878514</td>\n",
       "      <td>0.028100</td>\n",
       "    </tr>\n",
       "    <tr>\n",
       "      <th>8</th>\n",
       "      <td>gini</td>\n",
       "      <td>1</td>\n",
       "      <td>215</td>\n",
       "      <td>0.876914</td>\n",
       "      <td>0.039536</td>\n",
       "    </tr>\n",
       "    <tr>\n",
       "      <th>64</th>\n",
       "      <td>entropy</td>\n",
       "      <td>2</td>\n",
       "      <td>46</td>\n",
       "      <td>0.875340</td>\n",
       "      <td>0.029935</td>\n",
       "    </tr>\n",
       "    <tr>\n",
       "      <th>59</th>\n",
       "      <td>entropy</td>\n",
       "      <td>1</td>\n",
       "      <td>316</td>\n",
       "      <td>0.875327</td>\n",
       "      <td>0.025322</td>\n",
       "    </tr>\n",
       "    <tr>\n",
       "      <th>7</th>\n",
       "      <td>gini</td>\n",
       "      <td>1</td>\n",
       "      <td>146</td>\n",
       "      <td>0.875302</td>\n",
       "      <td>0.048022</td>\n",
       "    </tr>\n",
       "    <tr>\n",
       "      <th>6</th>\n",
       "      <td>gini</td>\n",
       "      <td>1</td>\n",
       "      <td>100</td>\n",
       "      <td>0.873752</td>\n",
       "      <td>0.028064</td>\n",
       "    </tr>\n",
       "    <tr>\n",
       "      <th>51</th>\n",
       "      <td>entropy</td>\n",
       "      <td>1</td>\n",
       "      <td>14</td>\n",
       "      <td>0.873752</td>\n",
       "      <td>0.017355</td>\n",
       "    </tr>\n",
       "    <tr>\n",
       "      <th>14</th>\n",
       "      <td>gini</td>\n",
       "      <td>2</td>\n",
       "      <td>46</td>\n",
       "      <td>0.873740</td>\n",
       "      <td>0.032721</td>\n",
       "    </tr>\n",
       "  </tbody>\n",
       "</table>\n",
       "</div>"
      ],
      "text/plain": [
       "   criterion  min_samples_leaf  n_estimators  mean_val_score  std_val_score\n",
       "65   entropy                 2            68        0.878514       0.028100\n",
       "8       gini                 1           215        0.876914       0.039536\n",
       "64   entropy                 2            46        0.875340       0.029935\n",
       "59   entropy                 1           316        0.875327       0.025322\n",
       "7       gini                 1           146        0.875302       0.048022\n",
       "6       gini                 1           100        0.873752       0.028064\n",
       "51   entropy                 1            14        0.873752       0.017355\n",
       "14      gini                 2            46        0.873740       0.032721"
      ]
     },
     "execution_count": 11,
     "metadata": {},
     "output_type": "execute_result"
    }
   ],
   "source": [
    "bagging_results_df.sort_values(MVS, ascending = False).head(8)"
   ]
  },
  {
   "cell_type": "code",
   "execution_count": 5,
   "metadata": {},
   "outputs": [
    {
     "data": {
      "text/html": [
       "<div>\n",
       "<style scoped>\n",
       "    .dataframe tbody tr th:only-of-type {\n",
       "        vertical-align: middle;\n",
       "    }\n",
       "\n",
       "    .dataframe tbody tr th {\n",
       "        vertical-align: top;\n",
       "    }\n",
       "\n",
       "    .dataframe thead th {\n",
       "        text-align: right;\n",
       "    }\n",
       "</style>\n",
       "<table border=\"1\" class=\"dataframe\">\n",
       "  <thead>\n",
       "    <tr style=\"text-align: right;\">\n",
       "      <th></th>\n",
       "      <th>mean_val_score</th>\n",
       "      <th>std_val_score</th>\n",
       "    </tr>\n",
       "    <tr>\n",
       "      <th>criterion</th>\n",
       "      <th></th>\n",
       "      <th></th>\n",
       "    </tr>\n",
       "  </thead>\n",
       "  <tbody>\n",
       "    <tr>\n",
       "      <th>entropy</th>\n",
       "      <td>0.860425</td>\n",
       "      <td>0.033158</td>\n",
       "    </tr>\n",
       "    <tr>\n",
       "      <th>gini</th>\n",
       "      <td>0.855501</td>\n",
       "      <td>0.039126</td>\n",
       "    </tr>\n",
       "  </tbody>\n",
       "</table>\n",
       "</div>"
      ],
      "text/plain": [
       "           mean_val_score  std_val_score\n",
       "criterion                               \n",
       "entropy          0.860425       0.033158\n",
       "gini             0.855501       0.039126"
      ]
     },
     "execution_count": 5,
     "metadata": {},
     "output_type": "execute_result"
    }
   ],
   "source": [
    "bagging_results_df.groupby(CRT)[[MVS, SVS]].mean()"
   ]
  },
  {
   "cell_type": "code",
   "execution_count": 6,
   "metadata": {},
   "outputs": [
    {
     "data": {
      "text/html": [
       "<div>\n",
       "<style scoped>\n",
       "    .dataframe tbody tr th:only-of-type {\n",
       "        vertical-align: middle;\n",
       "    }\n",
       "\n",
       "    .dataframe tbody tr th {\n",
       "        vertical-align: top;\n",
       "    }\n",
       "\n",
       "    .dataframe thead th {\n",
       "        text-align: right;\n",
       "    }\n",
       "</style>\n",
       "<table border=\"1\" class=\"dataframe\">\n",
       "  <thead>\n",
       "    <tr style=\"text-align: right;\">\n",
       "      <th></th>\n",
       "      <th>mean_val_score</th>\n",
       "      <th>std_val_score</th>\n",
       "    </tr>\n",
       "    <tr>\n",
       "      <th>min_samples_leaf</th>\n",
       "      <th></th>\n",
       "      <th></th>\n",
       "    </tr>\n",
       "  </thead>\n",
       "  <tbody>\n",
       "    <tr>\n",
       "      <th>1</th>\n",
       "      <td>0.865013</td>\n",
       "      <td>0.035298</td>\n",
       "    </tr>\n",
       "    <tr>\n",
       "      <th>2</th>\n",
       "      <td>0.865977</td>\n",
       "      <td>0.033388</td>\n",
       "    </tr>\n",
       "    <tr>\n",
       "      <th>3</th>\n",
       "      <td>0.858211</td>\n",
       "      <td>0.038546</td>\n",
       "    </tr>\n",
       "    <tr>\n",
       "      <th>4</th>\n",
       "      <td>0.851907</td>\n",
       "      <td>0.035119</td>\n",
       "    </tr>\n",
       "    <tr>\n",
       "      <th>5</th>\n",
       "      <td>0.848707</td>\n",
       "      <td>0.038357</td>\n",
       "    </tr>\n",
       "  </tbody>\n",
       "</table>\n",
       "</div>"
      ],
      "text/plain": [
       "                  mean_val_score  std_val_score\n",
       "min_samples_leaf                               \n",
       "1                       0.865013       0.035298\n",
       "2                       0.865977       0.033388\n",
       "3                       0.858211       0.038546\n",
       "4                       0.851907       0.035119\n",
       "5                       0.848707       0.038357"
      ]
     },
     "execution_count": 6,
     "metadata": {},
     "output_type": "execute_result"
    }
   ],
   "source": [
    "bagging_results_df.groupby(MSL)[[MVS, SVS]].mean()"
   ]
  },
  {
   "cell_type": "code",
   "execution_count": 7,
   "metadata": {},
   "outputs": [
    {
     "data": {
      "text/html": [
       "<div>\n",
       "<style scoped>\n",
       "    .dataframe tbody tr th:only-of-type {\n",
       "        vertical-align: middle;\n",
       "    }\n",
       "\n",
       "    .dataframe tbody tr th {\n",
       "        vertical-align: top;\n",
       "    }\n",
       "\n",
       "    .dataframe thead th {\n",
       "        text-align: right;\n",
       "    }\n",
       "</style>\n",
       "<table border=\"1\" class=\"dataframe\">\n",
       "  <thead>\n",
       "    <tr style=\"text-align: right;\">\n",
       "      <th></th>\n",
       "      <th>mean_val_score</th>\n",
       "      <th>std_val_score</th>\n",
       "    </tr>\n",
       "    <tr>\n",
       "      <th>n_estimators</th>\n",
       "      <th></th>\n",
       "      <th></th>\n",
       "    </tr>\n",
       "  </thead>\n",
       "  <tbody>\n",
       "    <tr>\n",
       "      <th>10</th>\n",
       "      <td>0.844477</td>\n",
       "      <td>0.035753</td>\n",
       "    </tr>\n",
       "    <tr>\n",
       "      <th>14</th>\n",
       "      <td>0.851677</td>\n",
       "      <td>0.031917</td>\n",
       "    </tr>\n",
       "    <tr>\n",
       "      <th>21</th>\n",
       "      <td>0.850225</td>\n",
       "      <td>0.037607</td>\n",
       "    </tr>\n",
       "    <tr>\n",
       "      <th>31</th>\n",
       "      <td>0.859176</td>\n",
       "      <td>0.037904</td>\n",
       "    </tr>\n",
       "    <tr>\n",
       "      <th>46</th>\n",
       "      <td>0.860613</td>\n",
       "      <td>0.037543</td>\n",
       "    </tr>\n",
       "    <tr>\n",
       "      <th>68</th>\n",
       "      <td>0.859651</td>\n",
       "      <td>0.038380</td>\n",
       "    </tr>\n",
       "    <tr>\n",
       "      <th>100</th>\n",
       "      <td>0.863496</td>\n",
       "      <td>0.035848</td>\n",
       "    </tr>\n",
       "    <tr>\n",
       "      <th>146</th>\n",
       "      <td>0.862532</td>\n",
       "      <td>0.035900</td>\n",
       "    </tr>\n",
       "    <tr>\n",
       "      <th>215</th>\n",
       "      <td>0.863808</td>\n",
       "      <td>0.036533</td>\n",
       "    </tr>\n",
       "    <tr>\n",
       "      <th>316</th>\n",
       "      <td>0.863973</td>\n",
       "      <td>0.034029</td>\n",
       "    </tr>\n",
       "  </tbody>\n",
       "</table>\n",
       "</div>"
      ],
      "text/plain": [
       "              mean_val_score  std_val_score\n",
       "n_estimators                               \n",
       "10                  0.844477       0.035753\n",
       "14                  0.851677       0.031917\n",
       "21                  0.850225       0.037607\n",
       "31                  0.859176       0.037904\n",
       "46                  0.860613       0.037543\n",
       "68                  0.859651       0.038380\n",
       "100                 0.863496       0.035848\n",
       "146                 0.862532       0.035900\n",
       "215                 0.863808       0.036533\n",
       "316                 0.863973       0.034029"
      ]
     },
     "execution_count": 7,
     "metadata": {},
     "output_type": "execute_result"
    }
   ],
   "source": [
    "bagging_results_df.groupby(NEST)[[MVS, SVS]].mean()"
   ]
  },
  {
   "cell_type": "markdown",
   "metadata": {},
   "source": [
    "## Testing"
   ]
  },
  {
   "cell_type": "code",
   "execution_count": 8,
   "metadata": {},
   "outputs": [],
   "source": [
    "# gini result to be better\n",
    "best_result = bagging_results_df.sort_values(MVS).tail(1)\n",
    "\n",
    "# best model\n",
    "test_model = BaggingClassifier(\n",
    "    base_estimator=tree.DecisionTreeClassifier(criterion=best_result[CRT].values[0], min_samples_leaf=best_result[MSL].values[0]),\n",
    "    n_estimators=best_result[NEST].values[0]\n",
    ")\n",
    "\n",
    "_ = test_model.fit(train_x, train_y)"
   ]
  },
  {
   "cell_type": "code",
   "execution_count": 9,
   "metadata": {},
   "outputs": [],
   "source": [
    "with open(f'{PICKLE_FOLDER}{TEST}{X}.pkl', 'rb') as f:\n",
    "    test_x = pickle.load(f)\n",
    "with open(f'{PICKLE_FOLDER}{TEST}{Y}.pkl', 'rb') as f:\n",
    "    test_y = pickle.load(f)"
   ]
  },
  {
   "cell_type": "code",
   "execution_count": 10,
   "metadata": {},
   "outputs": [
    {
     "data": {
      "text/plain": [
       "0.9426751592356688"
      ]
     },
     "execution_count": 10,
     "metadata": {},
     "output_type": "execute_result"
    }
   ],
   "source": [
    "# Around \n",
    "test_model.score(test_x, test_y)"
   ]
  }
 ],
 "metadata": {
  "kernelspec": {
   "display_name": "dm-exam-venv",
   "language": "python",
   "name": "dm-exam-venv"
  },
  "language_info": {
   "codemirror_mode": {
    "name": "ipython",
    "version": 3
   },
   "file_extension": ".py",
   "mimetype": "text/x-python",
   "name": "python",
   "nbconvert_exporter": "python",
   "pygments_lexer": "ipython3",
   "version": "3.10.4"
  },
  "orig_nbformat": 4,
  "vscode": {
   "interpreter": {
    "hash": "31f2aee4e71d21fbe5cf8b01ff0e069b9275f58929596ceb00d14d90e3e16cd6"
   }
  }
 },
 "nbformat": 4,
 "nbformat_minor": 2
}
