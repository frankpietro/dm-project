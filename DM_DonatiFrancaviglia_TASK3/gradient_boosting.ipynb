{
 "cells": [
  {
   "cell_type": "markdown",
   "id": "07b99d6b",
   "metadata": {},
   "source": [
    "# Data Mining Project\n",
    "### Giorgio Donati, g.donati24@studenti.unipi.it\n",
    "### Pietro Francaviglia, p.francaviglia1@studenti.unipi.it\n",
    "#### A.Y. 2021-2022\n"
   ]
  },
  {
   "cell_type": "markdown",
   "id": "6defe5e4",
   "metadata": {},
   "source": [
    "## Libraries and datasets"
   ]
  },
  {
   "cell_type": "code",
   "execution_count": 1,
   "id": "d45a9a1e",
   "metadata": {},
   "outputs": [],
   "source": [
    "from sklearn.ensemble import GradientBoostingClassifier\n",
    "\n",
    "from t3_constants import *\n",
    "from t3_utility import *"
   ]
  },
  {
   "cell_type": "code",
   "execution_count": 2,
   "metadata": {},
   "outputs": [],
   "source": [
    "with open(f'{PICKLE_FOLDER}{TRAIN}{X}.pkl', 'rb') as f:\n",
    "    train_x = pickle.load(f)\n",
    "with open(f'{PICKLE_FOLDER}{TRAIN}{Y}.pkl', 'rb') as f:\n",
    "    train_y = pickle.load(f)"
   ]
  },
  {
   "cell_type": "markdown",
   "metadata": {},
   "source": [
    "# Gradient Boosting\n",
    "## Training"
   ]
  },
  {
   "cell_type": "code",
   "execution_count": 3,
   "metadata": {},
   "outputs": [
    {
     "data": {
      "text/html": [
       "<div>\n",
       "<style scoped>\n",
       "    .dataframe tbody tr th:only-of-type {\n",
       "        vertical-align: middle;\n",
       "    }\n",
       "\n",
       "    .dataframe tbody tr th {\n",
       "        vertical-align: top;\n",
       "    }\n",
       "\n",
       "    .dataframe thead th {\n",
       "        text-align: right;\n",
       "    }\n",
       "</style>\n",
       "<table border=\"1\" class=\"dataframe\">\n",
       "  <thead>\n",
       "    <tr style=\"text-align: right;\">\n",
       "      <th></th>\n",
       "      <th>max_depth</th>\n",
       "      <th>min_samples_leaf</th>\n",
       "      <th>n_estimators</th>\n",
       "      <th>mean_val_score</th>\n",
       "      <th>std_val_score</th>\n",
       "    </tr>\n",
       "  </thead>\n",
       "  <tbody>\n",
       "    <tr>\n",
       "      <th>44</th>\n",
       "      <td>2</td>\n",
       "      <td>5</td>\n",
       "      <td>175</td>\n",
       "      <td>0.902502</td>\n",
       "      <td>0.023002</td>\n",
       "    </tr>\n",
       "    <tr>\n",
       "      <th>28</th>\n",
       "      <td>2</td>\n",
       "      <td>3</td>\n",
       "      <td>488</td>\n",
       "      <td>0.902489</td>\n",
       "      <td>0.022451</td>\n",
       "    </tr>\n",
       "    <tr>\n",
       "      <th>47</th>\n",
       "      <td>2</td>\n",
       "      <td>5</td>\n",
       "      <td>378</td>\n",
       "      <td>0.900902</td>\n",
       "      <td>0.023668</td>\n",
       "    </tr>\n",
       "    <tr>\n",
       "      <th>48</th>\n",
       "      <td>2</td>\n",
       "      <td>5</td>\n",
       "      <td>488</td>\n",
       "      <td>0.900902</td>\n",
       "      <td>0.020788</td>\n",
       "    </tr>\n",
       "    <tr>\n",
       "      <th>49</th>\n",
       "      <td>2</td>\n",
       "      <td>5</td>\n",
       "      <td>630</td>\n",
       "      <td>0.900902</td>\n",
       "      <td>0.020788</td>\n",
       "    </tr>\n",
       "    <tr>\n",
       "      <th>46</th>\n",
       "      <td>2</td>\n",
       "      <td>5</td>\n",
       "      <td>292</td>\n",
       "      <td>0.900889</td>\n",
       "      <td>0.024213</td>\n",
       "    </tr>\n",
       "    <tr>\n",
       "      <th>9</th>\n",
       "      <td>2</td>\n",
       "      <td>1</td>\n",
       "      <td>630</td>\n",
       "      <td>0.900889</td>\n",
       "      <td>0.024213</td>\n",
       "    </tr>\n",
       "    <tr>\n",
       "      <th>45</th>\n",
       "      <td>2</td>\n",
       "      <td>5</td>\n",
       "      <td>226</td>\n",
       "      <td>0.899314</td>\n",
       "      <td>0.019504</td>\n",
       "    </tr>\n",
       "  </tbody>\n",
       "</table>\n",
       "</div>"
      ],
      "text/plain": [
       "    max_depth  min_samples_leaf  n_estimators  mean_val_score  std_val_score\n",
       "44          2                 5           175        0.902502       0.023002\n",
       "28          2                 3           488        0.902489       0.022451\n",
       "47          2                 5           378        0.900902       0.023668\n",
       "48          2                 5           488        0.900902       0.020788\n",
       "49          2                 5           630        0.900902       0.020788\n",
       "46          2                 5           292        0.900889       0.024213\n",
       "9           2                 1           630        0.900889       0.024213\n",
       "45          2                 5           226        0.899314       0.019504"
      ]
     },
     "execution_count": 3,
     "metadata": {},
     "output_type": "execute_result"
    }
   ],
   "source": [
    "## Hyper-parameters grid search for KNN\n",
    "param_d = {\n",
    "    DPT: [2, 3, 4],\n",
    "    MSL: range(1,6),\n",
    "    NEST: np.logspace(1.8, 2.8, num=10).astype(int).tolist()\n",
    "}\n",
    "\n",
    "# iteration on parameters to collect results\n",
    "combinations = itertools.product(*(param_d[key] for key in sorted(param_d)))\n",
    "\n",
    "results = []\n",
    "\n",
    "for max_depth, min_samples_leaf, n_estimators in combinations:\n",
    "    model = GradientBoostingClassifier(\n",
    "        max_depth=max_depth,\n",
    "        min_samples_leaf=min_samples_leaf,\n",
    "        n_estimators=n_estimators\n",
    "    )\n",
    "\n",
    "    mean_val_score, std_val_score = cross_validation_summary(model, train_x.values, train_y.values)\n",
    "    res =  max_depth, min_samples_leaf, n_estimators, mean_val_score, std_val_score\n",
    "    results.append(res)\n",
    "\n",
    "gradient_boosting_results_df = pd.DataFrame(results, columns=sorted(param_d)+[MVS, SVS])\n",
    "gradient_boosting_results_df.sort_values(MVS, ascending = False).head(8)"
   ]
  },
  {
   "cell_type": "code",
   "execution_count": 4,
   "metadata": {},
   "outputs": [
    {
     "data": {
      "text/html": [
       "<div>\n",
       "<style scoped>\n",
       "    .dataframe tbody tr th:only-of-type {\n",
       "        vertical-align: middle;\n",
       "    }\n",
       "\n",
       "    .dataframe tbody tr th {\n",
       "        vertical-align: top;\n",
       "    }\n",
       "\n",
       "    .dataframe thead th {\n",
       "        text-align: right;\n",
       "    }\n",
       "</style>\n",
       "<table border=\"1\" class=\"dataframe\">\n",
       "  <thead>\n",
       "    <tr style=\"text-align: right;\">\n",
       "      <th></th>\n",
       "      <th>mean_val_score</th>\n",
       "      <th>std_val_score</th>\n",
       "    </tr>\n",
       "    <tr>\n",
       "      <th>min_samples_leaf</th>\n",
       "      <th></th>\n",
       "      <th></th>\n",
       "    </tr>\n",
       "  </thead>\n",
       "  <tbody>\n",
       "    <tr>\n",
       "      <th>5</th>\n",
       "      <td>0.888782</td>\n",
       "      <td>0.034350</td>\n",
       "    </tr>\n",
       "    <tr>\n",
       "      <th>4</th>\n",
       "      <td>0.884369</td>\n",
       "      <td>0.032912</td>\n",
       "    </tr>\n",
       "    <tr>\n",
       "      <th>3</th>\n",
       "      <td>0.882934</td>\n",
       "      <td>0.032292</td>\n",
       "    </tr>\n",
       "    <tr>\n",
       "      <th>2</th>\n",
       "      <td>0.881594</td>\n",
       "      <td>0.037007</td>\n",
       "    </tr>\n",
       "    <tr>\n",
       "      <th>1</th>\n",
       "      <td>0.879461</td>\n",
       "      <td>0.036913</td>\n",
       "    </tr>\n",
       "  </tbody>\n",
       "</table>\n",
       "</div>"
      ],
      "text/plain": [
       "                  mean_val_score  std_val_score\n",
       "min_samples_leaf                               \n",
       "5                       0.888782       0.034350\n",
       "4                       0.884369       0.032912\n",
       "3                       0.882934       0.032292\n",
       "2                       0.881594       0.037007\n",
       "1                       0.879461       0.036913"
      ]
     },
     "execution_count": 4,
     "metadata": {},
     "output_type": "execute_result"
    }
   ],
   "source": [
    "gradient_boosting_results_df.groupby(MSL)[[MVS, SVS]].mean().sort_values(MVS, ascending=False)"
   ]
  },
  {
   "cell_type": "code",
   "execution_count": 5,
   "metadata": {},
   "outputs": [
    {
     "data": {
      "text/html": [
       "<div>\n",
       "<style scoped>\n",
       "    .dataframe tbody tr th:only-of-type {\n",
       "        vertical-align: middle;\n",
       "    }\n",
       "\n",
       "    .dataframe tbody tr th {\n",
       "        vertical-align: top;\n",
       "    }\n",
       "\n",
       "    .dataframe thead th {\n",
       "        text-align: right;\n",
       "    }\n",
       "</style>\n",
       "<table border=\"1\" class=\"dataframe\">\n",
       "  <thead>\n",
       "    <tr style=\"text-align: right;\">\n",
       "      <th></th>\n",
       "      <th>mean_val_score</th>\n",
       "      <th>std_val_score</th>\n",
       "    </tr>\n",
       "    <tr>\n",
       "      <th>max_depth</th>\n",
       "      <th></th>\n",
       "      <th></th>\n",
       "    </tr>\n",
       "  </thead>\n",
       "  <tbody>\n",
       "    <tr>\n",
       "      <th>2</th>\n",
       "      <td>0.888783</td>\n",
       "      <td>0.027148</td>\n",
       "    </tr>\n",
       "    <tr>\n",
       "      <th>4</th>\n",
       "      <td>0.880931</td>\n",
       "      <td>0.038603</td>\n",
       "    </tr>\n",
       "    <tr>\n",
       "      <th>3</th>\n",
       "      <td>0.880570</td>\n",
       "      <td>0.038334</td>\n",
       "    </tr>\n",
       "  </tbody>\n",
       "</table>\n",
       "</div>"
      ],
      "text/plain": [
       "           mean_val_score  std_val_score\n",
       "max_depth                               \n",
       "2                0.888783       0.027148\n",
       "4                0.880931       0.038603\n",
       "3                0.880570       0.038334"
      ]
     },
     "execution_count": 5,
     "metadata": {},
     "output_type": "execute_result"
    }
   ],
   "source": [
    "gradient_boosting_results_df.groupby(DPT)[[MVS, SVS]].mean().sort_values(MVS, ascending=False)"
   ]
  },
  {
   "cell_type": "code",
   "execution_count": 6,
   "metadata": {},
   "outputs": [
    {
     "data": {
      "text/html": [
       "<div>\n",
       "<style scoped>\n",
       "    .dataframe tbody tr th:only-of-type {\n",
       "        vertical-align: middle;\n",
       "    }\n",
       "\n",
       "    .dataframe tbody tr th {\n",
       "        vertical-align: top;\n",
       "    }\n",
       "\n",
       "    .dataframe thead th {\n",
       "        text-align: right;\n",
       "    }\n",
       "</style>\n",
       "<table border=\"1\" class=\"dataframe\">\n",
       "  <thead>\n",
       "    <tr style=\"text-align: right;\">\n",
       "      <th></th>\n",
       "      <th>mean_val_score</th>\n",
       "      <th>std_val_score</th>\n",
       "    </tr>\n",
       "    <tr>\n",
       "      <th>n_estimators</th>\n",
       "      <th></th>\n",
       "      <th></th>\n",
       "    </tr>\n",
       "  </thead>\n",
       "  <tbody>\n",
       "    <tr>\n",
       "      <th>292</th>\n",
       "      <td>0.886927</td>\n",
       "      <td>0.033302</td>\n",
       "    </tr>\n",
       "    <tr>\n",
       "      <th>175</th>\n",
       "      <td>0.885965</td>\n",
       "      <td>0.033877</td>\n",
       "    </tr>\n",
       "    <tr>\n",
       "      <th>378</th>\n",
       "      <td>0.885647</td>\n",
       "      <td>0.033189</td>\n",
       "    </tr>\n",
       "    <tr>\n",
       "      <th>226</th>\n",
       "      <td>0.885647</td>\n",
       "      <td>0.033940</td>\n",
       "    </tr>\n",
       "    <tr>\n",
       "      <th>135</th>\n",
       "      <td>0.885328</td>\n",
       "      <td>0.033837</td>\n",
       "    </tr>\n",
       "    <tr>\n",
       "      <th>630</th>\n",
       "      <td>0.884905</td>\n",
       "      <td>0.030690</td>\n",
       "    </tr>\n",
       "    <tr>\n",
       "      <th>488</th>\n",
       "      <td>0.884797</td>\n",
       "      <td>0.032082</td>\n",
       "    </tr>\n",
       "    <tr>\n",
       "      <th>105</th>\n",
       "      <td>0.881275</td>\n",
       "      <td>0.036197</td>\n",
       "    </tr>\n",
       "    <tr>\n",
       "      <th>81</th>\n",
       "      <td>0.880412</td>\n",
       "      <td>0.039323</td>\n",
       "    </tr>\n",
       "    <tr>\n",
       "      <th>63</th>\n",
       "      <td>0.873377</td>\n",
       "      <td>0.040509</td>\n",
       "    </tr>\n",
       "  </tbody>\n",
       "</table>\n",
       "</div>"
      ],
      "text/plain": [
       "              mean_val_score  std_val_score\n",
       "n_estimators                               \n",
       "292                 0.886927       0.033302\n",
       "175                 0.885965       0.033877\n",
       "378                 0.885647       0.033189\n",
       "226                 0.885647       0.033940\n",
       "135                 0.885328       0.033837\n",
       "630                 0.884905       0.030690\n",
       "488                 0.884797       0.032082\n",
       "105                 0.881275       0.036197\n",
       "81                  0.880412       0.039323\n",
       "63                  0.873377       0.040509"
      ]
     },
     "execution_count": 6,
     "metadata": {},
     "output_type": "execute_result"
    }
   ],
   "source": [
    "gradient_boosting_results_df.groupby(NEST)[[MVS, SVS]].mean().sort_values(MVS, ascending=False)"
   ]
  },
  {
   "cell_type": "markdown",
   "metadata": {},
   "source": [
    "### Test Model"
   ]
  },
  {
   "cell_type": "code",
   "execution_count": 15,
   "metadata": {},
   "outputs": [],
   "source": [
    "best_result = gradient_boosting_results_df.sort_values(MVS).tail(1)\n",
    "\n",
    "# best model\n",
    "test_model = GradientBoostingClassifier(\n",
    "    max_depth=best_result[DPT].values[0],\n",
    "    min_samples_leaf=best_result[MSL].values[0],\n",
    "    n_estimators=best_result[NEST].values[0]\n",
    ")\n",
    "\n",
    "_ = test_model.fit(train_x, train_y)"
   ]
  },
  {
   "cell_type": "markdown",
   "metadata": {},
   "source": [
    "## Testing"
   ]
  },
  {
   "cell_type": "code",
   "execution_count": 16,
   "metadata": {},
   "outputs": [],
   "source": [
    "with open(f'{PICKLE_FOLDER}{TEST}{X}.pkl', 'rb') as f:\n",
    "    test_x = pickle.load(f)\n",
    "with open(f'{PICKLE_FOLDER}{TEST}{Y}.pkl', 'rb') as f:\n",
    "    test_y = pickle.load(f)"
   ]
  },
  {
   "cell_type": "markdown",
   "metadata": {},
   "source": [
    "### Score"
   ]
  },
  {
   "cell_type": "code",
   "execution_count": 18,
   "metadata": {},
   "outputs": [
    {
     "data": {
      "text/plain": [
       "0.9171974522292994"
      ]
     },
     "execution_count": 18,
     "metadata": {},
     "output_type": "execute_result"
    }
   ],
   "source": [
    "# Around 0.91\n",
    "test_model.score(test_x, test_y)"
   ]
  }
 ],
 "metadata": {
  "kernelspec": {
   "display_name": "dm-exam-venv",
   "language": "python",
   "name": "dm-exam-venv"
  },
  "language_info": {
   "codemirror_mode": {
    "name": "ipython",
    "version": 3
   },
   "file_extension": ".py",
   "mimetype": "text/x-python",
   "name": "python",
   "nbconvert_exporter": "python",
   "pygments_lexer": "ipython3",
   "version": "3.10.4"
  },
  "orig_nbformat": 4,
  "vscode": {
   "interpreter": {
    "hash": "31f2aee4e71d21fbe5cf8b01ff0e069b9275f58929596ceb00d14d90e3e16cd6"
   }
  }
 },
 "nbformat": 4,
 "nbformat_minor": 2
}
