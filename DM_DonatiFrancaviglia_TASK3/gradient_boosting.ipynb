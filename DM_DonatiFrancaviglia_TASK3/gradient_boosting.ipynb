{
 "cells": [
  {
   "cell_type": "markdown",
   "id": "07b99d6b",
   "metadata": {},
   "source": [
    "# Data Mining Project\n",
    "### Giorgio Donati, g.donati24@studenti.unipi.it\n",
    "### Pietro Francaviglia, p.francaviglia1@studenti.unipi.it\n",
    "#### A.Y. 2021-2022\n"
   ]
  },
  {
   "cell_type": "markdown",
   "id": "6defe5e4",
   "metadata": {},
   "source": [
    "## Libraries and datasets"
   ]
  },
  {
   "cell_type": "code",
   "execution_count": 1,
   "id": "d45a9a1e",
   "metadata": {},
   "outputs": [],
   "source": [
    "from sklearn.ensemble import GradientBoostingClassifier\n",
    "\n",
    "from t3_constants import *\n",
    "from t3_utility import *"
   ]
  },
  {
   "cell_type": "code",
   "execution_count": 2,
   "metadata": {},
   "outputs": [],
   "source": [
    "with open(f'{PICKLE_FOLDER}{TRAIN}{X}.pkl', 'rb') as f:\n",
    "    train_x = pickle.load(f)\n",
    "with open(f'{PICKLE_FOLDER}{TRAIN}{Y}.pkl', 'rb') as f:\n",
    "    train_y = pickle.load(f)\n",
    "with open(f'{PICKLE_FOLDER}{TEST}{X}.pkl', 'rb') as f:\n",
    "    test_x = pickle.load(f)\n",
    "with open(f'{PICKLE_FOLDER}{TEST}{Y}.pkl', 'rb') as f:\n",
    "    test_y = pickle.load(f)\n",
    "\n",
    "x = train_x.values\n",
    "y = train_y.values"
   ]
  },
  {
   "cell_type": "markdown",
   "metadata": {},
   "source": [
    "## Gradient Boosting"
   ]
  },
  {
   "cell_type": "code",
   "execution_count": 4,
   "metadata": {},
   "outputs": [],
   "source": [
    "## Hyper-parameters grid search for KNN\n",
    "max_depth = range(2,5)\n",
    "min_samples_leaf = [1,3,5]\n",
    "n_estimators = np.unique(np.logspace(1.9, 2.8, num=12).astype(int)).tolist()\n",
    "hyperparams_grid = itertools.product(max_depth, min_samples_leaf, n_estimators)\n",
    "\n",
    "results = []\n",
    "\n",
    "for d,l,e in hyperparams_grid:\n",
    "    gb_model = GradientBoostingClassifier(max_depth=d, min_samples_leaf=l, n_estimators=e)\n",
    "    mean_val_score, std_val_score = cross_validation_summary(gb_model, x, y)\n",
    "    res = d, l, e, mean_val_score, std_val_score\n",
    "    results.append(res)\n",
    "\n",
    "df = pd.DataFrame(results, columns=['max_depth', 'min_samples_leaf', 'n_estimators', 'mean_val_score', 'std_val_score'])"
   ]
  },
  {
   "cell_type": "code",
   "execution_count": 5,
   "metadata": {},
   "outputs": [
    {
     "data": {
      "text/html": [
       "<div>\n",
       "<style scoped>\n",
       "    .dataframe tbody tr th:only-of-type {\n",
       "        vertical-align: middle;\n",
       "    }\n",
       "\n",
       "    .dataframe tbody tr th {\n",
       "        vertical-align: top;\n",
       "    }\n",
       "\n",
       "    .dataframe thead th {\n",
       "        text-align: right;\n",
       "    }\n",
       "</style>\n",
       "<table border=\"1\" class=\"dataframe\">\n",
       "  <thead>\n",
       "    <tr style=\"text-align: right;\">\n",
       "      <th></th>\n",
       "      <th>max_depth</th>\n",
       "      <th>min_samples_leaf</th>\n",
       "      <th>n_estimators</th>\n",
       "      <th>mean_val_score</th>\n",
       "      <th>std_val_score</th>\n",
       "    </tr>\n",
       "  </thead>\n",
       "  <tbody>\n",
       "    <tr>\n",
       "      <th>34</th>\n",
       "      <td>2</td>\n",
       "      <td>5</td>\n",
       "      <td>522</td>\n",
       "      <td>0.905702</td>\n",
       "      <td>0.020641</td>\n",
       "    </tr>\n",
       "    <tr>\n",
       "      <th>30</th>\n",
       "      <td>2</td>\n",
       "      <td>5</td>\n",
       "      <td>245</td>\n",
       "      <td>0.902502</td>\n",
       "      <td>0.023002</td>\n",
       "    </tr>\n",
       "    <tr>\n",
       "      <th>32</th>\n",
       "      <td>2</td>\n",
       "      <td>5</td>\n",
       "      <td>358</td>\n",
       "      <td>0.902489</td>\n",
       "      <td>0.026625</td>\n",
       "    </tr>\n",
       "    <tr>\n",
       "      <th>21</th>\n",
       "      <td>2</td>\n",
       "      <td>3</td>\n",
       "      <td>432</td>\n",
       "      <td>0.902489</td>\n",
       "      <td>0.022451</td>\n",
       "    </tr>\n",
       "    <tr>\n",
       "      <th>31</th>\n",
       "      <td>2</td>\n",
       "      <td>5</td>\n",
       "      <td>296</td>\n",
       "      <td>0.902489</td>\n",
       "      <td>0.024627</td>\n",
       "    </tr>\n",
       "    <tr>\n",
       "      <th>28</th>\n",
       "      <td>2</td>\n",
       "      <td>5</td>\n",
       "      <td>168</td>\n",
       "      <td>0.900914</td>\n",
       "      <td>0.020766</td>\n",
       "    </tr>\n",
       "    <tr>\n",
       "      <th>29</th>\n",
       "      <td>2</td>\n",
       "      <td>5</td>\n",
       "      <td>203</td>\n",
       "      <td>0.900902</td>\n",
       "      <td>0.021985</td>\n",
       "    </tr>\n",
       "    <tr>\n",
       "      <th>22</th>\n",
       "      <td>2</td>\n",
       "      <td>3</td>\n",
       "      <td>522</td>\n",
       "      <td>0.900902</td>\n",
       "      <td>0.018851</td>\n",
       "    </tr>\n",
       "    <tr>\n",
       "      <th>33</th>\n",
       "      <td>2</td>\n",
       "      <td>5</td>\n",
       "      <td>432</td>\n",
       "      <td>0.900902</td>\n",
       "      <td>0.023668</td>\n",
       "    </tr>\n",
       "    <tr>\n",
       "      <th>35</th>\n",
       "      <td>2</td>\n",
       "      <td>5</td>\n",
       "      <td>630</td>\n",
       "      <td>0.900902</td>\n",
       "      <td>0.020788</td>\n",
       "    </tr>\n",
       "  </tbody>\n",
       "</table>\n",
       "</div>"
      ],
      "text/plain": [
       "    max_depth  min_samples_leaf  n_estimators  mean_val_score  std_val_score\n",
       "34          2                 5           522        0.905702       0.020641\n",
       "30          2                 5           245        0.902502       0.023002\n",
       "32          2                 5           358        0.902489       0.026625\n",
       "21          2                 3           432        0.902489       0.022451\n",
       "31          2                 5           296        0.902489       0.024627\n",
       "28          2                 5           168        0.900914       0.020766\n",
       "29          2                 5           203        0.900902       0.021985\n",
       "22          2                 3           522        0.900902       0.018851\n",
       "33          2                 5           432        0.900902       0.023668\n",
       "35          2                 5           630        0.900902       0.020788"
      ]
     },
     "execution_count": 5,
     "metadata": {},
     "output_type": "execute_result"
    }
   ],
   "source": [
    "df.sort_values('mean_val_score', ascending=False).head(10)"
   ]
  },
  {
   "cell_type": "code",
   "execution_count": 6,
   "metadata": {},
   "outputs": [
    {
     "name": "stderr",
     "output_type": "stream",
     "text": [
      "/tmp/ipykernel_428873/3014412566.py:1: FutureWarning: Indexing with multiple keys (implicitly converted to a tuple of keys) will be deprecated, use a list instead.\n",
      "  df.groupby('min_samples_leaf')['mean_val_score', 'std_val_score'].mean()\n"
     ]
    },
    {
     "data": {
      "text/html": [
       "<div>\n",
       "<style scoped>\n",
       "    .dataframe tbody tr th:only-of-type {\n",
       "        vertical-align: middle;\n",
       "    }\n",
       "\n",
       "    .dataframe tbody tr th {\n",
       "        vertical-align: top;\n",
       "    }\n",
       "\n",
       "    .dataframe thead th {\n",
       "        text-align: right;\n",
       "    }\n",
       "</style>\n",
       "<table border=\"1\" class=\"dataframe\">\n",
       "  <thead>\n",
       "    <tr style=\"text-align: right;\">\n",
       "      <th></th>\n",
       "      <th>mean_val_score</th>\n",
       "      <th>std_val_score</th>\n",
       "    </tr>\n",
       "    <tr>\n",
       "      <th>min_samples_leaf</th>\n",
       "      <th></th>\n",
       "      <th></th>\n",
       "    </tr>\n",
       "  </thead>\n",
       "  <tbody>\n",
       "    <tr>\n",
       "      <th>1</th>\n",
       "      <td>0.881213</td>\n",
       "      <td>0.036724</td>\n",
       "    </tr>\n",
       "    <tr>\n",
       "      <th>3</th>\n",
       "      <td>0.884415</td>\n",
       "      <td>0.032244</td>\n",
       "    </tr>\n",
       "    <tr>\n",
       "      <th>5</th>\n",
       "      <td>0.889290</td>\n",
       "      <td>0.033757</td>\n",
       "    </tr>\n",
       "  </tbody>\n",
       "</table>\n",
       "</div>"
      ],
      "text/plain": [
       "                  mean_val_score  std_val_score\n",
       "min_samples_leaf                               \n",
       "1                       0.881213       0.036724\n",
       "3                       0.884415       0.032244\n",
       "5                       0.889290       0.033757"
      ]
     },
     "execution_count": 6,
     "metadata": {},
     "output_type": "execute_result"
    }
   ],
   "source": [
    "df.groupby('min_samples_leaf')['mean_val_score', 'std_val_score'].mean()"
   ]
  },
  {
   "cell_type": "code",
   "execution_count": 7,
   "metadata": {},
   "outputs": [
    {
     "name": "stderr",
     "output_type": "stream",
     "text": [
      "/tmp/ipykernel_428873/349772036.py:1: FutureWarning: Indexing with multiple keys (implicitly converted to a tuple of keys) will be deprecated, use a list instead.\n",
      "  df.groupby('max_depth')['mean_val_score', 'std_val_score'].mean()\n"
     ]
    },
    {
     "data": {
      "text/html": [
       "<div>\n",
       "<style scoped>\n",
       "    .dataframe tbody tr th:only-of-type {\n",
       "        vertical-align: middle;\n",
       "    }\n",
       "\n",
       "    .dataframe tbody tr th {\n",
       "        vertical-align: top;\n",
       "    }\n",
       "\n",
       "    .dataframe thead th {\n",
       "        text-align: right;\n",
       "    }\n",
       "</style>\n",
       "<table border=\"1\" class=\"dataframe\">\n",
       "  <thead>\n",
       "    <tr style=\"text-align: right;\">\n",
       "      <th></th>\n",
       "      <th>mean_val_score</th>\n",
       "      <th>std_val_score</th>\n",
       "    </tr>\n",
       "    <tr>\n",
       "      <th>max_depth</th>\n",
       "      <th></th>\n",
       "      <th></th>\n",
       "    </tr>\n",
       "  </thead>\n",
       "  <tbody>\n",
       "    <tr>\n",
       "      <th>2</th>\n",
       "      <td>0.891661</td>\n",
       "      <td>0.026451</td>\n",
       "    </tr>\n",
       "    <tr>\n",
       "      <th>3</th>\n",
       "      <td>0.881648</td>\n",
       "      <td>0.037695</td>\n",
       "    </tr>\n",
       "    <tr>\n",
       "      <th>4</th>\n",
       "      <td>0.881610</td>\n",
       "      <td>0.038578</td>\n",
       "    </tr>\n",
       "  </tbody>\n",
       "</table>\n",
       "</div>"
      ],
      "text/plain": [
       "           mean_val_score  std_val_score\n",
       "max_depth                               \n",
       "2                0.891661       0.026451\n",
       "3                0.881648       0.037695\n",
       "4                0.881610       0.038578"
      ]
     },
     "execution_count": 7,
     "metadata": {},
     "output_type": "execute_result"
    }
   ],
   "source": [
    "df.groupby('max_depth')['mean_val_score', 'std_val_score'].mean()"
   ]
  },
  {
   "cell_type": "code",
   "execution_count": 8,
   "metadata": {},
   "outputs": [
    {
     "name": "stderr",
     "output_type": "stream",
     "text": [
      "/tmp/ipykernel_428873/2410122757.py:1: FutureWarning: Indexing with multiple keys (implicitly converted to a tuple of keys) will be deprecated, use a list instead.\n",
      "  df.groupby('n_estimators')['mean_val_score', 'std_val_score'].mean()\n"
     ]
    },
    {
     "data": {
      "text/html": [
       "<div>\n",
       "<style scoped>\n",
       "    .dataframe tbody tr th:only-of-type {\n",
       "        vertical-align: middle;\n",
       "    }\n",
       "\n",
       "    .dataframe tbody tr th {\n",
       "        vertical-align: top;\n",
       "    }\n",
       "\n",
       "    .dataframe thead th {\n",
       "        text-align: right;\n",
       "    }\n",
       "</style>\n",
       "<table border=\"1\" class=\"dataframe\">\n",
       "  <thead>\n",
       "    <tr style=\"text-align: right;\">\n",
       "      <th></th>\n",
       "      <th>mean_val_score</th>\n",
       "      <th>std_val_score</th>\n",
       "    </tr>\n",
       "    <tr>\n",
       "      <th>n_estimators</th>\n",
       "      <th></th>\n",
       "      <th></th>\n",
       "    </tr>\n",
       "  </thead>\n",
       "  <tbody>\n",
       "    <tr>\n",
       "      <th>79</th>\n",
       "      <td>0.879204</td>\n",
       "      <td>0.038113</td>\n",
       "    </tr>\n",
       "    <tr>\n",
       "      <th>95</th>\n",
       "      <td>0.882054</td>\n",
       "      <td>0.036918</td>\n",
       "    </tr>\n",
       "    <tr>\n",
       "      <th>115</th>\n",
       "      <td>0.882588</td>\n",
       "      <td>0.036110</td>\n",
       "    </tr>\n",
       "    <tr>\n",
       "      <th>139</th>\n",
       "      <td>0.884897</td>\n",
       "      <td>0.034635</td>\n",
       "    </tr>\n",
       "    <tr>\n",
       "      <th>168</th>\n",
       "      <td>0.885790</td>\n",
       "      <td>0.032945</td>\n",
       "    </tr>\n",
       "    <tr>\n",
       "      <th>203</th>\n",
       "      <td>0.887918</td>\n",
       "      <td>0.033931</td>\n",
       "    </tr>\n",
       "    <tr>\n",
       "      <th>245</th>\n",
       "      <td>0.885079</td>\n",
       "      <td>0.034142</td>\n",
       "    </tr>\n",
       "    <tr>\n",
       "      <th>296</th>\n",
       "      <td>0.887742</td>\n",
       "      <td>0.032988</td>\n",
       "    </tr>\n",
       "    <tr>\n",
       "      <th>358</th>\n",
       "      <td>0.886495</td>\n",
       "      <td>0.034402</td>\n",
       "    </tr>\n",
       "    <tr>\n",
       "      <th>432</th>\n",
       "      <td>0.886854</td>\n",
       "      <td>0.033787</td>\n",
       "    </tr>\n",
       "    <tr>\n",
       "      <th>522</th>\n",
       "      <td>0.885614</td>\n",
       "      <td>0.031627</td>\n",
       "    </tr>\n",
       "    <tr>\n",
       "      <th>630</th>\n",
       "      <td>0.885436</td>\n",
       "      <td>0.031301</td>\n",
       "    </tr>\n",
       "  </tbody>\n",
       "</table>\n",
       "</div>"
      ],
      "text/plain": [
       "              mean_val_score  std_val_score\n",
       "n_estimators                               \n",
       "79                  0.879204       0.038113\n",
       "95                  0.882054       0.036918\n",
       "115                 0.882588       0.036110\n",
       "139                 0.884897       0.034635\n",
       "168                 0.885790       0.032945\n",
       "203                 0.887918       0.033931\n",
       "245                 0.885079       0.034142\n",
       "296                 0.887742       0.032988\n",
       "358                 0.886495       0.034402\n",
       "432                 0.886854       0.033787\n",
       "522                 0.885614       0.031627\n",
       "630                 0.885436       0.031301"
      ]
     },
     "execution_count": 8,
     "metadata": {},
     "output_type": "execute_result"
    }
   ],
   "source": [
    "df.groupby('n_estimators')['mean_val_score', 'std_val_score'].mean()"
   ]
  },
  {
   "cell_type": "code",
   "execution_count": 10,
   "metadata": {},
   "outputs": [
    {
     "data": {
      "text/plain": [
       "0.910828025477707"
      ]
     },
     "execution_count": 10,
     "metadata": {},
     "output_type": "execute_result"
    }
   ],
   "source": [
    "test_model = GradientBoostingClassifier(\n",
    "    max_depth=2,\n",
    "    min_samples_leaf=5,\n",
    "    n_estimators=522\n",
    ")\n",
    "\n",
    "test_model.fit(x,train_y)\n",
    "test_model.score(test_x.values, test_y)"
   ]
  }
 ],
 "metadata": {
  "kernelspec": {
   "display_name": "dm-exam-venv",
   "language": "python",
   "name": "dm-exam-venv"
  },
  "language_info": {
   "codemirror_mode": {
    "name": "ipython",
    "version": 3
   },
   "file_extension": ".py",
   "mimetype": "text/x-python",
   "name": "python",
   "nbconvert_exporter": "python",
   "pygments_lexer": "ipython3",
   "version": "3.10.4"
  },
  "orig_nbformat": 4,
  "vscode": {
   "interpreter": {
    "hash": "31f2aee4e71d21fbe5cf8b01ff0e069b9275f58929596ceb00d14d90e3e16cd6"
   }
  }
 },
 "nbformat": 4,
 "nbformat_minor": 2
}
