{
 "cells": [
  {
   "cell_type": "markdown",
   "metadata": {},
   "source": [
    "# Data Mining Project\n",
    "### Giorgio Donati, g.donati24@studenti.unipi.it\n",
    "### Pietro Francaviglia, p.francaviglia1@studenti.unipi.it\n",
    "#### A.Y. 2021-2022"
   ]
  },
  {
   "cell_type": "markdown",
   "metadata": {},
   "source": [
    "## Libraries and datasets"
   ]
  },
  {
   "cell_type": "code",
   "execution_count": 1,
   "metadata": {},
   "outputs": [],
   "source": [
    "from sklearn.svm import SVC\n",
    "\n",
    "from t3_constants import *\n",
    "from t3_utility import *"
   ]
  },
  {
   "cell_type": "markdown",
   "metadata": {},
   "source": [
    "# Support Vector Classifier (Polinomial)\n",
    "## Training"
   ]
  },
  {
   "cell_type": "code",
   "execution_count": 2,
   "metadata": {},
   "outputs": [],
   "source": [
    "with open(f'{PICKLE_FOLDER}{TRAIN}{X}.pkl', 'rb') as f:\n",
    "    train_x = pickle.load(f)\n",
    "with open(f'{PICKLE_FOLDER}{TRAIN}{Y}.pkl', 'rb') as f:\n",
    "    train_y = pickle.load(f)"
   ]
  },
  {
   "cell_type": "code",
   "execution_count": 3,
   "metadata": {},
   "outputs": [
    {
     "ename": "ValueError",
     "evalue": "too many values to unpack (expected 3)",
     "output_type": "error",
     "traceback": [
      "\u001b[0;31m---------------------------------------------------------------------------\u001b[0m",
      "\u001b[0;31mValueError\u001b[0m                                Traceback (most recent call last)",
      "\u001b[1;32m/Users/hdjdox/Documents/e_education/magistrale/data_mining/dm-project/DM_DonatiFrancaviglia_TASK3/SVC_polinomial.ipynb Cell 6\u001b[0m in \u001b[0;36m<cell line: 11>\u001b[0;34m()\u001b[0m\n\u001b[1;32m      <a href='vscode-notebook-cell:/Users/hdjdox/Documents/e_education/magistrale/data_mining/dm-project/DM_DonatiFrancaviglia_TASK3/SVC_polinomial.ipynb#ch0000005?line=8'>9</a>\u001b[0m grid \u001b[39m=\u001b[39m itertools\u001b[39m.\u001b[39mproduct(\u001b[39m*\u001b[39m[param_d[key] \u001b[39mfor\u001b[39;00m key \u001b[39min\u001b[39;00m \u001b[39msorted\u001b[39m(param_d)])\n\u001b[1;32m     <a href='vscode-notebook-cell:/Users/hdjdox/Documents/e_education/magistrale/data_mining/dm-project/DM_DonatiFrancaviglia_TASK3/SVC_polinomial.ipynb#ch0000005?line=9'>10</a>\u001b[0m results \u001b[39m=\u001b[39m []\n\u001b[0;32m---> <a href='vscode-notebook-cell:/Users/hdjdox/Documents/e_education/magistrale/data_mining/dm-project/DM_DonatiFrancaviglia_TASK3/SVC_polinomial.ipynb#ch0000005?line=10'>11</a>\u001b[0m \u001b[39mfor\u001b[39;00m c_param, gamma, kernel \u001b[39min\u001b[39;00m grid:\n\u001b[1;32m     <a href='vscode-notebook-cell:/Users/hdjdox/Documents/e_education/magistrale/data_mining/dm-project/DM_DonatiFrancaviglia_TASK3/SVC_polinomial.ipynb#ch0000005?line=11'>12</a>\u001b[0m     model \u001b[39m=\u001b[39m SVC(kernel\u001b[39m=\u001b[39mkernel, gamma\u001b[39m=\u001b[39mgamma, C\u001b[39m=\u001b[39mc_param)\n\u001b[1;32m     <a href='vscode-notebook-cell:/Users/hdjdox/Documents/e_education/magistrale/data_mining/dm-project/DM_DonatiFrancaviglia_TASK3/SVC_polinomial.ipynb#ch0000005?line=12'>13</a>\u001b[0m     mean_val_score, std_val_score \u001b[39m=\u001b[39m cross_validation_summary(model, train_x\u001b[39m.\u001b[39mvalues, train_y\u001b[39m.\u001b[39mvalues)\n",
      "\u001b[0;31mValueError\u001b[0m: too many values to unpack (expected 3)"
     ]
    }
   ],
   "source": [
    "# parameters dictionary for Decision Tree grid search\n",
    "param_d = {\n",
    "    KFF: [0.5, 1, 1.5],\n",
    "    CPRM: [0.1, 0.5, 1, 5, 10, 50, 100],\n",
    "    KRL: ['poly'],\n",
    "    DEG: [2, 3, 4]\n",
    "}\n",
    "# iteration on parameters to collect results\n",
    "grid = itertools.product(*[param_d[key] for key in sorted(param_d)])\n",
    "results = []\n",
    "for c_param, gamma, kernel in grid:\n",
    "    model = SVC(kernel=kernel, gamma=gamma, C=c_param)\n",
    "    mean_val_score, std_val_score = cross_validation_summary(model, train_x.values, train_y.values)\n",
    "    res = c_param, gamma, kernel, mean_val_score, std_val_score\n",
    "    results.append(res)\n",
    "\n",
    "# print top 5 combination results\n",
    "result_df = pd.DataFrame(results, columns=sorted(param_d) + [MVS, SVS])\n",
    "result_df.sort_values(MVS, ascending=False).head(8)"
   ]
  },
  {
   "cell_type": "code",
   "execution_count": null,
   "metadata": {},
   "outputs": [
    {
     "name": "stderr",
     "output_type": "stream",
     "text": [
      "/var/folders/qc/cq4vvhlx6msd3j5kh8vlw_cm0000gn/T/ipykernel_19829/2357791576.py:1: FutureWarning: Indexing with multiple keys (implicitly converted to a tuple of keys) will be deprecated, use a list instead.\n",
      "  result_df.groupby(CPRM)[MVS, SVS].mean().sort_values(MVS, ascending=False)\n"
     ]
    },
    {
     "data": {
      "text/html": [
       "<div>\n",
       "<style scoped>\n",
       "    .dataframe tbody tr th:only-of-type {\n",
       "        vertical-align: middle;\n",
       "    }\n",
       "\n",
       "    .dataframe tbody tr th {\n",
       "        vertical-align: top;\n",
       "    }\n",
       "\n",
       "    .dataframe thead th {\n",
       "        text-align: right;\n",
       "    }\n",
       "</style>\n",
       "<table border=\"1\" class=\"dataframe\">\n",
       "  <thead>\n",
       "    <tr style=\"text-align: right;\">\n",
       "      <th></th>\n",
       "      <th>mean_val_score</th>\n",
       "      <th>std_val_score</th>\n",
       "    </tr>\n",
       "    <tr>\n",
       "      <th>c_param</th>\n",
       "      <th></th>\n",
       "      <th></th>\n",
       "    </tr>\n",
       "  </thead>\n",
       "  <tbody>\n",
       "    <tr>\n",
       "      <th>1000.0</th>\n",
       "      <td>0.917941</td>\n",
       "      <td>0.021717</td>\n",
       "    </tr>\n",
       "    <tr>\n",
       "      <th>500.0</th>\n",
       "      <td>0.916080</td>\n",
       "      <td>0.019984</td>\n",
       "    </tr>\n",
       "    <tr>\n",
       "      <th>100.0</th>\n",
       "      <td>0.910487</td>\n",
       "      <td>0.023552</td>\n",
       "    </tr>\n",
       "    <tr>\n",
       "      <th>50.0</th>\n",
       "      <td>0.905422</td>\n",
       "      <td>0.025818</td>\n",
       "    </tr>\n",
       "    <tr>\n",
       "      <th>10.0</th>\n",
       "      <td>0.899575</td>\n",
       "      <td>0.023510</td>\n",
       "    </tr>\n",
       "    <tr>\n",
       "      <th>1.0</th>\n",
       "      <td>0.859651</td>\n",
       "      <td>0.022804</td>\n",
       "    </tr>\n",
       "    <tr>\n",
       "      <th>0.5</th>\n",
       "      <td>0.812796</td>\n",
       "      <td>0.029629</td>\n",
       "    </tr>\n",
       "    <tr>\n",
       "      <th>0.1</th>\n",
       "      <td>0.668004</td>\n",
       "      <td>0.020524</td>\n",
       "    </tr>\n",
       "  </tbody>\n",
       "</table>\n",
       "</div>"
      ],
      "text/plain": [
       "         mean_val_score  std_val_score\n",
       "c_param                               \n",
       "1000.0         0.917941       0.021717\n",
       "500.0          0.916080       0.019984\n",
       "100.0          0.910487       0.023552\n",
       "50.0           0.905422       0.025818\n",
       "10.0           0.899575       0.023510\n",
       "1.0            0.859651       0.022804\n",
       "0.5            0.812796       0.029629\n",
       "0.1            0.668004       0.020524"
      ]
     },
     "execution_count": 27,
     "metadata": {},
     "output_type": "execute_result"
    }
   ],
   "source": [
    "result_df.groupby(CPRM)[MVS, SVS].mean().sort_values(MVS, ascending=False)"
   ]
  },
  {
   "cell_type": "code",
   "execution_count": null,
   "metadata": {},
   "outputs": [
    {
     "name": "stderr",
     "output_type": "stream",
     "text": [
      "/var/folders/qc/cq4vvhlx6msd3j5kh8vlw_cm0000gn/T/ipykernel_19829/1300667664.py:1: FutureWarning: Indexing with multiple keys (implicitly converted to a tuple of keys) will be deprecated, use a list instead.\n",
      "  result_df.groupby(GMM)[MVS, SVS].mean().sort_values(MVS, ascending=False)\n"
     ]
    },
    {
     "data": {
      "text/html": [
       "<div>\n",
       "<style scoped>\n",
       "    .dataframe tbody tr th:only-of-type {\n",
       "        vertical-align: middle;\n",
       "    }\n",
       "\n",
       "    .dataframe tbody tr th {\n",
       "        vertical-align: top;\n",
       "    }\n",
       "\n",
       "    .dataframe thead th {\n",
       "        text-align: right;\n",
       "    }\n",
       "</style>\n",
       "<table border=\"1\" class=\"dataframe\">\n",
       "  <thead>\n",
       "    <tr style=\"text-align: right;\">\n",
       "      <th></th>\n",
       "      <th>mean_val_score</th>\n",
       "      <th>std_val_score</th>\n",
       "    </tr>\n",
       "    <tr>\n",
       "      <th>gamma</th>\n",
       "      <th></th>\n",
       "      <th></th>\n",
       "    </tr>\n",
       "  </thead>\n",
       "  <tbody>\n",
       "    <tr>\n",
       "      <th>0.100</th>\n",
       "      <td>0.914481</td>\n",
       "      <td>0.024718</td>\n",
       "    </tr>\n",
       "    <tr>\n",
       "      <th>0.050</th>\n",
       "      <td>0.912684</td>\n",
       "      <td>0.025386</td>\n",
       "    </tr>\n",
       "    <tr>\n",
       "      <th>0.010</th>\n",
       "      <td>0.880541</td>\n",
       "      <td>0.023130</td>\n",
       "    </tr>\n",
       "    <tr>\n",
       "      <th>0.500</th>\n",
       "      <td>0.856989</td>\n",
       "      <td>0.021267</td>\n",
       "    </tr>\n",
       "    <tr>\n",
       "      <th>0.005</th>\n",
       "      <td>0.844611</td>\n",
       "      <td>0.024020</td>\n",
       "    </tr>\n",
       "    <tr>\n",
       "      <th>0.001</th>\n",
       "      <td>0.758160</td>\n",
       "      <td>0.022132</td>\n",
       "    </tr>\n",
       "  </tbody>\n",
       "</table>\n",
       "</div>"
      ],
      "text/plain": [
       "       mean_val_score  std_val_score\n",
       "gamma                               \n",
       "0.100        0.914481       0.024718\n",
       "0.050        0.912684       0.025386\n",
       "0.010        0.880541       0.023130\n",
       "0.500        0.856989       0.021267\n",
       "0.005        0.844611       0.024020\n",
       "0.001        0.758160       0.022132"
      ]
     },
     "execution_count": 28,
     "metadata": {},
     "output_type": "execute_result"
    }
   ],
   "source": [
    "result_df.groupby(GMM)[MVS, SVS].mean().sort_values(MVS, ascending=False)"
   ]
  },
  {
   "cell_type": "markdown",
   "metadata": {},
   "source": [
    "### Test Model"
   ]
  },
  {
   "cell_type": "code",
   "execution_count": null,
   "metadata": {},
   "outputs": [],
   "source": [
    "best_result = result_df.sort_values(MVS).tail(1)\n",
    "\n",
    "# best model\n",
    "test_model = SVC(\n",
    "    kernel=best_result[KRL].values[0],\n",
    "    gamma=best_result[GMM].values[0],\n",
    "    C=best_result[CPRM].values[0]\n",
    ")\n",
    "_ = test_model.fit(train_x, train_y)"
   ]
  },
  {
   "cell_type": "markdown",
   "metadata": {},
   "source": [
    "## Testing"
   ]
  },
  {
   "cell_type": "code",
   "execution_count": null,
   "metadata": {},
   "outputs": [],
   "source": [
    "with open(f'{PICKLE_FOLDER}{TEST}{X}.pkl', 'rb') as f:\n",
    "    test_x = pickle.load(f)\n",
    "with open(f'{PICKLE_FOLDER}{TEST}{Y}.pkl', 'rb') as f:\n",
    "    test_y = pickle.load(f)"
   ]
  },
  {
   "cell_type": "markdown",
   "metadata": {},
   "source": [
    "### Score"
   ]
  },
  {
   "cell_type": "code",
   "execution_count": null,
   "metadata": {},
   "outputs": [
    {
     "data": {
      "text/plain": [
       "0.8980891719745223"
      ]
     },
     "execution_count": 31,
     "metadata": {},
     "output_type": "execute_result"
    }
   ],
   "source": [
    "test_model.score(test_x, test_y)"
   ]
  },
  {
   "cell_type": "markdown",
   "metadata": {},
   "source": [
    "### Polynomial kernel"
   ]
  },
  {
   "cell_type": "code",
   "execution_count": null,
   "metadata": {},
   "outputs": [
    {
     "ename": "NameError",
     "evalue": "name 'x' is not defined",
     "output_type": "error",
     "traceback": [
      "\u001b[0;31m---------------------------------------------------------------------------\u001b[0m",
      "\u001b[0;31mNameError\u001b[0m                                 Traceback (most recent call last)",
      "\u001b[1;32m/Users/hdjdox/Documents/e_education/magistrale/data_mining/dm-project/DM_DonatiFrancaviglia_TASK3/SVC.ipynb Cell 16\u001b[0m in \u001b[0;36m<cell line: 11>\u001b[0;34m()\u001b[0m\n\u001b[1;32m     <a href='vscode-notebook-cell:/Users/hdjdox/Documents/e_education/magistrale/data_mining/dm-project/DM_DonatiFrancaviglia_TASK3/SVC.ipynb#ch0000012?line=10'>11</a>\u001b[0m \u001b[39mfor\u001b[39;00m C_val, coeff, deg \u001b[39min\u001b[39;00m hyperparams_grid:\n\u001b[1;32m     <a href='vscode-notebook-cell:/Users/hdjdox/Documents/e_education/magistrale/data_mining/dm-project/DM_DonatiFrancaviglia_TASK3/SVC.ipynb#ch0000012?line=11'>12</a>\u001b[0m     SVC_model\u001b[39m=\u001b[39mSVC(kernel\u001b[39m=\u001b[39m\u001b[39m'\u001b[39m\u001b[39mpoly\u001b[39m\u001b[39m'\u001b[39m, degree\u001b[39m=\u001b[39mdeg, coef0\u001b[39m=\u001b[39mcoeff, C\u001b[39m=\u001b[39mC_val)\n\u001b[0;32m---> <a href='vscode-notebook-cell:/Users/hdjdox/Documents/e_education/magistrale/data_mining/dm-project/DM_DonatiFrancaviglia_TASK3/SVC.ipynb#ch0000012?line=12'>13</a>\u001b[0m     mean_val_score, std_val_score \u001b[39m=\u001b[39m cross_validation_summary(SVC_model, x, y)\n\u001b[1;32m     <a href='vscode-notebook-cell:/Users/hdjdox/Documents/e_education/magistrale/data_mining/dm-project/DM_DonatiFrancaviglia_TASK3/SVC.ipynb#ch0000012?line=13'>14</a>\u001b[0m     res \u001b[39m=\u001b[39m C_val, coeff, deg, mean_val_score, std_val_score\n\u001b[1;32m     <a href='vscode-notebook-cell:/Users/hdjdox/Documents/e_education/magistrale/data_mining/dm-project/DM_DonatiFrancaviglia_TASK3/SVC.ipynb#ch0000012?line=14'>15</a>\u001b[0m     results\u001b[39m.\u001b[39mappend(res)\n",
      "\u001b[0;31mNameError\u001b[0m: name 'x' is not defined"
     ]
    }
   ],
   "source": [
    "kernel = 'poly'\n",
    "\n",
    "C_list = [0.1, 0.5, 1, 5, 10, 50, 100]\n",
    "coeff_list = [0.5, 1, 1.5]\n",
    "degree_list = [2, 3, 4]\n",
    "\n",
    "hyperparams_grid = itertools.product(C_list, coeff_list, degree_list)\n",
    "\n",
    "results = []\n",
    "\n",
    "for C_val, coeff, deg in hyperparams_grid:\n",
    "    SVC_model=SVC(kernel='poly', degree=deg, coef0=coeff, C=C_val)\n",
    "    mean_val_score, std_val_score = cross_validation_summary(SVC_model, x, y)\n",
    "    res = C_val, coeff, deg, mean_val_score, std_val_score\n",
    "    results.append(res)\n",
    "\n",
    "columns=['C', 'coeff', 'degree', MVS, SVS]\n",
    "poly_df = pd.DataFrame(results, columns=columns)"
   ]
  },
  {
   "cell_type": "code",
   "execution_count": null,
   "metadata": {},
   "outputs": [
    {
     "data": {
      "text/html": [
       "<div>\n",
       "<style scoped>\n",
       "    .dataframe tbody tr th:only-of-type {\n",
       "        vertical-align: middle;\n",
       "    }\n",
       "\n",
       "    .dataframe tbody tr th {\n",
       "        vertical-align: top;\n",
       "    }\n",
       "\n",
       "    .dataframe thead th {\n",
       "        text-align: right;\n",
       "    }\n",
       "</style>\n",
       "<table border=\"1\" class=\"dataframe\">\n",
       "  <thead>\n",
       "    <tr style=\"text-align: right;\">\n",
       "      <th></th>\n",
       "      <th>C</th>\n",
       "      <th>coeff</th>\n",
       "      <th>degree</th>\n",
       "      <th>mean_val_score</th>\n",
       "      <th>std_val_score</th>\n",
       "    </tr>\n",
       "  </thead>\n",
       "  <tbody>\n",
       "    <tr>\n",
       "      <th>27</th>\n",
       "      <td>5.0</td>\n",
       "      <td>0.5</td>\n",
       "      <td>2</td>\n",
       "      <td>0.939263</td>\n",
       "      <td>0.020050</td>\n",
       "    </tr>\n",
       "    <tr>\n",
       "      <th>14</th>\n",
       "      <td>0.5</td>\n",
       "      <td>1.0</td>\n",
       "      <td>4</td>\n",
       "      <td>0.937663</td>\n",
       "      <td>0.018598</td>\n",
       "    </tr>\n",
       "    <tr>\n",
       "      <th>28</th>\n",
       "      <td>5.0</td>\n",
       "      <td>0.5</td>\n",
       "      <td>3</td>\n",
       "      <td>0.937663</td>\n",
       "      <td>0.019927</td>\n",
       "    </tr>\n",
       "    <tr>\n",
       "      <th>34</th>\n",
       "      <td>5.0</td>\n",
       "      <td>1.5</td>\n",
       "      <td>3</td>\n",
       "      <td>0.937651</td>\n",
       "      <td>0.021179</td>\n",
       "    </tr>\n",
       "    <tr>\n",
       "      <th>23</th>\n",
       "      <td>1.0</td>\n",
       "      <td>1.0</td>\n",
       "      <td>4</td>\n",
       "      <td>0.937651</td>\n",
       "      <td>0.024539</td>\n",
       "    </tr>\n",
       "    <tr>\n",
       "      <th>51</th>\n",
       "      <td>50.0</td>\n",
       "      <td>1.5</td>\n",
       "      <td>2</td>\n",
       "      <td>0.937638</td>\n",
       "      <td>0.025557</td>\n",
       "    </tr>\n",
       "    <tr>\n",
       "      <th>48</th>\n",
       "      <td>50.0</td>\n",
       "      <td>1.0</td>\n",
       "      <td>2</td>\n",
       "      <td>0.937638</td>\n",
       "      <td>0.025557</td>\n",
       "    </tr>\n",
       "    <tr>\n",
       "      <th>25</th>\n",
       "      <td>1.0</td>\n",
       "      <td>1.5</td>\n",
       "      <td>3</td>\n",
       "      <td>0.936063</td>\n",
       "      <td>0.020935</td>\n",
       "    </tr>\n",
       "  </tbody>\n",
       "</table>\n",
       "</div>"
      ],
      "text/plain": [
       "       C  coeff  degree  mean_val_score  std_val_score\n",
       "27   5.0    0.5       2        0.939263       0.020050\n",
       "14   0.5    1.0       4        0.937663       0.018598\n",
       "28   5.0    0.5       3        0.937663       0.019927\n",
       "34   5.0    1.5       3        0.937651       0.021179\n",
       "23   1.0    1.0       4        0.937651       0.024539\n",
       "51  50.0    1.5       2        0.937638       0.025557\n",
       "48  50.0    1.0       2        0.937638       0.025557\n",
       "25   1.0    1.5       3        0.936063       0.020935"
      ]
     },
     "execution_count": 9,
     "metadata": {},
     "output_type": "execute_result"
    }
   ],
   "source": [
    "poly_df.sort_values(MVS, ascending=False).head(8)"
   ]
  },
  {
   "cell_type": "code",
   "execution_count": null,
   "metadata": {},
   "outputs": [
    {
     "name": "stderr",
     "output_type": "stream",
     "text": [
      "/tmp/ipykernel_501099/648242800.py:1: FutureWarning: Indexing with multiple keys (implicitly converted to a tuple of keys) will be deprecated, use a list instead.\n",
      "  poly_df.groupby('C')[MVS, SVS].mean()\n"
     ]
    },
    {
     "data": {
      "text/html": [
       "<div>\n",
       "<style scoped>\n",
       "    .dataframe tbody tr th:only-of-type {\n",
       "        vertical-align: middle;\n",
       "    }\n",
       "\n",
       "    .dataframe tbody tr th {\n",
       "        vertical-align: top;\n",
       "    }\n",
       "\n",
       "    .dataframe thead th {\n",
       "        text-align: right;\n",
       "    }\n",
       "</style>\n",
       "<table border=\"1\" class=\"dataframe\">\n",
       "  <thead>\n",
       "    <tr style=\"text-align: right;\">\n",
       "      <th></th>\n",
       "      <th>mean_val_score</th>\n",
       "      <th>std_val_score</th>\n",
       "    </tr>\n",
       "    <tr>\n",
       "      <th>C</th>\n",
       "      <th></th>\n",
       "      <th></th>\n",
       "    </tr>\n",
       "  </thead>\n",
       "  <tbody>\n",
       "    <tr>\n",
       "      <th>0.1</th>\n",
       "      <td>0.891707</td>\n",
       "      <td>0.026550</td>\n",
       "    </tr>\n",
       "    <tr>\n",
       "      <th>0.5</th>\n",
       "      <td>0.919385</td>\n",
       "      <td>0.020576</td>\n",
       "    </tr>\n",
       "    <tr>\n",
       "      <th>1.0</th>\n",
       "      <td>0.924876</td>\n",
       "      <td>0.021080</td>\n",
       "    </tr>\n",
       "    <tr>\n",
       "      <th>5.0</th>\n",
       "      <td>0.933568</td>\n",
       "      <td>0.022981</td>\n",
       "    </tr>\n",
       "    <tr>\n",
       "      <th>10.0</th>\n",
       "      <td>0.927173</td>\n",
       "      <td>0.024476</td>\n",
       "    </tr>\n",
       "    <tr>\n",
       "      <th>50.0</th>\n",
       "      <td>0.927156</td>\n",
       "      <td>0.030234</td>\n",
       "    </tr>\n",
       "    <tr>\n",
       "      <th>100.0</th>\n",
       "      <td>0.922363</td>\n",
       "      <td>0.029795</td>\n",
       "    </tr>\n",
       "  </tbody>\n",
       "</table>\n",
       "</div>"
      ],
      "text/plain": [
       "       mean_val_score  std_val_score\n",
       "C                                   \n",
       "0.1          0.891707       0.026550\n",
       "0.5          0.919385       0.020576\n",
       "1.0          0.924876       0.021080\n",
       "5.0          0.933568       0.022981\n",
       "10.0         0.927173       0.024476\n",
       "50.0         0.927156       0.030234\n",
       "100.0        0.922363       0.029795"
      ]
     },
     "execution_count": 10,
     "metadata": {},
     "output_type": "execute_result"
    }
   ],
   "source": [
    "poly_df.groupby('C')[MVS, SVS].mean()"
   ]
  },
  {
   "cell_type": "code",
   "execution_count": null,
   "metadata": {},
   "outputs": [
    {
     "name": "stderr",
     "output_type": "stream",
     "text": [
      "/tmp/ipykernel_501099/3886063982.py:1: FutureWarning: Indexing with multiple keys (implicitly converted to a tuple of keys) will be deprecated, use a list instead.\n",
      "  poly_df.groupby('coeff')[MVS, SVS].mean()\n"
     ]
    },
    {
     "data": {
      "text/html": [
       "<div>\n",
       "<style scoped>\n",
       "    .dataframe tbody tr th:only-of-type {\n",
       "        vertical-align: middle;\n",
       "    }\n",
       "\n",
       "    .dataframe tbody tr th {\n",
       "        vertical-align: top;\n",
       "    }\n",
       "\n",
       "    .dataframe thead th {\n",
       "        text-align: right;\n",
       "    }\n",
       "</style>\n",
       "<table border=\"1\" class=\"dataframe\">\n",
       "  <thead>\n",
       "    <tr style=\"text-align: right;\">\n",
       "      <th></th>\n",
       "      <th>mean_val_score</th>\n",
       "      <th>std_val_score</th>\n",
       "    </tr>\n",
       "    <tr>\n",
       "      <th>coeff</th>\n",
       "      <th></th>\n",
       "      <th></th>\n",
       "    </tr>\n",
       "  </thead>\n",
       "  <tbody>\n",
       "    <tr>\n",
       "      <th>0.5</th>\n",
       "      <td>0.916284</td>\n",
       "      <td>0.025981</td>\n",
       "    </tr>\n",
       "    <tr>\n",
       "      <th>1.0</th>\n",
       "      <td>0.923194</td>\n",
       "      <td>0.025729</td>\n",
       "    </tr>\n",
       "    <tr>\n",
       "      <th>1.5</th>\n",
       "      <td>0.923192</td>\n",
       "      <td>0.023586</td>\n",
       "    </tr>\n",
       "  </tbody>\n",
       "</table>\n",
       "</div>"
      ],
      "text/plain": [
       "       mean_val_score  std_val_score\n",
       "coeff                               \n",
       "0.5          0.916284       0.025981\n",
       "1.0          0.923194       0.025729\n",
       "1.5          0.923192       0.023586"
      ]
     },
     "execution_count": 11,
     "metadata": {},
     "output_type": "execute_result"
    }
   ],
   "source": [
    "poly_df.groupby('coeff')[MVS, SVS].mean()"
   ]
  },
  {
   "cell_type": "code",
   "execution_count": null,
   "metadata": {},
   "outputs": [
    {
     "name": "stderr",
     "output_type": "stream",
     "text": [
      "/tmp/ipykernel_501099/236730163.py:1: FutureWarning: Indexing with multiple keys (implicitly converted to a tuple of keys) will be deprecated, use a list instead.\n",
      "  poly_df.groupby('degree')[MVS, SVS].mean()\n"
     ]
    },
    {
     "data": {
      "text/html": [
       "<div>\n",
       "<style scoped>\n",
       "    .dataframe tbody tr th:only-of-type {\n",
       "        vertical-align: middle;\n",
       "    }\n",
       "\n",
       "    .dataframe tbody tr th {\n",
       "        vertical-align: top;\n",
       "    }\n",
       "\n",
       "    .dataframe thead th {\n",
       "        text-align: right;\n",
       "    }\n",
       "</style>\n",
       "<table border=\"1\" class=\"dataframe\">\n",
       "  <thead>\n",
       "    <tr style=\"text-align: right;\">\n",
       "      <th></th>\n",
       "      <th>mean_val_score</th>\n",
       "      <th>std_val_score</th>\n",
       "    </tr>\n",
       "    <tr>\n",
       "      <th>degree</th>\n",
       "      <th></th>\n",
       "      <th></th>\n",
       "    </tr>\n",
       "  </thead>\n",
       "  <tbody>\n",
       "    <tr>\n",
       "      <th>2</th>\n",
       "      <td>0.919089</td>\n",
       "      <td>0.023492</td>\n",
       "    </tr>\n",
       "    <tr>\n",
       "      <th>3</th>\n",
       "      <td>0.922821</td>\n",
       "      <td>0.024337</td>\n",
       "    </tr>\n",
       "    <tr>\n",
       "      <th>4</th>\n",
       "      <td>0.920758</td>\n",
       "      <td>0.027467</td>\n",
       "    </tr>\n",
       "  </tbody>\n",
       "</table>\n",
       "</div>"
      ],
      "text/plain": [
       "        mean_val_score  std_val_score\n",
       "degree                               \n",
       "2             0.919089       0.023492\n",
       "3             0.922821       0.024337\n",
       "4             0.920758       0.027467"
      ]
     },
     "execution_count": 12,
     "metadata": {},
     "output_type": "execute_result"
    }
   ],
   "source": [
    "poly_df.groupby('degree')[MVS, SVS].mean()"
   ]
  },
  {
   "cell_type": "code",
   "execution_count": null,
   "metadata": {},
   "outputs": [
    {
     "data": {
      "text/plain": [
       "0.9363057324840764"
      ]
     },
     "execution_count": 13,
     "metadata": {},
     "output_type": "execute_result"
    }
   ],
   "source": [
    "test_SVC = SVC(kernel='poly', C=0.5, degree=4, coef0=1)\n",
    "test_SVC.fit(train_x, train_y)\n",
    "test_SVC.score(test_x, test_y)"
   ]
  },
  {
   "cell_type": "markdown",
   "metadata": {},
   "source": [
    "# Testing"
   ]
  },
  {
   "cell_type": "code",
   "execution_count": null,
   "metadata": {},
   "outputs": [],
   "source": [
    "with open(f'{PICKLE_FOLDER}{TEST}{X}.pkl', 'rb') as f:\n",
    "    test_x = pickle.load(f)\n",
    "with open(f'{PICKLE_FOLDER}{TEST}{Y}.pkl', 'rb') as f:\n",
    "    test_y = pickle.load(f)"
   ]
  }
 ],
 "metadata": {
  "kernelspec": {
   "display_name": "Python 3.8.9 64-bit",
   "language": "python",
   "name": "python3"
  },
  "language_info": {
   "codemirror_mode": {
    "name": "ipython",
    "version": 3
   },
   "file_extension": ".py",
   "mimetype": "text/x-python",
   "name": "python",
   "nbconvert_exporter": "python",
   "pygments_lexer": "ipython3",
   "version": "3.8.9"
  },
  "orig_nbformat": 4,
  "vscode": {
   "interpreter": {
    "hash": "31f2aee4e71d21fbe5cf8b01ff0e069b9275f58929596ceb00d14d90e3e16cd6"
   }
  }
 },
 "nbformat": 4,
 "nbformat_minor": 2
}
