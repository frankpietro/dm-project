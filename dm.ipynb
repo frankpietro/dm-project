{
 "cells": [
  {
   "cell_type": "markdown",
   "id": "07b99d6b",
   "metadata": {},
   "source": [
    "# Data Mining Project\n",
    "### Giorgio Donati, g.donati24@studenti.unipi.it\n",
    "### Pietro Francaviglia, p.francaviglia1@studenti.unipi.it\n",
    "#### A.Y. 2021-2022\n"
   ]
  },
  {
   "cell_type": "markdown",
   "id": "6defe5e4",
   "metadata": {},
   "source": [
    "## Libraries and datasets"
   ]
  },
  {
   "cell_type": "code",
   "execution_count": 1,
   "id": "d45a9a1e",
   "metadata": {},
   "outputs": [],
   "source": [
    "import math\n",
    "import numpy as np\n",
    "import pandas as pd\n",
    "import scipy.stats as stats\n",
    "import matplotlib.pyplot as plt"
   ]
  },
  {
   "cell_type": "code",
   "execution_count": 2,
   "id": "aa4f4d7a",
   "metadata": {},
   "outputs": [],
   "source": [
    "# load datasets\n",
    "basket_df = pd.read_csv('datasets/baskets_supermarket.csv')\n",
    "categories_df = pd.read_csv('datasets/item_categories.csv')\n",
    "items_df = pd.read_csv('datasets/items.csv')"
   ]
  },
  {
   "cell_type": "code",
   "execution_count": 65,
   "id": "8d9e7e74",
   "metadata": {},
   "outputs": [],
   "source": [
    "# global variables for column names\n",
    "# existing\n",
    "ITEM = 'item_id'\n",
    "CAT = 'item_category_id'\n",
    "DATE = 'date'\n",
    "SHOP = 'shop_id'\n",
    "UPRICE = 'item_price'\n",
    "QTY = 'item_cnt_day'\n",
    "USER = 'user_id'\n",
    "BASKET = 'basket_id'\n",
    "\n",
    "# new\n",
    "TMP = 'temp_id'\n",
    "TPRICE = 'total_price'\n",
    "BDQTY = 'item_dist_count'\n",
    "BQTY = 'item_count'"
   ]
  },
  {
   "cell_type": "markdown",
   "id": "972e2daf",
   "metadata": {},
   "source": [
    "## Basket dataset"
   ]
  },
  {
   "cell_type": "code",
   "execution_count": 3,
   "id": "21fcc1da",
   "metadata": {
    "scrolled": true
   },
   "outputs": [
    {
     "name": "stdout",
     "output_type": "stream",
     "text": [
      "<class 'pandas.core.frame.DataFrame'>\n",
      "RangeIndex: 504087 entries, 0 to 504086\n",
      "Data columns (total 8 columns):\n",
      " #   Column        Non-Null Count   Dtype  \n",
      "---  ------        --------------   -----  \n",
      " 0   Unnamed: 0    504087 non-null  int64  \n",
      " 1   date          352861 non-null  object \n",
      " 2   shop_id       469023 non-null  float64\n",
      " 3   item_id       405085 non-null  float64\n",
      " 4   item_price    451795 non-null  float64\n",
      " 5   item_cnt_day  497039 non-null  float64\n",
      " 6   user_id       433351 non-null  float64\n",
      " 7   basket_id     437967 non-null  object \n",
      "dtypes: float64(5), int64(1), object(2)\n",
      "memory usage: 30.8+ MB\n"
     ]
    }
   ],
   "source": [
    "basket_df.info()"
   ]
  },
  {
   "cell_type": "markdown",
   "id": "a25b906f",
   "metadata": {},
   "source": [
    "### Cleaning ID columns"
   ]
  },
  {
   "cell_type": "code",
   "execution_count": 64,
   "id": "ecd0c607",
   "metadata": {},
   "outputs": [
    {
     "name": "stdout",
     "output_type": "stream",
     "text": [
      "<class 'pandas.core.frame.DataFrame'>\n",
      "RangeIndex: 504087 entries, 0 to 504086\n",
      "Data columns (total 8 columns):\n",
      " #   Column        Non-Null Count   Dtype         \n",
      "---  ------        --------------   -----         \n",
      " 0   Unnamed: 0    504087 non-null  int64         \n",
      " 1   date          352861 non-null  datetime64[ns]\n",
      " 2   shop_id       469023 non-null  Int64         \n",
      " 3   item_id       405085 non-null  Int64         \n",
      " 4   item_price    451795 non-null  float64       \n",
      " 5   item_cnt_day  497039 non-null  Int64         \n",
      " 6   user_id       433351 non-null  Int64         \n",
      " 7   basket_id     437967 non-null  object        \n",
      "dtypes: Int64(4), datetime64[ns](1), float64(1), int64(1), object(1)\n",
      "memory usage: 32.7+ MB\n"
     ]
    }
   ],
   "source": [
    "non_floating_attributes = [SHOP, ITEM, QTY, USER]\n",
    "for col in non_floating_attributes:\n",
    "    basket_df[col] = basket_df[col].astype('Int64')\n",
    "\n",
    "basket_df[DATE] = pd.to_datetime(basket_df[DATE])\n",
    "    \n",
    "basket_df.info()"
   ]
  },
  {
   "cell_type": "markdown",
   "id": "6a9dd9a0",
   "metadata": {},
   "source": [
    "#### Subset with basket_id"
   ]
  },
  {
   "cell_type": "code",
   "execution_count": 5,
   "id": "f447d5b5",
   "metadata": {
    "scrolled": true
   },
   "outputs": [
    {
     "name": "stdout",
     "output_type": "stream",
     "text": [
      "<class 'pandas.core.frame.DataFrame'>\n",
      "Int64Index: 437967 entries, 0 to 504086\n",
      "Data columns (total 8 columns):\n",
      " #   Column        Non-Null Count   Dtype         \n",
      "---  ------        --------------   -----         \n",
      " 0   Unnamed: 0    437967 non-null  int64         \n",
      " 1   date          306631 non-null  datetime64[ns]\n",
      " 2   shop_id       407650 non-null  Int64         \n",
      " 3   item_id       352049 non-null  Int64         \n",
      " 4   item_price    392583 non-null  float64       \n",
      " 5   item_cnt_day  431863 non-null  Int64         \n",
      " 6   user_id       376422 non-null  Int64         \n",
      " 7   basket_id     437967 non-null  object        \n",
      "dtypes: Int64(4), datetime64[ns](1), float64(1), int64(1), object(1)\n",
      "memory usage: 31.7+ MB\n"
     ]
    }
   ],
   "source": [
    "stored_basket_df = basket_df[basket_df[BASKET].notna()]\n",
    "stored_basket_df.info()"
   ]
  },
  {
   "cell_type": "code",
   "execution_count": 6,
   "id": "ff0cd76f",
   "metadata": {},
   "outputs": [],
   "source": [
    "def integrate(int_attr, gr_attr, df):\n",
    "    df[int_attr] = df.groupby(gr_attr)[int_attr].apply(lambda x: x.fillna(x.mode().iloc[0] if len(x.mode()) == 1 else x))"
   ]
  },
  {
   "cell_type": "code",
   "execution_count": 7,
   "id": "148dd7a9",
   "metadata": {
    "scrolled": true
   },
   "outputs": [
    {
     "name": "stderr",
     "output_type": "stream",
     "text": [
      "/tmp/ipykernel_40358/631791158.py:2: SettingWithCopyWarning: \n",
      "A value is trying to be set on a copy of a slice from a DataFrame.\n",
      "Try using .loc[row_indexer,col_indexer] = value instead\n",
      "\n",
      "See the caveats in the documentation: https://pandas.pydata.org/pandas-docs/stable/user_guide/indexing.html#returning-a-view-versus-a-copy\n",
      "  df[int_attr] = df.groupby(gr_attr)[int_attr].apply(lambda x: x.fillna(x.mode().iloc[0] if len(x.mode()) == 1 else x))\n",
      "/tmp/ipykernel_40358/631791158.py:2: SettingWithCopyWarning: \n",
      "A value is trying to be set on a copy of a slice from a DataFrame.\n",
      "Try using .loc[row_indexer,col_indexer] = value instead\n",
      "\n",
      "See the caveats in the documentation: https://pandas.pydata.org/pandas-docs/stable/user_guide/indexing.html#returning-a-view-versus-a-copy\n",
      "  df[int_attr] = df.groupby(gr_attr)[int_attr].apply(lambda x: x.fillna(x.mode().iloc[0] if len(x.mode()) == 1 else x))\n"
     ]
    },
    {
     "name": "stdout",
     "output_type": "stream",
     "text": [
      "<class 'pandas.core.frame.DataFrame'>\n",
      "Int64Index: 437708 entries, 0 to 504086\n",
      "Data columns (total 8 columns):\n",
      " #   Column        Non-Null Count   Dtype         \n",
      "---  ------        --------------   -----         \n",
      " 0   Unnamed: 0    437708 non-null  int64         \n",
      " 1   date          435787 non-null  datetime64[ns]\n",
      " 2   shop_id       437524 non-null  Int64         \n",
      " 3   item_id       351844 non-null  Int64         \n",
      " 4   item_price    392353 non-null  float64       \n",
      " 5   item_cnt_day  431606 non-null  Int64         \n",
      " 6   user_id       437212 non-null  Int64         \n",
      " 7   basket_id     437708 non-null  object        \n",
      "dtypes: Int64(4), datetime64[ns](1), float64(1), int64(1), object(1)\n",
      "memory usage: 31.7+ MB\n"
     ]
    },
    {
     "name": "stderr",
     "output_type": "stream",
     "text": [
      "/tmp/ipykernel_40358/631791158.py:2: SettingWithCopyWarning: \n",
      "A value is trying to be set on a copy of a slice from a DataFrame.\n",
      "Try using .loc[row_indexer,col_indexer] = value instead\n",
      "\n",
      "See the caveats in the documentation: https://pandas.pydata.org/pandas-docs/stable/user_guide/indexing.html#returning-a-view-versus-a-copy\n",
      "  df[int_attr] = df.groupby(gr_attr)[int_attr].apply(lambda x: x.fillna(x.mode().iloc[0] if len(x.mode()) == 1 else x))\n"
     ]
    }
   ],
   "source": [
    "basket_dependent_attributes = [DATE, SHOP, USER]\n",
    "for attr in basket_dependent_attributes:\n",
    "    integrate(attr, BASKET, stored_basket_df)\n",
    "\n",
    "stored_basket_df = stored_basket_df.dropna(subset=basket_dependent_attributes, thresh=2)\n",
    "    \n",
    "stored_basket_df.info()"
   ]
  },
  {
   "cell_type": "markdown",
   "id": "cff76925",
   "metadata": {},
   "source": [
    "#### Subset without basket_id"
   ]
  },
  {
   "cell_type": "code",
   "execution_count": 8,
   "id": "6f3025cf",
   "metadata": {},
   "outputs": [
    {
     "name": "stdout",
     "output_type": "stream",
     "text": [
      "<class 'pandas.core.frame.DataFrame'>\n",
      "Int64Index: 66120 entries, 20 to 504077\n",
      "Data columns (total 8 columns):\n",
      " #   Column        Non-Null Count  Dtype         \n",
      "---  ------        --------------  -----         \n",
      " 0   Unnamed: 0    66120 non-null  int64         \n",
      " 1   date          46230 non-null  datetime64[ns]\n",
      " 2   shop_id       61373 non-null  Int64         \n",
      " 3   item_id       53036 non-null  Int64         \n",
      " 4   item_price    59212 non-null  float64       \n",
      " 5   item_cnt_day  65176 non-null  Int64         \n",
      " 6   user_id       56929 non-null  Int64         \n",
      " 7   basket_id     0 non-null      object        \n",
      "dtypes: Int64(4), datetime64[ns](1), float64(1), int64(1), object(1)\n",
      "memory usage: 4.8+ MB\n"
     ]
    }
   ],
   "source": [
    "null_basket_df = basket_df[basket_df[BASKET].isna()]\n",
    "\n",
    "null_basket_df.info()"
   ]
  },
  {
   "cell_type": "code",
   "execution_count": 9,
   "id": "f06a07f5",
   "metadata": {
    "scrolled": true
   },
   "outputs": [
    {
     "name": "stdout",
     "output_type": "stream",
     "text": [
      "<class 'pandas.core.frame.DataFrame'>\n",
      "Int64Index: 36987 entries, 61 to 504077\n",
      "Data columns (total 8 columns):\n",
      " #   Column        Non-Null Count  Dtype         \n",
      "---  ------        --------------  -----         \n",
      " 0   Unnamed: 0    36987 non-null  int64         \n",
      " 1   date          36987 non-null  datetime64[ns]\n",
      " 2   shop_id       36987 non-null  Int64         \n",
      " 3   item_id       29726 non-null  Int64         \n",
      " 4   item_price    33150 non-null  float64       \n",
      " 5   item_cnt_day  36454 non-null  Int64         \n",
      " 6   user_id       36987 non-null  Int64         \n",
      " 7   basket_id     0 non-null      object        \n",
      "dtypes: Int64(4), datetime64[ns](1), float64(1), int64(1), object(1)\n",
      "memory usage: 2.7+ MB\n"
     ]
    }
   ],
   "source": [
    "null_basket_df = null_basket_df.dropna(subset=basket_dependent_attributes)\n",
    "null_basket_df.info()"
   ]
  },
  {
   "cell_type": "code",
   "execution_count": 10,
   "id": "d230b33c",
   "metadata": {},
   "outputs": [],
   "source": [
    "null_basket_df[TMP] = null_basket_df.groupby(basket_dependent_attributes).ngroup().astype(int)"
   ]
  },
  {
   "cell_type": "code",
   "execution_count": 11,
   "id": "e1bbfb08",
   "metadata": {},
   "outputs": [
    {
     "name": "stdout",
     "output_type": "stream",
     "text": [
      "<class 'pandas.core.frame.DataFrame'>\n",
      "Int64Index: 27748 entries, 61 to 504051\n",
      "Data columns (total 8 columns):\n",
      " #   Column        Non-Null Count  Dtype         \n",
      "---  ------        --------------  -----         \n",
      " 0   Unnamed: 0    27748 non-null  int64         \n",
      " 1   date          27748 non-null  datetime64[ns]\n",
      " 2   shop_id       27748 non-null  Int64         \n",
      " 3   item_id       22323 non-null  Int64         \n",
      " 4   item_price    24897 non-null  float64       \n",
      " 5   item_cnt_day  27342 non-null  Int64         \n",
      " 6   user_id       27748 non-null  Int64         \n",
      " 7   basket_id     27748 non-null  object        \n",
      "dtypes: Int64(4), datetime64[ns](1), float64(1), int64(1), object(1)\n",
      "memory usage: 2.0+ MB\n"
     ]
    },
    {
     "name": "stderr",
     "output_type": "stream",
     "text": [
      "/tmp/ipykernel_40358/2700372355.py:2: SettingWithCopyWarning: \n",
      "A value is trying to be set on a copy of a slice from a DataFrame.\n",
      "Try using .loc[row_indexer,col_indexer] = value instead\n",
      "\n",
      "See the caveats in the documentation: https://pandas.pydata.org/pandas-docs/stable/user_guide/indexing.html#returning-a-view-versus-a-copy\n",
      "  new_basket_df['basket_id'] = 'R' + null_basket_df['new_id'].astype(str)\n",
      "/tmp/ipykernel_40358/2700372355.py:3: FutureWarning: In a future version of pandas all arguments of DataFrame.drop except for the argument 'labels' will be keyword-only.\n",
      "  new_basket_df = new_basket_df.drop('new_id', 1)\n"
     ]
    }
   ],
   "source": [
    "new_basket_df = null_basket_df[null_basket_df.duplicated(subset=[TMP], keep=False)]\n",
    "new_basket_df[BASKET] = 'R' + null_basket_df[TMP].astype(str)\n",
    "new_basket_df = new_basket_df.drop(TMP, 1)\n",
    "new_basket_df.info()"
   ]
  },
  {
   "cell_type": "code",
   "execution_count": 12,
   "id": "861852ae",
   "metadata": {},
   "outputs": [
    {
     "name": "stdout",
     "output_type": "stream",
     "text": [
      "<class 'pandas.core.frame.DataFrame'>\n",
      "Int64Index: 9239 entries, 121 to 504077\n",
      "Data columns (total 9 columns):\n",
      " #   Column        Non-Null Count  Dtype         \n",
      "---  ------        --------------  -----         \n",
      " 0   Unnamed: 0    9239 non-null   int64         \n",
      " 1   date          9239 non-null   datetime64[ns]\n",
      " 2   shop_id       9239 non-null   Int64         \n",
      " 3   item_id       7403 non-null   Int64         \n",
      " 4   item_price    8253 non-null   float64       \n",
      " 5   item_cnt_day  9112 non-null   Int64         \n",
      " 6   user_id       9239 non-null   Int64         \n",
      " 7   basket_id     0 non-null      object        \n",
      " 8   new_id        9239 non-null   int64         \n",
      "dtypes: Int64(4), datetime64[ns](1), float64(1), int64(2), object(1)\n",
      "memory usage: 757.9+ KB\n"
     ]
    }
   ],
   "source": [
    "single_basket_df = null_basket_df.drop_duplicates(subset=[TMP], keep=False)\n",
    "single_basket_df.info()"
   ]
  },
  {
   "cell_type": "code",
   "execution_count": 13,
   "id": "186bb143",
   "metadata": {},
   "outputs": [
    {
     "name": "stdout",
     "output_type": "stream",
     "text": [
      "<class 'pandas.core.frame.DataFrame'>\n",
      "Int64Index: 446947 entries, 0 to 504077\n",
      "Data columns (total 9 columns):\n",
      " #   Column        Non-Null Count   Dtype         \n",
      "---  ------        --------------   -----         \n",
      " 0   Unnamed: 0    446947 non-null  int64         \n",
      " 1   date          445026 non-null  datetime64[ns]\n",
      " 2   shop_id       446763 non-null  Int64         \n",
      " 3   item_id       359247 non-null  Int64         \n",
      " 4   item_price    400606 non-null  float64       \n",
      " 5   item_cnt_day  440718 non-null  Int64         \n",
      " 6   user_id       446451 non-null  Int64         \n",
      " 7   basket_id     437708 non-null  object        \n",
      " 8   new_id        9239 non-null    float64       \n",
      "dtypes: Int64(4), datetime64[ns](1), float64(2), int64(1), object(1)\n",
      "memory usage: 35.8+ MB\n"
     ]
    }
   ],
   "source": [
    "restoring_basket_df = pd.concat([stored_basket_df, single_basket_df])\n",
    "restoring_basket_df.info()"
   ]
  },
  {
   "cell_type": "code",
   "execution_count": 14,
   "id": "8dcddda5",
   "metadata": {},
   "outputs": [
    {
     "name": "stdout",
     "output_type": "stream",
     "text": [
      "<class 'pandas.core.frame.DataFrame'>\n",
      "Int64Index: 446947 entries, 0 to 504077\n",
      "Data columns (total 9 columns):\n",
      " #   Column        Non-Null Count   Dtype         \n",
      "---  ------        --------------   -----         \n",
      " 0   Unnamed: 0    446947 non-null  int64         \n",
      " 1   date          445026 non-null  datetime64[ns]\n",
      " 2   shop_id       446763 non-null  Int64         \n",
      " 3   item_id       359247 non-null  Int64         \n",
      " 4   item_price    400606 non-null  float64       \n",
      " 5   item_cnt_day  440718 non-null  Int64         \n",
      " 6   user_id       446451 non-null  Int64         \n",
      " 7   basket_id     443752 non-null  object        \n",
      " 8   new_id        9239 non-null    float64       \n",
      "dtypes: Int64(4), datetime64[ns](1), float64(2), int64(1), object(1)\n",
      "memory usage: 35.8+ MB\n"
     ]
    }
   ],
   "source": [
    "integrate(BASKET, basket_dependent_attributes, restoring_basket_df)\n",
    "restoring_basket_df.info()"
   ]
  },
  {
   "cell_type": "code",
   "execution_count": 15,
   "id": "e3d462b1",
   "metadata": {
    "scrolled": true
   },
   "outputs": [
    {
     "name": "stdout",
     "output_type": "stream",
     "text": [
      "<class 'pandas.core.frame.DataFrame'>\n",
      "Int64Index: 444346 entries, 0 to 504077\n",
      "Data columns (total 9 columns):\n",
      " #   Column        Non-Null Count   Dtype         \n",
      "---  ------        --------------   -----         \n",
      " 0   Unnamed: 0    444346 non-null  int64         \n",
      " 1   date          444346 non-null  datetime64[ns]\n",
      " 2   shop_id       444346 non-null  Int64         \n",
      " 3   item_id       357166 non-null  Int64         \n",
      " 4   item_price    398288 non-null  float64       \n",
      " 5   item_cnt_day  438157 non-null  Int64         \n",
      " 6   user_id       444346 non-null  Int64         \n",
      " 7   basket_id     443752 non-null  object        \n",
      " 8   new_id        9239 non-null    float64       \n",
      "dtypes: Int64(4), datetime64[ns](1), float64(2), int64(1), object(1)\n",
      "memory usage: 35.6+ MB\n"
     ]
    }
   ],
   "source": [
    "restoring_basket_df = restoring_basket_df.dropna(subset=[BASKET, DATE, SHOP, USER], thresh=3)\n",
    "restoring_basket_df.info()"
   ]
  },
  {
   "cell_type": "code",
   "execution_count": 16,
   "id": "9d0418a6",
   "metadata": {},
   "outputs": [
    {
     "name": "stdout",
     "output_type": "stream",
     "text": [
      "<class 'pandas.core.frame.DataFrame'>\n",
      "Int64Index: 444346 entries, 0 to 504077\n",
      "Data columns (total 8 columns):\n",
      " #   Column        Non-Null Count   Dtype         \n",
      "---  ------        --------------   -----         \n",
      " 0   Unnamed: 0    444346 non-null  int64         \n",
      " 1   date          444346 non-null  datetime64[ns]\n",
      " 2   shop_id       444346 non-null  Int64         \n",
      " 3   item_id       357166 non-null  Int64         \n",
      " 4   item_price    398288 non-null  float64       \n",
      " 5   item_cnt_day  438157 non-null  Int64         \n",
      " 6   user_id       444346 non-null  Int64         \n",
      " 7   basket_id     444346 non-null  object        \n",
      "dtypes: Int64(4), datetime64[ns](1), float64(1), int64(1), object(1)\n",
      "memory usage: 32.2+ MB\n"
     ]
    },
    {
     "name": "stderr",
     "output_type": "stream",
     "text": [
      "/tmp/ipykernel_40358/2726479186.py:2: FutureWarning: In a future version of pandas all arguments of DataFrame.drop except for the argument 'labels' will be keyword-only.\n",
      "  restoring_basket_df = restoring_basket_df.drop('new_id', 1)\n"
     ]
    }
   ],
   "source": [
    "restoring_basket_df[BASKET] = restoring_basket_df[BASKET].fillna('S' + restoring_basket_df[TMP].astype(str))\n",
    "restoring_basket_df = restoring_basket_df.drop(TMP, 1)\n",
    "restoring_basket_df.info()"
   ]
  },
  {
   "cell_type": "markdown",
   "id": "4be169d6",
   "metadata": {},
   "source": [
    "#### Merging subsets"
   ]
  },
  {
   "cell_type": "code",
   "execution_count": 17,
   "id": "356651ed",
   "metadata": {},
   "outputs": [
    {
     "name": "stdout",
     "output_type": "stream",
     "text": [
      "<class 'pandas.core.frame.DataFrame'>\n",
      "Int64Index: 472094 entries, 0 to 504051\n",
      "Data columns (total 8 columns):\n",
      " #   Column        Non-Null Count   Dtype         \n",
      "---  ------        --------------   -----         \n",
      " 0   Unnamed: 0    472094 non-null  int64         \n",
      " 1   date          472094 non-null  datetime64[ns]\n",
      " 2   shop_id       472094 non-null  Int64         \n",
      " 3   item_id       379489 non-null  Int64         \n",
      " 4   item_price    423185 non-null  float64       \n",
      " 5   item_cnt_day  465499 non-null  Int64         \n",
      " 6   user_id       472094 non-null  Int64         \n",
      " 7   basket_id     472094 non-null  object        \n",
      "dtypes: Int64(4), datetime64[ns](1), float64(1), int64(1), object(1)\n",
      "memory usage: 34.2+ MB\n"
     ]
    }
   ],
   "source": [
    "clean_basket_df = pd.concat([restoring_basket_df, new_basket_df])\n",
    "clean_basket_df.info()"
   ]
  },
  {
   "cell_type": "markdown",
   "id": "bfe00415",
   "metadata": {},
   "source": [
    "### Cleaning item columns"
   ]
  },
  {
   "cell_type": "code",
   "execution_count": 18,
   "id": "cc01db2d",
   "metadata": {},
   "outputs": [
    {
     "name": "stdout",
     "output_type": "stream",
     "text": [
      "<class 'pandas.core.frame.DataFrame'>\n",
      "Int64Index: 465499 entries, 0 to 504051\n",
      "Data columns (total 8 columns):\n",
      " #   Column        Non-Null Count   Dtype         \n",
      "---  ------        --------------   -----         \n",
      " 0   Unnamed: 0    465499 non-null  int64         \n",
      " 1   date          465499 non-null  datetime64[ns]\n",
      " 2   shop_id       465499 non-null  Int64         \n",
      " 3   item_id       374207 non-null  Int64         \n",
      " 4   item_price    417261 non-null  float64       \n",
      " 5   item_cnt_day  465499 non-null  Int64         \n",
      " 6   user_id       465499 non-null  Int64         \n",
      " 7   basket_id     465499 non-null  object        \n",
      "dtypes: Int64(4), datetime64[ns](1), float64(1), int64(1), object(1)\n",
      "memory usage: 33.7+ MB\n"
     ]
    }
   ],
   "source": [
    "clean_basket_df = clean_basket_df.dropna(subset=QTY)\n",
    "clean_basket_df.info()"
   ]
  },
  {
   "cell_type": "code",
   "execution_count": 19,
   "id": "11e5bb07",
   "metadata": {},
   "outputs": [
    {
     "name": "stdout",
     "output_type": "stream",
     "text": [
      "<class 'pandas.core.frame.DataFrame'>\n",
      "Int64Index: 456017 entries, 0 to 504051\n",
      "Data columns (total 8 columns):\n",
      " #   Column        Non-Null Count   Dtype         \n",
      "---  ------        --------------   -----         \n",
      " 0   Unnamed: 0    456017 non-null  int64         \n",
      " 1   date          456017 non-null  datetime64[ns]\n",
      " 2   shop_id       456017 non-null  Int64         \n",
      " 3   item_id       374207 non-null  Int64         \n",
      " 4   item_price    417261 non-null  float64       \n",
      " 5   item_cnt_day  456017 non-null  Int64         \n",
      " 6   user_id       456017 non-null  Int64         \n",
      " 7   basket_id     456017 non-null  object        \n",
      "dtypes: Int64(4), datetime64[ns](1), float64(1), int64(1), object(1)\n",
      "memory usage: 33.1+ MB\n"
     ]
    }
   ],
   "source": [
    "clean_basket_df = clean_basket_df.dropna(subset=[ITEM, UPRICE], thresh=1)\n",
    "clean_basket_df.info()"
   ]
  },
  {
   "cell_type": "code",
   "execution_count": 66,
   "id": "f5e8c4fd",
   "metadata": {},
   "outputs": [
    {
     "name": "stdout",
     "output_type": "stream",
     "text": [
      "<class 'pandas.core.frame.DataFrame'>\n",
      "RangeIndex: 455705 entries, 0 to 455704\n",
      "Data columns (total 8 columns):\n",
      " #   Column        Non-Null Count   Dtype         \n",
      "---  ------        --------------   -----         \n",
      " 0   item_id       455705 non-null  Int64         \n",
      " 1   date          455705 non-null  datetime64[ns]\n",
      " 2   shop_id       455705 non-null  Int64         \n",
      " 3   item_price    455705 non-null  float64       \n",
      " 4   item_cnt_day  455705 non-null  Int64         \n",
      " 5   user_id       455705 non-null  Int64         \n",
      " 6   basket_id     455705 non-null  object        \n",
      " 7   total_price   455705 non-null  Float64       \n",
      "dtypes: Float64(1), Int64(4), datetime64[ns](1), float64(1), object(1)\n",
      "memory usage: 30.0+ MB\n"
     ]
    }
   ],
   "source": [
    "clean_basket_df[ITEM] = clean_basket_df[ITEM].fillna(-1)\n",
    "clean_basket_df.info()"
   ]
  },
  {
   "cell_type": "code",
   "execution_count": 21,
   "id": "af2b1b65",
   "metadata": {},
   "outputs": [
    {
     "name": "stdout",
     "output_type": "stream",
     "text": [
      "<class 'pandas.core.frame.DataFrame'>\n",
      "Int64Index: 22171 entries, 0 to 22170\n",
      "Data columns (total 4 columns):\n",
      " #   Column            Non-Null Count  Dtype  \n",
      "---  ------            --------------  -----  \n",
      " 0   item_name         22170 non-null  object \n",
      " 1   item_id           22171 non-null  Int64  \n",
      " 2   item_category_id  22170 non-null  float64\n",
      " 3   item_price        16824 non-null  float64\n",
      "dtypes: Int64(1), float64(2), object(1)\n",
      "memory usage: 887.7+ KB\n"
     ]
    }
   ],
   "source": [
    "temp = clean_basket_df.groupby(ITEM)[UPRICE].mean()\n",
    "priced_items_df = pd.merge(items_df, temp, on=ITEM, how='outer')\n",
    "priced_items_df.info()"
   ]
  },
  {
   "cell_type": "code",
   "execution_count": 56,
   "id": "2cac6454",
   "metadata": {},
   "outputs": [
    {
     "name": "stdout",
     "output_type": "stream",
     "text": [
      "<class 'pandas.core.frame.DataFrame'>\n",
      "RangeIndex: 455705 entries, 0 to 455704\n",
      "Data columns (total 8 columns):\n",
      " #   Column        Non-Null Count   Dtype         \n",
      "---  ------        --------------   -----         \n",
      " 0   item_id       455705 non-null  Int64         \n",
      " 1   date          455705 non-null  datetime64[ns]\n",
      " 2   shop_id       455705 non-null  Int64         \n",
      " 3   item_price    455705 non-null  float64       \n",
      " 4   item_cnt_day  455705 non-null  Int64         \n",
      " 5   user_id       455705 non-null  Int64         \n",
      " 6   basket_id     455705 non-null  object        \n",
      " 7   total_price   455705 non-null  Float64       \n",
      "dtypes: Float64(1), Int64(4), datetime64[ns](1), float64(1), object(1)\n",
      "memory usage: 30.0+ MB\n"
     ]
    }
   ],
   "source": [
    "clean_basket_df = clean_basket_df.set_index(ITEM).join(priced_items_df.set_index(ITEM), lsuffix='', rsuffix='_temp').reset_index()\n",
    "clean_basket_df[UPRICE] = clean_basket_df[UPRICE].fillna(clean_basket_df['item_price_temp'])\n",
    "clean_basket_df = clean_basket_df.drop(['item_name', CAT, 'item_price_temp'], axis=1)\n",
    "clean_basket_df = clean_basket_df.dropna()\n",
    "clean_basket_df = clean_basket_df.drop('Unnamed: 0', axis=1)\n",
    "\n",
    "clean_basket_df.info()"
   ]
  },
  {
   "cell_type": "markdown",
   "id": "03fd292b",
   "metadata": {},
   "source": [
    "## Data visualization"
   ]
  },
  {
   "cell_type": "code",
   "execution_count": 23,
   "id": "b9b8fc9a",
   "metadata": {},
   "outputs": [],
   "source": [
    "total_df = clean_basket_df\n",
    "\n",
    "# total_df column names\n",
    "\n",
    "\n",
    "# b_df column names\n",
    "\n",
    "# BASKET = 'basket_id'\n",
    "# TPRICE = 'total_price'\n",
    "# DATE = 'date'\n",
    "# SHOP = 'shop_id'\n",
    "# USER = 'user_id'\n"
   ]
  },
  {
   "cell_type": "markdown",
   "id": "ec288166",
   "metadata": {},
   "source": [
    "### Basket number"
   ]
  },
  {
   "cell_type": "code",
   "execution_count": 24,
   "id": "db94a353",
   "metadata": {},
   "outputs": [
    {
     "data": {
      "text/plain": [
       "42263"
      ]
     },
     "execution_count": 24,
     "metadata": {},
     "output_type": "execute_result"
    }
   ],
   "source": [
    "\n",
    "b_df = total_df.groupby([BASKET])[BASKET]\n",
    "basketsCount = len(b_df)\n",
    "basketsCount"
   ]
  },
  {
   "cell_type": "markdown",
   "id": "bd26d571",
   "metadata": {},
   "source": [
    "### Baskets have same shop, user and date"
   ]
  },
  {
   "cell_type": "code",
   "execution_count": 25,
   "id": "bc9a0fdb",
   "metadata": {},
   "outputs": [
    {
     "name": "stdout",
     "output_type": "stream",
     "text": [
      "True\n"
     ]
    }
   ],
   "source": [
    "shops = len(total_df.groupby([BASKET, SHOP])[[BASKET, SHOP]])\n",
    "users = len(total_df.groupby([BASKET, USER])[[BASKET, USER]])\n",
    "dates = len(total_df.groupby([BASKET, DATE])[[BASKET, DATE]])\n",
    "\n",
    "if (shops == basketsCount and users == basketsCount and dates == basketsCount):\n",
    "    print(True)"
   ]
  },
  {
   "cell_type": "markdown",
   "id": "8ba15c93",
   "metadata": {},
   "source": [
    "### Record total price"
   ]
  },
  {
   "cell_type": "code",
   "execution_count": 26,
   "id": "f136cd3e",
   "metadata": {},
   "outputs": [
    {
     "name": "stdout",
     "output_type": "stream",
     "text": [
      "<class 'pandas.core.frame.DataFrame'>\n",
      "Int64Index: 455705 entries, 0 to 456016\n",
      "Data columns (total 9 columns):\n",
      " #   Column        Non-Null Count   Dtype         \n",
      "---  ------        --------------   -----         \n",
      " 0   item_id       455705 non-null  Int64         \n",
      " 1   Unnamed: 0    455705 non-null  int64         \n",
      " 2   date          455705 non-null  datetime64[ns]\n",
      " 3   shop_id       455705 non-null  Int64         \n",
      " 4   item_price    455705 non-null  float64       \n",
      " 5   item_cnt_day  455705 non-null  Int64         \n",
      " 6   user_id       455705 non-null  Int64         \n",
      " 7   basket_id     455705 non-null  object        \n",
      " 8   total_price   455705 non-null  Float64       \n",
      "dtypes: Float64(1), Int64(4), datetime64[ns](1), float64(1), int64(1), object(1)\n",
      "memory usage: 36.9+ MB\n"
     ]
    }
   ],
   "source": [
    "# total price\n",
    "total_df[TPRICE] = total_df[UPRICE] * total_df[QTY]\n",
    "total_df.info()"
   ]
  },
  {
   "cell_type": "code",
   "execution_count": 27,
   "id": "d6322296",
   "metadata": {},
   "outputs": [
    {
     "name": "stdout",
     "output_type": "stream",
     "text": [
      "<class 'pandas.core.frame.DataFrame'>\n",
      "Index: 42263 entries, B11 to S9966.0\n",
      "Data columns (total 7 columns):\n",
      " #   Column           Non-Null Count  Dtype         \n",
      "---  ------           --------------  -----         \n",
      " 0   basket_id        42263 non-null  object        \n",
      " 1   date             42263 non-null  datetime64[ns]\n",
      " 2   user_id          42263 non-null  object        \n",
      " 3   shop_id          42263 non-null  object        \n",
      " 4   total_price      42263 non-null  object        \n",
      " 5   item_dist_count  42263 non-null  int64         \n",
      " 6   item_count       42263 non-null  object        \n",
      "dtypes: datetime64[ns](1), int64(1), object(5)\n",
      "memory usage: 2.6+ MB\n"
     ]
    }
   ],
   "source": [
    "# make tab for basket (basket price, user, date, shop, basket quantity)\n",
    "\n",
    "b_df = pd.DataFrame()\n",
    "b_df[BASKET] = total_df.groupby([BASKET])[[BASKET]].first()\n",
    "b_df[DATE] = total_df.groupby([BASKET])[[DATE]].first()\n",
    "b_df[USER] = total_df.groupby([BASKET])[[USER]].first()\n",
    "b_df[SHOP] = total_df.groupby([BASKET])[[SHOP]].first()\n",
    "b_df[TPRICE] = total_df.groupby([BASKET])[[TPRICE]].sum()\n",
    "b_df[BDQTY] = total_df.groupby([BASKET])[[BASKET]].size()\n",
    "b_df[BQTY] = total_df.groupby([BASKET])[[QTY]].sum()\n",
    "b_df.info()\n"
   ]
  },
  {
   "cell_type": "code",
   "execution_count": 28,
   "id": "a2ba0f8e",
   "metadata": {},
   "outputs": [
    {
     "name": "stdout",
     "output_type": "stream",
     "text": [
      "<class 'pandas.core.frame.DataFrame'>\n",
      "Index: 824 entries, 1 to 824\n",
      "Data columns (total 4 columns):\n",
      " #   Column           Non-Null Count  Dtype \n",
      "---  ------           --------------  ----- \n",
      " 0   user_id          824 non-null    object\n",
      " 1   total_price      824 non-null    object\n",
      " 2   item_count       824 non-null    object\n",
      " 3   item_dist_count  824 non-null    int64 \n",
      "dtypes: int64(1), object(3)\n",
      "memory usage: 33.0+ KB\n"
     ]
    }
   ],
   "source": [
    "\n",
    "# make tab for user (total spent, item bought, average basket price, basket bought)\n",
    "u_df = pd.DataFrame()\n",
    "u_df[USER] = total_df.groupby([USER])[[USER]].first()\n",
    "u_df[TPRICE] = total_df.groupby([USER])[[TPRICE]].sum()\n",
    "u_df[BQTY] = total_df.groupby([USER])[[QTY]].sum()\n",
    "u_df[BDQTY] = total_df.groupby([USER])[[ITEM]].count()\n",
    "u_df.info()\n"
   ]
  },
  {
   "cell_type": "code",
   "execution_count": 29,
   "id": "e6076cd5",
   "metadata": {},
   "outputs": [
    {
     "name": "stdout",
     "output_type": "stream",
     "text": [
      "<class 'pandas.core.frame.DataFrame'>\n",
      "Index: 59 entries, 0 to 59\n",
      "Data columns (total 4 columns):\n",
      " #   Column           Non-Null Count  Dtype \n",
      "---  ------           --------------  ----- \n",
      " 0   shop_id          59 non-null     object\n",
      " 1   total_price      59 non-null     object\n",
      " 2   item_count       59 non-null     object\n",
      " 3   item_dist_count  59 non-null     int64 \n",
      "dtypes: int64(1), object(3)\n",
      "memory usage: 2.4+ KB\n"
     ]
    }
   ],
   "source": [
    "# make tab for shop (item sold, average price, total sold)\n",
    "s_df = pd.DataFrame()\n",
    "s_df[SHOP] = total_df.groupby([SHOP])[[SHOP]].first()\n",
    "s_df[TPRICE] = total_df.groupby([SHOP])[[TPRICE]].sum()\n",
    "s_df[BQTY] = total_df.groupby([SHOP])[[QTY]].sum()\n",
    "s_df[BDQTY] = total_df.groupby([SHOP])[[ITEM]].count()\n",
    "s_df.info()\n"
   ]
  },
  {
   "cell_type": "code",
   "execution_count": 30,
   "id": "9502ccf6",
   "metadata": {},
   "outputs": [],
   "source": [
    "# make time series to see spendings over time\n"
   ]
  },
  {
   "cell_type": "markdown",
   "id": "9ed299a1",
   "metadata": {},
   "source": [
    "## Spazio query marce"
   ]
  },
  {
   "cell_type": "code",
   "execution_count": 34,
   "id": "4b419b7d",
   "metadata": {},
   "outputs": [
    {
     "data": {
      "text/plain": [
       "date        shop_id  user_id\n",
       "2013-05-04  4        191        2\n",
       "2014-02-05  6        308        2\n",
       "2013-04-02  43       257        2\n",
       "2014-01-10  58       441        2\n",
       "2015-04-02  49       203        2\n",
       "                               ..\n",
       "2013-02-12  16       100        3\n",
       "2013-06-05  49       203        3\n",
       "2014-01-06  7        571        3\n",
       "2014-02-09  53       580        4\n",
       "2014-05-04  25       102        4\n",
       "Name: basket_id, Length: 170, dtype: int64"
      ]
     },
     "execution_count": 34,
     "metadata": {},
     "output_type": "execute_result"
    }
   ],
   "source": [
    "# 170 - triplette con basket id diversi\n",
    "stored_basket_df.groupby(basket_dependent_attributes)['basket_id'].nunique().sort_values()[-170:]"
   ]
  },
  {
   "cell_type": "code",
   "execution_count": 35,
   "id": "471eef74",
   "metadata": {},
   "outputs": [
    {
     "data": {
      "text/plain": [
       "basket_id\n",
       "B869996     1\n",
       "B5120383    1\n",
       "B8617328    1\n",
       "B8633312    1\n",
       "B8617336    1\n",
       "           ..\n",
       "B8610368    1\n",
       "B8612872    1\n",
       "B8611812    2\n",
       "B8614448    2\n",
       "B8623836    2\n",
       "Length: 3310, dtype: int64"
      ]
     },
     "execution_count": 35,
     "metadata": {},
     "output_type": "execute_result"
    }
   ],
   "source": [
    "# 3307 - ordini con una sola riga\n",
    "stored_basket_df.groupby('basket_id').size().sort_values()[:3310]"
   ]
  },
  {
   "cell_type": "code",
   "execution_count": null,
   "id": "2afd1d32",
   "metadata": {},
   "outputs": [],
   "source": []
  },
  {
   "cell_type": "markdown",
   "id": "f882d654",
   "metadata": {},
   "source": [
    "## Spazio grafici"
   ]
  },
  {
   "cell_type": "code",
   "execution_count": 36,
   "id": "4c7de792",
   "metadata": {},
   "outputs": [
    {
     "data": {
      "text/plain": [
       "<AxesSubplot:>"
      ]
     },
     "execution_count": 36,
     "metadata": {},
     "output_type": "execute_result"
    },
    {
     "data": {
      "image/png": "[encoded data removed]",
      "text/plain": [
       "<Figure size 432x288 with 1 Axes>"
      ]
     },
     "metadata": {
      "needs_background": "light"
     },
     "output_type": "display_data"
    }
   ],
   "source": [
    "clean_basket_df['shop_id'].value_counts().plot(kind='bar')"
   ]
  },
  {
   "cell_type": "code",
   "execution_count": 37,
   "id": "b12616c3",
   "metadata": {},
   "outputs": [
    {
     "data": {
      "text/plain": [
       "<AxesSubplot:xlabel='item_price', ylabel='item_cnt_day'>"
      ]
     },
     "execution_count": 37,
     "metadata": {},
     "output_type": "execute_result"
    },
    {
     "data": {
      "image/png": "[encoded data removed]",
      "text/plain": [
       "<Figure size 432x288 with 1 Axes>"
      ]
     },
     "metadata": {
      "needs_background": "light"
     },
     "output_type": "display_data"
    }
   ],
   "source": [
    "clean_basket_df.plot(x='item_price', y='item_cnt_day', kind='scatter')"
   ]
  },
  {
   "cell_type": "markdown",
   "id": "1a15adb7",
   "metadata": {},
   "source": [
    "## Spazio cazzeggio"
   ]
  },
  {
   "cell_type": "code",
   "execution_count": 38,
   "id": "e34f5103",
   "metadata": {},
   "outputs": [],
   "source": [
    "df = pd.DataFrame([[4,9],[4,3],[4,9],[4,3],[4, np.nan],[3,1],[3,np.nan],[2,np.nan],[np.nan,2], [np.nan,3]], columns=['A', 'B'])"
   ]
  },
  {
   "cell_type": "code",
   "execution_count": 39,
   "id": "c3e1dc7a",
   "metadata": {},
   "outputs": [
    {
     "data": {
      "text/html": [
       "<div>\n",
       "<style scoped>\n",
       "    .dataframe tbody tr th:only-of-type {\n",
       "        vertical-align: middle;\n",
       "    }\n",
       "\n",
       "    .dataframe tbody tr th {\n",
       "        vertical-align: top;\n",
       "    }\n",
       "\n",
       "    .dataframe thead th {\n",
       "        text-align: right;\n",
       "    }\n",
       "</style>\n",
       "<table border=\"1\" class=\"dataframe\">\n",
       "  <thead>\n",
       "    <tr style=\"text-align: right;\">\n",
       "      <th></th>\n",
       "      <th>A</th>\n",
       "      <th>B</th>\n",
       "    </tr>\n",
       "  </thead>\n",
       "  <tbody>\n",
       "    <tr>\n",
       "      <th>0</th>\n",
       "      <td>4.0</td>\n",
       "      <td>9.0</td>\n",
       "    </tr>\n",
       "    <tr>\n",
       "      <th>1</th>\n",
       "      <td>4.0</td>\n",
       "      <td>3.0</td>\n",
       "    </tr>\n",
       "    <tr>\n",
       "      <th>2</th>\n",
       "      <td>4.0</td>\n",
       "      <td>9.0</td>\n",
       "    </tr>\n",
       "    <tr>\n",
       "      <th>3</th>\n",
       "      <td>4.0</td>\n",
       "      <td>3.0</td>\n",
       "    </tr>\n",
       "    <tr>\n",
       "      <th>4</th>\n",
       "      <td>4.0</td>\n",
       "      <td>NaN</td>\n",
       "    </tr>\n",
       "    <tr>\n",
       "      <th>5</th>\n",
       "      <td>3.0</td>\n",
       "      <td>1.0</td>\n",
       "    </tr>\n",
       "    <tr>\n",
       "      <th>6</th>\n",
       "      <td>3.0</td>\n",
       "      <td>NaN</td>\n",
       "    </tr>\n",
       "    <tr>\n",
       "      <th>7</th>\n",
       "      <td>2.0</td>\n",
       "      <td>NaN</td>\n",
       "    </tr>\n",
       "    <tr>\n",
       "      <th>8</th>\n",
       "      <td>NaN</td>\n",
       "      <td>2.0</td>\n",
       "    </tr>\n",
       "    <tr>\n",
       "      <th>9</th>\n",
       "      <td>NaN</td>\n",
       "      <td>3.0</td>\n",
       "    </tr>\n",
       "  </tbody>\n",
       "</table>\n",
       "</div>"
      ],
      "text/plain": [
       "     A    B\n",
       "0  4.0  9.0\n",
       "1  4.0  3.0\n",
       "2  4.0  9.0\n",
       "3  4.0  3.0\n",
       "4  4.0  NaN\n",
       "5  3.0  1.0\n",
       "6  3.0  NaN\n",
       "7  2.0  NaN\n",
       "8  NaN  2.0\n",
       "9  NaN  3.0"
      ]
     },
     "execution_count": 39,
     "metadata": {},
     "output_type": "execute_result"
    }
   ],
   "source": [
    "df"
   ]
  },
  {
   "cell_type": "code",
   "execution_count": 40,
   "id": "8a5f5a50",
   "metadata": {},
   "outputs": [],
   "source": [
    "df['B'] = df.groupby('A')['B'].apply(lambda x: x.fillna(x.mode().iloc[0]) if len(x.mode()) == 1 else x)"
   ]
  },
  {
   "cell_type": "code",
   "execution_count": 41,
   "id": "70b80078",
   "metadata": {},
   "outputs": [
    {
     "data": {
      "text/html": [
       "<div>\n",
       "<style scoped>\n",
       "    .dataframe tbody tr th:only-of-type {\n",
       "        vertical-align: middle;\n",
       "    }\n",
       "\n",
       "    .dataframe tbody tr th {\n",
       "        vertical-align: top;\n",
       "    }\n",
       "\n",
       "    .dataframe thead th {\n",
       "        text-align: right;\n",
       "    }\n",
       "</style>\n",
       "<table border=\"1\" class=\"dataframe\">\n",
       "  <thead>\n",
       "    <tr style=\"text-align: right;\">\n",
       "      <th></th>\n",
       "      <th>A</th>\n",
       "      <th>B</th>\n",
       "    </tr>\n",
       "  </thead>\n",
       "  <tbody>\n",
       "    <tr>\n",
       "      <th>0</th>\n",
       "      <td>4.0</td>\n",
       "      <td>9.0</td>\n",
       "    </tr>\n",
       "    <tr>\n",
       "      <th>1</th>\n",
       "      <td>4.0</td>\n",
       "      <td>3.0</td>\n",
       "    </tr>\n",
       "    <tr>\n",
       "      <th>2</th>\n",
       "      <td>4.0</td>\n",
       "      <td>9.0</td>\n",
       "    </tr>\n",
       "    <tr>\n",
       "      <th>3</th>\n",
       "      <td>4.0</td>\n",
       "      <td>3.0</td>\n",
       "    </tr>\n",
       "    <tr>\n",
       "      <th>4</th>\n",
       "      <td>4.0</td>\n",
       "      <td>NaN</td>\n",
       "    </tr>\n",
       "    <tr>\n",
       "      <th>5</th>\n",
       "      <td>3.0</td>\n",
       "      <td>1.0</td>\n",
       "    </tr>\n",
       "    <tr>\n",
       "      <th>6</th>\n",
       "      <td>3.0</td>\n",
       "      <td>1.0</td>\n",
       "    </tr>\n",
       "    <tr>\n",
       "      <th>7</th>\n",
       "      <td>2.0</td>\n",
       "      <td>NaN</td>\n",
       "    </tr>\n",
       "    <tr>\n",
       "      <th>8</th>\n",
       "      <td>NaN</td>\n",
       "      <td>NaN</td>\n",
       "    </tr>\n",
       "    <tr>\n",
       "      <th>9</th>\n",
       "      <td>NaN</td>\n",
       "      <td>NaN</td>\n",
       "    </tr>\n",
       "  </tbody>\n",
       "</table>\n",
       "</div>"
      ],
      "text/plain": [
       "     A    B\n",
       "0  4.0  9.0\n",
       "1  4.0  3.0\n",
       "2  4.0  9.0\n",
       "3  4.0  3.0\n",
       "4  4.0  NaN\n",
       "5  3.0  1.0\n",
       "6  3.0  1.0\n",
       "7  2.0  NaN\n",
       "8  NaN  NaN\n",
       "9  NaN  NaN"
      ]
     },
     "execution_count": 41,
     "metadata": {},
     "output_type": "execute_result"
    }
   ],
   "source": [
    "df"
   ]
  },
  {
   "cell_type": "code",
   "execution_count": 42,
   "id": "0de0ffa2",
   "metadata": {},
   "outputs": [],
   "source": [
    "df['B'] = df.groupby('A')['B'].apply(lambda x: x.replace(0 if len(x.mode()) > 1 else x))"
   ]
  },
  {
   "cell_type": "code",
   "execution_count": 43,
   "id": "3ab3eebf",
   "metadata": {},
   "outputs": [],
   "source": [
    "# df.loc[df.groupby('A')['B'].agg(lambda x: len(x.mode())) > 1, 'B'] = 0\n"
   ]
  },
  {
   "cell_type": "markdown",
   "id": "ca1dd86e",
   "metadata": {},
   "source": [
    "### TDL\n",
    "\n",
    "basket id has trailing '.0'"
   ]
  }
 ],
 "metadata": {
  "kernelspec": {
   "display_name": "dm-exam-venv",
   "language": "python",
   "name": "dm-exam-venv"
  },
  "language_info": {
   "codemirror_mode": {
    "name": "ipython",
    "version": 3
   },
   "file_extension": ".py",
   "mimetype": "text/x-python",
   "name": "python",
   "nbconvert_exporter": "python",
   "pygments_lexer": "ipython3",
   "version": "3.10.4"
  }
 },
 "nbformat": 4,
 "nbformat_minor": 5
}
