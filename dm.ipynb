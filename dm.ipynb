{
 "cells": [
  {
   "cell_type": "markdown",
   "id": "07b99d6b",
   "metadata": {},
   "source": [
    "# Data Mining Project\n",
    "### Giorgio Donati, g.donati24@studenti.unipi.it\n",
    "### Pietro Francaviglia, p.francaviglia1@studenti.unipi.it\n",
    "#### A.Y. 2021-2022\n"
   ]
  },
  {
   "cell_type": "markdown",
   "id": "6defe5e4",
   "metadata": {},
   "source": [
    "# Libraries and datasets"
   ]
  },
  {
   "cell_type": "code",
   "execution_count": 669,
   "id": "d45a9a1e",
   "metadata": {},
   "outputs": [],
   "source": [
    "import math\n",
    "import numpy as np\n",
    "import pandas as pd\n",
    "import scipy.stats as stats\n",
    "import matplotlib.pyplot as plt"
   ]
  },
  {
   "cell_type": "code",
   "execution_count": 670,
   "id": "aa4f4d7a",
   "metadata": {},
   "outputs": [],
   "source": [
    "# load datasets\n",
    "original_basket_df = pd.read_csv('datasets/baskets_supermarket.csv')\n",
    "original_categories_df = pd.read_csv('datasets/item_categories.csv')\n",
    "original_items_df = pd.read_csv('datasets/items.csv')"
   ]
  },
  {
   "cell_type": "code",
   "execution_count": 761,
   "id": "8d9e7e74",
   "metadata": {},
   "outputs": [],
   "source": [
    "# global variables for column names\n",
    "# existing\n",
    "ITEM = 'item_id'\n",
    "CAT = 'item_category_id'\n",
    "DATE = 'date'\n",
    "SHOP = 'shop_id'\n",
    "PUNIT = 'item_price'\n",
    "CNT = 'item_cnt_day'\n",
    "USER = 'user_id'\n",
    "BASKET = 'basket_id'\n",
    "INAME = 'item_name'\n",
    "CNAME = 'item_category_name'\n",
    "\n",
    "# new\n",
    "TMP = 'temp_id'\n",
    "PSUM = 'total_price'\n",
    "IDCNT = 'item_dist_count'\n",
    "ICNT = 'item_count'\n",
    "BCNT = 'basket_count'\n",
    "PMAX = 'price_max'\n",
    "PAVG = 'price_avg'\n",
    "PMIN = 'price_min'\n",
    "PVAR = 'price_var'\n",
    "CCNT = 'category_count'"
   ]
  },
  {
   "cell_type": "code",
   "execution_count": 672,
   "id": "5b7db67b",
   "metadata": {},
   "outputs": [
    {
     "name": "stdout",
     "output_type": "stream",
     "text": [
      "<class 'pandas.core.frame.DataFrame'>\n",
      "RangeIndex: 504087 entries, 0 to 504086\n",
      "Data columns (total 8 columns):\n",
      " #   Column        Non-Null Count   Dtype  \n",
      "---  ------        --------------   -----  \n",
      " 0   Unnamed: 0    504087 non-null  int64  \n",
      " 1   date          352861 non-null  object \n",
      " 2   shop_id       469023 non-null  float64\n",
      " 3   item_id       405085 non-null  float64\n",
      " 4   item_price    451795 non-null  float64\n",
      " 5   item_cnt_day  497039 non-null  float64\n",
      " 6   user_id       433351 non-null  float64\n",
      " 7   basket_id     437967 non-null  object \n",
      "dtypes: float64(5), int64(1), object(2)\n",
      "memory usage: 30.8+ MB\n"
     ]
    }
   ],
   "source": [
    "original_basket_df.info()"
   ]
  },
  {
   "cell_type": "code",
   "execution_count": 673,
   "id": "9a01b2ed",
   "metadata": {},
   "outputs": [
    {
     "name": "stdout",
     "output_type": "stream",
     "text": [
      "<class 'pandas.core.frame.DataFrame'>\n",
      "RangeIndex: 22170 entries, 0 to 22169\n",
      "Data columns (total 3 columns):\n",
      " #   Column            Non-Null Count  Dtype \n",
      "---  ------            --------------  ----- \n",
      " 0   item_name         22170 non-null  object\n",
      " 1   item_id           22170 non-null  int64 \n",
      " 2   item_category_id  22170 non-null  int64 \n",
      "dtypes: int64(2), object(1)\n",
      "memory usage: 519.7+ KB\n"
     ]
    }
   ],
   "source": [
    "original_items_df.info()"
   ]
  },
  {
   "cell_type": "code",
   "execution_count": 674,
   "id": "41fa7ebc",
   "metadata": {},
   "outputs": [
    {
     "name": "stdout",
     "output_type": "stream",
     "text": [
      "<class 'pandas.core.frame.DataFrame'>\n",
      "RangeIndex: 84 entries, 0 to 83\n",
      "Data columns (total 2 columns):\n",
      " #   Column              Non-Null Count  Dtype \n",
      "---  ------              --------------  ----- \n",
      " 0   item_category_name  84 non-null     object\n",
      " 1   item_category_id    84 non-null     int64 \n",
      "dtypes: int64(1), object(1)\n",
      "memory usage: 1.4+ KB\n"
     ]
    }
   ],
   "source": [
    "original_categories_df.info()"
   ]
  },
  {
   "cell_type": "markdown",
   "id": "15e18099",
   "metadata": {},
   "source": [
    "# Data cleaning"
   ]
  },
  {
   "cell_type": "markdown",
   "id": "972e2daf",
   "metadata": {},
   "source": [
    "## Basket dataset"
   ]
  },
  {
   "cell_type": "code",
   "execution_count": 675,
   "id": "21fcc1da",
   "metadata": {
    "scrolled": true
   },
   "outputs": [],
   "source": [
    "basket_df = original_basket_df"
   ]
  },
  {
   "cell_type": "markdown",
   "id": "a25b906f",
   "metadata": {},
   "source": [
    "### Cleaning ID columns"
   ]
  },
  {
   "cell_type": "code",
   "execution_count": 676,
   "id": "ecd0c607",
   "metadata": {},
   "outputs": [
    {
     "name": "stdout",
     "output_type": "stream",
     "text": [
      "<class 'pandas.core.frame.DataFrame'>\n",
      "RangeIndex: 504087 entries, 0 to 504086\n",
      "Data columns (total 8 columns):\n",
      " #   Column        Non-Null Count   Dtype         \n",
      "---  ------        --------------   -----         \n",
      " 0   Unnamed: 0    504087 non-null  int64         \n",
      " 1   date          352861 non-null  datetime64[ns]\n",
      " 2   shop_id       469023 non-null  Int64         \n",
      " 3   item_id       405085 non-null  Int64         \n",
      " 4   item_price    451795 non-null  float64       \n",
      " 5   item_cnt_day  497039 non-null  Int64         \n",
      " 6   user_id       433351 non-null  Int64         \n",
      " 7   basket_id     437967 non-null  object        \n",
      "dtypes: Int64(4), datetime64[ns](1), float64(1), int64(1), object(1)\n",
      "memory usage: 32.7+ MB\n"
     ]
    }
   ],
   "source": [
    "non_floating_attributes = [SHOP, ITEM, CNT, USER]\n",
    "for col in non_floating_attributes:\n",
    "    basket_df[col] = basket_df[col].astype('Int64')\n",
    "\n",
    "basket_df[DATE] = pd.to_datetime(basket_df[DATE])\n",
    "    \n",
    "basket_df.info()"
   ]
  },
  {
   "cell_type": "markdown",
   "id": "6a9dd9a0",
   "metadata": {},
   "source": [
    "#### Subset with basket_id"
   ]
  },
  {
   "cell_type": "code",
   "execution_count": 677,
   "id": "f447d5b5",
   "metadata": {
    "scrolled": true
   },
   "outputs": [
    {
     "name": "stdout",
     "output_type": "stream",
     "text": [
      "<class 'pandas.core.frame.DataFrame'>\n",
      "Int64Index: 437967 entries, 0 to 504086\n",
      "Data columns (total 8 columns):\n",
      " #   Column        Non-Null Count   Dtype         \n",
      "---  ------        --------------   -----         \n",
      " 0   Unnamed: 0    437967 non-null  int64         \n",
      " 1   date          306631 non-null  datetime64[ns]\n",
      " 2   shop_id       407650 non-null  Int64         \n",
      " 3   item_id       352049 non-null  Int64         \n",
      " 4   item_price    392583 non-null  float64       \n",
      " 5   item_cnt_day  431863 non-null  Int64         \n",
      " 6   user_id       376422 non-null  Int64         \n",
      " 7   basket_id     437967 non-null  object        \n",
      "dtypes: Int64(4), datetime64[ns](1), float64(1), int64(1), object(1)\n",
      "memory usage: 31.7+ MB\n"
     ]
    }
   ],
   "source": [
    "stored_basket_df = basket_df[basket_df[BASKET].notna()]\n",
    "stored_basket_df.info()"
   ]
  },
  {
   "cell_type": "code",
   "execution_count": 678,
   "id": "ff0cd76f",
   "metadata": {},
   "outputs": [],
   "source": [
    "def integrate(int_attr, gr_attr, df):\n",
    "    df[int_attr] = df.groupby(gr_attr)[int_attr].apply(lambda x: x.fillna(x.mode().iloc[0] if len(x.mode()) == 1 else x))"
   ]
  },
  {
   "cell_type": "code",
   "execution_count": 679,
   "id": "148dd7a9",
   "metadata": {
    "scrolled": true
   },
   "outputs": [
    {
     "name": "stderr",
     "output_type": "stream",
     "text": [
      "/var/folders/qc/cq4vvhlx6msd3j5kh8vlw_cm0000gn/T/ipykernel_25089/631791158.py:2: SettingWithCopyWarning: \n",
      "A value is trying to be set on a copy of a slice from a DataFrame.\n",
      "Try using .loc[row_indexer,col_indexer] = value instead\n",
      "\n",
      "See the caveats in the documentation: https://pandas.pydata.org/pandas-docs/stable/user_guide/indexing.html#returning-a-view-versus-a-copy\n",
      "  df[int_attr] = df.groupby(gr_attr)[int_attr].apply(lambda x: x.fillna(x.mode().iloc[0] if len(x.mode()) == 1 else x))\n",
      "/var/folders/qc/cq4vvhlx6msd3j5kh8vlw_cm0000gn/T/ipykernel_25089/631791158.py:2: SettingWithCopyWarning: \n",
      "A value is trying to be set on a copy of a slice from a DataFrame.\n",
      "Try using .loc[row_indexer,col_indexer] = value instead\n",
      "\n",
      "See the caveats in the documentation: https://pandas.pydata.org/pandas-docs/stable/user_guide/indexing.html#returning-a-view-versus-a-copy\n",
      "  df[int_attr] = df.groupby(gr_attr)[int_attr].apply(lambda x: x.fillna(x.mode().iloc[0] if len(x.mode()) == 1 else x))\n"
     ]
    },
    {
     "name": "stdout",
     "output_type": "stream",
     "text": [
      "<class 'pandas.core.frame.DataFrame'>\n",
      "Int64Index: 437708 entries, 0 to 504086\n",
      "Data columns (total 8 columns):\n",
      " #   Column        Non-Null Count   Dtype         \n",
      "---  ------        --------------   -----         \n",
      " 0   Unnamed: 0    437708 non-null  int64         \n",
      " 1   date          435787 non-null  datetime64[ns]\n",
      " 2   shop_id       437524 non-null  Int64         \n",
      " 3   item_id       351844 non-null  Int64         \n",
      " 4   item_price    392353 non-null  float64       \n",
      " 5   item_cnt_day  431606 non-null  Int64         \n",
      " 6   user_id       437212 non-null  Int64         \n",
      " 7   basket_id     437708 non-null  object        \n",
      "dtypes: Int64(4), datetime64[ns](1), float64(1), int64(1), object(1)\n",
      "memory usage: 31.7+ MB\n"
     ]
    },
    {
     "name": "stderr",
     "output_type": "stream",
     "text": [
      "/var/folders/qc/cq4vvhlx6msd3j5kh8vlw_cm0000gn/T/ipykernel_25089/631791158.py:2: SettingWithCopyWarning: \n",
      "A value is trying to be set on a copy of a slice from a DataFrame.\n",
      "Try using .loc[row_indexer,col_indexer] = value instead\n",
      "\n",
      "See the caveats in the documentation: https://pandas.pydata.org/pandas-docs/stable/user_guide/indexing.html#returning-a-view-versus-a-copy\n",
      "  df[int_attr] = df.groupby(gr_attr)[int_attr].apply(lambda x: x.fillna(x.mode().iloc[0] if len(x.mode()) == 1 else x))\n"
     ]
    }
   ],
   "source": [
    "basket_dependent_attributes = [DATE, SHOP, USER]\n",
    "for attr in basket_dependent_attributes:\n",
    "    integrate(attr, BASKET, stored_basket_df)\n",
    "\n",
    "stored_basket_df = stored_basket_df.dropna(subset=basket_dependent_attributes, thresh=2)\n",
    "    \n",
    "stored_basket_df.info()"
   ]
  },
  {
   "cell_type": "markdown",
   "id": "cff76925",
   "metadata": {},
   "source": [
    "#### Subset without basket_id"
   ]
  },
  {
   "cell_type": "code",
   "execution_count": 680,
   "id": "6f3025cf",
   "metadata": {},
   "outputs": [
    {
     "name": "stdout",
     "output_type": "stream",
     "text": [
      "<class 'pandas.core.frame.DataFrame'>\n",
      "Int64Index: 66120 entries, 20 to 504077\n",
      "Data columns (total 8 columns):\n",
      " #   Column        Non-Null Count  Dtype         \n",
      "---  ------        --------------  -----         \n",
      " 0   Unnamed: 0    66120 non-null  int64         \n",
      " 1   date          46230 non-null  datetime64[ns]\n",
      " 2   shop_id       61373 non-null  Int64         \n",
      " 3   item_id       53036 non-null  Int64         \n",
      " 4   item_price    59212 non-null  float64       \n",
      " 5   item_cnt_day  65176 non-null  Int64         \n",
      " 6   user_id       56929 non-null  Int64         \n",
      " 7   basket_id     0 non-null      object        \n",
      "dtypes: Int64(4), datetime64[ns](1), float64(1), int64(1), object(1)\n",
      "memory usage: 4.8+ MB\n"
     ]
    }
   ],
   "source": [
    "null_basket_df = basket_df[basket_df[BASKET].isna()]\n",
    "\n",
    "null_basket_df.info()"
   ]
  },
  {
   "cell_type": "code",
   "execution_count": 681,
   "id": "f06a07f5",
   "metadata": {
    "scrolled": true
   },
   "outputs": [
    {
     "name": "stdout",
     "output_type": "stream",
     "text": [
      "<class 'pandas.core.frame.DataFrame'>\n",
      "Int64Index: 36987 entries, 61 to 504077\n",
      "Data columns (total 8 columns):\n",
      " #   Column        Non-Null Count  Dtype         \n",
      "---  ------        --------------  -----         \n",
      " 0   Unnamed: 0    36987 non-null  int64         \n",
      " 1   date          36987 non-null  datetime64[ns]\n",
      " 2   shop_id       36987 non-null  Int64         \n",
      " 3   item_id       29726 non-null  Int64         \n",
      " 4   item_price    33150 non-null  float64       \n",
      " 5   item_cnt_day  36454 non-null  Int64         \n",
      " 6   user_id       36987 non-null  Int64         \n",
      " 7   basket_id     0 non-null      object        \n",
      "dtypes: Int64(4), datetime64[ns](1), float64(1), int64(1), object(1)\n",
      "memory usage: 2.7+ MB\n"
     ]
    }
   ],
   "source": [
    "null_basket_df = null_basket_df.dropna(subset=basket_dependent_attributes)\n",
    "null_basket_df.info()"
   ]
  },
  {
   "cell_type": "code",
   "execution_count": 682,
   "id": "d230b33c",
   "metadata": {},
   "outputs": [
    {
     "data": {
      "text/plain": [
       "61           0\n",
       "67           0\n",
       "105          1\n",
       "107          1\n",
       "109          1\n",
       "          ... \n",
       "504036    6737\n",
       "504038    6737\n",
       "504051    6737\n",
       "504063    6736\n",
       "504077    6738\n",
       "Name: temp_id, Length: 36987, dtype: int64"
      ]
     },
     "execution_count": 682,
     "metadata": {},
     "output_type": "execute_result"
    }
   ],
   "source": [
    "null_basket_df[TMP] = null_basket_df.groupby(basket_dependent_attributes).ngroup().astype(int)\n",
    "null_basket_df[TMP]"
   ]
  },
  {
   "cell_type": "code",
   "execution_count": 683,
   "id": "e1bbfb08",
   "metadata": {},
   "outputs": [
    {
     "name": "stdout",
     "output_type": "stream",
     "text": [
      "<class 'pandas.core.frame.DataFrame'>\n",
      "Int64Index: 27748 entries, 61 to 504051\n",
      "Data columns (total 8 columns):\n",
      " #   Column        Non-Null Count  Dtype         \n",
      "---  ------        --------------  -----         \n",
      " 0   Unnamed: 0    27748 non-null  int64         \n",
      " 1   date          27748 non-null  datetime64[ns]\n",
      " 2   shop_id       27748 non-null  Int64         \n",
      " 3   item_id       22323 non-null  Int64         \n",
      " 4   item_price    24897 non-null  float64       \n",
      " 5   item_cnt_day  27342 non-null  Int64         \n",
      " 6   user_id       27748 non-null  Int64         \n",
      " 7   basket_id     27748 non-null  object        \n",
      "dtypes: Int64(4), datetime64[ns](1), float64(1), int64(1), object(1)\n",
      "memory usage: 2.0+ MB\n"
     ]
    },
    {
     "name": "stderr",
     "output_type": "stream",
     "text": [
      "/var/folders/qc/cq4vvhlx6msd3j5kh8vlw_cm0000gn/T/ipykernel_25089/4133404889.py:2: SettingWithCopyWarning: \n",
      "A value is trying to be set on a copy of a slice from a DataFrame.\n",
      "Try using .loc[row_indexer,col_indexer] = value instead\n",
      "\n",
      "See the caveats in the documentation: https://pandas.pydata.org/pandas-docs/stable/user_guide/indexing.html#returning-a-view-versus-a-copy\n",
      "  new_basket_df[BASKET] = 'R' + null_basket_df[TMP].astype(str)\n",
      "/var/folders/qc/cq4vvhlx6msd3j5kh8vlw_cm0000gn/T/ipykernel_25089/4133404889.py:3: FutureWarning: In a future version of pandas all arguments of DataFrame.drop except for the argument 'labels' will be keyword-only.\n",
      "  new_basket_df = new_basket_df.drop(TMP, 1)\n"
     ]
    }
   ],
   "source": [
    "new_basket_df = null_basket_df[null_basket_df.duplicated(subset=[TMP], keep=False)]\n",
    "new_basket_df[BASKET] = 'R' + null_basket_df[TMP].astype(str)\n",
    "new_basket_df = new_basket_df.drop(TMP, 1)\n",
    "new_basket_df.info()"
   ]
  },
  {
   "cell_type": "code",
   "execution_count": 684,
   "id": "861852ae",
   "metadata": {},
   "outputs": [
    {
     "name": "stdout",
     "output_type": "stream",
     "text": [
      "<class 'pandas.core.frame.DataFrame'>\n",
      "Int64Index: 9239 entries, 121 to 504077\n",
      "Data columns (total 9 columns):\n",
      " #   Column        Non-Null Count  Dtype         \n",
      "---  ------        --------------  -----         \n",
      " 0   Unnamed: 0    9239 non-null   int64         \n",
      " 1   date          9239 non-null   datetime64[ns]\n",
      " 2   shop_id       9239 non-null   Int64         \n",
      " 3   item_id       7403 non-null   Int64         \n",
      " 4   item_price    8253 non-null   float64       \n",
      " 5   item_cnt_day  9112 non-null   Int64         \n",
      " 6   user_id       9239 non-null   Int64         \n",
      " 7   basket_id     0 non-null      object        \n",
      " 8   temp_id       9239 non-null   int64         \n",
      "dtypes: Int64(4), datetime64[ns](1), float64(1), int64(2), object(1)\n",
      "memory usage: 757.9+ KB\n"
     ]
    }
   ],
   "source": [
    "single_basket_df = null_basket_df.drop_duplicates(subset=[TMP], keep=False)\n",
    "single_basket_df.info()"
   ]
  },
  {
   "cell_type": "code",
   "execution_count": 685,
   "id": "186bb143",
   "metadata": {},
   "outputs": [
    {
     "name": "stdout",
     "output_type": "stream",
     "text": [
      "<class 'pandas.core.frame.DataFrame'>\n",
      "Int64Index: 446947 entries, 0 to 504077\n",
      "Data columns (total 9 columns):\n",
      " #   Column        Non-Null Count   Dtype         \n",
      "---  ------        --------------   -----         \n",
      " 0   Unnamed: 0    446947 non-null  int64         \n",
      " 1   date          445026 non-null  datetime64[ns]\n",
      " 2   shop_id       446763 non-null  Int64         \n",
      " 3   item_id       359247 non-null  Int64         \n",
      " 4   item_price    400606 non-null  float64       \n",
      " 5   item_cnt_day  440718 non-null  Int64         \n",
      " 6   user_id       446451 non-null  Int64         \n",
      " 7   basket_id     437708 non-null  object        \n",
      " 8   temp_id       9239 non-null    float64       \n",
      "dtypes: Int64(4), datetime64[ns](1), float64(2), int64(1), object(1)\n",
      "memory usage: 35.8+ MB\n"
     ]
    }
   ],
   "source": [
    "restoring_basket_df = pd.concat([stored_basket_df, single_basket_df])\n",
    "restoring_basket_df.info()"
   ]
  },
  {
   "cell_type": "code",
   "execution_count": 686,
   "id": "8dcddda5",
   "metadata": {},
   "outputs": [
    {
     "name": "stdout",
     "output_type": "stream",
     "text": [
      "<class 'pandas.core.frame.DataFrame'>\n",
      "Int64Index: 446947 entries, 0 to 504077\n",
      "Data columns (total 9 columns):\n",
      " #   Column        Non-Null Count   Dtype         \n",
      "---  ------        --------------   -----         \n",
      " 0   Unnamed: 0    446947 non-null  int64         \n",
      " 1   date          445026 non-null  datetime64[ns]\n",
      " 2   shop_id       446763 non-null  Int64         \n",
      " 3   item_id       359247 non-null  Int64         \n",
      " 4   item_price    400606 non-null  float64       \n",
      " 5   item_cnt_day  440718 non-null  Int64         \n",
      " 6   user_id       446451 non-null  Int64         \n",
      " 7   basket_id     443752 non-null  object        \n",
      " 8   temp_id       9239 non-null    float64       \n",
      "dtypes: Int64(4), datetime64[ns](1), float64(2), int64(1), object(1)\n",
      "memory usage: 35.8+ MB\n"
     ]
    }
   ],
   "source": [
    "integrate(BASKET, basket_dependent_attributes, restoring_basket_df)\n",
    "restoring_basket_df.info()"
   ]
  },
  {
   "cell_type": "code",
   "execution_count": 687,
   "id": "e3d462b1",
   "metadata": {
    "scrolled": true
   },
   "outputs": [
    {
     "name": "stdout",
     "output_type": "stream",
     "text": [
      "<class 'pandas.core.frame.DataFrame'>\n",
      "Int64Index: 444346 entries, 0 to 504077\n",
      "Data columns (total 9 columns):\n",
      " #   Column        Non-Null Count   Dtype         \n",
      "---  ------        --------------   -----         \n",
      " 0   Unnamed: 0    444346 non-null  int64         \n",
      " 1   date          444346 non-null  datetime64[ns]\n",
      " 2   shop_id       444346 non-null  Int64         \n",
      " 3   item_id       357166 non-null  Int64         \n",
      " 4   item_price    398288 non-null  float64       \n",
      " 5   item_cnt_day  438157 non-null  Int64         \n",
      " 6   user_id       444346 non-null  Int64         \n",
      " 7   basket_id     443752 non-null  object        \n",
      " 8   temp_id       9239 non-null    float64       \n",
      "dtypes: Int64(4), datetime64[ns](1), float64(2), int64(1), object(1)\n",
      "memory usage: 35.6+ MB\n"
     ]
    }
   ],
   "source": [
    "restoring_basket_df = restoring_basket_df.dropna(subset=[BASKET, DATE, SHOP, USER], thresh=3)\n",
    "restoring_basket_df.info()"
   ]
  },
  {
   "cell_type": "code",
   "execution_count": 688,
   "id": "9d0418a6",
   "metadata": {},
   "outputs": [
    {
     "name": "stdout",
     "output_type": "stream",
     "text": [
      "<class 'pandas.core.frame.DataFrame'>\n",
      "Int64Index: 444346 entries, 0 to 504077\n",
      "Data columns (total 8 columns):\n",
      " #   Column        Non-Null Count   Dtype         \n",
      "---  ------        --------------   -----         \n",
      " 0   Unnamed: 0    444346 non-null  int64         \n",
      " 1   date          444346 non-null  datetime64[ns]\n",
      " 2   shop_id       444346 non-null  Int64         \n",
      " 3   item_id       357166 non-null  Int64         \n",
      " 4   item_price    398288 non-null  float64       \n",
      " 5   item_cnt_day  438157 non-null  Int64         \n",
      " 6   user_id       444346 non-null  Int64         \n",
      " 7   basket_id     444346 non-null  object        \n",
      "dtypes: Int64(4), datetime64[ns](1), float64(1), int64(1), object(1)\n",
      "memory usage: 32.2+ MB\n"
     ]
    },
    {
     "name": "stderr",
     "output_type": "stream",
     "text": [
      "/var/folders/qc/cq4vvhlx6msd3j5kh8vlw_cm0000gn/T/ipykernel_25089/2587483246.py:2: FutureWarning: In a future version of pandas all arguments of DataFrame.drop except for the argument 'labels' will be keyword-only.\n",
      "  restoring_basket_df = restoring_basket_df.drop(TMP, 1)\n"
     ]
    }
   ],
   "source": [
    "restoring_basket_df[BASKET] = restoring_basket_df[BASKET].fillna('S' + restoring_basket_df[TMP].astype(str))\n",
    "restoring_basket_df = restoring_basket_df.drop(TMP, 1)\n",
    "restoring_basket_df.info()"
   ]
  },
  {
   "cell_type": "markdown",
   "id": "4be169d6",
   "metadata": {},
   "source": [
    "#### Merging subsets"
   ]
  },
  {
   "cell_type": "code",
   "execution_count": 689,
   "id": "356651ed",
   "metadata": {},
   "outputs": [
    {
     "name": "stdout",
     "output_type": "stream",
     "text": [
      "<class 'pandas.core.frame.DataFrame'>\n",
      "Int64Index: 472094 entries, 0 to 504051\n",
      "Data columns (total 8 columns):\n",
      " #   Column        Non-Null Count   Dtype         \n",
      "---  ------        --------------   -----         \n",
      " 0   Unnamed: 0    472094 non-null  int64         \n",
      " 1   date          472094 non-null  datetime64[ns]\n",
      " 2   shop_id       472094 non-null  Int64         \n",
      " 3   item_id       379489 non-null  Int64         \n",
      " 4   item_price    423185 non-null  float64       \n",
      " 5   item_cnt_day  465499 non-null  Int64         \n",
      " 6   user_id       472094 non-null  Int64         \n",
      " 7   basket_id     472094 non-null  object        \n",
      "dtypes: Int64(4), datetime64[ns](1), float64(1), int64(1), object(1)\n",
      "memory usage: 34.2+ MB\n"
     ]
    }
   ],
   "source": [
    "clean_basket_df = pd.concat([restoring_basket_df, new_basket_df])\n",
    "clean_basket_df.info()"
   ]
  },
  {
   "cell_type": "markdown",
   "id": "bfe00415",
   "metadata": {},
   "source": [
    "### Cleaning item columns"
   ]
  },
  {
   "cell_type": "code",
   "execution_count": 690,
   "id": "cc01db2d",
   "metadata": {},
   "outputs": [
    {
     "name": "stdout",
     "output_type": "stream",
     "text": [
      "<class 'pandas.core.frame.DataFrame'>\n",
      "Int64Index: 464180 entries, 0 to 504051\n",
      "Data columns (total 8 columns):\n",
      " #   Column        Non-Null Count   Dtype         \n",
      "---  ------        --------------   -----         \n",
      " 0   Unnamed: 0    464180 non-null  int64         \n",
      " 1   date          464180 non-null  datetime64[ns]\n",
      " 2   shop_id       464180 non-null  Int64         \n",
      " 3   item_id       373163 non-null  Int64         \n",
      " 4   item_price    416080 non-null  float64       \n",
      " 5   item_cnt_day  464180 non-null  Int64         \n",
      " 6   user_id       464180 non-null  Int64         \n",
      " 7   basket_id     464180 non-null  object        \n",
      "dtypes: Int64(4), datetime64[ns](1), float64(1), int64(1), object(1)\n",
      "memory usage: 33.6+ MB\n"
     ]
    }
   ],
   "source": [
    "clean_basket_df = clean_basket_df.dropna(subset=CNT)\n",
    "clean_basket_df = clean_basket_df[clean_basket_df[CNT] > 0]\n",
    "clean_basket_df.info()"
   ]
  },
  {
   "cell_type": "code",
   "execution_count": 691,
   "id": "11e5bb07",
   "metadata": {},
   "outputs": [
    {
     "name": "stdout",
     "output_type": "stream",
     "text": [
      "<class 'pandas.core.frame.DataFrame'>\n",
      "Int64Index: 454723 entries, 0 to 504051\n",
      "Data columns (total 8 columns):\n",
      " #   Column        Non-Null Count   Dtype         \n",
      "---  ------        --------------   -----         \n",
      " 0   Unnamed: 0    454723 non-null  int64         \n",
      " 1   date          454723 non-null  datetime64[ns]\n",
      " 2   shop_id       454723 non-null  Int64         \n",
      " 3   item_id       373163 non-null  Int64         \n",
      " 4   item_price    416080 non-null  float64       \n",
      " 5   item_cnt_day  454723 non-null  Int64         \n",
      " 6   user_id       454723 non-null  Int64         \n",
      " 7   basket_id     454723 non-null  object        \n",
      "dtypes: Int64(4), datetime64[ns](1), float64(1), int64(1), object(1)\n",
      "memory usage: 33.0+ MB\n"
     ]
    }
   ],
   "source": [
    "clean_basket_df = clean_basket_df.dropna(subset=[ITEM, PUNIT], thresh=1)\n",
    "clean_basket_df.info()"
   ]
  },
  {
   "cell_type": "code",
   "execution_count": 692,
   "id": "f5e8c4fd",
   "metadata": {},
   "outputs": [
    {
     "name": "stdout",
     "output_type": "stream",
     "text": [
      "<class 'pandas.core.frame.DataFrame'>\n",
      "Int64Index: 454723 entries, 0 to 504051\n",
      "Data columns (total 8 columns):\n",
      " #   Column        Non-Null Count   Dtype         \n",
      "---  ------        --------------   -----         \n",
      " 0   Unnamed: 0    454723 non-null  int64         \n",
      " 1   date          454723 non-null  datetime64[ns]\n",
      " 2   shop_id       454723 non-null  Int64         \n",
      " 3   item_id       454723 non-null  Int64         \n",
      " 4   item_price    416080 non-null  float64       \n",
      " 5   item_cnt_day  454723 non-null  Int64         \n",
      " 6   user_id       454723 non-null  Int64         \n",
      " 7   basket_id     454723 non-null  object        \n",
      "dtypes: Int64(4), datetime64[ns](1), float64(1), int64(1), object(1)\n",
      "memory usage: 49.1+ MB\n"
     ]
    }
   ],
   "source": [
    "s = clean_basket_df.loc[clean_basket_df[ITEM].isna(), ITEM].fillna(-clean_basket_df[ITEM].isna().cumsum())\n",
    "clean_basket_df[ITEM] = clean_basket_df[ITEM].fillna(s)\n",
    "clean_basket_df.info()"
   ]
  },
  {
   "cell_type": "code",
   "execution_count": 693,
   "id": "af2b1b65",
   "metadata": {},
   "outputs": [
    {
     "name": "stdout",
     "output_type": "stream",
     "text": [
      "<class 'pandas.core.frame.DataFrame'>\n",
      "Int64Index: 22170 entries, 0 to 22169\n",
      "Data columns (total 4 columns):\n",
      " #   Column            Non-Null Count  Dtype  \n",
      "---  ------            --------------  -----  \n",
      " 0   item_name         22170 non-null  object \n",
      " 1   item_id           22170 non-null  int64  \n",
      " 2   item_category_id  22170 non-null  int64  \n",
      " 3   item_price        16813 non-null  float64\n",
      "dtypes: float64(1), int64(2), object(1)\n",
      "memory usage: 866.0+ KB\n"
     ]
    }
   ],
   "source": [
    "temp = clean_basket_df.groupby(ITEM)[PUNIT].mean()\n",
    "priced_items_df = pd.merge(original_items_df, temp, on=ITEM, how='left')\n",
    "priced_items_df.info()"
   ]
  },
  {
   "cell_type": "code",
   "execution_count": 694,
   "id": "2cac6454",
   "metadata": {},
   "outputs": [
    {
     "name": "stdout",
     "output_type": "stream",
     "text": [
      "<class 'pandas.core.frame.DataFrame'>\n",
      "Int64Index: 454412 entries, 0 to 454722\n",
      "Data columns (total 7 columns):\n",
      " #   Column        Non-Null Count   Dtype         \n",
      "---  ------        --------------   -----         \n",
      " 0   item_id       454412 non-null  Int64         \n",
      " 1   date          454412 non-null  datetime64[ns]\n",
      " 2   shop_id       454412 non-null  Int64         \n",
      " 3   item_price    454412 non-null  float64       \n",
      " 4   item_cnt_day  454412 non-null  Int64         \n",
      " 5   user_id       454412 non-null  Int64         \n",
      " 6   basket_id     454412 non-null  object        \n",
      "dtypes: Int64(4), datetime64[ns](1), float64(1), object(1)\n",
      "memory usage: 29.5+ MB\n"
     ]
    }
   ],
   "source": [
    "clean_basket_df = clean_basket_df.set_index(ITEM).join(priced_items_df.set_index(ITEM), lsuffix='', rsuffix='_temp').reset_index()\n",
    "clean_basket_df[PUNIT] = clean_basket_df[PUNIT].fillna(clean_basket_df['item_price_temp'])\n",
    "clean_basket_df = clean_basket_df.drop([INAME, CAT, 'item_price_temp'], axis=1)\n",
    "clean_basket_df = clean_basket_df.dropna()\n",
    "clean_basket_df = clean_basket_df.drop('Unnamed: 0', axis=1)\n",
    "\n",
    "clean_basket_df.info()"
   ]
  },
  {
   "cell_type": "markdown",
   "id": "7080d747",
   "metadata": {},
   "source": [
    "### Baskets have unique entry for each item"
   ]
  },
  {
   "cell_type": "code",
   "execution_count": 695,
   "id": "9b5a9f79",
   "metadata": {},
   "outputs": [
    {
     "data": {
      "text/plain": [
       "basket_id  item_id\n",
       "R2533      16581      2\n",
       "dtype: int64"
      ]
     },
     "execution_count": 695,
     "metadata": {},
     "output_type": "execute_result"
    }
   ],
   "source": [
    "basket_item_count = clean_basket_df[clean_basket_df[ITEM] > 0].groupby([BASKET, ITEM]).size()\n",
    "basket_item_count[basket_item_count > 1]"
   ]
  },
  {
   "cell_type": "code",
   "execution_count": 696,
   "id": "a8f80c23",
   "metadata": {},
   "outputs": [],
   "source": [
    "id = basket_item_count[basket_item_count > 1].index\n",
    "index = clean_basket_df[(clean_basket_df[BASKET] == id[0][0]) & (clean_basket_df[ITEM] == id[0][1])].index\n",
    "dropIndex = index[0]\n",
    "keepIndex = index[1]"
   ]
  },
  {
   "cell_type": "code",
   "execution_count": 697,
   "id": "c3c174d4",
   "metadata": {},
   "outputs": [],
   "source": [
    "# add qty of drop to the keeping row and drop the other row\n",
    "clean_basket_df[CNT][keepIndex] += clean_basket_df[CNT][dropIndex]\n",
    "clean_basket_df.drop(axis=0, labels=dropIndex, inplace=True)"
   ]
  },
  {
   "cell_type": "code",
   "execution_count": 698,
   "id": "29d66bf2",
   "metadata": {},
   "outputs": [
    {
     "data": {
      "text/plain": [
       "True"
      ]
     },
     "execution_count": 698,
     "metadata": {},
     "output_type": "execute_result"
    }
   ],
   "source": [
    "basket_item_count = clean_basket_df[clean_basket_df[ITEM] > 0].groupby([BASKET, ITEM]).size()\n",
    "basket_item_count[basket_item_count > 1].empty"
   ]
  },
  {
   "cell_type": "markdown",
   "id": "03fd292b",
   "metadata": {},
   "source": [
    "# Data visualization"
   ]
  },
  {
   "cell_type": "code",
   "execution_count": 699,
   "id": "b9b8fc9a",
   "metadata": {},
   "outputs": [],
   "source": [
    "total_df = clean_basket_df"
   ]
  },
  {
   "cell_type": "markdown",
   "id": "ec288166",
   "metadata": {},
   "source": [
    "### Basket number"
   ]
  },
  {
   "cell_type": "code",
   "execution_count": 700,
   "id": "db94a353",
   "metadata": {},
   "outputs": [
    {
     "data": {
      "text/plain": [
       "42252"
      ]
     },
     "execution_count": 700,
     "metadata": {},
     "output_type": "execute_result"
    }
   ],
   "source": [
    "basketsCount = len(clean_basket_df.groupby([BASKET])[BASKET])\n",
    "basketsCount"
   ]
  },
  {
   "cell_type": "markdown",
   "id": "bd26d571",
   "metadata": {},
   "source": [
    "### Baskets have same shop, user and date"
   ]
  },
  {
   "cell_type": "code",
   "execution_count": 701,
   "id": "bc9a0fdb",
   "metadata": {},
   "outputs": [
    {
     "name": "stdout",
     "output_type": "stream",
     "text": [
      "True\n"
     ]
    }
   ],
   "source": [
    "# data integrity\n",
    "basketShopCount = len(clean_basket_df.groupby([BASKET, SHOP])[[BASKET, SHOP]])\n",
    "basketUserCount = len(clean_basket_df.groupby([BASKET, USER])[[BASKET, USER]])\n",
    "basketDateCount = len(clean_basket_df.groupby([BASKET, DATE])[[BASKET, DATE]])\n",
    "\n",
    "if (basketShopCount == basketsCount and basketUserCount == basketsCount and basketDateCount == basketsCount):\n",
    "    print(True)"
   ]
  },
  {
   "cell_type": "markdown",
   "id": "03fd292b",
   "metadata": {},
   "source": [
    "## Data visualization"
   ]
  },
  {
   "cell_type": "code",
   "execution_count": 702,
   "id": "b9b8fc9a",
   "metadata": {},
   "outputs": [],
   "source": [
    "total_df = clean_basket_df"
   ]
  },
  {
   "cell_type": "markdown",
   "id": "8ba15c93",
   "metadata": {},
   "source": [
    "### Record total price"
   ]
  },
  {
   "cell_type": "code",
   "execution_count": 703,
   "id": "f136cd3e",
   "metadata": {},
   "outputs": [
    {
     "name": "stdout",
     "output_type": "stream",
     "text": [
      "<class 'pandas.core.frame.DataFrame'>\n",
      "Int64Index: 454411 entries, 0 to 454722\n",
      "Data columns (total 8 columns):\n",
      " #   Column        Non-Null Count   Dtype         \n",
      "---  ------        --------------   -----         \n",
      " 0   item_id       454411 non-null  Int64         \n",
      " 1   date          454411 non-null  datetime64[ns]\n",
      " 2   shop_id       454411 non-null  Int64         \n",
      " 3   item_price    454411 non-null  float64       \n",
      " 4   item_cnt_day  454411 non-null  Int64         \n",
      " 5   user_id       454411 non-null  Int64         \n",
      " 6   basket_id     454411 non-null  object        \n",
      " 7   total_price   454411 non-null  Float64       \n",
      "dtypes: Float64(1), Int64(4), datetime64[ns](1), float64(1), object(1)\n",
      "memory usage: 33.4+ MB\n"
     ]
    }
   ],
   "source": [
    "# total price\n",
    "total_df[PSUM] = total_df[PUNIT] * total_df[CNT]\n",
    "total_df.info()"
   ]
  },
  {
   "cell_type": "markdown",
   "id": "4c6ffcb4",
   "metadata": {},
   "source": [
    "### Domains"
   ]
  },
  {
   "cell_type": "code",
   "execution_count": 741,
   "id": "0d180cad",
   "metadata": {},
   "outputs": [
    {
     "data": {
      "text/plain": [
       "item_id                      -81560\n",
       "date            2013-01-01 00:00:00\n",
       "shop_id                           0\n",
       "item_price                      0.1\n",
       "item_cnt_day                      1\n",
       "user_id                           1\n",
       "basket_id                       B11\n",
       "total_price                     0.1\n",
       "dtype: object"
      ]
     },
     "execution_count": 741,
     "metadata": {},
     "output_type": "execute_result"
    }
   ],
   "source": [
    "total_df.min()"
   ]
  },
  {
   "cell_type": "code",
   "execution_count": 742,
   "id": "90dfb4e9",
   "metadata": {},
   "outputs": [
    {
     "name": "stderr",
     "output_type": "stream",
     "text": [
      "/var/folders/qc/cq4vvhlx6msd3j5kh8vlw_cm0000gn/T/ipykernel_25089/3229925861.py:1: FutureWarning: DataFrame.mean and DataFrame.median with numeric_only=None will include datetime64 and datetime64tz columns in a future version.\n",
      "  total_df.mean()\n",
      "/var/folders/qc/cq4vvhlx6msd3j5kh8vlw_cm0000gn/T/ipykernel_25089/3229925861.py:1: FutureWarning: Dropping of nuisance columns in DataFrame reductions (with 'numeric_only=None') is deprecated; in a future version this will raise TypeError.  Select only valid columns before calling the reduction.\n",
      "  total_df.mean()\n"
     ]
    },
    {
     "data": {
      "text/plain": [
       "item_id         1068.887338\n",
       "shop_id           32.699688\n",
       "item_price       869.325156\n",
       "item_cnt_day       1.249776\n",
       "user_id          411.743538\n",
       "total_price     1099.643366\n",
       "dtype: float64"
      ]
     },
     "execution_count": 742,
     "metadata": {},
     "output_type": "execute_result"
    }
   ],
   "source": [
    "total_df.mean()"
   ]
  },
  {
   "cell_type": "code",
   "execution_count": 743,
   "id": "be4d1d58",
   "metadata": {},
   "outputs": [
    {
     "data": {
      "text/plain": [
       "item_id                       22168\n",
       "date            2015-06-10 00:00:00\n",
       "shop_id                          59\n",
       "item_price                  35990.0\n",
       "item_cnt_day                    512\n",
       "user_id                         824\n",
       "basket_id                   S9966.0\n",
       "total_price               1044450.0\n",
       "dtype: object"
      ]
     },
     "execution_count": 743,
     "metadata": {},
     "output_type": "execute_result"
    }
   ],
   "source": [
    "total_df.max()"
   ]
  },
  {
   "cell_type": "markdown",
   "id": "5c35c0cb",
   "metadata": {},
   "source": [
    "### Basket table"
   ]
  },
  {
   "cell_type": "code",
   "execution_count": 707,
   "id": "d6322296",
   "metadata": {},
   "outputs": [
    {
     "name": "stdout",
     "output_type": "stream",
     "text": [
      "<class 'pandas.core.frame.DataFrame'>\n",
      "Index: 42252 entries, B11 to S9966.0\n",
      "Data columns (total 7 columns):\n",
      " #   Column           Non-Null Count  Dtype         \n",
      "---  ------           --------------  -----         \n",
      " 0   basket_id        42252 non-null  object        \n",
      " 1   date             42252 non-null  datetime64[ns]\n",
      " 2   user_id          42252 non-null  int64         \n",
      " 3   shop_id          42252 non-null  int64         \n",
      " 4   total_price      42252 non-null  float64       \n",
      " 5   item_count       42252 non-null  int64         \n",
      " 6   item_dist_count  42252 non-null  int64         \n",
      "dtypes: datetime64[ns](1), float64(1), int64(4), object(1)\n",
      "memory usage: 2.6+ MB\n"
     ]
    }
   ],
   "source": [
    "# make tab for basket (basket price, user, date, shop, basket quantity)\n",
    "b_df = pd.DataFrame()\n",
    "b_df[BASKET] = total_df.groupby([BASKET])[[BASKET]].first()\n",
    "b_df[DATE] = total_df.groupby([BASKET])[[DATE]].first()\n",
    "b_df[USER] = total_df.groupby([BASKET])[[USER]].first().astype(int)\n",
    "b_df[SHOP] = total_df.groupby([BASKET])[[SHOP]].first().astype(int)\n",
    "b_df[PSUM] = total_df.groupby([BASKET])[[PSUM]].sum().astype(float)\n",
    "b_df[ICNT] = total_df.groupby([BASKET])[[CNT]].sum().astype(int)\n",
    "b_df[IDCNT] = total_df.groupby([BASKET])[[ITEM]].nunique()\n",
    "b_df[CCNT] = total_df.join()\n",
    "b_df.info()"
   ]
  },
  {
   "cell_type": "code",
   "execution_count": 708,
   "id": "6325e234",
   "metadata": {},
   "outputs": [],
   "source": [
    "# b_df[PSUM].sort_values().plot()"
   ]
  },
  {
   "cell_type": "code",
   "execution_count": 709,
   "id": "26759ec5",
   "metadata": {},
   "outputs": [],
   "source": [
    "# b_df[ICNT].sort_values().plot()"
   ]
  },
  {
   "cell_type": "code",
   "execution_count": 710,
   "id": "46393b70",
   "metadata": {},
   "outputs": [],
   "source": [
    "# b_df[IDCNT].sort_values().plot()"
   ]
  },
  {
   "cell_type": "markdown",
   "id": "34e73d8c",
   "metadata": {},
   "source": [
    "### Item table"
   ]
  },
  {
   "cell_type": "code",
   "execution_count": 751,
   "id": "f2443fd0",
   "metadata": {},
   "outputs": [
    {
     "name": "stdout",
     "output_type": "stream",
     "text": [
      "<class 'pandas.core.frame.DataFrame'>\n",
      "Index: 98373 entries, -81560 to 22168\n",
      "Data columns (total 6 columns):\n",
      " #   Column      Non-Null Count  Dtype  \n",
      "---  ------      --------------  -----  \n",
      " 0   item_id     98373 non-null  int64  \n",
      " 1   price_max   98373 non-null  float64\n",
      " 2   price_min   98373 non-null  float64\n",
      " 3   price_avg   98373 non-null  float64\n",
      " 4   price_var   98373 non-null  float64\n",
      " 5   item_count  98373 non-null  Int64  \n",
      "dtypes: Int64(1), float64(4), int64(1)\n",
      "memory usage: 5.4 MB\n"
     ]
    }
   ],
   "source": [
    "i_df = pd.DataFrame()\n",
    "i_df[ITEM] = total_df.groupby([ITEM])[[ITEM]].first().astype(int)\n",
    "i_df[PMAX] = total_df.groupby([ITEM])[[PUNIT]].max()\n",
    "i_df[PMIN] = total_df.groupby([ITEM])[PUNIT].min()\n",
    "i_df[PAVG] = total_df.groupby([ITEM])[PUNIT].mean()\n",
    "i_df[PVAR] = total_df.groupby([ITEM])[PUNIT].var().fillna(0)\n",
    "i_df[ICNT] = total_df.groupby([ITEM])[CNT].sum()\n",
    "i_df.info()"
   ]
  },
  {
   "cell_type": "code",
   "execution_count": null,
   "id": "c1c589e3",
   "metadata": {},
   "outputs": [],
   "source": [
    "a = pd.DataFrame(1, 1)\n"
   ]
  },
  {
   "cell_type": "markdown",
   "id": "184bfc38",
   "metadata": {},
   "source": []
  },
  {
   "cell_type": "markdown",
   "id": "a82ccf69",
   "metadata": {},
   "source": [
    "### User table"
   ]
  },
  {
   "cell_type": "code",
   "execution_count": 711,
   "id": "a2ba0f8e",
   "metadata": {},
   "outputs": [
    {
     "name": "stdout",
     "output_type": "stream",
     "text": [
      "<class 'pandas.core.frame.DataFrame'>\n",
      "Index: 824 entries, 1 to 824\n",
      "Data columns (total 5 columns):\n",
      " #   Column           Non-Null Count  Dtype  \n",
      "---  ------           --------------  -----  \n",
      " 0   user_id          824 non-null    int64  \n",
      " 1   total_price      824 non-null    float64\n",
      " 2   item_count       824 non-null    int64  \n",
      " 3   item_dist_count  824 non-null    int64  \n",
      " 4   basket_count     824 non-null    int64  \n",
      "dtypes: float64(1), int64(4)\n",
      "memory usage: 39.4 KB\n"
     ]
    }
   ],
   "source": [
    "# make tab for user (total spent, item bought, average basket price, basket bought)\n",
    "u_df = pd.DataFrame()\n",
    "u_df[USER] = total_df.groupby([USER])[[USER]].first().astype(int)\n",
    "u_df[PSUM] = total_df.groupby([USER])[[PSUM]].sum().astype(float)\n",
    "u_df[ICNT] = total_df.groupby([USER])[[CNT]].sum().astype(int)\n",
    "u_df[IDCNT] = total_df.groupby([USER])[ITEM].nunique()\n",
    "u_df[BCNT] = b_df.groupby([USER]).size()\n",
    "u_df.info()"
   ]
  },
  {
   "cell_type": "code",
   "execution_count": 712,
   "id": "72289302",
   "metadata": {},
   "outputs": [],
   "source": [
    "# u_df[PSUM].sort_values().plot(kind='bar')"
   ]
  },
  {
   "cell_type": "code",
   "execution_count": 713,
   "id": "270cbe34",
   "metadata": {},
   "outputs": [],
   "source": [
    "# u_df[ICNT].sort_values().plot(kind='bar')"
   ]
  },
  {
   "cell_type": "code",
   "execution_count": 714,
   "id": "bc7f6558",
   "metadata": {},
   "outputs": [],
   "source": [
    "# u_df[IDCNT].sort_values().plot(kind='bar')"
   ]
  },
  {
   "cell_type": "markdown",
   "id": "ffe68d78",
   "metadata": {},
   "source": [
    "### Shop table"
   ]
  },
  {
   "cell_type": "code",
   "execution_count": 715,
   "id": "e6076cd5",
   "metadata": {},
   "outputs": [
    {
     "name": "stdout",
     "output_type": "stream",
     "text": [
      "<class 'pandas.core.frame.DataFrame'>\n",
      "Index: 59 entries, 0 to 59\n",
      "Data columns (total 5 columns):\n",
      " #   Column           Non-Null Count  Dtype  \n",
      "---  ------           --------------  -----  \n",
      " 0   shop_id          59 non-null     int64  \n",
      " 1   total_price      59 non-null     float64\n",
      " 2   item_count       59 non-null     int64  \n",
      " 3   item_dist_count  59 non-null     int64  \n",
      " 4   basket_count     59 non-null     int64  \n",
      "dtypes: float64(1), int64(4)\n",
      "memory usage: 2.8 KB\n"
     ]
    }
   ],
   "source": [
    "# make tab for shop (item sold, average price, total sold)\n",
    "s_df = pd.DataFrame()\n",
    "s_df[SHOP] = total_df.groupby([SHOP])[[SHOP]].first().astype(int)\n",
    "s_df[PSUM] = total_df.groupby([SHOP])[[PSUM]].sum().astype(float)\n",
    "s_df[ICNT] = total_df.groupby([SHOP])[[CNT]].sum().astype(int)\n",
    "s_df[IDCNT] = total_df.groupby([SHOP])[[ITEM]].nunique()\n",
    "s_df[BCNT] = b_df.groupby([SHOP]).size()\n",
    "s_df.info()"
   ]
  },
  {
   "cell_type": "code",
   "execution_count": 716,
   "id": "fd37bc99",
   "metadata": {},
   "outputs": [],
   "source": [
    "# s_df[PSUM].sort_values().plot(kind='bar')"
   ]
  },
  {
   "cell_type": "code",
   "execution_count": 717,
   "id": "bd69246f",
   "metadata": {},
   "outputs": [],
   "source": [
    "# s_df[ICNT].sort_values().plot(kind='bar')"
   ]
  },
  {
   "cell_type": "code",
   "execution_count": 718,
   "id": "d1a77eac",
   "metadata": {},
   "outputs": [],
   "source": [
    "# s_df[IDCNT].sort_values().plot(kind='bar')"
   ]
  },
  {
   "cell_type": "markdown",
   "id": "35469ec8",
   "metadata": {},
   "source": [
    "### Date table"
   ]
  },
  {
   "cell_type": "code",
   "execution_count": 719,
   "id": "9502ccf6",
   "metadata": {},
   "outputs": [
    {
     "name": "stdout",
     "output_type": "stream",
     "text": [
      "<class 'pandas.core.frame.DataFrame'>\n",
      "DatetimeIndex: 203 entries, 2013-06-12 to 2013-01-01\n",
      "Data columns (total 3 columns):\n",
      " #   Column           Non-Null Count  Dtype  \n",
      "---  ------           --------------  -----  \n",
      " 0   total_price      203 non-null    float64\n",
      " 1   item_count       203 non-null    int64  \n",
      " 2   item_dist_count  203 non-null    int64  \n",
      "dtypes: float64(1), int64(2)\n",
      "memory usage: 6.3 KB\n"
     ]
    }
   ],
   "source": [
    "# make time series to see spendings over time\n",
    "d_df = pd.DataFrame(index=total_df[DATE].unique())\n",
    "d_df[PSUM] = total_df.groupby([DATE])[[PSUM]].sum().astype(float)\n",
    "d_df[ICNT] = total_df.groupby([DATE])[[CNT]].sum().astype(int)\n",
    "d_df[IDCNT] = total_df.groupby([DATE])[[ITEM]].count()\n",
    "d_df[BCNT] = b_df.groupby([DATE]).size()\n",
    "d_df.info()\n"
   ]
  },
  {
   "cell_type": "code",
   "execution_count": 720,
   "id": "8ec013f2",
   "metadata": {},
   "outputs": [],
   "source": [
    "# d_df[IDCNT].plot()"
   ]
  },
  {
   "cell_type": "code",
   "execution_count": 721,
   "id": "14ccf651",
   "metadata": {},
   "outputs": [],
   "source": [
    "# d_df[PSUM].plot()"
   ]
  },
  {
   "cell_type": "code",
   "execution_count": 722,
   "id": "22deaa23",
   "metadata": {},
   "outputs": [],
   "source": [
    "# d_df[ICNT].plot()"
   ]
  },
  {
   "cell_type": "markdown",
   "id": "9ed299a1",
   "metadata": {},
   "source": [
    "## Spazio query marce"
   ]
  },
  {
   "cell_type": "code",
   "execution_count": 723,
   "id": "4b419b7d",
   "metadata": {},
   "outputs": [
    {
     "data": {
      "text/plain": [
       "date        shop_id  user_id\n",
       "2013-05-04  4        191        2\n",
       "2014-02-05  6        308        2\n",
       "2013-04-02  43       257        2\n",
       "2014-01-10  58       441        2\n",
       "2015-04-02  49       203        2\n",
       "                               ..\n",
       "2013-02-12  16       100        3\n",
       "2013-06-05  49       203        3\n",
       "2014-01-06  7        571        3\n",
       "2014-02-09  53       580        4\n",
       "2014-05-04  25       102        4\n",
       "Name: basket_id, Length: 170, dtype: int64"
      ]
     },
     "execution_count": 723,
     "metadata": {},
     "output_type": "execute_result"
    }
   ],
   "source": [
    "# 170 - triplette con basket id diversi\n",
    "stored_basket_df.groupby(basket_dependent_attributes)[BASKET].nunique().sort_values()[-170:]"
   ]
  },
  {
   "cell_type": "code",
   "execution_count": 724,
   "id": "471eef74",
   "metadata": {},
   "outputs": [
    {
     "data": {
      "text/plain": [
       "basket_id\n",
       "B869996     1\n",
       "B5120383    1\n",
       "B8617328    1\n",
       "B8633312    1\n",
       "B8617336    1\n",
       "           ..\n",
       "B8610368    1\n",
       "B8612872    1\n",
       "B8611812    2\n",
       "B8614448    2\n",
       "B8623836    2\n",
       "Length: 3310, dtype: int64"
      ]
     },
     "execution_count": 724,
     "metadata": {},
     "output_type": "execute_result"
    }
   ],
   "source": [
    "# 3307 - ordini con una sola riga\n",
    "stored_basket_df.groupby('basket_id').size().sort_values()[:3310]"
   ]
  },
  {
   "cell_type": "code",
   "execution_count": 725,
   "id": "2afd1d32",
   "metadata": {},
   "outputs": [
    {
     "data": {
      "text/plain": [
       "0             B11\n",
       "1             B11\n",
       "2             B11\n",
       "3             B11\n",
       "4             B11\n",
       "           ...   \n",
       "257043    S9916.0\n",
       "257725    S9949.0\n",
       "257767    S9950.0\n",
       "258066    S9964.0\n",
       "258106    S9966.0\n",
       "Name: basket_id, Length: 444346, dtype: object"
      ]
     },
     "execution_count": 725,
     "metadata": {},
     "output_type": "execute_result"
    }
   ],
   "source": [
    "restoring_basket_df[BASKET].sort_values()"
   ]
  },
  {
   "cell_type": "code",
   "execution_count": null,
   "id": "f3e82b72",
   "metadata": {},
   "outputs": [],
   "source": []
  },
  {
   "cell_type": "markdown",
   "id": "f882d654",
   "metadata": {},
   "source": [
    "## Spazio grafici"
   ]
  },
  {
   "cell_type": "code",
   "execution_count": 726,
   "id": "4c7de792",
   "metadata": {},
   "outputs": [
    {
     "data": {
      "text/plain": [
       "<AxesSubplot:>"
      ]
     },
     "execution_count": 726,
     "metadata": {},
     "output_type": "execute_result"
    },
    {
     "data": {
      "image/png": "[encoded data removed]",
      "text/plain": [
       "<Figure size 432x288 with 1 Axes>"
      ]
     },
     "metadata": {
      "needs_background": "light"
     },
     "output_type": "display_data"
    }
   ],
   "source": [
    "clean_basket_df['shop_id'].value_counts().plot(kind='bar')"
   ]
  },
  {
   "cell_type": "code",
   "execution_count": 727,
   "id": "b12616c3",
   "metadata": {},
   "outputs": [
    {
     "data": {
      "text/plain": [
       "<AxesSubplot:xlabel='item_price', ylabel='item_cnt_day'>"
      ]
     },
     "execution_count": 727,
     "metadata": {},
     "output_type": "execute_result"
    },
    {
     "data": {
      "image/png": "[encoded data removed]",
      "text/plain": [
       "<Figure size 432x288 with 1 Axes>"
      ]
     },
     "metadata": {
      "needs_background": "light"
     },
     "output_type": "display_data"
    }
   ],
   "source": [
    "clean_basket_df.plot(x='item_price', y='item_cnt_day', kind='scatter')"
   ]
  },
  {
   "cell_type": "code",
   "execution_count": 728,
   "id": "fa2959a6",
   "metadata": {},
   "outputs": [
    {
     "data": {
      "text/plain": [
       "230510        B11\n",
       "81559         B11\n",
       "430373        B11\n",
       "300856        B11\n",
       "420025        B11\n",
       "           ...   \n",
       "168718    S9916.0\n",
       "355455    S9949.0\n",
       "5548      S9950.0\n",
       "87191     S9964.0\n",
       "268015    S9966.0\n",
       "Name: basket_id, Length: 454411, dtype: object"
      ]
     },
     "execution_count": 728,
     "metadata": {},
     "output_type": "execute_result"
    }
   ],
   "source": [
    "clean_basket_df[BASKET].sort_values()"
   ]
  },
  {
   "cell_type": "markdown",
   "id": "1a15adb7",
   "metadata": {},
   "source": [
    "## Spazio cazzeggio"
   ]
  },
  {
   "cell_type": "code",
   "execution_count": 757,
   "id": "e34f5103",
   "metadata": {},
   "outputs": [],
   "source": [
    "df = pd.DataFrame([[4,9],[4,3],[4,9],[4,3],[4, np.nan],[3,1],[3,np.nan],[2,np.nan],[np.nan,2], [np.nan,3]], columns=['A', 'B'])\n",
    "df['C'] = 1"
   ]
  },
  {
   "cell_type": "code",
   "execution_count": 760,
   "id": "c3e1dc7a",
   "metadata": {},
   "outputs": [
    {
     "data": {
      "text/plain": [
       "A   NaN\n",
       "B   NaN\n",
       "C   NaN\n",
       "dtype: float64"
      ]
     },
     "execution_count": 760,
     "metadata": {},
     "output_type": "execute_result"
    }
   ],
   "source": [
    "df.var()"
   ]
  },
  {
   "cell_type": "code",
   "execution_count": 731,
   "id": "8a5f5a50",
   "metadata": {},
   "outputs": [],
   "source": [
    "df['B'] = df.groupby('A')['B'].apply(lambda x: x.fillna(x.mode().iloc[0]) if len(x.mode()) == 1 else x)"
   ]
  },
  {
   "cell_type": "code",
   "execution_count": 732,
   "id": "70b80078",
   "metadata": {},
   "outputs": [
    {
     "data": {
      "text/html": [
       "<div>\n",
       "<style scoped>\n",
       "    .dataframe tbody tr th:only-of-type {\n",
       "        vertical-align: middle;\n",
       "    }\n",
       "\n",
       "    .dataframe tbody tr th {\n",
       "        vertical-align: top;\n",
       "    }\n",
       "\n",
       "    .dataframe thead th {\n",
       "        text-align: right;\n",
       "    }\n",
       "</style>\n",
       "<table border=\"1\" class=\"dataframe\">\n",
       "  <thead>\n",
       "    <tr style=\"text-align: right;\">\n",
       "      <th></th>\n",
       "      <th>A</th>\n",
       "      <th>B</th>\n",
       "    </tr>\n",
       "  </thead>\n",
       "  <tbody>\n",
       "    <tr>\n",
       "      <th>0</th>\n",
       "      <td>4.0</td>\n",
       "      <td>9.0</td>\n",
       "    </tr>\n",
       "    <tr>\n",
       "      <th>1</th>\n",
       "      <td>4.0</td>\n",
       "      <td>3.0</td>\n",
       "    </tr>\n",
       "    <tr>\n",
       "      <th>2</th>\n",
       "      <td>4.0</td>\n",
       "      <td>9.0</td>\n",
       "    </tr>\n",
       "    <tr>\n",
       "      <th>3</th>\n",
       "      <td>4.0</td>\n",
       "      <td>3.0</td>\n",
       "    </tr>\n",
       "    <tr>\n",
       "      <th>4</th>\n",
       "      <td>4.0</td>\n",
       "      <td>NaN</td>\n",
       "    </tr>\n",
       "    <tr>\n",
       "      <th>5</th>\n",
       "      <td>3.0</td>\n",
       "      <td>1.0</td>\n",
       "    </tr>\n",
       "    <tr>\n",
       "      <th>6</th>\n",
       "      <td>3.0</td>\n",
       "      <td>1.0</td>\n",
       "    </tr>\n",
       "    <tr>\n",
       "      <th>7</th>\n",
       "      <td>2.0</td>\n",
       "      <td>NaN</td>\n",
       "    </tr>\n",
       "    <tr>\n",
       "      <th>8</th>\n",
       "      <td>NaN</td>\n",
       "      <td>NaN</td>\n",
       "    </tr>\n",
       "    <tr>\n",
       "      <th>9</th>\n",
       "      <td>NaN</td>\n",
       "      <td>NaN</td>\n",
       "    </tr>\n",
       "  </tbody>\n",
       "</table>\n",
       "</div>"
      ],
      "text/plain": [
       "     A    B\n",
       "0  4.0  9.0\n",
       "1  4.0  3.0\n",
       "2  4.0  9.0\n",
       "3  4.0  3.0\n",
       "4  4.0  NaN\n",
       "5  3.0  1.0\n",
       "6  3.0  1.0\n",
       "7  2.0  NaN\n",
       "8  NaN  NaN\n",
       "9  NaN  NaN"
      ]
     },
     "execution_count": 732,
     "metadata": {},
     "output_type": "execute_result"
    }
   ],
   "source": [
    "df"
   ]
  },
  {
   "cell_type": "code",
   "execution_count": 733,
   "id": "0de0ffa2",
   "metadata": {},
   "outputs": [],
   "source": [
    "df['B'] = df.groupby('A')['B'].apply(lambda x: x.replace(0 if len(x.mode()) > 1 else x))"
   ]
  },
  {
   "cell_type": "code",
   "execution_count": 734,
   "id": "3ab3eebf",
   "metadata": {},
   "outputs": [],
   "source": [
    "# df.loc[df.groupby('A')['B'].agg(lambda x: len(x.mode())) > 1, 'B'] = 0\n"
   ]
  },
  {
   "cell_type": "code",
   "execution_count": 735,
   "id": "5a78fc5c",
   "metadata": {},
   "outputs": [
    {
     "data": {
      "text/html": [
       "<div>\n",
       "<style scoped>\n",
       "    .dataframe tbody tr th:only-of-type {\n",
       "        vertical-align: middle;\n",
       "    }\n",
       "\n",
       "    .dataframe tbody tr th {\n",
       "        vertical-align: top;\n",
       "    }\n",
       "\n",
       "    .dataframe thead th {\n",
       "        text-align: right;\n",
       "    }\n",
       "</style>\n",
       "<table border=\"1\" class=\"dataframe\">\n",
       "  <thead>\n",
       "    <tr style=\"text-align: right;\">\n",
       "      <th></th>\n",
       "      <th>basket_id</th>\n",
       "      <th>date</th>\n",
       "      <th>user_id</th>\n",
       "      <th>shop_id</th>\n",
       "      <th>total_price</th>\n",
       "      <th>item_count</th>\n",
       "      <th>item_dist_count</th>\n",
       "    </tr>\n",
       "    <tr>\n",
       "      <th>basket_id</th>\n",
       "      <th></th>\n",
       "      <th></th>\n",
       "      <th></th>\n",
       "      <th></th>\n",
       "      <th></th>\n",
       "      <th></th>\n",
       "      <th></th>\n",
       "    </tr>\n",
       "  </thead>\n",
       "  <tbody>\n",
       "    <tr>\n",
       "      <th>B11</th>\n",
       "      <td>B11</td>\n",
       "      <td>2013-01-01</td>\n",
       "      <td>1</td>\n",
       "      <td>2</td>\n",
       "      <td>4015.580000</td>\n",
       "      <td>5</td>\n",
       "      <td>5</td>\n",
       "    </tr>\n",
       "    <tr>\n",
       "      <th>B12103</th>\n",
       "      <td>B12103</td>\n",
       "      <td>2014-01-01</td>\n",
       "      <td>103</td>\n",
       "      <td>28</td>\n",
       "      <td>44969.813416</td>\n",
       "      <td>50</td>\n",
       "      <td>43</td>\n",
       "    </tr>\n",
       "    <tr>\n",
       "      <th>B12107</th>\n",
       "      <td>B12107</td>\n",
       "      <td>2014-01-01</td>\n",
       "      <td>107</td>\n",
       "      <td>30</td>\n",
       "      <td>948.000000</td>\n",
       "      <td>2</td>\n",
       "      <td>2</td>\n",
       "    </tr>\n",
       "    <tr>\n",
       "      <th>B1211</th>\n",
       "      <td>B1211</td>\n",
       "      <td>2013-01-01</td>\n",
       "      <td>11</td>\n",
       "      <td>8</td>\n",
       "      <td>3911.000000</td>\n",
       "      <td>9</td>\n",
       "      <td>8</td>\n",
       "    </tr>\n",
       "    <tr>\n",
       "      <th>B12111</th>\n",
       "      <td>B12111</td>\n",
       "      <td>2014-01-01</td>\n",
       "      <td>111</td>\n",
       "      <td>35</td>\n",
       "      <td>4144.194268</td>\n",
       "      <td>6</td>\n",
       "      <td>6</td>\n",
       "    </tr>\n",
       "    <tr>\n",
       "      <th>...</th>\n",
       "      <td>...</td>\n",
       "      <td>...</td>\n",
       "      <td>...</td>\n",
       "      <td>...</td>\n",
       "      <td>...</td>\n",
       "      <td>...</td>\n",
       "      <td>...</td>\n",
       "    </tr>\n",
       "    <tr>\n",
       "      <th>S9916.0</th>\n",
       "      <td>S9916.0</td>\n",
       "      <td>2014-03-12</td>\n",
       "      <td>205</td>\n",
       "      <td>18</td>\n",
       "      <td>666.160000</td>\n",
       "      <td>1</td>\n",
       "      <td>1</td>\n",
       "    </tr>\n",
       "    <tr>\n",
       "      <th>S9949.0</th>\n",
       "      <td>S9949.0</td>\n",
       "      <td>2014-03-12</td>\n",
       "      <td>501</td>\n",
       "      <td>34</td>\n",
       "      <td>849.000000</td>\n",
       "      <td>1</td>\n",
       "      <td>1</td>\n",
       "    </tr>\n",
       "    <tr>\n",
       "      <th>S9950.0</th>\n",
       "      <td>S9950.0</td>\n",
       "      <td>2014-03-12</td>\n",
       "      <td>54</td>\n",
       "      <td>35</td>\n",
       "      <td>699.000000</td>\n",
       "      <td>1</td>\n",
       "      <td>1</td>\n",
       "    </tr>\n",
       "    <tr>\n",
       "      <th>S9964.0</th>\n",
       "      <td>S9964.0</td>\n",
       "      <td>2014-03-12</td>\n",
       "      <td>464</td>\n",
       "      <td>44</td>\n",
       "      <td>899.000000</td>\n",
       "      <td>1</td>\n",
       "      <td>1</td>\n",
       "    </tr>\n",
       "    <tr>\n",
       "      <th>S9966.0</th>\n",
       "      <td>S9966.0</td>\n",
       "      <td>2014-03-12</td>\n",
       "      <td>45</td>\n",
       "      <td>46</td>\n",
       "      <td>349.000000</td>\n",
       "      <td>1</td>\n",
       "      <td>1</td>\n",
       "    </tr>\n",
       "  </tbody>\n",
       "</table>\n",
       "<p>42252 rows × 7 columns</p>\n",
       "</div>"
      ],
      "text/plain": [
       "          basket_id       date  user_id  shop_id   total_price  item_count  \\\n",
       "basket_id                                                                    \n",
       "B11             B11 2013-01-01        1        2   4015.580000           5   \n",
       "B12103       B12103 2014-01-01      103       28  44969.813416          50   \n",
       "B12107       B12107 2014-01-01      107       30    948.000000           2   \n",
       "B1211         B1211 2013-01-01       11        8   3911.000000           9   \n",
       "B12111       B12111 2014-01-01      111       35   4144.194268           6   \n",
       "...             ...        ...      ...      ...           ...         ...   \n",
       "S9916.0     S9916.0 2014-03-12      205       18    666.160000           1   \n",
       "S9949.0     S9949.0 2014-03-12      501       34    849.000000           1   \n",
       "S9950.0     S9950.0 2014-03-12       54       35    699.000000           1   \n",
       "S9964.0     S9964.0 2014-03-12      464       44    899.000000           1   \n",
       "S9966.0     S9966.0 2014-03-12       45       46    349.000000           1   \n",
       "\n",
       "           item_dist_count  \n",
       "basket_id                   \n",
       "B11                      5  \n",
       "B12103                  43  \n",
       "B12107                   2  \n",
       "B1211                    8  \n",
       "B12111                   6  \n",
       "...                    ...  \n",
       "S9916.0                  1  \n",
       "S9949.0                  1  \n",
       "S9950.0                  1  \n",
       "S9964.0                  1  \n",
       "S9966.0                  1  \n",
       "\n",
       "[42252 rows x 7 columns]"
      ]
     },
     "execution_count": 735,
     "metadata": {},
     "output_type": "execute_result"
    }
   ],
   "source": [
    "b_df"
   ]
  },
  {
   "cell_type": "code",
   "execution_count": 736,
   "id": "c43f19ef",
   "metadata": {},
   "outputs": [
    {
     "data": {
      "text/html": [
       "<div>\n",
       "<style scoped>\n",
       "    .dataframe tbody tr th:only-of-type {\n",
       "        vertical-align: middle;\n",
       "    }\n",
       "\n",
       "    .dataframe tbody tr th {\n",
       "        vertical-align: top;\n",
       "    }\n",
       "\n",
       "    .dataframe thead th {\n",
       "        text-align: right;\n",
       "    }\n",
       "</style>\n",
       "<table border=\"1\" class=\"dataframe\">\n",
       "  <thead>\n",
       "    <tr style=\"text-align: right;\">\n",
       "      <th></th>\n",
       "      <th>item_id</th>\n",
       "      <th>date</th>\n",
       "      <th>shop_id</th>\n",
       "      <th>item_price</th>\n",
       "      <th>item_cnt_day</th>\n",
       "      <th>user_id</th>\n",
       "      <th>basket_id</th>\n",
       "      <th>total_price</th>\n",
       "    </tr>\n",
       "  </thead>\n",
       "  <tbody>\n",
       "    <tr>\n",
       "      <th>81223</th>\n",
       "      <td>-337</td>\n",
       "      <td>2014-01-01</td>\n",
       "      <td>28</td>\n",
       "      <td>349.500000</td>\n",
       "      <td>1</td>\n",
       "      <td>103</td>\n",
       "      <td>B12103</td>\n",
       "      <td>349.5</td>\n",
       "    </tr>\n",
       "    <tr>\n",
       "      <th>81224</th>\n",
       "      <td>-336</td>\n",
       "      <td>2014-01-01</td>\n",
       "      <td>28</td>\n",
       "      <td>399.000000</td>\n",
       "      <td>1</td>\n",
       "      <td>103</td>\n",
       "      <td>B12103</td>\n",
       "      <td>399.0</td>\n",
       "    </tr>\n",
       "    <tr>\n",
       "      <th>81225</th>\n",
       "      <td>-335</td>\n",
       "      <td>2014-01-01</td>\n",
       "      <td>28</td>\n",
       "      <td>899.000000</td>\n",
       "      <td>3</td>\n",
       "      <td>103</td>\n",
       "      <td>B12103</td>\n",
       "      <td>2697.0</td>\n",
       "    </tr>\n",
       "    <tr>\n",
       "      <th>81226</th>\n",
       "      <td>-334</td>\n",
       "      <td>2014-01-01</td>\n",
       "      <td>28</td>\n",
       "      <td>299.000000</td>\n",
       "      <td>2</td>\n",
       "      <td>103</td>\n",
       "      <td>B12103</td>\n",
       "      <td>598.0</td>\n",
       "    </tr>\n",
       "    <tr>\n",
       "      <th>81227</th>\n",
       "      <td>-333</td>\n",
       "      <td>2014-01-01</td>\n",
       "      <td>28</td>\n",
       "      <td>349.000000</td>\n",
       "      <td>1</td>\n",
       "      <td>103</td>\n",
       "      <td>B12103</td>\n",
       "      <td>349.0</td>\n",
       "    </tr>\n",
       "    <tr>\n",
       "      <th>81228</th>\n",
       "      <td>-332</td>\n",
       "      <td>2014-01-01</td>\n",
       "      <td>28</td>\n",
       "      <td>599.000000</td>\n",
       "      <td>2</td>\n",
       "      <td>103</td>\n",
       "      <td>B12103</td>\n",
       "      <td>1198.0</td>\n",
       "    </tr>\n",
       "    <tr>\n",
       "      <th>81229</th>\n",
       "      <td>-331</td>\n",
       "      <td>2014-01-01</td>\n",
       "      <td>28</td>\n",
       "      <td>249.000000</td>\n",
       "      <td>1</td>\n",
       "      <td>103</td>\n",
       "      <td>B12103</td>\n",
       "      <td>249.0</td>\n",
       "    </tr>\n",
       "    <tr>\n",
       "      <th>81230</th>\n",
       "      <td>-330</td>\n",
       "      <td>2014-01-01</td>\n",
       "      <td>28</td>\n",
       "      <td>199.000000</td>\n",
       "      <td>1</td>\n",
       "      <td>103</td>\n",
       "      <td>B12103</td>\n",
       "      <td>199.0</td>\n",
       "    </tr>\n",
       "    <tr>\n",
       "      <th>81231</th>\n",
       "      <td>-329</td>\n",
       "      <td>2014-01-01</td>\n",
       "      <td>28</td>\n",
       "      <td>199.000000</td>\n",
       "      <td>1</td>\n",
       "      <td>103</td>\n",
       "      <td>B12103</td>\n",
       "      <td>199.0</td>\n",
       "    </tr>\n",
       "    <tr>\n",
       "      <th>83545</th>\n",
       "      <td>385</td>\n",
       "      <td>2014-01-01</td>\n",
       "      <td>28</td>\n",
       "      <td>249.583333</td>\n",
       "      <td>1</td>\n",
       "      <td>103</td>\n",
       "      <td>B12103</td>\n",
       "      <td>249.583333</td>\n",
       "    </tr>\n",
       "    <tr>\n",
       "      <th>101199</th>\n",
       "      <td>1671</td>\n",
       "      <td>2014-01-01</td>\n",
       "      <td>28</td>\n",
       "      <td>299.000000</td>\n",
       "      <td>1</td>\n",
       "      <td>103</td>\n",
       "      <td>B12103</td>\n",
       "      <td>299.0</td>\n",
       "    </tr>\n",
       "    <tr>\n",
       "      <th>107217</th>\n",
       "      <td>1858</td>\n",
       "      <td>2014-01-01</td>\n",
       "      <td>28</td>\n",
       "      <td>1699.000000</td>\n",
       "      <td>1</td>\n",
       "      <td>103</td>\n",
       "      <td>B12103</td>\n",
       "      <td>1699.0</td>\n",
       "    </tr>\n",
       "    <tr>\n",
       "      <th>122808</th>\n",
       "      <td>2584</td>\n",
       "      <td>2014-01-01</td>\n",
       "      <td>28</td>\n",
       "      <td>299.000000</td>\n",
       "      <td>1</td>\n",
       "      <td>103</td>\n",
       "      <td>B12103</td>\n",
       "      <td>299.0</td>\n",
       "    </tr>\n",
       "    <tr>\n",
       "      <th>125368</th>\n",
       "      <td>2746</td>\n",
       "      <td>2014-01-01</td>\n",
       "      <td>28</td>\n",
       "      <td>198.000000</td>\n",
       "      <td>1</td>\n",
       "      <td>103</td>\n",
       "      <td>B12103</td>\n",
       "      <td>198.0</td>\n",
       "    </tr>\n",
       "    <tr>\n",
       "      <th>127281</th>\n",
       "      <td>2808</td>\n",
       "      <td>2014-01-01</td>\n",
       "      <td>28</td>\n",
       "      <td>999.000000</td>\n",
       "      <td>1</td>\n",
       "      <td>103</td>\n",
       "      <td>B12103</td>\n",
       "      <td>999.0</td>\n",
       "    </tr>\n",
       "    <tr>\n",
       "      <th>183665</th>\n",
       "      <td>4885</td>\n",
       "      <td>2014-01-01</td>\n",
       "      <td>28</td>\n",
       "      <td>899.000000</td>\n",
       "      <td>1</td>\n",
       "      <td>103</td>\n",
       "      <td>B12103</td>\n",
       "      <td>899.0</td>\n",
       "    </tr>\n",
       "    <tr>\n",
       "      <th>194836</th>\n",
       "      <td>5380</td>\n",
       "      <td>2014-01-01</td>\n",
       "      <td>28</td>\n",
       "      <td>2891.000000</td>\n",
       "      <td>1</td>\n",
       "      <td>103</td>\n",
       "      <td>B12103</td>\n",
       "      <td>2891.0</td>\n",
       "    </tr>\n",
       "    <tr>\n",
       "      <th>204199</th>\n",
       "      <td>5822</td>\n",
       "      <td>2014-01-01</td>\n",
       "      <td>28</td>\n",
       "      <td>1058.413330</td>\n",
       "      <td>1</td>\n",
       "      <td>103</td>\n",
       "      <td>B12103</td>\n",
       "      <td>1058.41333</td>\n",
       "    </tr>\n",
       "    <tr>\n",
       "      <th>209875</th>\n",
       "      <td>6091</td>\n",
       "      <td>2014-01-01</td>\n",
       "      <td>28</td>\n",
       "      <td>999.000000</td>\n",
       "      <td>1</td>\n",
       "      <td>103</td>\n",
       "      <td>B12103</td>\n",
       "      <td>999.0</td>\n",
       "    </tr>\n",
       "    <tr>\n",
       "      <th>210353</th>\n",
       "      <td>6111</td>\n",
       "      <td>2014-01-01</td>\n",
       "      <td>28</td>\n",
       "      <td>208.600000</td>\n",
       "      <td>1</td>\n",
       "      <td>103</td>\n",
       "      <td>B12103</td>\n",
       "      <td>208.6</td>\n",
       "    </tr>\n",
       "    <tr>\n",
       "      <th>238415</th>\n",
       "      <td>7215</td>\n",
       "      <td>2014-01-01</td>\n",
       "      <td>28</td>\n",
       "      <td>899.000000</td>\n",
       "      <td>2</td>\n",
       "      <td>103</td>\n",
       "      <td>B12103</td>\n",
       "      <td>1798.0</td>\n",
       "    </tr>\n",
       "    <tr>\n",
       "      <th>240301</th>\n",
       "      <td>7368</td>\n",
       "      <td>2014-01-01</td>\n",
       "      <td>28</td>\n",
       "      <td>299.000000</td>\n",
       "      <td>1</td>\n",
       "      <td>103</td>\n",
       "      <td>B12103</td>\n",
       "      <td>299.0</td>\n",
       "    </tr>\n",
       "    <tr>\n",
       "      <th>240964</th>\n",
       "      <td>7459</td>\n",
       "      <td>2014-01-01</td>\n",
       "      <td>28</td>\n",
       "      <td>299.000000</td>\n",
       "      <td>1</td>\n",
       "      <td>103</td>\n",
       "      <td>B12103</td>\n",
       "      <td>299.0</td>\n",
       "    </tr>\n",
       "    <tr>\n",
       "      <th>250934</th>\n",
       "      <td>7917</td>\n",
       "      <td>2014-01-01</td>\n",
       "      <td>28</td>\n",
       "      <td>349.535714</td>\n",
       "      <td>1</td>\n",
       "      <td>103</td>\n",
       "      <td>B12103</td>\n",
       "      <td>349.535714</td>\n",
       "    </tr>\n",
       "    <tr>\n",
       "      <th>251799</th>\n",
       "      <td>7953</td>\n",
       "      <td>2014-01-01</td>\n",
       "      <td>28</td>\n",
       "      <td>2290.000000</td>\n",
       "      <td>1</td>\n",
       "      <td>103</td>\n",
       "      <td>B12103</td>\n",
       "      <td>2290.0</td>\n",
       "    </tr>\n",
       "    <tr>\n",
       "      <th>264828</th>\n",
       "      <td>8976</td>\n",
       "      <td>2014-01-01</td>\n",
       "      <td>28</td>\n",
       "      <td>149.000000</td>\n",
       "      <td>1</td>\n",
       "      <td>103</td>\n",
       "      <td>B12103</td>\n",
       "      <td>149.0</td>\n",
       "    </tr>\n",
       "    <tr>\n",
       "      <th>266215</th>\n",
       "      <td>9092</td>\n",
       "      <td>2014-01-01</td>\n",
       "      <td>28</td>\n",
       "      <td>199.000000</td>\n",
       "      <td>1</td>\n",
       "      <td>103</td>\n",
       "      <td>B12103</td>\n",
       "      <td>199.0</td>\n",
       "    </tr>\n",
       "    <tr>\n",
       "      <th>271444</th>\n",
       "      <td>9763</td>\n",
       "      <td>2014-01-01</td>\n",
       "      <td>28</td>\n",
       "      <td>249.000000</td>\n",
       "      <td>1</td>\n",
       "      <td>103</td>\n",
       "      <td>B12103</td>\n",
       "      <td>249.0</td>\n",
       "    </tr>\n",
       "    <tr>\n",
       "      <th>271813</th>\n",
       "      <td>9784</td>\n",
       "      <td>2014-01-01</td>\n",
       "      <td>28</td>\n",
       "      <td>899.000000</td>\n",
       "      <td>1</td>\n",
       "      <td>103</td>\n",
       "      <td>B12103</td>\n",
       "      <td>899.0</td>\n",
       "    </tr>\n",
       "    <tr>\n",
       "      <th>279745</th>\n",
       "      <td>10334</td>\n",
       "      <td>2014-01-01</td>\n",
       "      <td>28</td>\n",
       "      <td>151.083333</td>\n",
       "      <td>1</td>\n",
       "      <td>103</td>\n",
       "      <td>B12103</td>\n",
       "      <td>151.083333</td>\n",
       "    </tr>\n",
       "    <tr>\n",
       "      <th>289494</th>\n",
       "      <td>10992</td>\n",
       "      <td>2014-01-01</td>\n",
       "      <td>28</td>\n",
       "      <td>399.000000</td>\n",
       "      <td>1</td>\n",
       "      <td>103</td>\n",
       "      <td>B12103</td>\n",
       "      <td>399.0</td>\n",
       "    </tr>\n",
       "    <tr>\n",
       "      <th>299343</th>\n",
       "      <td>11711</td>\n",
       "      <td>2014-01-01</td>\n",
       "      <td>28</td>\n",
       "      <td>299.000000</td>\n",
       "      <td>1</td>\n",
       "      <td>103</td>\n",
       "      <td>B12103</td>\n",
       "      <td>299.0</td>\n",
       "    </tr>\n",
       "    <tr>\n",
       "      <th>311416</th>\n",
       "      <td>12551</td>\n",
       "      <td>2014-01-01</td>\n",
       "      <td>28</td>\n",
       "      <td>168.309333</td>\n",
       "      <td>1</td>\n",
       "      <td>103</td>\n",
       "      <td>B12103</td>\n",
       "      <td>168.309333</td>\n",
       "    </tr>\n",
       "    <tr>\n",
       "      <th>311500</th>\n",
       "      <td>12552</td>\n",
       "      <td>2014-01-01</td>\n",
       "      <td>28</td>\n",
       "      <td>199.000000</td>\n",
       "      <td>1</td>\n",
       "      <td>103</td>\n",
       "      <td>B12103</td>\n",
       "      <td>199.0</td>\n",
       "    </tr>\n",
       "    <tr>\n",
       "      <th>316033</th>\n",
       "      <td>12907</td>\n",
       "      <td>2014-01-01</td>\n",
       "      <td>28</td>\n",
       "      <td>599.000000</td>\n",
       "      <td>1</td>\n",
       "      <td>103</td>\n",
       "      <td>B12103</td>\n",
       "      <td>599.0</td>\n",
       "    </tr>\n",
       "    <tr>\n",
       "      <th>323045</th>\n",
       "      <td>13439</td>\n",
       "      <td>2014-01-01</td>\n",
       "      <td>28</td>\n",
       "      <td>13989.700000</td>\n",
       "      <td>1</td>\n",
       "      <td>103</td>\n",
       "      <td>B12103</td>\n",
       "      <td>13989.7</td>\n",
       "    </tr>\n",
       "    <tr>\n",
       "      <th>336935</th>\n",
       "      <td>14296</td>\n",
       "      <td>2014-01-01</td>\n",
       "      <td>28</td>\n",
       "      <td>399.000000</td>\n",
       "      <td>1</td>\n",
       "      <td>103</td>\n",
       "      <td>B12103</td>\n",
       "      <td>399.0</td>\n",
       "    </tr>\n",
       "    <tr>\n",
       "      <th>347544</th>\n",
       "      <td>14932</td>\n",
       "      <td>2014-01-01</td>\n",
       "      <td>28</td>\n",
       "      <td>699.000000</td>\n",
       "      <td>1</td>\n",
       "      <td>103</td>\n",
       "      <td>B12103</td>\n",
       "      <td>699.0</td>\n",
       "    </tr>\n",
       "    <tr>\n",
       "      <th>371400</th>\n",
       "      <td>16210</td>\n",
       "      <td>2014-01-01</td>\n",
       "      <td>28</td>\n",
       "      <td>329.000000</td>\n",
       "      <td>1</td>\n",
       "      <td>103</td>\n",
       "      <td>B12103</td>\n",
       "      <td>329.0</td>\n",
       "    </tr>\n",
       "    <tr>\n",
       "      <th>417241</th>\n",
       "      <td>19518</td>\n",
       "      <td>2014-01-01</td>\n",
       "      <td>28</td>\n",
       "      <td>249.000000</td>\n",
       "      <td>1</td>\n",
       "      <td>103</td>\n",
       "      <td>B12103</td>\n",
       "      <td>249.0</td>\n",
       "    </tr>\n",
       "    <tr>\n",
       "      <th>431174</th>\n",
       "      <td>20606</td>\n",
       "      <td>2014-01-01</td>\n",
       "      <td>28</td>\n",
       "      <td>874.088372</td>\n",
       "      <td>1</td>\n",
       "      <td>103</td>\n",
       "      <td>B12103</td>\n",
       "      <td>874.088372</td>\n",
       "    </tr>\n",
       "    <tr>\n",
       "      <th>431619</th>\n",
       "      <td>20608</td>\n",
       "      <td>2014-01-01</td>\n",
       "      <td>28</td>\n",
       "      <td>1299.000000</td>\n",
       "      <td>3</td>\n",
       "      <td>103</td>\n",
       "      <td>B12103</td>\n",
       "      <td>3897.0</td>\n",
       "    </tr>\n",
       "    <tr>\n",
       "      <th>441883</th>\n",
       "      <td>21401</td>\n",
       "      <td>2014-01-01</td>\n",
       "      <td>28</td>\n",
       "      <td>149.000000</td>\n",
       "      <td>1</td>\n",
       "      <td>103</td>\n",
       "      <td>B12103</td>\n",
       "      <td>149.0</td>\n",
       "    </tr>\n",
       "  </tbody>\n",
       "</table>\n",
       "</div>"
      ],
      "text/plain": [
       "        item_id       date  shop_id    item_price  item_cnt_day  user_id  \\\n",
       "81223      -337 2014-01-01       28    349.500000             1      103   \n",
       "81224      -336 2014-01-01       28    399.000000             1      103   \n",
       "81225      -335 2014-01-01       28    899.000000             3      103   \n",
       "81226      -334 2014-01-01       28    299.000000             2      103   \n",
       "81227      -333 2014-01-01       28    349.000000             1      103   \n",
       "81228      -332 2014-01-01       28    599.000000             2      103   \n",
       "81229      -331 2014-01-01       28    249.000000             1      103   \n",
       "81230      -330 2014-01-01       28    199.000000             1      103   \n",
       "81231      -329 2014-01-01       28    199.000000             1      103   \n",
       "83545       385 2014-01-01       28    249.583333             1      103   \n",
       "101199     1671 2014-01-01       28    299.000000             1      103   \n",
       "107217     1858 2014-01-01       28   1699.000000             1      103   \n",
       "122808     2584 2014-01-01       28    299.000000             1      103   \n",
       "125368     2746 2014-01-01       28    198.000000             1      103   \n",
       "127281     2808 2014-01-01       28    999.000000             1      103   \n",
       "183665     4885 2014-01-01       28    899.000000             1      103   \n",
       "194836     5380 2014-01-01       28   2891.000000             1      103   \n",
       "204199     5822 2014-01-01       28   1058.413330             1      103   \n",
       "209875     6091 2014-01-01       28    999.000000             1      103   \n",
       "210353     6111 2014-01-01       28    208.600000             1      103   \n",
       "238415     7215 2014-01-01       28    899.000000             2      103   \n",
       "240301     7368 2014-01-01       28    299.000000             1      103   \n",
       "240964     7459 2014-01-01       28    299.000000             1      103   \n",
       "250934     7917 2014-01-01       28    349.535714             1      103   \n",
       "251799     7953 2014-01-01       28   2290.000000             1      103   \n",
       "264828     8976 2014-01-01       28    149.000000             1      103   \n",
       "266215     9092 2014-01-01       28    199.000000             1      103   \n",
       "271444     9763 2014-01-01       28    249.000000             1      103   \n",
       "271813     9784 2014-01-01       28    899.000000             1      103   \n",
       "279745    10334 2014-01-01       28    151.083333             1      103   \n",
       "289494    10992 2014-01-01       28    399.000000             1      103   \n",
       "299343    11711 2014-01-01       28    299.000000             1      103   \n",
       "311416    12551 2014-01-01       28    168.309333             1      103   \n",
       "311500    12552 2014-01-01       28    199.000000             1      103   \n",
       "316033    12907 2014-01-01       28    599.000000             1      103   \n",
       "323045    13439 2014-01-01       28  13989.700000             1      103   \n",
       "336935    14296 2014-01-01       28    399.000000             1      103   \n",
       "347544    14932 2014-01-01       28    699.000000             1      103   \n",
       "371400    16210 2014-01-01       28    329.000000             1      103   \n",
       "417241    19518 2014-01-01       28    249.000000             1      103   \n",
       "431174    20606 2014-01-01       28    874.088372             1      103   \n",
       "431619    20608 2014-01-01       28   1299.000000             3      103   \n",
       "441883    21401 2014-01-01       28    149.000000             1      103   \n",
       "\n",
       "       basket_id  total_price  \n",
       "81223     B12103        349.5  \n",
       "81224     B12103        399.0  \n",
       "81225     B12103       2697.0  \n",
       "81226     B12103        598.0  \n",
       "81227     B12103        349.0  \n",
       "81228     B12103       1198.0  \n",
       "81229     B12103        249.0  \n",
       "81230     B12103        199.0  \n",
       "81231     B12103        199.0  \n",
       "83545     B12103   249.583333  \n",
       "101199    B12103        299.0  \n",
       "107217    B12103       1699.0  \n",
       "122808    B12103        299.0  \n",
       "125368    B12103        198.0  \n",
       "127281    B12103        999.0  \n",
       "183665    B12103        899.0  \n",
       "194836    B12103       2891.0  \n",
       "204199    B12103   1058.41333  \n",
       "209875    B12103        999.0  \n",
       "210353    B12103        208.6  \n",
       "238415    B12103       1798.0  \n",
       "240301    B12103        299.0  \n",
       "240964    B12103        299.0  \n",
       "250934    B12103   349.535714  \n",
       "251799    B12103       2290.0  \n",
       "264828    B12103        149.0  \n",
       "266215    B12103        199.0  \n",
       "271444    B12103        249.0  \n",
       "271813    B12103        899.0  \n",
       "279745    B12103   151.083333  \n",
       "289494    B12103        399.0  \n",
       "299343    B12103        299.0  \n",
       "311416    B12103   168.309333  \n",
       "311500    B12103        199.0  \n",
       "316033    B12103        599.0  \n",
       "323045    B12103      13989.7  \n",
       "336935    B12103        399.0  \n",
       "347544    B12103        699.0  \n",
       "371400    B12103        329.0  \n",
       "417241    B12103        249.0  \n",
       "431174    B12103   874.088372  \n",
       "431619    B12103       3897.0  \n",
       "441883    B12103        149.0  "
      ]
     },
     "execution_count": 736,
     "metadata": {},
     "output_type": "execute_result"
    }
   ],
   "source": [
    "total_df[total_df[BASKET] == 'B12103']"
   ]
  },
  {
   "cell_type": "code",
   "execution_count": null,
   "id": "88682fef",
   "metadata": {},
   "outputs": [],
   "source": []
  },
  {
   "cell_type": "markdown",
   "id": "ca1dd86e",
   "metadata": {},
   "source": [
    "### TDL\n",
    "\n",
    "- basket id has trailing '.0' (?)\n",
    "\n",
    "- real distinct item (id) in minor table"
   ]
  },
  {
   "cell_type": "code",
   "execution_count": 737,
   "id": "f65fb55e",
   "metadata": {},
   "outputs": [
    {
     "name": "stdout",
     "output_type": "stream",
     "text": [
      "<class 'pandas.core.frame.DataFrame'>\n",
      "RangeIndex: 22170 entries, 0 to 22169\n",
      "Data columns (total 3 columns):\n",
      " #   Column            Non-Null Count  Dtype \n",
      "---  ------            --------------  ----- \n",
      " 0   item_name         22170 non-null  object\n",
      " 1   item_id           22170 non-null  int64 \n",
      " 2   item_category_id  22170 non-null  int64 \n",
      "dtypes: int64(2), object(1)\n",
      "memory usage: 519.7+ KB\n"
     ]
    }
   ],
   "source": [
    "original_items_df.info()"
   ]
  },
  {
   "cell_type": "code",
   "execution_count": 739,
   "id": "053fdb59",
   "metadata": {},
   "outputs": [
    {
     "name": "stdout",
     "output_type": "stream",
     "text": [
      "<class 'pandas.core.frame.DataFrame'>\n",
      "Int64Index: 22170 entries, 0 to 22169\n",
      "Data columns (total 4 columns):\n",
      " #   Column            Non-Null Count  Dtype  \n",
      "---  ------            --------------  -----  \n",
      " 0   item_name         22170 non-null  object \n",
      " 1   item_id           22170 non-null  int64  \n",
      " 2   item_category_id  22170 non-null  int64  \n",
      " 3   item_price        16813 non-null  float64\n",
      "dtypes: float64(1), int64(2), object(1)\n",
      "memory usage: 866.0+ KB\n"
     ]
    },
    {
     "data": {
      "text/html": [
       "<div>\n",
       "<style scoped>\n",
       "    .dataframe tbody tr th:only-of-type {\n",
       "        vertical-align: middle;\n",
       "    }\n",
       "\n",
       "    .dataframe tbody tr th {\n",
       "        vertical-align: top;\n",
       "    }\n",
       "\n",
       "    .dataframe thead th {\n",
       "        text-align: right;\n",
       "    }\n",
       "</style>\n",
       "<table border=\"1\" class=\"dataframe\">\n",
       "  <thead>\n",
       "    <tr style=\"text-align: right;\">\n",
       "      <th></th>\n",
       "      <th>item_cnt_day</th>\n",
       "    </tr>\n",
       "    <tr>\n",
       "      <th>item_id</th>\n",
       "      <th></th>\n",
       "    </tr>\n",
       "  </thead>\n",
       "  <tbody>\n",
       "    <tr>\n",
       "      <th>-81560</th>\n",
       "      <td>8</td>\n",
       "    </tr>\n",
       "    <tr>\n",
       "      <th>-81559</th>\n",
       "      <td>1</td>\n",
       "    </tr>\n",
       "    <tr>\n",
       "      <th>-81558</th>\n",
       "      <td>1</td>\n",
       "    </tr>\n",
       "    <tr>\n",
       "      <th>-81557</th>\n",
       "      <td>1</td>\n",
       "    </tr>\n",
       "    <tr>\n",
       "      <th>-81556</th>\n",
       "      <td>1</td>\n",
       "    </tr>\n",
       "    <tr>\n",
       "      <th>...</th>\n",
       "      <td>...</td>\n",
       "    </tr>\n",
       "    <tr>\n",
       "      <th>22163</th>\n",
       "      <td>5</td>\n",
       "    </tr>\n",
       "    <tr>\n",
       "      <th>22164</th>\n",
       "      <td>33</td>\n",
       "    </tr>\n",
       "    <tr>\n",
       "      <th>22166</th>\n",
       "      <td>29</td>\n",
       "    </tr>\n",
       "    <tr>\n",
       "      <th>22167</th>\n",
       "      <td>178</td>\n",
       "    </tr>\n",
       "    <tr>\n",
       "      <th>22168</th>\n",
       "      <td>1</td>\n",
       "    </tr>\n",
       "  </tbody>\n",
       "</table>\n",
       "<p>98373 rows × 1 columns</p>\n",
       "</div>"
      ],
      "text/plain": [
       "         item_cnt_day\n",
       "item_id              \n",
       "-81560              8\n",
       "-81559              1\n",
       "-81558              1\n",
       "-81557              1\n",
       "-81556              1\n",
       "...               ...\n",
       "22163               5\n",
       "22164              33\n",
       "22166              29\n",
       "22167             178\n",
       "22168               1\n",
       "\n",
       "[98373 rows x 1 columns]"
      ]
     },
     "execution_count": 739,
     "metadata": {},
     "output_type": "execute_result"
    }
   ],
   "source": [
    "priced_items_df.info()\n"
   ]
  },
  {
   "cell_type": "code",
   "execution_count": 740,
   "id": "de79b3fb",
   "metadata": {},
   "outputs": [
    {
     "data": {
      "text/html": [
       "<div>\n",
       "<style scoped>\n",
       "    .dataframe tbody tr th:only-of-type {\n",
       "        vertical-align: middle;\n",
       "    }\n",
       "\n",
       "    .dataframe tbody tr th {\n",
       "        vertical-align: top;\n",
       "    }\n",
       "\n",
       "    .dataframe thead th {\n",
       "        text-align: right;\n",
       "    }\n",
       "</style>\n",
       "<table border=\"1\" class=\"dataframe\">\n",
       "  <thead>\n",
       "    <tr style=\"text-align: right;\">\n",
       "      <th></th>\n",
       "      <th>item_cnt_day</th>\n",
       "    </tr>\n",
       "    <tr>\n",
       "      <th>item_id</th>\n",
       "      <th></th>\n",
       "    </tr>\n",
       "  </thead>\n",
       "  <tbody>\n",
       "    <tr>\n",
       "      <th>-81560</th>\n",
       "      <td>8</td>\n",
       "    </tr>\n",
       "    <tr>\n",
       "      <th>-81559</th>\n",
       "      <td>1</td>\n",
       "    </tr>\n",
       "    <tr>\n",
       "      <th>-81558</th>\n",
       "      <td>1</td>\n",
       "    </tr>\n",
       "    <tr>\n",
       "      <th>-81557</th>\n",
       "      <td>1</td>\n",
       "    </tr>\n",
       "    <tr>\n",
       "      <th>-81556</th>\n",
       "      <td>1</td>\n",
       "    </tr>\n",
       "    <tr>\n",
       "      <th>...</th>\n",
       "      <td>...</td>\n",
       "    </tr>\n",
       "    <tr>\n",
       "      <th>22163</th>\n",
       "      <td>5</td>\n",
       "    </tr>\n",
       "    <tr>\n",
       "      <th>22164</th>\n",
       "      <td>33</td>\n",
       "    </tr>\n",
       "    <tr>\n",
       "      <th>22166</th>\n",
       "      <td>29</td>\n",
       "    </tr>\n",
       "    <tr>\n",
       "      <th>22167</th>\n",
       "      <td>178</td>\n",
       "    </tr>\n",
       "    <tr>\n",
       "      <th>22168</th>\n",
       "      <td>1</td>\n",
       "    </tr>\n",
       "  </tbody>\n",
       "</table>\n",
       "<p>98373 rows × 1 columns</p>\n",
       "</div>"
      ],
      "text/plain": [
       "         item_cnt_day\n",
       "item_id              \n",
       "-81560              8\n",
       "-81559              1\n",
       "-81558              1\n",
       "-81557              1\n",
       "-81556              1\n",
       "...               ...\n",
       "22163               5\n",
       "22164              33\n",
       "22166              29\n",
       "22167             178\n",
       "22168               1\n",
       "\n",
       "[98373 rows x 1 columns]"
      ]
     },
     "execution_count": 740,
     "metadata": {},
     "output_type": "execute_result"
    }
   ],
   "source": [
    "\n"
   ]
  }
 ],
 "metadata": {
  "kernelspec": {
   "display_name": "dm-exam-venv",
   "language": "python",
   "name": "dm-exam-venv"
  },
  "language_info": {
   "codemirror_mode": {
    "name": "ipython",
    "version": 3
   },
   "file_extension": ".py",
   "mimetype": "text/x-python",
   "name": "python",
   "nbconvert_exporter": "python",
   "pygments_lexer": "ipython3",
   "version": "3.10.4"
  }
 },
 "nbformat": 4,
 "nbformat_minor": 5
}
