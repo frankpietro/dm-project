{
 "cells": [
  {
   "cell_type": "markdown",
   "id": "fb4b984a",
   "metadata": {},
   "source": [
    "# Data Mining Project\n",
    "### Giorgio Donati, g.donati24@studenti.unipi.it\n",
    "### Pietro Francaviglia, p.francaviglia1@studenti.unipi.it\n",
    "#### A.Y. 2021-2022\n"
   ]
  },
  {
   "cell_type": "markdown",
   "id": "c0a36356",
   "metadata": {},
   "source": [
    "## Libraries and datasets"
   ]
  },
  {
   "cell_type": "code",
   "execution_count": 1,
   "id": "32c3e47f",
   "metadata": {},
   "outputs": [],
   "source": [
    "import math\n",
    "import numpy as np\n",
    "import pandas as pd\n",
    "import scipy.stats as stats\n",
    "import matplotlib.pyplot as plt"
   ]
  },
  {
   "cell_type": "code",
   "execution_count": 2,
   "id": "9bdad59a",
   "metadata": {},
   "outputs": [],
   "source": [
    "# load datasets\n",
    "basket_df = pd.read_csv('datasets/baskets_supermarket.csv')\n",
    "categories_df = pd.read_csv('datasets/item_categories.csv')\n",
    "items_df = pd.read_csv('datasets/items.csv')"
   ]
  },
  {
   "cell_type": "markdown",
   "id": "72fd5f4f",
   "metadata": {},
   "source": [
    "## Basket dataset"
   ]
  },
  {
   "cell_type": "code",
   "execution_count": 3,
   "id": "1c73ffa9",
   "metadata": {
    "scrolled": true
   },
   "outputs": [
    {
     "name": "stdout",
     "output_type": "stream",
     "text": [
      "<class 'pandas.core.frame.DataFrame'>\n",
      "RangeIndex: 504087 entries, 0 to 504086\n",
      "Data columns (total 8 columns):\n",
      " #   Column        Non-Null Count   Dtype  \n",
      "---  ------        --------------   -----  \n",
      " 0   Unnamed: 0    504087 non-null  int64  \n",
      " 1   date          352861 non-null  object \n",
      " 2   shop_id       469023 non-null  float64\n",
      " 3   item_id       405085 non-null  float64\n",
      " 4   item_price    451795 non-null  float64\n",
      " 5   item_cnt_day  497039 non-null  float64\n",
      " 6   user_id       433351 non-null  float64\n",
      " 7   basket_id     437967 non-null  object \n",
      "dtypes: float64(5), int64(1), object(2)\n",
      "memory usage: 30.8+ MB\n"
     ]
    }
   ],
   "source": [
    "basket_df.info()"
   ]
  },
  {
   "cell_type": "markdown",
   "id": "7b932b18",
   "metadata": {},
   "source": [
    "### Cleaning ID columns"
   ]
  },
  {
   "cell_type": "code",
   "execution_count": 4,
   "id": "35e67db5",
   "metadata": {},
   "outputs": [
    {
     "name": "stdout",
     "output_type": "stream",
     "text": [
      "<class 'pandas.core.frame.DataFrame'>\n",
      "RangeIndex: 504087 entries, 0 to 504086\n",
      "Data columns (total 8 columns):\n",
      " #   Column        Non-Null Count   Dtype         \n",
      "---  ------        --------------   -----         \n",
      " 0   Unnamed: 0    504087 non-null  int64         \n",
      " 1   date          352861 non-null  datetime64[ns]\n",
      " 2   shop_id       469023 non-null  Int64         \n",
      " 3   item_id       405085 non-null  Int64         \n",
      " 4   item_price    451795 non-null  float64       \n",
      " 5   item_cnt_day  497039 non-null  Int64         \n",
      " 6   user_id       433351 non-null  Int64         \n",
      " 7   basket_id     437967 non-null  object        \n",
      "dtypes: Int64(4), datetime64[ns](1), float64(1), int64(1), object(1)\n",
      "memory usage: 32.7+ MB\n"
     ]
    }
   ],
   "source": [
    "non_floating_attributes = ['shop_id', 'item_id', 'item_cnt_day', 'user_id']\n",
    "for col in non_floating_attributes:\n",
    "    basket_df[col] = basket_df[col].astype('Int64')\n",
    "\n",
    "basket_df['date'] = pd.to_datetime(basket_df['date'])\n",
    "    \n",
    "basket_df.info()"
   ]
  },
  {
   "cell_type": "markdown",
   "id": "d8fca1cd",
   "metadata": {},
   "source": [
    "#### Subset with basket_id"
   ]
  },
  {
   "cell_type": "code",
   "execution_count": 5,
   "id": "316d52cb",
   "metadata": {
    "scrolled": true
   },
   "outputs": [
    {
     "name": "stdout",
     "output_type": "stream",
     "text": [
      "<class 'pandas.core.frame.DataFrame'>\n",
      "Int64Index: 437967 entries, 0 to 504086\n",
      "Data columns (total 8 columns):\n",
      " #   Column        Non-Null Count   Dtype         \n",
      "---  ------        --------------   -----         \n",
      " 0   Unnamed: 0    437967 non-null  int64         \n",
      " 1   date          306631 non-null  datetime64[ns]\n",
      " 2   shop_id       407650 non-null  Int64         \n",
      " 3   item_id       352049 non-null  Int64         \n",
      " 4   item_price    392583 non-null  float64       \n",
      " 5   item_cnt_day  431863 non-null  Int64         \n",
      " 6   user_id       376422 non-null  Int64         \n",
      " 7   basket_id     437967 non-null  object        \n",
      "dtypes: Int64(4), datetime64[ns](1), float64(1), int64(1), object(1)\n",
      "memory usage: 31.7+ MB\n"
     ]
    }
   ],
   "source": [
    "stored_basket_df = basket_df[basket_df['basket_id'].notna()]\n",
    "stored_basket_df.info()"
   ]
  },
  {
   "cell_type": "code",
   "execution_count": 6,
   "id": "af052920",
   "metadata": {},
   "outputs": [],
   "source": [
    "def integrate(int_attr, gr_attr, df):\n",
    "    df[int_attr] = df.groupby(gr_attr)[int_attr].apply(lambda x: x.fillna(x.mode().iloc[0] if len(x.mode()) == 1 else x))"
   ]
  },
  {
   "cell_type": "code",
   "execution_count": 7,
   "id": "7fe50249",
   "metadata": {
    "scrolled": true
   },
   "outputs": [
    {
     "name": "stderr",
     "output_type": "stream",
     "text": [
      "/tmp/ipykernel_179233/631791158.py:2: SettingWithCopyWarning: \n",
      "A value is trying to be set on a copy of a slice from a DataFrame.\n",
      "Try using .loc[row_indexer,col_indexer] = value instead\n",
      "\n",
      "See the caveats in the documentation: https://pandas.pydata.org/pandas-docs/stable/user_guide/indexing.html#returning-a-view-versus-a-copy\n",
      "  df[int_attr] = df.groupby(gr_attr)[int_attr].apply(lambda x: x.fillna(x.mode().iloc[0] if len(x.mode()) == 1 else x))\n",
      "/tmp/ipykernel_179233/631791158.py:2: SettingWithCopyWarning: \n",
      "A value is trying to be set on a copy of a slice from a DataFrame.\n",
      "Try using .loc[row_indexer,col_indexer] = value instead\n",
      "\n",
      "See the caveats in the documentation: https://pandas.pydata.org/pandas-docs/stable/user_guide/indexing.html#returning-a-view-versus-a-copy\n",
      "  df[int_attr] = df.groupby(gr_attr)[int_attr].apply(lambda x: x.fillna(x.mode().iloc[0] if len(x.mode()) == 1 else x))\n"
     ]
    },
    {
     "name": "stdout",
     "output_type": "stream",
     "text": [
      "<class 'pandas.core.frame.DataFrame'>\n",
      "Int64Index: 437708 entries, 0 to 504086\n",
      "Data columns (total 8 columns):\n",
      " #   Column        Non-Null Count   Dtype         \n",
      "---  ------        --------------   -----         \n",
      " 0   Unnamed: 0    437708 non-null  int64         \n",
      " 1   date          435787 non-null  datetime64[ns]\n",
      " 2   shop_id       437524 non-null  Int64         \n",
      " 3   item_id       351844 non-null  Int64         \n",
      " 4   item_price    392353 non-null  float64       \n",
      " 5   item_cnt_day  431606 non-null  Int64         \n",
      " 6   user_id       437212 non-null  Int64         \n",
      " 7   basket_id     437708 non-null  object        \n",
      "dtypes: Int64(4), datetime64[ns](1), float64(1), int64(1), object(1)\n",
      "memory usage: 31.7+ MB\n"
     ]
    },
    {
     "name": "stderr",
     "output_type": "stream",
     "text": [
      "/tmp/ipykernel_179233/631791158.py:2: SettingWithCopyWarning: \n",
      "A value is trying to be set on a copy of a slice from a DataFrame.\n",
      "Try using .loc[row_indexer,col_indexer] = value instead\n",
      "\n",
      "See the caveats in the documentation: https://pandas.pydata.org/pandas-docs/stable/user_guide/indexing.html#returning-a-view-versus-a-copy\n",
      "  df[int_attr] = df.groupby(gr_attr)[int_attr].apply(lambda x: x.fillna(x.mode().iloc[0] if len(x.mode()) == 1 else x))\n"
     ]
    }
   ],
   "source": [
    "basket_dependent_attributes = ['date', 'shop_id', 'user_id']\n",
    "for attr in basket_dependent_attributes:\n",
    "    integrate(attr, 'basket_id', stored_basket_df)\n",
    "\n",
    "stored_basket_df = stored_basket_df.dropna(subset=basket_dependent_attributes, thresh=2)\n",
    "    \n",
    "stored_basket_df.info()"
   ]
  },
  {
   "cell_type": "markdown",
   "id": "16af1f4c",
   "metadata": {},
   "source": [
    "#### Subset without basket_id"
   ]
  },
  {
   "cell_type": "code",
   "execution_count": 8,
   "id": "26f072df",
   "metadata": {},
   "outputs": [
    {
     "name": "stdout",
     "output_type": "stream",
     "text": [
      "<class 'pandas.core.frame.DataFrame'>\n",
      "Int64Index: 66120 entries, 20 to 504077\n",
      "Data columns (total 8 columns):\n",
      " #   Column        Non-Null Count  Dtype         \n",
      "---  ------        --------------  -----         \n",
      " 0   Unnamed: 0    66120 non-null  int64         \n",
      " 1   date          46230 non-null  datetime64[ns]\n",
      " 2   shop_id       61373 non-null  Int64         \n",
      " 3   item_id       53036 non-null  Int64         \n",
      " 4   item_price    59212 non-null  float64       \n",
      " 5   item_cnt_day  65176 non-null  Int64         \n",
      " 6   user_id       56929 non-null  Int64         \n",
      " 7   basket_id     0 non-null      object        \n",
      "dtypes: Int64(4), datetime64[ns](1), float64(1), int64(1), object(1)\n",
      "memory usage: 4.8+ MB\n"
     ]
    }
   ],
   "source": [
    "null_basket_df = basket_df[basket_df['basket_id'].isna()]\n",
    "\n",
    "null_basket_df.info()"
   ]
  },
  {
   "cell_type": "code",
   "execution_count": 9,
   "id": "4bc39ca1",
   "metadata": {
    "scrolled": true
   },
   "outputs": [
    {
     "name": "stdout",
     "output_type": "stream",
     "text": [
      "<class 'pandas.core.frame.DataFrame'>\n",
      "Int64Index: 36987 entries, 61 to 504077\n",
      "Data columns (total 8 columns):\n",
      " #   Column        Non-Null Count  Dtype         \n",
      "---  ------        --------------  -----         \n",
      " 0   Unnamed: 0    36987 non-null  int64         \n",
      " 1   date          36987 non-null  datetime64[ns]\n",
      " 2   shop_id       36987 non-null  Int64         \n",
      " 3   item_id       29726 non-null  Int64         \n",
      " 4   item_price    33150 non-null  float64       \n",
      " 5   item_cnt_day  36454 non-null  Int64         \n",
      " 6   user_id       36987 non-null  Int64         \n",
      " 7   basket_id     0 non-null      object        \n",
      "dtypes: Int64(4), datetime64[ns](1), float64(1), int64(1), object(1)\n",
      "memory usage: 2.7+ MB\n"
     ]
    }
   ],
   "source": [
    "null_basket_df = null_basket_df.dropna(subset=basket_dependent_attributes)\n",
    "null_basket_df.info()"
   ]
  },
  {
   "cell_type": "code",
   "execution_count": 10,
   "id": "5be260e4",
   "metadata": {},
   "outputs": [],
   "source": [
    "null_basket_df['new_id'] = null_basket_df.groupby(basket_dependent_attributes).ngroup()"
   ]
  },
  {
   "cell_type": "code",
   "execution_count": 11,
   "id": "9925b267",
   "metadata": {},
   "outputs": [
    {
     "name": "stdout",
     "output_type": "stream",
     "text": [
      "<class 'pandas.core.frame.DataFrame'>\n",
      "Int64Index: 27748 entries, 61 to 504051\n",
      "Data columns (total 8 columns):\n",
      " #   Column        Non-Null Count  Dtype         \n",
      "---  ------        --------------  -----         \n",
      " 0   Unnamed: 0    27748 non-null  int64         \n",
      " 1   date          27748 non-null  datetime64[ns]\n",
      " 2   shop_id       27748 non-null  Int64         \n",
      " 3   item_id       22323 non-null  Int64         \n",
      " 4   item_price    24897 non-null  float64       \n",
      " 5   item_cnt_day  27342 non-null  Int64         \n",
      " 6   user_id       27748 non-null  Int64         \n",
      " 7   basket_id     27748 non-null  object        \n",
      "dtypes: Int64(4), datetime64[ns](1), float64(1), int64(1), object(1)\n",
      "memory usage: 2.0+ MB\n"
     ]
    },
    {
     "name": "stderr",
     "output_type": "stream",
     "text": [
      "/tmp/ipykernel_179233/2700372355.py:2: SettingWithCopyWarning: \n",
      "A value is trying to be set on a copy of a slice from a DataFrame.\n",
      "Try using .loc[row_indexer,col_indexer] = value instead\n",
      "\n",
      "See the caveats in the documentation: https://pandas.pydata.org/pandas-docs/stable/user_guide/indexing.html#returning-a-view-versus-a-copy\n",
      "  new_basket_df['basket_id'] = 'R' + null_basket_df['new_id'].astype(str)\n",
      "/tmp/ipykernel_179233/2700372355.py:3: FutureWarning: In a future version of pandas all arguments of DataFrame.drop except for the argument 'labels' will be keyword-only.\n",
      "  new_basket_df = new_basket_df.drop('new_id', 1)\n"
     ]
    }
   ],
   "source": [
    "new_basket_df = null_basket_df[null_basket_df.duplicated(subset=['new_id'], keep=False)]\n",
    "new_basket_df['basket_id'] = 'R' + null_basket_df['new_id'].astype(str)\n",
    "new_basket_df = new_basket_df.drop('new_id', 1)\n",
    "new_basket_df.info()"
   ]
  },
  {
   "cell_type": "code",
   "execution_count": 12,
   "id": "6feae0ec",
   "metadata": {},
   "outputs": [
    {
     "name": "stdout",
     "output_type": "stream",
     "text": [
      "<class 'pandas.core.frame.DataFrame'>\n",
      "Int64Index: 9239 entries, 121 to 504077\n",
      "Data columns (total 9 columns):\n",
      " #   Column        Non-Null Count  Dtype         \n",
      "---  ------        --------------  -----         \n",
      " 0   Unnamed: 0    9239 non-null   int64         \n",
      " 1   date          9239 non-null   datetime64[ns]\n",
      " 2   shop_id       9239 non-null   Int64         \n",
      " 3   item_id       7403 non-null   Int64         \n",
      " 4   item_price    8253 non-null   float64       \n",
      " 5   item_cnt_day  9112 non-null   Int64         \n",
      " 6   user_id       9239 non-null   Int64         \n",
      " 7   basket_id     0 non-null      object        \n",
      " 8   new_id        9239 non-null   int64         \n",
      "dtypes: Int64(4), datetime64[ns](1), float64(1), int64(2), object(1)\n",
      "memory usage: 757.9+ KB\n"
     ]
    }
   ],
   "source": [
    "single_basket_df = null_basket_df.drop_duplicates(subset=['new_id'], keep=False)\n",
    "single_basket_df.info()"
   ]
  },
  {
   "cell_type": "code",
   "execution_count": 13,
   "id": "114d41f6",
   "metadata": {},
   "outputs": [
    {
     "name": "stdout",
     "output_type": "stream",
     "text": [
      "<class 'pandas.core.frame.DataFrame'>\n",
      "Int64Index: 446947 entries, 0 to 504077\n",
      "Data columns (total 9 columns):\n",
      " #   Column        Non-Null Count   Dtype         \n",
      "---  ------        --------------   -----         \n",
      " 0   Unnamed: 0    446947 non-null  int64         \n",
      " 1   date          445026 non-null  datetime64[ns]\n",
      " 2   shop_id       446763 non-null  Int64         \n",
      " 3   item_id       359247 non-null  Int64         \n",
      " 4   item_price    400606 non-null  float64       \n",
      " 5   item_cnt_day  440718 non-null  Int64         \n",
      " 6   user_id       446451 non-null  Int64         \n",
      " 7   basket_id     437708 non-null  object        \n",
      " 8   new_id        9239 non-null    float64       \n",
      "dtypes: Int64(4), datetime64[ns](1), float64(2), int64(1), object(1)\n",
      "memory usage: 35.8+ MB\n"
     ]
    }
   ],
   "source": [
    "restoring_basket_df = pd.concat([stored_basket_df, single_basket_df])\n",
    "restoring_basket_df.info()"
   ]
  },
  {
   "cell_type": "code",
   "execution_count": 14,
   "id": "cc324522",
   "metadata": {},
   "outputs": [
    {
     "name": "stdout",
     "output_type": "stream",
     "text": [
      "<class 'pandas.core.frame.DataFrame'>\n",
      "Int64Index: 446947 entries, 0 to 504077\n",
      "Data columns (total 9 columns):\n",
      " #   Column        Non-Null Count   Dtype         \n",
      "---  ------        --------------   -----         \n",
      " 0   Unnamed: 0    446947 non-null  int64         \n",
      " 1   date          445026 non-null  datetime64[ns]\n",
      " 2   shop_id       446763 non-null  Int64         \n",
      " 3   item_id       359247 non-null  Int64         \n",
      " 4   item_price    400606 non-null  float64       \n",
      " 5   item_cnt_day  440718 non-null  Int64         \n",
      " 6   user_id       446451 non-null  Int64         \n",
      " 7   basket_id     443752 non-null  object        \n",
      " 8   new_id        9239 non-null    float64       \n",
      "dtypes: Int64(4), datetime64[ns](1), float64(2), int64(1), object(1)\n",
      "memory usage: 35.8+ MB\n"
     ]
    }
   ],
   "source": [
    "integrate('basket_id', basket_dependent_attributes, restoring_basket_df)\n",
    "restoring_basket_df.info()"
   ]
  },
  {
   "cell_type": "code",
   "execution_count": 15,
   "id": "a257a7ca",
   "metadata": {
    "scrolled": true
   },
   "outputs": [
    {
     "name": "stdout",
     "output_type": "stream",
     "text": [
      "<class 'pandas.core.frame.DataFrame'>\n",
      "Int64Index: 444346 entries, 0 to 504077\n",
      "Data columns (total 9 columns):\n",
      " #   Column        Non-Null Count   Dtype         \n",
      "---  ------        --------------   -----         \n",
      " 0   Unnamed: 0    444346 non-null  int64         \n",
      " 1   date          444346 non-null  datetime64[ns]\n",
      " 2   shop_id       444346 non-null  Int64         \n",
      " 3   item_id       357166 non-null  Int64         \n",
      " 4   item_price    398288 non-null  float64       \n",
      " 5   item_cnt_day  438157 non-null  Int64         \n",
      " 6   user_id       444346 non-null  Int64         \n",
      " 7   basket_id     443752 non-null  object        \n",
      " 8   new_id        9239 non-null    float64       \n",
      "dtypes: Int64(4), datetime64[ns](1), float64(2), int64(1), object(1)\n",
      "memory usage: 35.6+ MB\n"
     ]
    }
   ],
   "source": [
    "restoring_basket_df = restoring_basket_df.dropna(subset=['basket_id', 'date', 'shop_id', 'user_id'], thresh=3)\n",
    "restoring_basket_df.info()"
   ]
  },
  {
   "cell_type": "code",
   "execution_count": 16,
   "id": "c953d9a6",
   "metadata": {},
   "outputs": [
    {
     "name": "stdout",
     "output_type": "stream",
     "text": [
      "<class 'pandas.core.frame.DataFrame'>\n",
      "Int64Index: 444346 entries, 0 to 504077\n",
      "Data columns (total 8 columns):\n",
      " #   Column        Non-Null Count   Dtype         \n",
      "---  ------        --------------   -----         \n",
      " 0   Unnamed: 0    444346 non-null  int64         \n",
      " 1   date          444346 non-null  datetime64[ns]\n",
      " 2   shop_id       444346 non-null  Int64         \n",
      " 3   item_id       357166 non-null  Int64         \n",
      " 4   item_price    398288 non-null  float64       \n",
      " 5   item_cnt_day  438157 non-null  Int64         \n",
      " 6   user_id       444346 non-null  Int64         \n",
      " 7   basket_id     444346 non-null  object        \n",
      "dtypes: Int64(4), datetime64[ns](1), float64(1), int64(1), object(1)\n",
      "memory usage: 32.2+ MB\n"
     ]
    },
    {
     "name": "stderr",
     "output_type": "stream",
     "text": [
      "/tmp/ipykernel_179233/2726479186.py:2: FutureWarning: In a future version of pandas all arguments of DataFrame.drop except for the argument 'labels' will be keyword-only.\n",
      "  restoring_basket_df = restoring_basket_df.drop('new_id', 1)\n"
     ]
    }
   ],
   "source": [
    "restoring_basket_df['basket_id'] = restoring_basket_df['basket_id'].fillna('S' + restoring_basket_df['new_id'].astype(str))\n",
    "restoring_basket_df = restoring_basket_df.drop('new_id', 1)\n",
    "restoring_basket_df.info()"
   ]
  },
  {
   "cell_type": "markdown",
   "id": "44e62c96",
   "metadata": {},
   "source": [
    "#### Merging subsets"
   ]
  },
  {
   "cell_type": "code",
   "execution_count": 17,
   "id": "3c319109",
   "metadata": {},
   "outputs": [
    {
     "name": "stdout",
     "output_type": "stream",
     "text": [
      "<class 'pandas.core.frame.DataFrame'>\n",
      "Int64Index: 472094 entries, 0 to 504051\n",
      "Data columns (total 8 columns):\n",
      " #   Column        Non-Null Count   Dtype         \n",
      "---  ------        --------------   -----         \n",
      " 0   Unnamed: 0    472094 non-null  int64         \n",
      " 1   date          472094 non-null  datetime64[ns]\n",
      " 2   shop_id       472094 non-null  Int64         \n",
      " 3   item_id       379489 non-null  Int64         \n",
      " 4   item_price    423185 non-null  float64       \n",
      " 5   item_cnt_day  465499 non-null  Int64         \n",
      " 6   user_id       472094 non-null  Int64         \n",
      " 7   basket_id     472094 non-null  object        \n",
      "dtypes: Int64(4), datetime64[ns](1), float64(1), int64(1), object(1)\n",
      "memory usage: 34.2+ MB\n"
     ]
    }
   ],
   "source": [
    "clean_basket_df = pd.concat([restoring_basket_df, new_basket_df])\n",
    "clean_basket_df.info()"
   ]
  },
  {
   "cell_type": "markdown",
   "id": "7feabfa5",
   "metadata": {},
   "source": [
    "### Cleaning item columns"
   ]
  },
  {
   "cell_type": "code",
   "execution_count": 18,
   "id": "0e22ceff",
   "metadata": {},
   "outputs": [
    {
     "name": "stdout",
     "output_type": "stream",
     "text": [
      "<class 'pandas.core.frame.DataFrame'>\n",
      "Int64Index: 465499 entries, 0 to 504051\n",
      "Data columns (total 8 columns):\n",
      " #   Column        Non-Null Count   Dtype         \n",
      "---  ------        --------------   -----         \n",
      " 0   Unnamed: 0    465499 non-null  int64         \n",
      " 1   date          465499 non-null  datetime64[ns]\n",
      " 2   shop_id       465499 non-null  Int64         \n",
      " 3   item_id       374207 non-null  Int64         \n",
      " 4   item_price    417261 non-null  float64       \n",
      " 5   item_cnt_day  465499 non-null  Int64         \n",
      " 6   user_id       465499 non-null  Int64         \n",
      " 7   basket_id     465499 non-null  object        \n",
      "dtypes: Int64(4), datetime64[ns](1), float64(1), int64(1), object(1)\n",
      "memory usage: 33.7+ MB\n"
     ]
    }
   ],
   "source": [
    "clean_basket_df = clean_basket_df.dropna(subset='item_cnt_day')\n",
    "clean_basket_df.info()"
   ]
  },
  {
   "cell_type": "code",
   "execution_count": 19,
   "id": "080a4137",
   "metadata": {},
   "outputs": [
    {
     "name": "stdout",
     "output_type": "stream",
     "text": [
      "<class 'pandas.core.frame.DataFrame'>\n",
      "Int64Index: 456017 entries, 0 to 504051\n",
      "Data columns (total 8 columns):\n",
      " #   Column        Non-Null Count   Dtype         \n",
      "---  ------        --------------   -----         \n",
      " 0   Unnamed: 0    456017 non-null  int64         \n",
      " 1   date          456017 non-null  datetime64[ns]\n",
      " 2   shop_id       456017 non-null  Int64         \n",
      " 3   item_id       374207 non-null  Int64         \n",
      " 4   item_price    417261 non-null  float64       \n",
      " 5   item_cnt_day  456017 non-null  Int64         \n",
      " 6   user_id       456017 non-null  Int64         \n",
      " 7   basket_id     456017 non-null  object        \n",
      "dtypes: Int64(4), datetime64[ns](1), float64(1), int64(1), object(1)\n",
      "memory usage: 33.1+ MB\n"
     ]
    }
   ],
   "source": [
    "clean_basket_df = clean_basket_df.dropna(subset=['item_id', 'item_price'], thresh=1)\n",
    "clean_basket_df.info()"
   ]
  },
  {
   "cell_type": "code",
   "execution_count": 20,
   "id": "59208d33",
   "metadata": {},
   "outputs": [
    {
     "name": "stdout",
     "output_type": "stream",
     "text": [
      "<class 'pandas.core.frame.DataFrame'>\n",
      "Int64Index: 456017 entries, 0 to 504051\n",
      "Data columns (total 8 columns):\n",
      " #   Column        Non-Null Count   Dtype         \n",
      "---  ------        --------------   -----         \n",
      " 0   Unnamed: 0    456017 non-null  int64         \n",
      " 1   date          456017 non-null  datetime64[ns]\n",
      " 2   shop_id       456017 non-null  Int64         \n",
      " 3   item_id       456017 non-null  Int64         \n",
      " 4   item_price    417261 non-null  float64       \n",
      " 5   item_cnt_day  456017 non-null  Int64         \n",
      " 6   user_id       456017 non-null  Int64         \n",
      " 7   basket_id     456017 non-null  object        \n",
      "dtypes: Int64(4), datetime64[ns](1), float64(1), int64(1), object(1)\n",
      "memory usage: 33.1+ MB\n"
     ]
    }
   ],
   "source": [
    "clean_basket_df['item_id'] = clean_basket_df['item_id'].fillna(-1)\n",
    "clean_basket_df.info()"
   ]
  },
  {
   "cell_type": "code",
   "execution_count": 21,
   "id": "ac986c03",
   "metadata": {},
   "outputs": [
    {
     "data": {
      "text/html": [
       "<div>\n",
       "<style scoped>\n",
       "    .dataframe tbody tr th:only-of-type {\n",
       "        vertical-align: middle;\n",
       "    }\n",
       "\n",
       "    .dataframe tbody tr th {\n",
       "        vertical-align: top;\n",
       "    }\n",
       "\n",
       "    .dataframe thead th {\n",
       "        text-align: right;\n",
       "    }\n",
       "</style>\n",
       "<table border=\"1\" class=\"dataframe\">\n",
       "  <thead>\n",
       "    <tr style=\"text-align: right;\">\n",
       "      <th></th>\n",
       "      <th>item_name</th>\n",
       "      <th>item_id</th>\n",
       "      <th>item_category_id</th>\n",
       "      <th>item_price</th>\n",
       "    </tr>\n",
       "  </thead>\n",
       "  <tbody>\n",
       "    <tr>\n",
       "      <th>0</th>\n",
       "      <td>! ВО ВЛАСТИ НАВАЖДЕНИЯ (ПЛАСТ.)         D</td>\n",
       "      <td>0</td>\n",
       "      <td>40.0</td>\n",
       "      <td>58.000000</td>\n",
       "    </tr>\n",
       "    <tr>\n",
       "      <th>1</th>\n",
       "      <td>!ABBYY FineReader 12 Professional Edition Full...</td>\n",
       "      <td>1</td>\n",
       "      <td>76.0</td>\n",
       "      <td>4490.000000</td>\n",
       "    </tr>\n",
       "    <tr>\n",
       "      <th>2</th>\n",
       "      <td>***В ЛУЧАХ СЛАВЫ   (UNV)                    D</td>\n",
       "      <td>2</td>\n",
       "      <td>40.0</td>\n",
       "      <td>NaN</td>\n",
       "    </tr>\n",
       "    <tr>\n",
       "      <th>3</th>\n",
       "      <td>***ГОЛУБАЯ ВОЛНА  (Univ)                      D</td>\n",
       "      <td>3</td>\n",
       "      <td>40.0</td>\n",
       "      <td>100.000000</td>\n",
       "    </tr>\n",
       "    <tr>\n",
       "      <th>4</th>\n",
       "      <td>***КОРОБКА (СТЕКЛО)                       D</td>\n",
       "      <td>4</td>\n",
       "      <td>40.0</td>\n",
       "      <td>NaN</td>\n",
       "    </tr>\n",
       "    <tr>\n",
       "      <th>...</th>\n",
       "      <td>...</td>\n",
       "      <td>...</td>\n",
       "      <td>...</td>\n",
       "      <td>...</td>\n",
       "    </tr>\n",
       "    <tr>\n",
       "      <th>22166</th>\n",
       "      <td>Язык запросов 1С:Предприятия  [Цифровая версия]</td>\n",
       "      <td>22166</td>\n",
       "      <td>54.0</td>\n",
       "      <td>150.000000</td>\n",
       "    </tr>\n",
       "    <tr>\n",
       "      <th>22167</th>\n",
       "      <td>Язык запросов 1С:Предприятия 8 (+CD). Хрустале...</td>\n",
       "      <td>22167</td>\n",
       "      <td>49.0</td>\n",
       "      <td>297.866142</td>\n",
       "    </tr>\n",
       "    <tr>\n",
       "      <th>22168</th>\n",
       "      <td>Яйцо для Little Inu</td>\n",
       "      <td>22168</td>\n",
       "      <td>62.0</td>\n",
       "      <td>799.000000</td>\n",
       "    </tr>\n",
       "    <tr>\n",
       "      <th>22169</th>\n",
       "      <td>Яйцо дракона (Игра престолов)</td>\n",
       "      <td>22169</td>\n",
       "      <td>69.0</td>\n",
       "      <td>NaN</td>\n",
       "    </tr>\n",
       "    <tr>\n",
       "      <th>22170</th>\n",
       "      <td>NaN</td>\n",
       "      <td>-1</td>\n",
       "      <td>NaN</td>\n",
       "      <td>869.046349</td>\n",
       "    </tr>\n",
       "  </tbody>\n",
       "</table>\n",
       "<p>22171 rows × 4 columns</p>\n",
       "</div>"
      ],
      "text/plain": [
       "                                               item_name  item_id  \\\n",
       "0              ! ВО ВЛАСТИ НАВАЖДЕНИЯ (ПЛАСТ.)         D        0   \n",
       "1      !ABBYY FineReader 12 Professional Edition Full...        1   \n",
       "2          ***В ЛУЧАХ СЛАВЫ   (UNV)                    D        2   \n",
       "3        ***ГОЛУБАЯ ВОЛНА  (Univ)                      D        3   \n",
       "4            ***КОРОБКА (СТЕКЛО)                       D        4   \n",
       "...                                                  ...      ...   \n",
       "22166    Язык запросов 1С:Предприятия  [Цифровая версия]    22166   \n",
       "22167  Язык запросов 1С:Предприятия 8 (+CD). Хрустале...    22167   \n",
       "22168                                Яйцо для Little Inu    22168   \n",
       "22169                      Яйцо дракона (Игра престолов)    22169   \n",
       "22170                                                NaN       -1   \n",
       "\n",
       "       item_category_id   item_price  \n",
       "0                  40.0    58.000000  \n",
       "1                  76.0  4490.000000  \n",
       "2                  40.0          NaN  \n",
       "3                  40.0   100.000000  \n",
       "4                  40.0          NaN  \n",
       "...                 ...          ...  \n",
       "22166              54.0   150.000000  \n",
       "22167              49.0   297.866142  \n",
       "22168              62.0   799.000000  \n",
       "22169              69.0          NaN  \n",
       "22170               NaN   869.046349  \n",
       "\n",
       "[22171 rows x 4 columns]"
      ]
     },
     "execution_count": 21,
     "metadata": {},
     "output_type": "execute_result"
    }
   ],
   "source": [
    "temp = clean_basket_df.groupby('item_id')['item_price'].mean()\n",
    "priced_items_df = pd.merge(items_df, temp, on='item_id', how='outer')\n",
    "priced_items_df"
   ]
  },
  {
   "cell_type": "code",
   "execution_count": null,
   "id": "ef1f45da",
   "metadata": {},
   "outputs": [],
   "source": [
    "clean_basket_df['item_price'] = clean_basket_df['item_price'].fillna(priced_items_df[])"
   ]
  },
  {
   "cell_type": "markdown",
   "id": "fe68bcc0",
   "metadata": {},
   "source": [
    "## Other datasets"
   ]
  },
  {
   "cell_type": "code",
   "execution_count": 22,
   "id": "46cd7316",
   "metadata": {},
   "outputs": [
    {
     "name": "stdout",
     "output_type": "stream",
     "text": [
      "<class 'pandas.core.frame.DataFrame'>\n",
      "RangeIndex: 84 entries, 0 to 83\n",
      "Data columns (total 2 columns):\n",
      " #   Column              Non-Null Count  Dtype \n",
      "---  ------              --------------  ----- \n",
      " 0   item_category_name  84 non-null     object\n",
      " 1   item_category_id    84 non-null     int64 \n",
      "dtypes: int64(1), object(1)\n",
      "memory usage: 1.4+ KB\n"
     ]
    }
   ],
   "source": [
    "categories_df.info()"
   ]
  },
  {
   "cell_type": "code",
   "execution_count": 23,
   "id": "6b581307",
   "metadata": {},
   "outputs": [
    {
     "name": "stdout",
     "output_type": "stream",
     "text": [
      "<class 'pandas.core.frame.DataFrame'>\n",
      "RangeIndex: 22170 entries, 0 to 22169\n",
      "Data columns (total 3 columns):\n",
      " #   Column            Non-Null Count  Dtype \n",
      "---  ------            --------------  ----- \n",
      " 0   item_name         22170 non-null  object\n",
      " 1   item_id           22170 non-null  int64 \n",
      " 2   item_category_id  22170 non-null  int64 \n",
      "dtypes: int64(2), object(1)\n",
      "memory usage: 519.7+ KB\n"
     ]
    }
   ],
   "source": [
    "items_df.info()"
   ]
  },
  {
   "cell_type": "markdown",
   "id": "2aeba45d",
   "metadata": {},
   "source": [
    "## Spazio query marce"
   ]
  },
  {
   "cell_type": "code",
   "execution_count": 24,
   "id": "fcaf8709",
   "metadata": {},
   "outputs": [
    {
     "data": {
      "text/plain": [
       "date        shop_id  user_id\n",
       "2013-05-04  4        191        2\n",
       "2014-02-05  6        308        2\n",
       "2013-04-02  43       257        2\n",
       "2014-01-10  58       441        2\n",
       "2015-04-02  49       203        2\n",
       "                               ..\n",
       "2013-02-12  16       100        3\n",
       "2013-06-05  49       203        3\n",
       "2014-01-06  7        571        3\n",
       "2014-02-09  53       580        4\n",
       "2014-05-04  25       102        4\n",
       "Name: basket_id, Length: 170, dtype: int64"
      ]
     },
     "execution_count": 24,
     "metadata": {},
     "output_type": "execute_result"
    }
   ],
   "source": [
    "# 170 - triplette con basket id diversi\n",
    "stored_basket_df.groupby(basket_dependent_attributes)['basket_id'].nunique().sort_values()[-170:]"
   ]
  },
  {
   "cell_type": "code",
   "execution_count": 25,
   "id": "724465e1",
   "metadata": {},
   "outputs": [
    {
     "data": {
      "text/plain": [
       "basket_id\n",
       "B869996     1\n",
       "B5120383    1\n",
       "B8617328    1\n",
       "B8633312    1\n",
       "B8617336    1\n",
       "           ..\n",
       "B8610368    1\n",
       "B8612872    1\n",
       "B8611812    2\n",
       "B8614448    2\n",
       "B8623836    2\n",
       "Length: 3310, dtype: int64"
      ]
     },
     "execution_count": 25,
     "metadata": {},
     "output_type": "execute_result"
    }
   ],
   "source": [
    "# 3307 - ordini con una sola riga\n",
    "stored_basket_df.groupby('basket_id').size().sort_values()[:3310]"
   ]
  },
  {
   "cell_type": "markdown",
   "id": "a319eb51",
   "metadata": {},
   "source": [
    "## Spazio grafici"
   ]
  },
  {
   "cell_type": "code",
   "execution_count": 26,
   "id": "fae7f4a6",
   "metadata": {},
   "outputs": [
    {
     "data": {
      "text/plain": [
       "<AxesSubplot:>"
      ]
     },
     "execution_count": 26,
     "metadata": {},
     "output_type": "execute_result"
    },
    {
     "data": {
      "image/png": "[encoded data removed]",
      "text/plain": [
       "<Figure size 432x288 with 1 Axes>"
      ]
     },
     "metadata": {
      "needs_background": "light"
     },
     "output_type": "display_data"
    }
   ],
   "source": [
    "clean_basket_df['shop_id'].value_counts().plot(kind='bar')"
   ]
  },
  {
   "cell_type": "code",
   "execution_count": 27,
   "id": "9141dd8f",
   "metadata": {},
   "outputs": [
    {
     "data": {
      "text/plain": [
       "<AxesSubplot:xlabel='item_price', ylabel='item_cnt_day'>"
      ]
     },
     "execution_count": 27,
     "metadata": {},
     "output_type": "execute_result"
    },
    {
     "data": {
      "image/png": "[encoded data removed]",
      "text/plain": [
       "<Figure size 432x288 with 1 Axes>"
      ]
     },
     "metadata": {
      "needs_background": "light"
     },
     "output_type": "display_data"
    }
   ],
   "source": [
    "clean_basket_df.plot(x='item_price', y='item_cnt_day', kind='scatter')"
   ]
  },
  {
   "cell_type": "markdown",
   "id": "8d214657",
   "metadata": {},
   "source": [
    "## Spazio cazzeggio"
   ]
  },
  {
   "cell_type": "code",
   "execution_count": 28,
   "id": "f10855aa",
   "metadata": {},
   "outputs": [],
   "source": [
    "df = pd.DataFrame([[4,9],[4,3],[4,9],[4,3],[4, np.nan],[3,1],[3,np.nan],[2,np.nan],[np.nan,2], [np.nan,3]], columns=['A', 'B'])"
   ]
  },
  {
   "cell_type": "code",
   "execution_count": 29,
   "id": "749705d8",
   "metadata": {},
   "outputs": [
    {
     "data": {
      "text/html": [
       "<div>\n",
       "<style scoped>\n",
       "    .dataframe tbody tr th:only-of-type {\n",
       "        vertical-align: middle;\n",
       "    }\n",
       "\n",
       "    .dataframe tbody tr th {\n",
       "        vertical-align: top;\n",
       "    }\n",
       "\n",
       "    .dataframe thead th {\n",
       "        text-align: right;\n",
       "    }\n",
       "</style>\n",
       "<table border=\"1\" class=\"dataframe\">\n",
       "  <thead>\n",
       "    <tr style=\"text-align: right;\">\n",
       "      <th></th>\n",
       "      <th>A</th>\n",
       "      <th>B</th>\n",
       "    </tr>\n",
       "  </thead>\n",
       "  <tbody>\n",
       "    <tr>\n",
       "      <th>0</th>\n",
       "      <td>4.0</td>\n",
       "      <td>9.0</td>\n",
       "    </tr>\n",
       "    <tr>\n",
       "      <th>1</th>\n",
       "      <td>4.0</td>\n",
       "      <td>3.0</td>\n",
       "    </tr>\n",
       "    <tr>\n",
       "      <th>2</th>\n",
       "      <td>4.0</td>\n",
       "      <td>9.0</td>\n",
       "    </tr>\n",
       "    <tr>\n",
       "      <th>3</th>\n",
       "      <td>4.0</td>\n",
       "      <td>3.0</td>\n",
       "    </tr>\n",
       "    <tr>\n",
       "      <th>4</th>\n",
       "      <td>4.0</td>\n",
       "      <td>NaN</td>\n",
       "    </tr>\n",
       "    <tr>\n",
       "      <th>5</th>\n",
       "      <td>3.0</td>\n",
       "      <td>1.0</td>\n",
       "    </tr>\n",
       "    <tr>\n",
       "      <th>6</th>\n",
       "      <td>3.0</td>\n",
       "      <td>NaN</td>\n",
       "    </tr>\n",
       "    <tr>\n",
       "      <th>7</th>\n",
       "      <td>2.0</td>\n",
       "      <td>NaN</td>\n",
       "    </tr>\n",
       "    <tr>\n",
       "      <th>8</th>\n",
       "      <td>NaN</td>\n",
       "      <td>2.0</td>\n",
       "    </tr>\n",
       "    <tr>\n",
       "      <th>9</th>\n",
       "      <td>NaN</td>\n",
       "      <td>3.0</td>\n",
       "    </tr>\n",
       "  </tbody>\n",
       "</table>\n",
       "</div>"
      ],
      "text/plain": [
       "     A    B\n",
       "0  4.0  9.0\n",
       "1  4.0  3.0\n",
       "2  4.0  9.0\n",
       "3  4.0  3.0\n",
       "4  4.0  NaN\n",
       "5  3.0  1.0\n",
       "6  3.0  NaN\n",
       "7  2.0  NaN\n",
       "8  NaN  2.0\n",
       "9  NaN  3.0"
      ]
     },
     "execution_count": 29,
     "metadata": {},
     "output_type": "execute_result"
    }
   ],
   "source": [
    "df"
   ]
  },
  {
   "cell_type": "code",
   "execution_count": 30,
   "id": "c6e63274",
   "metadata": {},
   "outputs": [],
   "source": [
    "df['B'] = df.groupby('A')['B'].apply(lambda x: x.fillna(x.mode().iloc[0]) if len(x.mode()) == 1 else x)"
   ]
  },
  {
   "cell_type": "code",
   "execution_count": 31,
   "id": "82e4d2b0",
   "metadata": {},
   "outputs": [
    {
     "data": {
      "text/html": [
       "<div>\n",
       "<style scoped>\n",
       "    .dataframe tbody tr th:only-of-type {\n",
       "        vertical-align: middle;\n",
       "    }\n",
       "\n",
       "    .dataframe tbody tr th {\n",
       "        vertical-align: top;\n",
       "    }\n",
       "\n",
       "    .dataframe thead th {\n",
       "        text-align: right;\n",
       "    }\n",
       "</style>\n",
       "<table border=\"1\" class=\"dataframe\">\n",
       "  <thead>\n",
       "    <tr style=\"text-align: right;\">\n",
       "      <th></th>\n",
       "      <th>A</th>\n",
       "      <th>B</th>\n",
       "    </tr>\n",
       "  </thead>\n",
       "  <tbody>\n",
       "    <tr>\n",
       "      <th>0</th>\n",
       "      <td>4.0</td>\n",
       "      <td>9.0</td>\n",
       "    </tr>\n",
       "    <tr>\n",
       "      <th>1</th>\n",
       "      <td>4.0</td>\n",
       "      <td>3.0</td>\n",
       "    </tr>\n",
       "    <tr>\n",
       "      <th>2</th>\n",
       "      <td>4.0</td>\n",
       "      <td>9.0</td>\n",
       "    </tr>\n",
       "    <tr>\n",
       "      <th>3</th>\n",
       "      <td>4.0</td>\n",
       "      <td>3.0</td>\n",
       "    </tr>\n",
       "    <tr>\n",
       "      <th>4</th>\n",
       "      <td>4.0</td>\n",
       "      <td>NaN</td>\n",
       "    </tr>\n",
       "    <tr>\n",
       "      <th>5</th>\n",
       "      <td>3.0</td>\n",
       "      <td>1.0</td>\n",
       "    </tr>\n",
       "    <tr>\n",
       "      <th>6</th>\n",
       "      <td>3.0</td>\n",
       "      <td>1.0</td>\n",
       "    </tr>\n",
       "    <tr>\n",
       "      <th>7</th>\n",
       "      <td>2.0</td>\n",
       "      <td>NaN</td>\n",
       "    </tr>\n",
       "    <tr>\n",
       "      <th>8</th>\n",
       "      <td>NaN</td>\n",
       "      <td>NaN</td>\n",
       "    </tr>\n",
       "    <tr>\n",
       "      <th>9</th>\n",
       "      <td>NaN</td>\n",
       "      <td>NaN</td>\n",
       "    </tr>\n",
       "  </tbody>\n",
       "</table>\n",
       "</div>"
      ],
      "text/plain": [
       "     A    B\n",
       "0  4.0  9.0\n",
       "1  4.0  3.0\n",
       "2  4.0  9.0\n",
       "3  4.0  3.0\n",
       "4  4.0  NaN\n",
       "5  3.0  1.0\n",
       "6  3.0  1.0\n",
       "7  2.0  NaN\n",
       "8  NaN  NaN\n",
       "9  NaN  NaN"
      ]
     },
     "execution_count": 31,
     "metadata": {},
     "output_type": "execute_result"
    }
   ],
   "source": [
    "df"
   ]
  },
  {
   "cell_type": "code",
   "execution_count": 32,
   "id": "1f3358d0",
   "metadata": {},
   "outputs": [],
   "source": [
    "df['B'] = df.groupby('A')['B'].apply(lambda x: x.replace(0 if len(x.mode()) > 1 else x))"
   ]
  },
  {
   "cell_type": "code",
   "execution_count": 33,
   "id": "adb1907b",
   "metadata": {},
   "outputs": [],
   "source": [
    "# df.loc[df.groupby('A')['B'].agg(lambda x: len(x.mode())) > 1, 'B'] = 0\n"
   ]
  }
 ],
 "metadata": {
  "kernelspec": {
   "display_name": "dm-exam-venv",
   "language": "python",
   "name": "dm-exam-venv"
  },
  "language_info": {
   "codemirror_mode": {
    "name": "ipython",
    "version": 3
   },
   "file_extension": ".py",
   "mimetype": "text/x-python",
   "name": "python",
   "nbconvert_exporter": "python",
   "pygments_lexer": "ipython3",
   "version": "3.10.4"
  }
 },
 "nbformat": 4,
 "nbformat_minor": 5
}
