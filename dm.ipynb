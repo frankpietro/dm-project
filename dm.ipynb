{
 "cells": [
  {
   "cell_type": "markdown",
   "id": "6c0e8fad",
   "metadata": {},
   "source": [
    "# Data Mining Project\n",
    "### Giorgio Donati, g.donati24@studenti.unipi.it\n",
    "### Pietro Francaviglia, p.francaviglia1@studenti.unipi.it\n",
    "#### A.Y. 2021-2022\n"
   ]
  },
  {
   "cell_type": "markdown",
   "id": "1140546f",
   "metadata": {},
   "source": [
    "## Libraries and datasets"
   ]
  },
  {
   "cell_type": "code",
   "execution_count": 1,
   "id": "3e8ba1d9",
   "metadata": {},
   "outputs": [],
   "source": [
    "import math\n",
    "import numpy as np\n",
    "import pandas as pd\n",
    "import scipy.stats as stats\n",
    "import matplotlib.pyplot as plt"
   ]
  },
  {
   "cell_type": "code",
   "execution_count": 2,
   "id": "eb55a926",
   "metadata": {},
   "outputs": [],
   "source": [
    "# load datasets\n",
    "basket_df = pd.read_csv('datasets/baskets_supermarket.csv')\n",
    "categories_df = pd.read_csv('datasets/item_categories.csv')\n",
    "items_df = pd.read_csv('datasets/items.csv')"
   ]
  },
  {
   "cell_type": "markdown",
   "id": "30ccee0d",
   "metadata": {},
   "source": [
    "## Basket dataset"
   ]
  },
  {
   "cell_type": "code",
   "execution_count": 3,
   "id": "0391e5ed",
   "metadata": {},
   "outputs": [],
   "source": [
    "# basket_df.head()"
   ]
  },
  {
   "cell_type": "code",
   "execution_count": 23,
   "id": "98138c03",
   "metadata": {
    "scrolled": true
   },
   "outputs": [
    {
     "name": "stdout",
     "output_type": "stream",
     "text": [
      "<class 'pandas.core.frame.DataFrame'>\n",
      "RangeIndex: 504087 entries, 0 to 504086\n",
      "Data columns (total 8 columns):\n",
      " #   Column        Non-Null Count   Dtype         \n",
      "---  ------        --------------   -----         \n",
      " 0   Unnamed: 0    504087 non-null  int64         \n",
      " 1   date          352861 non-null  datetime64[ns]\n",
      " 2   shop_id       469023 non-null  Int64         \n",
      " 3   item_id       405085 non-null  Int64         \n",
      " 4   item_price    451795 non-null  float64       \n",
      " 5   item_cnt_day  497039 non-null  Int64         \n",
      " 6   user_id       433351 non-null  Int64         \n",
      " 7   basket_id     437967 non-null  object        \n",
      "dtypes: Int64(4), datetime64[ns](1), float64(1), int64(1), object(1)\n",
      "memory usage: 32.7+ MB\n"
     ]
    }
   ],
   "source": [
    "basket_df.info()"
   ]
  },
  {
   "cell_type": "markdown",
   "id": "6125427a",
   "metadata": {},
   "source": [
    "### Cleaning ID columns"
   ]
  },
  {
   "cell_type": "code",
   "execution_count": 5,
   "id": "37aaa842",
   "metadata": {},
   "outputs": [
    {
     "name": "stdout",
     "output_type": "stream",
     "text": [
      "<class 'pandas.core.frame.DataFrame'>\n",
      "RangeIndex: 504087 entries, 0 to 504086\n",
      "Data columns (total 8 columns):\n",
      " #   Column        Non-Null Count   Dtype         \n",
      "---  ------        --------------   -----         \n",
      " 0   Unnamed: 0    504087 non-null  int64         \n",
      " 1   date          352861 non-null  datetime64[ns]\n",
      " 2   shop_id       469023 non-null  Int64         \n",
      " 3   item_id       405085 non-null  Int64         \n",
      " 4   item_price    451795 non-null  float64       \n",
      " 5   item_cnt_day  497039 non-null  Int64         \n",
      " 6   user_id       433351 non-null  Int64         \n",
      " 7   basket_id     437967 non-null  object        \n",
      "dtypes: Int64(4), datetime64[ns](1), float64(1), int64(1), object(1)\n",
      "memory usage: 32.7+ MB\n"
     ]
    }
   ],
   "source": [
    "non_floating_attributes = ['shop_id', 'item_id', 'item_cnt_day', 'user_id']\n",
    "for col in non_floating_attributes:\n",
    "    basket_df[col] = basket_df[col].astype('Int64')\n",
    "\n",
    "basket_df['date'] = pd.to_datetime(basket_df['date'])\n",
    "    \n",
    "basket_df.info()"
   ]
  },
  {
   "cell_type": "markdown",
   "id": "22f88b80",
   "metadata": {},
   "source": [
    "#### Subset with basket_id"
   ]
  },
  {
   "cell_type": "code",
   "execution_count": 6,
   "id": "f3986cbb",
   "metadata": {
    "scrolled": true
   },
   "outputs": [
    {
     "name": "stdout",
     "output_type": "stream",
     "text": [
      "<class 'pandas.core.frame.DataFrame'>\n",
      "Int64Index: 437967 entries, 0 to 504086\n",
      "Data columns (total 8 columns):\n",
      " #   Column        Non-Null Count   Dtype         \n",
      "---  ------        --------------   -----         \n",
      " 0   Unnamed: 0    437967 non-null  int64         \n",
      " 1   date          306631 non-null  datetime64[ns]\n",
      " 2   shop_id       407650 non-null  Int64         \n",
      " 3   item_id       352049 non-null  Int64         \n",
      " 4   item_price    392583 non-null  float64       \n",
      " 5   item_cnt_day  431863 non-null  Int64         \n",
      " 6   user_id       376422 non-null  Int64         \n",
      " 7   basket_id     437967 non-null  object        \n",
      "dtypes: Int64(4), datetime64[ns](1), float64(1), int64(1), object(1)\n",
      "memory usage: 31.7+ MB\n"
     ]
    }
   ],
   "source": [
    "stored_basket_df = basket_df[basket_df['basket_id'].notna()]\n",
    "stored_basket_df.info()"
   ]
  },
  {
   "cell_type": "code",
   "execution_count": null,
   "id": "b49c0534",
   "metadata": {},
   "outputs": [],
   "source": [
    "def integrate(int_attr, gr_attr, df):\n",
    "    df[int_attr] = df.groupby(gr_attr)[int_attr].apply(lambda x: x.fillna(x.mode().iloc[0] if len(x.mode()) == 1 else x))"
   ]
  },
  {
   "cell_type": "code",
   "execution_count": 7,
   "id": "9bc4ac43",
   "metadata": {
    "scrolled": true
   },
   "outputs": [
    {
     "name": "stderr",
     "output_type": "stream",
     "text": [
      "/tmp/ipykernel_170398/1986717141.py:2: SettingWithCopyWarning: \n",
      "A value is trying to be set on a copy of a slice from a DataFrame.\n",
      "Try using .loc[row_indexer,col_indexer] = value instead\n",
      "\n",
      "See the caveats in the documentation: https://pandas.pydata.org/pandas-docs/stable/user_guide/indexing.html#returning-a-view-versus-a-copy\n",
      "  df[int_attr] = df.groupby(gr_attr)[int_attr].apply(lambda x: x.fillna(x.mode().iloc[0] if len(x.mode()) == 1 else x))\n",
      "/tmp/ipykernel_170398/1986717141.py:2: SettingWithCopyWarning: \n",
      "A value is trying to be set on a copy of a slice from a DataFrame.\n",
      "Try using .loc[row_indexer,col_indexer] = value instead\n",
      "\n",
      "See the caveats in the documentation: https://pandas.pydata.org/pandas-docs/stable/user_guide/indexing.html#returning-a-view-versus-a-copy\n",
      "  df[int_attr] = df.groupby(gr_attr)[int_attr].apply(lambda x: x.fillna(x.mode().iloc[0] if len(x.mode()) == 1 else x))\n"
     ]
    },
    {
     "name": "stdout",
     "output_type": "stream",
     "text": [
      "<class 'pandas.core.frame.DataFrame'>\n",
      "Int64Index: 437708 entries, 0 to 504086\n",
      "Data columns (total 8 columns):\n",
      " #   Column        Non-Null Count   Dtype         \n",
      "---  ------        --------------   -----         \n",
      " 0   Unnamed: 0    437708 non-null  int64         \n",
      " 1   date          435787 non-null  datetime64[ns]\n",
      " 2   shop_id       437524 non-null  Int64         \n",
      " 3   item_id       351844 non-null  Int64         \n",
      " 4   item_price    392353 non-null  float64       \n",
      " 5   item_cnt_day  431606 non-null  Int64         \n",
      " 6   user_id       437212 non-null  Int64         \n",
      " 7   basket_id     437708 non-null  object        \n",
      "dtypes: Int64(4), datetime64[ns](1), float64(1), int64(1), object(1)\n",
      "memory usage: 31.7+ MB\n"
     ]
    },
    {
     "name": "stderr",
     "output_type": "stream",
     "text": [
      "/tmp/ipykernel_170398/1986717141.py:2: SettingWithCopyWarning: \n",
      "A value is trying to be set on a copy of a slice from a DataFrame.\n",
      "Try using .loc[row_indexer,col_indexer] = value instead\n",
      "\n",
      "See the caveats in the documentation: https://pandas.pydata.org/pandas-docs/stable/user_guide/indexing.html#returning-a-view-versus-a-copy\n",
      "  df[int_attr] = df.groupby(gr_attr)[int_attr].apply(lambda x: x.fillna(x.mode().iloc[0] if len(x.mode()) == 1 else x))\n"
     ]
    }
   ],
   "source": [
    "basket_dependent_attributes = ['date', 'shop_id', 'user_id']\n",
    "for attr in basket_dependent_attributes:\n",
    "    integrate(attr, 'basket_id', stored_basket_df)\n",
    "\n",
    "stored_basket_df = stored_basket_df.dropna(subset=basket_dependent_attributes, thresh=2)\n",
    "    \n",
    "stored_basket_df.info()"
   ]
  },
  {
   "cell_type": "code",
   "execution_count": 8,
   "id": "51fb5a9e",
   "metadata": {},
   "outputs": [
    {
     "data": {
      "text/html": [
       "<div>\n",
       "<style scoped>\n",
       "    .dataframe tbody tr th:only-of-type {\n",
       "        vertical-align: middle;\n",
       "    }\n",
       "\n",
       "    .dataframe tbody tr th {\n",
       "        vertical-align: top;\n",
       "    }\n",
       "\n",
       "    .dataframe thead th {\n",
       "        text-align: right;\n",
       "    }\n",
       "</style>\n",
       "<table border=\"1\" class=\"dataframe\">\n",
       "  <thead>\n",
       "    <tr style=\"text-align: right;\">\n",
       "      <th></th>\n",
       "      <th>Unnamed: 0</th>\n",
       "      <th>date</th>\n",
       "      <th>shop_id</th>\n",
       "      <th>item_id</th>\n",
       "      <th>item_price</th>\n",
       "      <th>item_cnt_day</th>\n",
       "      <th>user_id</th>\n",
       "      <th>basket_id</th>\n",
       "    </tr>\n",
       "  </thead>\n",
       "  <tbody>\n",
       "    <tr>\n",
       "      <th>1564</th>\n",
       "      <td>1340496</td>\n",
       "      <td>NaT</td>\n",
       "      <td>2</td>\n",
       "      <td>13039</td>\n",
       "      <td>NaN</td>\n",
       "      <td>1</td>\n",
       "      <td>71</td>\n",
       "      <td>B1271</td>\n",
       "    </tr>\n",
       "    <tr>\n",
       "      <th>1932</th>\n",
       "      <td>1361323</td>\n",
       "      <td>NaT</td>\n",
       "      <td>19</td>\n",
       "      <td>16057</td>\n",
       "      <td>619.0</td>\n",
       "      <td>1</td>\n",
       "      <td>96</td>\n",
       "      <td>B296</td>\n",
       "    </tr>\n",
       "    <tr>\n",
       "      <th>2565</th>\n",
       "      <td>1323227</td>\n",
       "      <td>NaT</td>\n",
       "      <td>38</td>\n",
       "      <td>13488</td>\n",
       "      <td>11990.0</td>\n",
       "      <td>1</td>\n",
       "      <td>120</td>\n",
       "      <td>B2120</td>\n",
       "    </tr>\n",
       "    <tr>\n",
       "      <th>5255</th>\n",
       "      <td>177805</td>\n",
       "      <td>NaT</td>\n",
       "      <td>10</td>\n",
       "      <td>&lt;NA&gt;</td>\n",
       "      <td>257.0</td>\n",
       "      <td>1</td>\n",
       "      <td>250</td>\n",
       "      <td>B74250</td>\n",
       "    </tr>\n",
       "    <tr>\n",
       "      <th>5256</th>\n",
       "      <td>175910</td>\n",
       "      <td>NaT</td>\n",
       "      <td>10</td>\n",
       "      <td>15830</td>\n",
       "      <td>435.0</td>\n",
       "      <td>1</td>\n",
       "      <td>250</td>\n",
       "      <td>B74250</td>\n",
       "    </tr>\n",
       "    <tr>\n",
       "      <th>...</th>\n",
       "      <td>...</td>\n",
       "      <td>...</td>\n",
       "      <td>...</td>\n",
       "      <td>...</td>\n",
       "      <td>...</td>\n",
       "      <td>...</td>\n",
       "      <td>...</td>\n",
       "      <td>...</td>\n",
       "    </tr>\n",
       "    <tr>\n",
       "      <th>501452</th>\n",
       "      <td>2128446</td>\n",
       "      <td>NaT</td>\n",
       "      <td>50</td>\n",
       "      <td>9399</td>\n",
       "      <td>299.0</td>\n",
       "      <td>1</td>\n",
       "      <td>60</td>\n",
       "      <td>B5236649</td>\n",
       "    </tr>\n",
       "    <tr>\n",
       "      <th>501453</th>\n",
       "      <td>2128755</td>\n",
       "      <td>NaT</td>\n",
       "      <td>50</td>\n",
       "      <td>4997</td>\n",
       "      <td>3199.0</td>\n",
       "      <td>1</td>\n",
       "      <td>60</td>\n",
       "      <td>B5236649</td>\n",
       "    </tr>\n",
       "    <tr>\n",
       "      <th>501454</th>\n",
       "      <td>2128459</td>\n",
       "      <td>NaT</td>\n",
       "      <td>50</td>\n",
       "      <td>&lt;NA&gt;</td>\n",
       "      <td>199.0</td>\n",
       "      <td>1</td>\n",
       "      <td>60</td>\n",
       "      <td>B5236649</td>\n",
       "    </tr>\n",
       "    <tr>\n",
       "      <th>501882</th>\n",
       "      <td>2111135</td>\n",
       "      <td>NaT</td>\n",
       "      <td>58</td>\n",
       "      <td>17527</td>\n",
       "      <td>199.0</td>\n",
       "      <td>1</td>\n",
       "      <td>397</td>\n",
       "      <td>B8636684</td>\n",
       "    </tr>\n",
       "    <tr>\n",
       "      <th>503847</th>\n",
       "      <td>1238199</td>\n",
       "      <td>NaT</td>\n",
       "      <td>41</td>\n",
       "      <td>5672</td>\n",
       "      <td>NaN</td>\n",
       "      <td>1</td>\n",
       "      <td>761</td>\n",
       "      <td>B8636804</td>\n",
       "    </tr>\n",
       "  </tbody>\n",
       "</table>\n",
       "<p>1921 rows × 8 columns</p>\n",
       "</div>"
      ],
      "text/plain": [
       "        Unnamed: 0 date  shop_id  item_id  item_price  item_cnt_day  user_id  \\\n",
       "1564       1340496  NaT        2    13039         NaN             1       71   \n",
       "1932       1361323  NaT       19    16057       619.0             1       96   \n",
       "2565       1323227  NaT       38    13488     11990.0             1      120   \n",
       "5255        177805  NaT       10     <NA>       257.0             1      250   \n",
       "5256        175910  NaT       10    15830       435.0             1      250   \n",
       "...            ...  ...      ...      ...         ...           ...      ...   \n",
       "501452     2128446  NaT       50     9399       299.0             1       60   \n",
       "501453     2128755  NaT       50     4997      3199.0             1       60   \n",
       "501454     2128459  NaT       50     <NA>       199.0             1       60   \n",
       "501882     2111135  NaT       58    17527       199.0             1      397   \n",
       "503847     1238199  NaT       41     5672         NaN             1      761   \n",
       "\n",
       "       basket_id  \n",
       "1564       B1271  \n",
       "1932        B296  \n",
       "2565       B2120  \n",
       "5255      B74250  \n",
       "5256      B74250  \n",
       "...          ...  \n",
       "501452  B5236649  \n",
       "501453  B5236649  \n",
       "501454  B5236649  \n",
       "501882  B8636684  \n",
       "503847  B8636804  \n",
       "\n",
       "[1921 rows x 8 columns]"
      ]
     },
     "execution_count": 8,
     "metadata": {},
     "output_type": "execute_result"
    }
   ],
   "source": [
    "stored_basket_df[stored_basket_df['date'].isna()]"
   ]
  },
  {
   "cell_type": "markdown",
   "id": "63cd604b",
   "metadata": {},
   "source": [
    "#### Subset without basket_id"
   ]
  },
  {
   "cell_type": "code",
   "execution_count": 10,
   "id": "b52030df",
   "metadata": {},
   "outputs": [
    {
     "name": "stdout",
     "output_type": "stream",
     "text": [
      "<class 'pandas.core.frame.DataFrame'>\n",
      "Int64Index: 66120 entries, 20 to 504077\n",
      "Data columns (total 8 columns):\n",
      " #   Column        Non-Null Count  Dtype         \n",
      "---  ------        --------------  -----         \n",
      " 0   Unnamed: 0    66120 non-null  int64         \n",
      " 1   date          46230 non-null  datetime64[ns]\n",
      " 2   shop_id       61373 non-null  Int64         \n",
      " 3   item_id       53036 non-null  Int64         \n",
      " 4   item_price    59212 non-null  float64       \n",
      " 5   item_cnt_day  65176 non-null  Int64         \n",
      " 6   user_id       56929 non-null  Int64         \n",
      " 7   basket_id     0 non-null      object        \n",
      "dtypes: Int64(4), datetime64[ns](1), float64(1), int64(1), object(1)\n",
      "memory usage: 4.8+ MB\n"
     ]
    }
   ],
   "source": [
    "null_basket_df = basket_df[basket_df['basket_id'].isna()]\n",
    "\n",
    "key_columns = ['date', 'shop_id', 'user_id']\n",
    "\n",
    "null_basket_df.info()"
   ]
  },
  {
   "cell_type": "code",
   "execution_count": 11,
   "id": "a3f10e63",
   "metadata": {},
   "outputs": [
    {
     "name": "stdout",
     "output_type": "stream",
     "text": [
      "<class 'pandas.core.frame.DataFrame'>\n",
      "Int64Index: 36987 entries, 61 to 504077\n",
      "Data columns (total 8 columns):\n",
      " #   Column        Non-Null Count  Dtype         \n",
      "---  ------        --------------  -----         \n",
      " 0   Unnamed: 0    36987 non-null  int64         \n",
      " 1   date          36987 non-null  datetime64[ns]\n",
      " 2   shop_id       36987 non-null  Int64         \n",
      " 3   item_id       29726 non-null  Int64         \n",
      " 4   item_price    33150 non-null  float64       \n",
      " 5   item_cnt_day  36454 non-null  Int64         \n",
      " 6   user_id       36987 non-null  Int64         \n",
      " 7   basket_id     0 non-null      object        \n",
      "dtypes: Int64(4), datetime64[ns](1), float64(1), int64(1), object(1)\n",
      "memory usage: 2.7+ MB\n"
     ]
    }
   ],
   "source": [
    "null_basket_df = null_basket_df.dropna(subset=key_columns)\n",
    "null_basket_df.info()"
   ]
  },
  {
   "cell_type": "code",
   "execution_count": 12,
   "id": "d8e75155",
   "metadata": {},
   "outputs": [
    {
     "name": "stdout",
     "output_type": "stream",
     "text": [
      "<class 'pandas.core.frame.DataFrame'>\n",
      "Int64Index: 27748 entries, 61 to 504051\n",
      "Data columns (total 8 columns):\n",
      " #   Column        Non-Null Count  Dtype         \n",
      "---  ------        --------------  -----         \n",
      " 0   Unnamed: 0    27748 non-null  int64         \n",
      " 1   date          27748 non-null  datetime64[ns]\n",
      " 2   shop_id       27748 non-null  Int64         \n",
      " 3   item_id       22323 non-null  Int64         \n",
      " 4   item_price    24897 non-null  float64       \n",
      " 5   item_cnt_day  27342 non-null  Int64         \n",
      " 6   user_id       27748 non-null  Int64         \n",
      " 7   basket_id     27748 non-null  object        \n",
      "dtypes: Int64(4), datetime64[ns](1), float64(1), int64(1), object(1)\n",
      "memory usage: 2.0+ MB\n"
     ]
    },
    {
     "name": "stderr",
     "output_type": "stream",
     "text": [
      "/tmp/ipykernel_170398/1560577927.py:3: SettingWithCopyWarning: \n",
      "A value is trying to be set on a copy of a slice from a DataFrame.\n",
      "Try using .loc[row_indexer,col_indexer] = value instead\n",
      "\n",
      "See the caveats in the documentation: https://pandas.pydata.org/pandas-docs/stable/user_guide/indexing.html#returning-a-view-versus-a-copy\n",
      "  new_basket_df['basket_id'] = 'R' + null_basket_df['new_id'].astype(str)\n",
      "/tmp/ipykernel_170398/1560577927.py:4: FutureWarning: In a future version of pandas all arguments of DataFrame.drop except for the argument 'labels' will be keyword-only.\n",
      "  new_basket_df = new_basket_df.drop('new_id', 1)\n"
     ]
    }
   ],
   "source": [
    "null_basket_df['new_id'] = null_basket_df.groupby(key_columns).ngroup()\n",
    "new_basket_df = null_basket_df[null_basket_df.duplicated(subset=['new_id'], keep=False)]\n",
    "new_basket_df['basket_id'] = 'R' + null_basket_df['new_id'].astype(str)\n",
    "new_basket_df = new_basket_df.drop('new_id', 1)\n",
    "new_basket_df.info()"
   ]
  },
  {
   "cell_type": "code",
   "execution_count": 13,
   "id": "22e0439d",
   "metadata": {},
   "outputs": [
    {
     "name": "stdout",
     "output_type": "stream",
     "text": [
      "<class 'pandas.core.frame.DataFrame'>\n",
      "Int64Index: 9239 entries, 121 to 504077\n",
      "Data columns (total 8 columns):\n",
      " #   Column        Non-Null Count  Dtype         \n",
      "---  ------        --------------  -----         \n",
      " 0   Unnamed: 0    9239 non-null   int64         \n",
      " 1   date          9239 non-null   datetime64[ns]\n",
      " 2   shop_id       9239 non-null   Int64         \n",
      " 3   item_id       7403 non-null   Int64         \n",
      " 4   item_price    8253 non-null   float64       \n",
      " 5   item_cnt_day  9112 non-null   Int64         \n",
      " 6   user_id       9239 non-null   Int64         \n",
      " 7   basket_id     0 non-null      object        \n",
      "dtypes: Int64(4), datetime64[ns](1), float64(1), int64(1), object(1)\n",
      "memory usage: 685.7+ KB\n"
     ]
    },
    {
     "name": "stderr",
     "output_type": "stream",
     "text": [
      "/tmp/ipykernel_170398/1571569312.py:2: FutureWarning: In a future version of pandas all arguments of DataFrame.drop except for the argument 'labels' will be keyword-only.\n",
      "  single_basket_df = single_basket_df.drop('new_id', 1)\n"
     ]
    }
   ],
   "source": [
    "single_basket_df = null_basket_df.drop_duplicates(subset=['new_id'], keep=False)\n",
    "single_basket_df = single_basket_df.drop('new_id', 1)\n",
    "single_basket_df.info()"
   ]
  },
  {
   "cell_type": "code",
   "execution_count": 14,
   "id": "b8fbff3e",
   "metadata": {},
   "outputs": [
    {
     "name": "stdout",
     "output_type": "stream",
     "text": [
      "<class 'pandas.core.frame.DataFrame'>\n",
      "Int64Index: 446947 entries, 0 to 504077\n",
      "Data columns (total 8 columns):\n",
      " #   Column        Non-Null Count   Dtype         \n",
      "---  ------        --------------   -----         \n",
      " 0   Unnamed: 0    446947 non-null  int64         \n",
      " 1   date          445026 non-null  datetime64[ns]\n",
      " 2   shop_id       446763 non-null  Int64         \n",
      " 3   item_id       359247 non-null  Int64         \n",
      " 4   item_price    400606 non-null  float64       \n",
      " 5   item_cnt_day  440718 non-null  Int64         \n",
      " 6   user_id       446451 non-null  Int64         \n",
      " 7   basket_id     437708 non-null  object        \n",
      "dtypes: Int64(4), datetime64[ns](1), float64(1), int64(1), object(1)\n",
      "memory usage: 32.4+ MB\n"
     ]
    }
   ],
   "source": [
    "restoring_basket_df = pd.concat([stored_basket_df, single_basket_df])\n",
    "restoring_basket_df.info()"
   ]
  },
  {
   "cell_type": "code",
   "execution_count": 17,
   "id": "bc2c589c",
   "metadata": {},
   "outputs": [
    {
     "name": "stdout",
     "output_type": "stream",
     "text": [
      "<class 'pandas.core.frame.DataFrame'>\n",
      "Int64Index: 446947 entries, 0 to 504077\n",
      "Data columns (total 8 columns):\n",
      " #   Column        Non-Null Count   Dtype         \n",
      "---  ------        --------------   -----         \n",
      " 0   Unnamed: 0    446947 non-null  int64         \n",
      " 1   date          445026 non-null  datetime64[ns]\n",
      " 2   shop_id       446763 non-null  Int64         \n",
      " 3   item_id       359247 non-null  Int64         \n",
      " 4   item_price    400606 non-null  float64       \n",
      " 5   item_cnt_day  440718 non-null  Int64         \n",
      " 6   user_id       446451 non-null  Int64         \n",
      " 7   basket_id     443752 non-null  object        \n",
      "dtypes: Int64(4), datetime64[ns](1), float64(1), int64(1), object(1)\n",
      "memory usage: 32.4+ MB\n"
     ]
    }
   ],
   "source": [
    "integrate('basket_id', key_columns, restoring_basket_df)\n",
    "restoring_basket_df.info()"
   ]
  },
  {
   "cell_type": "code",
   "execution_count": 20,
   "id": "633d4e29",
   "metadata": {
    "scrolled": true
   },
   "outputs": [
    {
     "name": "stdout",
     "output_type": "stream",
     "text": [
      "<class 'pandas.core.frame.DataFrame'>\n",
      "Int64Index: 443752 entries, 0 to 504077\n",
      "Data columns (total 8 columns):\n",
      " #   Column        Non-Null Count   Dtype         \n",
      "---  ------        --------------   -----         \n",
      " 0   Unnamed: 0    443752 non-null  int64         \n",
      " 1   date          443752 non-null  datetime64[ns]\n",
      " 2   shop_id       443752 non-null  Int64         \n",
      " 3   item_id       356678 non-null  Int64         \n",
      " 4   item_price    397745 non-null  float64       \n",
      " 5   item_cnt_day  437568 non-null  Int64         \n",
      " 6   user_id       443752 non-null  Int64         \n",
      " 7   basket_id     443752 non-null  object        \n",
      "dtypes: Int64(4), datetime64[ns](1), float64(1), int64(1), object(1)\n",
      "memory usage: 32.2+ MB\n"
     ]
    }
   ],
   "source": [
    "restoring_basket_df = restoring_basket_df.dropna(subset='basket_id')\n",
    "restoring_basket_df.info()"
   ]
  },
  {
   "cell_type": "markdown",
   "id": "e64f8bd7",
   "metadata": {},
   "source": [
    "#### Merging subsets"
   ]
  },
  {
   "cell_type": "code",
   "execution_count": 21,
   "id": "b04d5a2d",
   "metadata": {},
   "outputs": [
    {
     "name": "stdout",
     "output_type": "stream",
     "text": [
      "<class 'pandas.core.frame.DataFrame'>\n",
      "Int64Index: 471500 entries, 0 to 504051\n",
      "Data columns (total 8 columns):\n",
      " #   Column        Non-Null Count   Dtype         \n",
      "---  ------        --------------   -----         \n",
      " 0   Unnamed: 0    471500 non-null  int64         \n",
      " 1   date          471500 non-null  datetime64[ns]\n",
      " 2   shop_id       471500 non-null  Int64         \n",
      " 3   item_id       379001 non-null  Int64         \n",
      " 4   item_price    422642 non-null  float64       \n",
      " 5   item_cnt_day  464910 non-null  Int64         \n",
      " 6   user_id       471500 non-null  Int64         \n",
      " 7   basket_id     471500 non-null  object        \n",
      "dtypes: Int64(4), datetime64[ns](1), float64(1), int64(1), object(1)\n",
      "memory usage: 34.2+ MB\n"
     ]
    }
   ],
   "source": [
    "clean_basket_df = pd.concat([restoring_basket_df, new_basket_df])\n",
    "clean_basket_df.info()"
   ]
  },
  {
   "cell_type": "markdown",
   "id": "8aac0527",
   "metadata": {},
   "source": [
    "## Other datasets"
   ]
  },
  {
   "cell_type": "code",
   "execution_count": 16,
   "id": "175ab238",
   "metadata": {},
   "outputs": [
    {
     "name": "stdout",
     "output_type": "stream",
     "text": [
      "<class 'pandas.core.frame.DataFrame'>\n",
      "RangeIndex: 84 entries, 0 to 83\n",
      "Data columns (total 2 columns):\n",
      " #   Column              Non-Null Count  Dtype \n",
      "---  ------              --------------  ----- \n",
      " 0   item_category_name  84 non-null     object\n",
      " 1   item_category_id    84 non-null     int64 \n",
      "dtypes: int64(1), object(1)\n",
      "memory usage: 1.4+ KB\n"
     ]
    }
   ],
   "source": [
    "categories_df.info()"
   ]
  },
  {
   "cell_type": "code",
   "execution_count": 17,
   "id": "c2478c27",
   "metadata": {},
   "outputs": [
    {
     "name": "stdout",
     "output_type": "stream",
     "text": [
      "<class 'pandas.core.frame.DataFrame'>\n",
      "RangeIndex: 22170 entries, 0 to 22169\n",
      "Data columns (total 3 columns):\n",
      " #   Column            Non-Null Count  Dtype \n",
      "---  ------            --------------  ----- \n",
      " 0   item_name         22170 non-null  object\n",
      " 1   item_id           22170 non-null  int64 \n",
      " 2   item_category_id  22170 non-null  int64 \n",
      "dtypes: int64(2), object(1)\n",
      "memory usage: 519.7+ KB\n"
     ]
    }
   ],
   "source": [
    "items_df.info()"
   ]
  },
  {
   "cell_type": "code",
   "execution_count": null,
   "id": "fa8d96b9",
   "metadata": {},
   "outputs": [],
   "source": []
  },
  {
   "cell_type": "code",
   "execution_count": null,
   "id": "e8d1903f",
   "metadata": {},
   "outputs": [],
   "source": []
  },
  {
   "cell_type": "code",
   "execution_count": null,
   "id": "1c6ce98d",
   "metadata": {},
   "outputs": [],
   "source": []
  },
  {
   "cell_type": "code",
   "execution_count": 18,
   "id": "4f4e3eb9",
   "metadata": {},
   "outputs": [],
   "source": [
    "df = pd.DataFrame([[4,9],[4,3],[4,9],[4,3],[4, np.nan],[3,1],[3,np.nan],[2,np.nan],[np.nan,2], [np.nan,3]], columns=['A', 'B'])"
   ]
  },
  {
   "cell_type": "code",
   "execution_count": 19,
   "id": "c9f31082",
   "metadata": {},
   "outputs": [
    {
     "data": {
      "text/html": [
       "<div>\n",
       "<style scoped>\n",
       "    .dataframe tbody tr th:only-of-type {\n",
       "        vertical-align: middle;\n",
       "    }\n",
       "\n",
       "    .dataframe tbody tr th {\n",
       "        vertical-align: top;\n",
       "    }\n",
       "\n",
       "    .dataframe thead th {\n",
       "        text-align: right;\n",
       "    }\n",
       "</style>\n",
       "<table border=\"1\" class=\"dataframe\">\n",
       "  <thead>\n",
       "    <tr style=\"text-align: right;\">\n",
       "      <th></th>\n",
       "      <th>A</th>\n",
       "      <th>B</th>\n",
       "    </tr>\n",
       "  </thead>\n",
       "  <tbody>\n",
       "    <tr>\n",
       "      <th>0</th>\n",
       "      <td>4.0</td>\n",
       "      <td>9.0</td>\n",
       "    </tr>\n",
       "    <tr>\n",
       "      <th>1</th>\n",
       "      <td>4.0</td>\n",
       "      <td>3.0</td>\n",
       "    </tr>\n",
       "    <tr>\n",
       "      <th>2</th>\n",
       "      <td>4.0</td>\n",
       "      <td>9.0</td>\n",
       "    </tr>\n",
       "    <tr>\n",
       "      <th>3</th>\n",
       "      <td>4.0</td>\n",
       "      <td>3.0</td>\n",
       "    </tr>\n",
       "    <tr>\n",
       "      <th>4</th>\n",
       "      <td>4.0</td>\n",
       "      <td>NaN</td>\n",
       "    </tr>\n",
       "    <tr>\n",
       "      <th>5</th>\n",
       "      <td>3.0</td>\n",
       "      <td>1.0</td>\n",
       "    </tr>\n",
       "    <tr>\n",
       "      <th>6</th>\n",
       "      <td>3.0</td>\n",
       "      <td>NaN</td>\n",
       "    </tr>\n",
       "    <tr>\n",
       "      <th>7</th>\n",
       "      <td>2.0</td>\n",
       "      <td>NaN</td>\n",
       "    </tr>\n",
       "    <tr>\n",
       "      <th>8</th>\n",
       "      <td>NaN</td>\n",
       "      <td>2.0</td>\n",
       "    </tr>\n",
       "    <tr>\n",
       "      <th>9</th>\n",
       "      <td>NaN</td>\n",
       "      <td>3.0</td>\n",
       "    </tr>\n",
       "  </tbody>\n",
       "</table>\n",
       "</div>"
      ],
      "text/plain": [
       "     A    B\n",
       "0  4.0  9.0\n",
       "1  4.0  3.0\n",
       "2  4.0  9.0\n",
       "3  4.0  3.0\n",
       "4  4.0  NaN\n",
       "5  3.0  1.0\n",
       "6  3.0  NaN\n",
       "7  2.0  NaN\n",
       "8  NaN  2.0\n",
       "9  NaN  3.0"
      ]
     },
     "execution_count": 19,
     "metadata": {},
     "output_type": "execute_result"
    }
   ],
   "source": [
    "df"
   ]
  },
  {
   "cell_type": "code",
   "execution_count": 20,
   "id": "0b6069e6",
   "metadata": {},
   "outputs": [],
   "source": [
    "df['B'] = df.groupby('A')['B'].apply(lambda x: x.fillna(x.mode().iloc[0]) if len(x.mode()) == 1 else x)"
   ]
  },
  {
   "cell_type": "code",
   "execution_count": 21,
   "id": "67e9d42a",
   "metadata": {},
   "outputs": [
    {
     "data": {
      "text/html": [
       "<div>\n",
       "<style scoped>\n",
       "    .dataframe tbody tr th:only-of-type {\n",
       "        vertical-align: middle;\n",
       "    }\n",
       "\n",
       "    .dataframe tbody tr th {\n",
       "        vertical-align: top;\n",
       "    }\n",
       "\n",
       "    .dataframe thead th {\n",
       "        text-align: right;\n",
       "    }\n",
       "</style>\n",
       "<table border=\"1\" class=\"dataframe\">\n",
       "  <thead>\n",
       "    <tr style=\"text-align: right;\">\n",
       "      <th></th>\n",
       "      <th>A</th>\n",
       "      <th>B</th>\n",
       "    </tr>\n",
       "  </thead>\n",
       "  <tbody>\n",
       "    <tr>\n",
       "      <th>0</th>\n",
       "      <td>4.0</td>\n",
       "      <td>9.0</td>\n",
       "    </tr>\n",
       "    <tr>\n",
       "      <th>1</th>\n",
       "      <td>4.0</td>\n",
       "      <td>3.0</td>\n",
       "    </tr>\n",
       "    <tr>\n",
       "      <th>2</th>\n",
       "      <td>4.0</td>\n",
       "      <td>9.0</td>\n",
       "    </tr>\n",
       "    <tr>\n",
       "      <th>3</th>\n",
       "      <td>4.0</td>\n",
       "      <td>3.0</td>\n",
       "    </tr>\n",
       "    <tr>\n",
       "      <th>4</th>\n",
       "      <td>4.0</td>\n",
       "      <td>NaN</td>\n",
       "    </tr>\n",
       "    <tr>\n",
       "      <th>5</th>\n",
       "      <td>3.0</td>\n",
       "      <td>1.0</td>\n",
       "    </tr>\n",
       "    <tr>\n",
       "      <th>6</th>\n",
       "      <td>3.0</td>\n",
       "      <td>1.0</td>\n",
       "    </tr>\n",
       "    <tr>\n",
       "      <th>7</th>\n",
       "      <td>2.0</td>\n",
       "      <td>NaN</td>\n",
       "    </tr>\n",
       "    <tr>\n",
       "      <th>8</th>\n",
       "      <td>NaN</td>\n",
       "      <td>NaN</td>\n",
       "    </tr>\n",
       "    <tr>\n",
       "      <th>9</th>\n",
       "      <td>NaN</td>\n",
       "      <td>NaN</td>\n",
       "    </tr>\n",
       "  </tbody>\n",
       "</table>\n",
       "</div>"
      ],
      "text/plain": [
       "     A    B\n",
       "0  4.0  9.0\n",
       "1  4.0  3.0\n",
       "2  4.0  9.0\n",
       "3  4.0  3.0\n",
       "4  4.0  NaN\n",
       "5  3.0  1.0\n",
       "6  3.0  1.0\n",
       "7  2.0  NaN\n",
       "8  NaN  NaN\n",
       "9  NaN  NaN"
      ]
     },
     "execution_count": 21,
     "metadata": {},
     "output_type": "execute_result"
    }
   ],
   "source": [
    "df"
   ]
  },
  {
   "cell_type": "code",
   "execution_count": 22,
   "id": "5e00c02b",
   "metadata": {},
   "outputs": [],
   "source": [
    "df['B'] = df.groupby('A')['B'].apply(lambda x: x.replace(0 if len(x.mode()) > 1 else x))"
   ]
  },
  {
   "cell_type": "code",
   "execution_count": 23,
   "id": "b2903fd7",
   "metadata": {},
   "outputs": [],
   "source": [
    "# df.loc[df.groupby('A')['B'].agg(lambda x: len(x.mode())) > 1, 'B'] = 0\n"
   ]
  }
 ],
 "metadata": {
  "kernelspec": {
   "display_name": "dm-exam-venv",
   "language": "python",
   "name": "dm-exam-venv"
  },
  "language_info": {
   "codemirror_mode": {
    "name": "ipython",
    "version": 3
   },
   "file_extension": ".py",
   "mimetype": "text/x-python",
   "name": "python",
   "nbconvert_exporter": "python",
   "pygments_lexer": "ipython3",
   "version": "3.10.4"
  }
 },
 "nbformat": 4,
 "nbformat_minor": 5
}
