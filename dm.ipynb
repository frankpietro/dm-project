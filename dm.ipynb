{
 "cells": [
  {
   "cell_type": "markdown",
   "id": "07b99d6b",
   "metadata": {},
   "source": [
    "# Data Mining Project\n",
    "### Giorgio Donati, g.donati24@studenti.unipi.it\n",
    "### Pietro Francaviglia, p.francaviglia1@studenti.unipi.it\n",
    "#### A.Y. 2021-2022\n"
   ]
  },
  {
   "cell_type": "markdown",
   "id": "6defe5e4",
   "metadata": {},
   "source": [
    "## Libraries and datasets"
   ]
  },
  {
   "cell_type": "code",
   "execution_count": 1,
   "id": "d45a9a1e",
   "metadata": {},
   "outputs": [],
   "source": [
    "import math\n",
    "import numpy as np\n",
    "import pandas as pd\n",
    "import scipy.stats as stats\n",
    "import matplotlib.pyplot as plt"
   ]
  },
  {
   "cell_type": "code",
   "execution_count": 2,
   "id": "aa4f4d7a",
   "metadata": {},
   "outputs": [],
   "source": [
    "# load datasets\n",
    "original_basket_df = pd.read_csv('datasets/baskets_supermarket.csv')\n",
    "original_categories_df = pd.read_csv('datasets/item_categories.csv')\n",
    "original_items_df = pd.read_csv('datasets/items.csv')"
   ]
  },
  {
   "cell_type": "code",
   "execution_count": 3,
   "id": "8d9e7e74",
   "metadata": {},
   "outputs": [],
   "source": [
    "# global variables for column names\n",
    "# existing\n",
    "ITEM = 'item_id'\n",
    "CAT = 'item_category_id'\n",
    "DATE = 'date'\n",
    "SHOP = 'shop_id'\n",
    "UPRICE = 'item_price'\n",
    "QTY = 'item_cnt_day'\n",
    "USER = 'user_id'\n",
    "BASKET = 'basket_id'\n",
    "INAME = 'item_name'\n",
    "CNAME = 'item_category_name'\n",
    "\n",
    "# new\n",
    "TMP = 'temp_id'\n",
    "TPRICE = 'total_price'\n",
    "BDQTY = 'item_dist_count'\n",
    "BQTY = 'item_count'"
   ]
  },
  {
   "cell_type": "code",
   "execution_count": 4,
   "id": "5b7db67b",
   "metadata": {},
   "outputs": [
    {
     "name": "stdout",
     "output_type": "stream",
     "text": [
      "<class 'pandas.core.frame.DataFrame'>\n",
      "RangeIndex: 504087 entries, 0 to 504086\n",
      "Data columns (total 8 columns):\n",
      " #   Column        Non-Null Count   Dtype  \n",
      "---  ------        --------------   -----  \n",
      " 0   Unnamed: 0    504087 non-null  int64  \n",
      " 1   date          352861 non-null  object \n",
      " 2   shop_id       469023 non-null  float64\n",
      " 3   item_id       405085 non-null  float64\n",
      " 4   item_price    451795 non-null  float64\n",
      " 5   item_cnt_day  497039 non-null  float64\n",
      " 6   user_id       433351 non-null  float64\n",
      " 7   basket_id     437967 non-null  object \n",
      "dtypes: float64(5), int64(1), object(2)\n",
      "memory usage: 30.8+ MB\n"
     ]
    }
   ],
   "source": [
    "original_basket_df.info()"
   ]
  },
  {
   "cell_type": "code",
   "execution_count": 5,
   "id": "9a01b2ed",
   "metadata": {},
   "outputs": [
    {
     "name": "stdout",
     "output_type": "stream",
     "text": [
      "<class 'pandas.core.frame.DataFrame'>\n",
      "RangeIndex: 22170 entries, 0 to 22169\n",
      "Data columns (total 3 columns):\n",
      " #   Column            Non-Null Count  Dtype \n",
      "---  ------            --------------  ----- \n",
      " 0   item_name         22170 non-null  object\n",
      " 1   item_id           22170 non-null  int64 \n",
      " 2   item_category_id  22170 non-null  int64 \n",
      "dtypes: int64(2), object(1)\n",
      "memory usage: 519.7+ KB\n"
     ]
    }
   ],
   "source": [
    "original_items_df.info()"
   ]
  },
  {
   "cell_type": "code",
   "execution_count": 6,
   "id": "80d2f4ff",
   "metadata": {},
   "outputs": [
    {
     "name": "stdout",
     "output_type": "stream",
     "text": [
      "<class 'pandas.core.frame.DataFrame'>\n",
      "RangeIndex: 84 entries, 0 to 83\n",
      "Data columns (total 2 columns):\n",
      " #   Column              Non-Null Count  Dtype \n",
      "---  ------              --------------  ----- \n",
      " 0   item_category_name  84 non-null     object\n",
      " 1   item_category_id    84 non-null     int64 \n",
      "dtypes: int64(1), object(1)\n",
      "memory usage: 1.4+ KB\n"
     ]
    }
   ],
   "source": [
    "original_categories_df.info()"
   ]
  },
  {
   "cell_type": "markdown",
   "id": "972e2daf",
   "metadata": {},
   "source": [
    "## Basket dataset"
   ]
  },
  {
   "cell_type": "code",
   "execution_count": 7,
   "id": "21fcc1da",
   "metadata": {
    "scrolled": true
   },
   "outputs": [],
   "source": [
    "basket_df = original_basket_df"
   ]
  },
  {
   "cell_type": "markdown",
   "id": "a25b906f",
   "metadata": {},
   "source": [
    "### Cleaning ID columns"
   ]
  },
  {
   "cell_type": "code",
   "execution_count": 8,
   "id": "ecd0c607",
   "metadata": {},
   "outputs": [
    {
     "name": "stdout",
     "output_type": "stream",
     "text": [
      "<class 'pandas.core.frame.DataFrame'>\n",
      "RangeIndex: 504087 entries, 0 to 504086\n",
      "Data columns (total 8 columns):\n",
      " #   Column        Non-Null Count   Dtype         \n",
      "---  ------        --------------   -----         \n",
      " 0   Unnamed: 0    504087 non-null  int64         \n",
      " 1   date          352861 non-null  datetime64[ns]\n",
      " 2   shop_id       469023 non-null  Int64         \n",
      " 3   item_id       405085 non-null  Int64         \n",
      " 4   item_price    451795 non-null  float64       \n",
      " 5   item_cnt_day  497039 non-null  Int64         \n",
      " 6   user_id       433351 non-null  Int64         \n",
      " 7   basket_id     437967 non-null  object        \n",
      "dtypes: Int64(4), datetime64[ns](1), float64(1), int64(1), object(1)\n",
      "memory usage: 32.7+ MB\n"
     ]
    }
   ],
   "source": [
    "non_floating_attributes = [SHOP, ITEM, QTY, USER]\n",
    "for col in non_floating_attributes:\n",
    "    basket_df[col] = basket_df[col].astype('Int64')\n",
    "\n",
    "basket_df[DATE] = pd.to_datetime(basket_df[DATE])\n",
    "    \n",
    "basket_df.info()"
   ]
  },
  {
   "cell_type": "markdown",
   "id": "6a9dd9a0",
   "metadata": {},
   "source": [
    "#### Subset with basket_id"
   ]
  },
  {
   "cell_type": "code",
   "execution_count": 9,
   "id": "f447d5b5",
   "metadata": {
    "scrolled": true
   },
   "outputs": [
    {
     "name": "stdout",
     "output_type": "stream",
     "text": [
      "<class 'pandas.core.frame.DataFrame'>\n",
      "Int64Index: 437967 entries, 0 to 504086\n",
      "Data columns (total 8 columns):\n",
      " #   Column        Non-Null Count   Dtype         \n",
      "---  ------        --------------   -----         \n",
      " 0   Unnamed: 0    437967 non-null  int64         \n",
      " 1   date          306631 non-null  datetime64[ns]\n",
      " 2   shop_id       407650 non-null  Int64         \n",
      " 3   item_id       352049 non-null  Int64         \n",
      " 4   item_price    392583 non-null  float64       \n",
      " 5   item_cnt_day  431863 non-null  Int64         \n",
      " 6   user_id       376422 non-null  Int64         \n",
      " 7   basket_id     437967 non-null  object        \n",
      "dtypes: Int64(4), datetime64[ns](1), float64(1), int64(1), object(1)\n",
      "memory usage: 31.7+ MB\n"
     ]
    }
   ],
   "source": [
    "stored_basket_df = basket_df[basket_df[BASKET].notna()]\n",
    "stored_basket_df.info()"
   ]
  },
  {
   "cell_type": "code",
   "execution_count": 10,
   "id": "ff0cd76f",
   "metadata": {},
   "outputs": [],
   "source": [
    "def integrate(int_attr, gr_attr, df):\n",
    "    df[int_attr] = df.groupby(gr_attr)[int_attr].apply(lambda x: x.fillna(x.mode().iloc[0] if len(x.mode()) == 1 else x))"
   ]
  },
  {
   "cell_type": "code",
   "execution_count": 11,
   "id": "148dd7a9",
   "metadata": {
    "scrolled": true
   },
   "outputs": [
    {
     "name": "stderr",
     "output_type": "stream",
     "text": [
      "/tmp/ipykernel_52432/631791158.py:2: SettingWithCopyWarning: \n",
      "A value is trying to be set on a copy of a slice from a DataFrame.\n",
      "Try using .loc[row_indexer,col_indexer] = value instead\n",
      "\n",
      "See the caveats in the documentation: https://pandas.pydata.org/pandas-docs/stable/user_guide/indexing.html#returning-a-view-versus-a-copy\n",
      "  df[int_attr] = df.groupby(gr_attr)[int_attr].apply(lambda x: x.fillna(x.mode().iloc[0] if len(x.mode()) == 1 else x))\n",
      "/tmp/ipykernel_52432/631791158.py:2: SettingWithCopyWarning: \n",
      "A value is trying to be set on a copy of a slice from a DataFrame.\n",
      "Try using .loc[row_indexer,col_indexer] = value instead\n",
      "\n",
      "See the caveats in the documentation: https://pandas.pydata.org/pandas-docs/stable/user_guide/indexing.html#returning-a-view-versus-a-copy\n",
      "  df[int_attr] = df.groupby(gr_attr)[int_attr].apply(lambda x: x.fillna(x.mode().iloc[0] if len(x.mode()) == 1 else x))\n"
     ]
    },
    {
     "name": "stdout",
     "output_type": "stream",
     "text": [
      "<class 'pandas.core.frame.DataFrame'>\n",
      "Int64Index: 437708 entries, 0 to 504086\n",
      "Data columns (total 8 columns):\n",
      " #   Column        Non-Null Count   Dtype         \n",
      "---  ------        --------------   -----         \n",
      " 0   Unnamed: 0    437708 non-null  int64         \n",
      " 1   date          435787 non-null  datetime64[ns]\n",
      " 2   shop_id       437524 non-null  Int64         \n",
      " 3   item_id       351844 non-null  Int64         \n",
      " 4   item_price    392353 non-null  float64       \n",
      " 5   item_cnt_day  431606 non-null  Int64         \n",
      " 6   user_id       437212 non-null  Int64         \n",
      " 7   basket_id     437708 non-null  object        \n",
      "dtypes: Int64(4), datetime64[ns](1), float64(1), int64(1), object(1)\n",
      "memory usage: 31.7+ MB\n"
     ]
    },
    {
     "name": "stderr",
     "output_type": "stream",
     "text": [
      "/tmp/ipykernel_52432/631791158.py:2: SettingWithCopyWarning: \n",
      "A value is trying to be set on a copy of a slice from a DataFrame.\n",
      "Try using .loc[row_indexer,col_indexer] = value instead\n",
      "\n",
      "See the caveats in the documentation: https://pandas.pydata.org/pandas-docs/stable/user_guide/indexing.html#returning-a-view-versus-a-copy\n",
      "  df[int_attr] = df.groupby(gr_attr)[int_attr].apply(lambda x: x.fillna(x.mode().iloc[0] if len(x.mode()) == 1 else x))\n"
     ]
    }
   ],
   "source": [
    "basket_dependent_attributes = [DATE, SHOP, USER]\n",
    "for attr in basket_dependent_attributes:\n",
    "    integrate(attr, BASKET, stored_basket_df)\n",
    "\n",
    "stored_basket_df = stored_basket_df.dropna(subset=basket_dependent_attributes, thresh=2)\n",
    "    \n",
    "stored_basket_df.info()"
   ]
  },
  {
   "cell_type": "markdown",
   "id": "cff76925",
   "metadata": {},
   "source": [
    "#### Subset without basket_id"
   ]
  },
  {
   "cell_type": "code",
   "execution_count": 12,
   "id": "6f3025cf",
   "metadata": {},
   "outputs": [
    {
     "name": "stdout",
     "output_type": "stream",
     "text": [
      "<class 'pandas.core.frame.DataFrame'>\n",
      "Int64Index: 66120 entries, 20 to 504077\n",
      "Data columns (total 8 columns):\n",
      " #   Column        Non-Null Count  Dtype         \n",
      "---  ------        --------------  -----         \n",
      " 0   Unnamed: 0    66120 non-null  int64         \n",
      " 1   date          46230 non-null  datetime64[ns]\n",
      " 2   shop_id       61373 non-null  Int64         \n",
      " 3   item_id       53036 non-null  Int64         \n",
      " 4   item_price    59212 non-null  float64       \n",
      " 5   item_cnt_day  65176 non-null  Int64         \n",
      " 6   user_id       56929 non-null  Int64         \n",
      " 7   basket_id     0 non-null      object        \n",
      "dtypes: Int64(4), datetime64[ns](1), float64(1), int64(1), object(1)\n",
      "memory usage: 4.8+ MB\n"
     ]
    }
   ],
   "source": [
    "null_basket_df = basket_df[basket_df[BASKET].isna()]\n",
    "\n",
    "null_basket_df.info()"
   ]
  },
  {
   "cell_type": "code",
   "execution_count": 13,
   "id": "f06a07f5",
   "metadata": {
    "scrolled": true
   },
   "outputs": [
    {
     "name": "stdout",
     "output_type": "stream",
     "text": [
      "<class 'pandas.core.frame.DataFrame'>\n",
      "Int64Index: 36987 entries, 61 to 504077\n",
      "Data columns (total 8 columns):\n",
      " #   Column        Non-Null Count  Dtype         \n",
      "---  ------        --------------  -----         \n",
      " 0   Unnamed: 0    36987 non-null  int64         \n",
      " 1   date          36987 non-null  datetime64[ns]\n",
      " 2   shop_id       36987 non-null  Int64         \n",
      " 3   item_id       29726 non-null  Int64         \n",
      " 4   item_price    33150 non-null  float64       \n",
      " 5   item_cnt_day  36454 non-null  Int64         \n",
      " 6   user_id       36987 non-null  Int64         \n",
      " 7   basket_id     0 non-null      object        \n",
      "dtypes: Int64(4), datetime64[ns](1), float64(1), int64(1), object(1)\n",
      "memory usage: 2.7+ MB\n"
     ]
    }
   ],
   "source": [
    "null_basket_df = null_basket_df.dropna(subset=basket_dependent_attributes)\n",
    "null_basket_df.info()"
   ]
  },
  {
   "cell_type": "code",
   "execution_count": 14,
   "id": "d230b33c",
   "metadata": {},
   "outputs": [
    {
     "data": {
      "text/plain": [
       "61           0\n",
       "67           0\n",
       "105          1\n",
       "107          1\n",
       "109          1\n",
       "          ... \n",
       "504036    6737\n",
       "504038    6737\n",
       "504051    6737\n",
       "504063    6736\n",
       "504077    6738\n",
       "Name: temp_id, Length: 36987, dtype: int64"
      ]
     },
     "execution_count": 14,
     "metadata": {},
     "output_type": "execute_result"
    }
   ],
   "source": [
    "null_basket_df[TMP] = null_basket_df.groupby(basket_dependent_attributes).ngroup().astype(int)\n",
    "null_basket_df[TMP]"
   ]
  },
  {
   "cell_type": "code",
   "execution_count": 15,
   "id": "e1bbfb08",
   "metadata": {},
   "outputs": [
    {
     "name": "stderr",
     "output_type": "stream",
     "text": [
      "/tmp/ipykernel_52432/4133404889.py:2: SettingWithCopyWarning: \n",
      "A value is trying to be set on a copy of a slice from a DataFrame.\n",
      "Try using .loc[row_indexer,col_indexer] = value instead\n",
      "\n",
      "See the caveats in the documentation: https://pandas.pydata.org/pandas-docs/stable/user_guide/indexing.html#returning-a-view-versus-a-copy\n",
      "  new_basket_df[BASKET] = 'R' + null_basket_df[TMP].astype(str)\n",
      "/tmp/ipykernel_52432/4133404889.py:3: FutureWarning: In a future version of pandas all arguments of DataFrame.drop except for the argument 'labels' will be keyword-only.\n",
      "  new_basket_df = new_basket_df.drop(TMP, 1)\n"
     ]
    },
    {
     "name": "stdout",
     "output_type": "stream",
     "text": [
      "<class 'pandas.core.frame.DataFrame'>\n",
      "Int64Index: 27748 entries, 61 to 504051\n",
      "Data columns (total 8 columns):\n",
      " #   Column        Non-Null Count  Dtype         \n",
      "---  ------        --------------  -----         \n",
      " 0   Unnamed: 0    27748 non-null  int64         \n",
      " 1   date          27748 non-null  datetime64[ns]\n",
      " 2   shop_id       27748 non-null  Int64         \n",
      " 3   item_id       22323 non-null  Int64         \n",
      " 4   item_price    24897 non-null  float64       \n",
      " 5   item_cnt_day  27342 non-null  Int64         \n",
      " 6   user_id       27748 non-null  Int64         \n",
      " 7   basket_id     27748 non-null  object        \n",
      "dtypes: Int64(4), datetime64[ns](1), float64(1), int64(1), object(1)\n",
      "memory usage: 2.0+ MB\n"
     ]
    }
   ],
   "source": [
    "new_basket_df = null_basket_df[null_basket_df.duplicated(subset=[TMP], keep=False)]\n",
    "new_basket_df[BASKET] = 'R' + null_basket_df[TMP].astype(str)\n",
    "new_basket_df = new_basket_df.drop(TMP, 1)\n",
    "new_basket_df.info()"
   ]
  },
  {
   "cell_type": "code",
   "execution_count": 16,
   "id": "861852ae",
   "metadata": {},
   "outputs": [
    {
     "name": "stdout",
     "output_type": "stream",
     "text": [
      "<class 'pandas.core.frame.DataFrame'>\n",
      "Int64Index: 9239 entries, 121 to 504077\n",
      "Data columns (total 9 columns):\n",
      " #   Column        Non-Null Count  Dtype         \n",
      "---  ------        --------------  -----         \n",
      " 0   Unnamed: 0    9239 non-null   int64         \n",
      " 1   date          9239 non-null   datetime64[ns]\n",
      " 2   shop_id       9239 non-null   Int64         \n",
      " 3   item_id       7403 non-null   Int64         \n",
      " 4   item_price    8253 non-null   float64       \n",
      " 5   item_cnt_day  9112 non-null   Int64         \n",
      " 6   user_id       9239 non-null   Int64         \n",
      " 7   basket_id     0 non-null      object        \n",
      " 8   temp_id       9239 non-null   int64         \n",
      "dtypes: Int64(4), datetime64[ns](1), float64(1), int64(2), object(1)\n",
      "memory usage: 757.9+ KB\n"
     ]
    }
   ],
   "source": [
    "single_basket_df = null_basket_df.drop_duplicates(subset=[TMP], keep=False)\n",
    "single_basket_df.info()"
   ]
  },
  {
   "cell_type": "code",
   "execution_count": 17,
   "id": "186bb143",
   "metadata": {},
   "outputs": [
    {
     "name": "stdout",
     "output_type": "stream",
     "text": [
      "<class 'pandas.core.frame.DataFrame'>\n",
      "Int64Index: 446947 entries, 0 to 504077\n",
      "Data columns (total 9 columns):\n",
      " #   Column        Non-Null Count   Dtype         \n",
      "---  ------        --------------   -----         \n",
      " 0   Unnamed: 0    446947 non-null  int64         \n",
      " 1   date          445026 non-null  datetime64[ns]\n",
      " 2   shop_id       446763 non-null  Int64         \n",
      " 3   item_id       359247 non-null  Int64         \n",
      " 4   item_price    400606 non-null  float64       \n",
      " 5   item_cnt_day  440718 non-null  Int64         \n",
      " 6   user_id       446451 non-null  Int64         \n",
      " 7   basket_id     437708 non-null  object        \n",
      " 8   temp_id       9239 non-null    float64       \n",
      "dtypes: Int64(4), datetime64[ns](1), float64(2), int64(1), object(1)\n",
      "memory usage: 35.8+ MB\n"
     ]
    }
   ],
   "source": [
    "restoring_basket_df = pd.concat([stored_basket_df, single_basket_df])\n",
    "restoring_basket_df.info()"
   ]
  },
  {
   "cell_type": "code",
   "execution_count": 18,
   "id": "8dcddda5",
   "metadata": {},
   "outputs": [
    {
     "name": "stdout",
     "output_type": "stream",
     "text": [
      "<class 'pandas.core.frame.DataFrame'>\n",
      "Int64Index: 446947 entries, 0 to 504077\n",
      "Data columns (total 9 columns):\n",
      " #   Column        Non-Null Count   Dtype         \n",
      "---  ------        --------------   -----         \n",
      " 0   Unnamed: 0    446947 non-null  int64         \n",
      " 1   date          445026 non-null  datetime64[ns]\n",
      " 2   shop_id       446763 non-null  Int64         \n",
      " 3   item_id       359247 non-null  Int64         \n",
      " 4   item_price    400606 non-null  float64       \n",
      " 5   item_cnt_day  440718 non-null  Int64         \n",
      " 6   user_id       446451 non-null  Int64         \n",
      " 7   basket_id     443752 non-null  object        \n",
      " 8   temp_id       9239 non-null    float64       \n",
      "dtypes: Int64(4), datetime64[ns](1), float64(2), int64(1), object(1)\n",
      "memory usage: 35.8+ MB\n"
     ]
    }
   ],
   "source": [
    "integrate(BASKET, basket_dependent_attributes, restoring_basket_df)\n",
    "restoring_basket_df.info()"
   ]
  },
  {
   "cell_type": "code",
   "execution_count": 19,
   "id": "e3d462b1",
   "metadata": {
    "scrolled": true
   },
   "outputs": [
    {
     "name": "stdout",
     "output_type": "stream",
     "text": [
      "<class 'pandas.core.frame.DataFrame'>\n",
      "Int64Index: 444346 entries, 0 to 504077\n",
      "Data columns (total 9 columns):\n",
      " #   Column        Non-Null Count   Dtype         \n",
      "---  ------        --------------   -----         \n",
      " 0   Unnamed: 0    444346 non-null  int64         \n",
      " 1   date          444346 non-null  datetime64[ns]\n",
      " 2   shop_id       444346 non-null  Int64         \n",
      " 3   item_id       357166 non-null  Int64         \n",
      " 4   item_price    398288 non-null  float64       \n",
      " 5   item_cnt_day  438157 non-null  Int64         \n",
      " 6   user_id       444346 non-null  Int64         \n",
      " 7   basket_id     443752 non-null  object        \n",
      " 8   temp_id       9239 non-null    float64       \n",
      "dtypes: Int64(4), datetime64[ns](1), float64(2), int64(1), object(1)\n",
      "memory usage: 35.6+ MB\n"
     ]
    }
   ],
   "source": [
    "restoring_basket_df = restoring_basket_df.dropna(subset=[BASKET, DATE, SHOP, USER], thresh=3)\n",
    "restoring_basket_df.info()"
   ]
  },
  {
   "cell_type": "code",
   "execution_count": 20,
   "id": "9d0418a6",
   "metadata": {},
   "outputs": [
    {
     "name": "stdout",
     "output_type": "stream",
     "text": [
      "<class 'pandas.core.frame.DataFrame'>\n",
      "Int64Index: 444346 entries, 0 to 504077\n",
      "Data columns (total 8 columns):\n",
      " #   Column        Non-Null Count   Dtype         \n",
      "---  ------        --------------   -----         \n",
      " 0   Unnamed: 0    444346 non-null  int64         \n",
      " 1   date          444346 non-null  datetime64[ns]\n",
      " 2   shop_id       444346 non-null  Int64         \n",
      " 3   item_id       357166 non-null  Int64         \n",
      " 4   item_price    398288 non-null  float64       \n",
      " 5   item_cnt_day  438157 non-null  Int64         \n",
      " 6   user_id       444346 non-null  Int64         \n",
      " 7   basket_id     444346 non-null  object        \n",
      "dtypes: Int64(4), datetime64[ns](1), float64(1), int64(1), object(1)\n",
      "memory usage: 32.2+ MB\n"
     ]
    },
    {
     "name": "stderr",
     "output_type": "stream",
     "text": [
      "/tmp/ipykernel_52432/2587483246.py:2: FutureWarning: In a future version of pandas all arguments of DataFrame.drop except for the argument 'labels' will be keyword-only.\n",
      "  restoring_basket_df = restoring_basket_df.drop(TMP, 1)\n"
     ]
    }
   ],
   "source": [
    "restoring_basket_df[BASKET] = restoring_basket_df[BASKET].fillna('S' + restoring_basket_df[TMP].astype(str))\n",
    "restoring_basket_df = restoring_basket_df.drop(TMP, 1)\n",
    "restoring_basket_df.info()"
   ]
  },
  {
   "cell_type": "markdown",
   "id": "4be169d6",
   "metadata": {},
   "source": [
    "#### Merging subsets"
   ]
  },
  {
   "cell_type": "code",
   "execution_count": 21,
   "id": "356651ed",
   "metadata": {},
   "outputs": [
    {
     "name": "stdout",
     "output_type": "stream",
     "text": [
      "<class 'pandas.core.frame.DataFrame'>\n",
      "Int64Index: 472094 entries, 0 to 504051\n",
      "Data columns (total 8 columns):\n",
      " #   Column        Non-Null Count   Dtype         \n",
      "---  ------        --------------   -----         \n",
      " 0   Unnamed: 0    472094 non-null  int64         \n",
      " 1   date          472094 non-null  datetime64[ns]\n",
      " 2   shop_id       472094 non-null  Int64         \n",
      " 3   item_id       379489 non-null  Int64         \n",
      " 4   item_price    423185 non-null  float64       \n",
      " 5   item_cnt_day  465499 non-null  Int64         \n",
      " 6   user_id       472094 non-null  Int64         \n",
      " 7   basket_id     472094 non-null  object        \n",
      "dtypes: Int64(4), datetime64[ns](1), float64(1), int64(1), object(1)\n",
      "memory usage: 34.2+ MB\n"
     ]
    }
   ],
   "source": [
    "clean_basket_df = pd.concat([restoring_basket_df, new_basket_df])\n",
    "clean_basket_df.info()"
   ]
  },
  {
   "cell_type": "markdown",
   "id": "bfe00415",
   "metadata": {},
   "source": [
    "### Cleaning item columns"
   ]
  },
  {
   "cell_type": "code",
   "execution_count": 22,
   "id": "cc01db2d",
   "metadata": {},
   "outputs": [
    {
     "name": "stdout",
     "output_type": "stream",
     "text": [
      "<class 'pandas.core.frame.DataFrame'>\n",
      "Int64Index: 464180 entries, 0 to 504051\n",
      "Data columns (total 8 columns):\n",
      " #   Column        Non-Null Count   Dtype         \n",
      "---  ------        --------------   -----         \n",
      " 0   Unnamed: 0    464180 non-null  int64         \n",
      " 1   date          464180 non-null  datetime64[ns]\n",
      " 2   shop_id       464180 non-null  Int64         \n",
      " 3   item_id       373163 non-null  Int64         \n",
      " 4   item_price    416080 non-null  float64       \n",
      " 5   item_cnt_day  464180 non-null  Int64         \n",
      " 6   user_id       464180 non-null  Int64         \n",
      " 7   basket_id     464180 non-null  object        \n",
      "dtypes: Int64(4), datetime64[ns](1), float64(1), int64(1), object(1)\n",
      "memory usage: 33.6+ MB\n"
     ]
    }
   ],
   "source": [
    "clean_basket_df = clean_basket_df.dropna(subset=QTY)\n",
    "clean_basket_df = clean_basket_df[clean_basket_df[QTY] > 0]\n",
    "clean_basket_df.info()"
   ]
  },
  {
   "cell_type": "code",
   "execution_count": 23,
   "id": "11e5bb07",
   "metadata": {},
   "outputs": [
    {
     "name": "stdout",
     "output_type": "stream",
     "text": [
      "<class 'pandas.core.frame.DataFrame'>\n",
      "Int64Index: 454723 entries, 0 to 504051\n",
      "Data columns (total 8 columns):\n",
      " #   Column        Non-Null Count   Dtype         \n",
      "---  ------        --------------   -----         \n",
      " 0   Unnamed: 0    454723 non-null  int64         \n",
      " 1   date          454723 non-null  datetime64[ns]\n",
      " 2   shop_id       454723 non-null  Int64         \n",
      " 3   item_id       373163 non-null  Int64         \n",
      " 4   item_price    416080 non-null  float64       \n",
      " 5   item_cnt_day  454723 non-null  Int64         \n",
      " 6   user_id       454723 non-null  Int64         \n",
      " 7   basket_id     454723 non-null  object        \n",
      "dtypes: Int64(4), datetime64[ns](1), float64(1), int64(1), object(1)\n",
      "memory usage: 33.0+ MB\n"
     ]
    }
   ],
   "source": [
    "clean_basket_df = clean_basket_df.dropna(subset=[ITEM, UPRICE], thresh=1)\n",
    "clean_basket_df.info()"
   ]
  },
  {
   "cell_type": "code",
   "execution_count": 24,
   "id": "f5e8c4fd",
   "metadata": {},
   "outputs": [
    {
     "name": "stdout",
     "output_type": "stream",
     "text": [
      "<class 'pandas.core.frame.DataFrame'>\n",
      "Int64Index: 454723 entries, 0 to 504051\n",
      "Data columns (total 8 columns):\n",
      " #   Column        Non-Null Count   Dtype         \n",
      "---  ------        --------------   -----         \n",
      " 0   Unnamed: 0    454723 non-null  int64         \n",
      " 1   date          454723 non-null  datetime64[ns]\n",
      " 2   shop_id       454723 non-null  Int64         \n",
      " 3   item_id       454723 non-null  Int64         \n",
      " 4   item_price    416080 non-null  float64       \n",
      " 5   item_cnt_day  454723 non-null  Int64         \n",
      " 6   user_id       454723 non-null  Int64         \n",
      " 7   basket_id     454723 non-null  object        \n",
      "dtypes: Int64(4), datetime64[ns](1), float64(1), int64(1), object(1)\n",
      "memory usage: 33.0+ MB\n"
     ]
    }
   ],
   "source": [
    "clean_basket_df[ITEM] = clean_basket_df[ITEM].fillna(-1)\n",
    "clean_basket_df.info()"
   ]
  },
  {
   "cell_type": "code",
   "execution_count": 25,
   "id": "af2b1b65",
   "metadata": {},
   "outputs": [
    {
     "name": "stdout",
     "output_type": "stream",
     "text": [
      "<class 'pandas.core.frame.DataFrame'>\n",
      "Int64Index: 22171 entries, 0 to 22170\n",
      "Data columns (total 4 columns):\n",
      " #   Column            Non-Null Count  Dtype  \n",
      "---  ------            --------------  -----  \n",
      " 0   item_name         22170 non-null  object \n",
      " 1   item_id           22171 non-null  Int64  \n",
      " 2   item_category_id  22170 non-null  float64\n",
      " 3   item_price        16814 non-null  float64\n",
      "dtypes: Int64(1), float64(2), object(1)\n",
      "memory usage: 887.7+ KB\n"
     ]
    }
   ],
   "source": [
    "temp = clean_basket_df.groupby(ITEM)[UPRICE].mean()\n",
    "priced_items_df = pd.merge(original_items_df, temp, on=ITEM, how='outer')\n",
    "priced_items_df.info()"
   ]
  },
  {
   "cell_type": "code",
   "execution_count": 26,
   "id": "2cac6454",
   "metadata": {},
   "outputs": [
    {
     "name": "stdout",
     "output_type": "stream",
     "text": [
      "<class 'pandas.core.frame.DataFrame'>\n",
      "Int64Index: 454412 entries, 0 to 454722\n",
      "Data columns (total 7 columns):\n",
      " #   Column        Non-Null Count   Dtype         \n",
      "---  ------        --------------   -----         \n",
      " 0   item_id       454412 non-null  Int64         \n",
      " 1   date          454412 non-null  datetime64[ns]\n",
      " 2   shop_id       454412 non-null  Int64         \n",
      " 3   item_price    454412 non-null  float64       \n",
      " 4   item_cnt_day  454412 non-null  Int64         \n",
      " 5   user_id       454412 non-null  Int64         \n",
      " 6   basket_id     454412 non-null  object        \n",
      "dtypes: Int64(4), datetime64[ns](1), float64(1), object(1)\n",
      "memory usage: 29.5+ MB\n"
     ]
    }
   ],
   "source": [
    "clean_basket_df = clean_basket_df.set_index(ITEM).join(priced_items_df.set_index(ITEM), lsuffix='', rsuffix='_temp').reset_index()\n",
    "clean_basket_df[UPRICE] = clean_basket_df[UPRICE].fillna(clean_basket_df['item_price_temp'])\n",
    "clean_basket_df = clean_basket_df.drop([INAME, CAT, 'item_price_temp'], axis=1)\n",
    "clean_basket_df = clean_basket_df.dropna()\n",
    "clean_basket_df = clean_basket_df.drop('Unnamed: 0', axis=1)\n",
    "\n",
    "clean_basket_df.info()"
   ]
  },
  {
   "cell_type": "markdown",
   "id": "03fd292b",
   "metadata": {},
   "source": [
    "## Data visualization"
   ]
  },
  {
   "cell_type": "code",
   "execution_count": 27,
   "id": "b9b8fc9a",
   "metadata": {},
   "outputs": [],
   "source": [
    "total_df = clean_basket_df"
   ]
  },
  {
   "cell_type": "markdown",
   "id": "ec288166",
   "metadata": {},
   "source": [
    "### Basket number"
   ]
  },
  {
   "cell_type": "code",
   "execution_count": 28,
   "id": "db94a353",
   "metadata": {},
   "outputs": [
    {
     "data": {
      "text/plain": [
       "42252"
      ]
     },
     "execution_count": 28,
     "metadata": {},
     "output_type": "execute_result"
    }
   ],
   "source": [
    "b_df = total_df.groupby([BASKET])[BASKET]\n",
    "basketsCount = len(b_df)\n",
    "basketsCount"
   ]
  },
  {
   "cell_type": "markdown",
   "id": "bd26d571",
   "metadata": {},
   "source": [
    "### Baskets have same shop, user and date"
   ]
  },
  {
   "cell_type": "code",
   "execution_count": 29,
   "id": "bc9a0fdb",
   "metadata": {},
   "outputs": [
    {
     "name": "stdout",
     "output_type": "stream",
     "text": [
      "True\n"
     ]
    }
   ],
   "source": [
    "shops = len(total_df.groupby([BASKET, SHOP])[[BASKET, SHOP]])\n",
    "users = len(total_df.groupby([BASKET, USER])[[BASKET, USER]])\n",
    "dates = len(total_df.groupby([BASKET, DATE])[[BASKET, DATE]])\n",
    "\n",
    "if (shops == basketsCount and users == basketsCount and dates == basketsCount):\n",
    "    print(True)"
   ]
  },
  {
   "cell_type": "markdown",
   "id": "8ba15c93",
   "metadata": {},
   "source": [
    "### Record total price"
   ]
  },
  {
   "cell_type": "code",
   "execution_count": 30,
   "id": "f136cd3e",
   "metadata": {},
   "outputs": [
    {
     "name": "stdout",
     "output_type": "stream",
     "text": [
      "<class 'pandas.core.frame.DataFrame'>\n",
      "Int64Index: 454412 entries, 0 to 454722\n",
      "Data columns (total 8 columns):\n",
      " #   Column        Non-Null Count   Dtype         \n",
      "---  ------        --------------   -----         \n",
      " 0   item_id       454412 non-null  Int64         \n",
      " 1   date          454412 non-null  datetime64[ns]\n",
      " 2   shop_id       454412 non-null  Int64         \n",
      " 3   item_price    454412 non-null  float64       \n",
      " 4   item_cnt_day  454412 non-null  Int64         \n",
      " 5   user_id       454412 non-null  Int64         \n",
      " 6   basket_id     454412 non-null  object        \n",
      " 7   total_price   454412 non-null  Float64       \n",
      "dtypes: Float64(1), Int64(4), datetime64[ns](1), float64(1), object(1)\n",
      "memory usage: 33.4+ MB\n"
     ]
    }
   ],
   "source": [
    "# total price\n",
    "total_df[TPRICE] = total_df[UPRICE] * total_df[QTY]\n",
    "total_df.info()"
   ]
  },
  {
   "cell_type": "markdown",
   "id": "4c6ffcb4",
   "metadata": {},
   "source": [
    "### Domains"
   ]
  },
  {
   "cell_type": "code",
   "execution_count": 31,
   "id": "0d180cad",
   "metadata": {},
   "outputs": [
    {
     "data": {
      "text/plain": [
       "item_id                          -1\n",
       "date            2013-01-01 00:00:00\n",
       "shop_id                           0\n",
       "item_price                      0.1\n",
       "item_cnt_day                      1\n",
       "user_id                           1\n",
       "basket_id                       B11\n",
       "total_price                     0.1\n",
       "dtype: object"
      ]
     },
     "execution_count": 31,
     "metadata": {},
     "output_type": "execute_result"
    }
   ],
   "source": [
    "total_df.min()"
   ]
  },
  {
   "cell_type": "code",
   "execution_count": 32,
   "id": "90dfb4e9",
   "metadata": {},
   "outputs": [
    {
     "name": "stderr",
     "output_type": "stream",
     "text": [
      "/tmp/ipykernel_52432/3229925861.py:1: FutureWarning: DataFrame.mean and DataFrame.median with numeric_only=None will include datetime64 and datetime64tz columns in a future version.\n",
      "  total_df.mean()\n",
      "/tmp/ipykernel_52432/3229925861.py:1: FutureWarning: Dropping of nuisance columns in DataFrame reductions (with 'numeric_only=None') is deprecated; in a future version this will raise TypeError.  Select only valid columns before calling the reduction.\n",
      "  total_df.mean()\n"
     ]
    },
    {
     "data": {
      "text/plain": [
       "item_id         8388.217664\n",
       "shop_id           32.699693\n",
       "item_price       869.324121\n",
       "item_cnt_day       1.249773\n",
       "user_id          411.743044\n",
       "total_price     1099.640946\n",
       "dtype: float64"
      ]
     },
     "execution_count": 32,
     "metadata": {},
     "output_type": "execute_result"
    }
   ],
   "source": [
    "total_df.mean()"
   ]
  },
  {
   "cell_type": "code",
   "execution_count": 33,
   "id": "be4d1d58",
   "metadata": {},
   "outputs": [
    {
     "data": {
      "text/plain": [
       "item_id                       22168\n",
       "date            2015-06-10 00:00:00\n",
       "shop_id                          59\n",
       "item_price                  35990.0\n",
       "item_cnt_day                    512\n",
       "user_id                         824\n",
       "basket_id                   S9966.0\n",
       "total_price               1044450.0\n",
       "dtype: object"
      ]
     },
     "execution_count": 33,
     "metadata": {},
     "output_type": "execute_result"
    }
   ],
   "source": [
    "total_df.max()"
   ]
  },
  {
   "cell_type": "markdown",
   "id": "5c35c0cb",
   "metadata": {},
   "source": [
    "### Basket table"
   ]
  },
  {
   "cell_type": "code",
   "execution_count": 34,
   "id": "d6322296",
   "metadata": {},
   "outputs": [
    {
     "name": "stdout",
     "output_type": "stream",
     "text": [
      "<class 'pandas.core.frame.DataFrame'>\n",
      "Index: 42252 entries, B11 to S9966.0\n",
      "Data columns (total 7 columns):\n",
      " #   Column           Non-Null Count  Dtype         \n",
      "---  ------           --------------  -----         \n",
      " 0   basket_id        42252 non-null  object        \n",
      " 1   date             42252 non-null  datetime64[ns]\n",
      " 2   user_id          42252 non-null  int64         \n",
      " 3   shop_id          42252 non-null  int64         \n",
      " 4   total_price      42252 non-null  float64       \n",
      " 5   item_dist_count  42252 non-null  int64         \n",
      " 6   item_count       42252 non-null  int64         \n",
      "dtypes: datetime64[ns](1), float64(1), int64(4), object(1)\n",
      "memory usage: 2.6+ MB\n"
     ]
    }
   ],
   "source": [
    "# make tab for basket (basket price, user, date, shop, basket quantity)\n",
    "b_df = pd.DataFrame()\n",
    "b_df[BASKET] = total_df.groupby([BASKET])[[BASKET]].first()\n",
    "b_df[DATE] = total_df.groupby([BASKET])[[DATE]].first()\n",
    "b_df[USER] = total_df.groupby([BASKET])[[USER]].first().astype(int)\n",
    "b_df[SHOP] = total_df.groupby([BASKET])[[SHOP]].first().astype(int)\n",
    "b_df[TPRICE] = total_df.groupby([BASKET])[[TPRICE]].sum().astype(float)\n",
    "b_df[BDQTY] = total_df.groupby([BASKET])[[BASKET]].size()\n",
    "b_df[BQTY] = total_df.groupby([BASKET])[[QTY]].sum().astype(int)\n",
    "b_df.info()"
   ]
  },
  {
   "cell_type": "code",
   "execution_count": 35,
   "id": "6325e234",
   "metadata": {},
   "outputs": [
    {
     "data": {
      "text/plain": [
       "<AxesSubplot:xlabel='basket_id'>"
      ]
     },
     "execution_count": 35,
     "metadata": {},
     "output_type": "execute_result"
    },
    {
     "data": {
      "image/png": "[encoded data removed]",
      "text/plain": [
       "<Figure size 432x288 with 1 Axes>"
      ]
     },
     "metadata": {
      "needs_background": "light"
     },
     "output_type": "display_data"
    }
   ],
   "source": [
    "b_df[TPRICE].sort_values().plot()"
   ]
  },
  {
   "cell_type": "code",
   "execution_count": 36,
   "id": "26759ec5",
   "metadata": {},
   "outputs": [
    {
     "data": {
      "text/plain": [
       "<AxesSubplot:xlabel='basket_id'>"
      ]
     },
     "execution_count": 36,
     "metadata": {},
     "output_type": "execute_result"
    },
    {
     "data": {
      "image/png": "[encoded data removed]",
      "text/plain": [
       "<Figure size 432x288 with 1 Axes>"
      ]
     },
     "metadata": {
      "needs_background": "light"
     },
     "output_type": "display_data"
    }
   ],
   "source": [
    "b_df[BQTY].sort_values().plot()"
   ]
  },
  {
   "cell_type": "code",
   "execution_count": 37,
   "id": "46393b70",
   "metadata": {},
   "outputs": [
    {
     "data": {
      "text/plain": [
       "<AxesSubplot:xlabel='basket_id'>"
      ]
     },
     "execution_count": 37,
     "metadata": {},
     "output_type": "execute_result"
    },
    {
     "data": {
      "image/png": "[encoded data removed]",
      "text/plain": [
       "<Figure size 432x288 with 1 Axes>"
      ]
     },
     "metadata": {
      "needs_background": "light"
     },
     "output_type": "display_data"
    }
   ],
   "source": [
    "b_df[BDQTY].sort_values().plot()"
   ]
  },
  {
   "cell_type": "code",
   "execution_count": 38,
   "id": "a2ba0f8e",
   "metadata": {},
   "outputs": [
    {
     "name": "stdout",
     "output_type": "stream",
     "text": [
      "<class 'pandas.core.frame.DataFrame'>\n",
      "Index: 824 entries, 1 to 824\n",
      "Data columns (total 4 columns):\n",
      " #   Column           Non-Null Count  Dtype  \n",
      "---  ------           --------------  -----  \n",
      " 0   user_id          824 non-null    int64  \n",
      " 1   total_price      824 non-null    float64\n",
      " 2   item_count       824 non-null    int64  \n",
      " 3   item_dist_count  824 non-null    int64  \n",
      "dtypes: float64(1), int64(3)\n",
      "memory usage: 33.0 KB\n"
     ]
    }
   ],
   "source": [
    "# make tab for user (total spent, item bought, average basket price, basket bought)\n",
    "u_df = pd.DataFrame()\n",
    "u_df[USER] = total_df.groupby([USER])[[USER]].first().astype(int)\n",
    "u_df[TPRICE] = total_df.groupby([USER])[[TPRICE]].sum().astype(float)\n",
    "u_df[BQTY] = total_df.groupby([USER])[[QTY]].sum().astype(int)\n",
    "u_df[BDQTY] = total_df.groupby([USER])[[ITEM]].count()\n",
    "u_df.info()"
   ]
  },
  {
   "cell_type": "code",
   "execution_count": 39,
   "id": "72289302",
   "metadata": {},
   "outputs": [
    {
     "data": {
      "text/plain": [
       "<AxesSubplot:xlabel='user_id'>"
      ]
     },
     "execution_count": 39,
     "metadata": {},
     "output_type": "execute_result"
    },
    {
     "data": {
      "image/png": "[encoded data removed]",
      "text/plain": [
       "<Figure size 432x288 with 1 Axes>"
      ]
     },
     "metadata": {
      "needs_background": "light"
     },
     "output_type": "display_data"
    }
   ],
   "source": [
    "u_df[TPRICE].sort_values().plot(kind='bar')"
   ]
  },
  {
   "cell_type": "code",
   "execution_count": null,
   "id": "270cbe34",
   "metadata": {},
   "outputs": [
    {
     "data": {
      "text/plain": [
       "<AxesSubplot:xlabel='user_id'>"
      ]
     },
     "execution_count": 40,
     "metadata": {},
     "output_type": "execute_result"
    }
   ],
   "source": [
    "u_df[BQTY].sort_values().plot(kind='bar')"
   ]
  },
  {
   "cell_type": "code",
   "execution_count": null,
   "id": "bc7f6558",
   "metadata": {},
   "outputs": [],
   "source": [
    "u_df[BDQTY].sort_values().plot(kind='bar')"
   ]
  },
  {
   "cell_type": "code",
   "execution_count": null,
   "id": "e6076cd5",
   "metadata": {},
   "outputs": [],
   "source": [
    "# make tab for shop (item sold, average price, total sold)\n",
    "s_df = pd.DataFrame()\n",
    "s_df[SHOP] = total_df.groupby([SHOP])[[SHOP]].first().astype(int)\n",
    "s_df[TPRICE] = total_df.groupby([SHOP])[[TPRICE]].sum().astype(float)\n",
    "s_df[BQTY] = total_df.groupby([SHOP])[[QTY]].sum().astype(int)\n",
    "s_df[BDQTY] = total_df.groupby([SHOP])[[ITEM]].count()\n",
    "s_df.info()"
   ]
  },
  {
   "cell_type": "code",
   "execution_count": null,
   "id": "fd37bc99",
   "metadata": {},
   "outputs": [],
   "source": [
    "s_df[TPRICE].sort_values().plot(kind='bar')"
   ]
  },
  {
   "cell_type": "code",
   "execution_count": null,
   "id": "bd69246f",
   "metadata": {},
   "outputs": [],
   "source": [
    "s_df[BQTY].sort_values().plot(kind='bar')"
   ]
  },
  {
   "cell_type": "code",
   "execution_count": null,
   "id": "d1a77eac",
   "metadata": {},
   "outputs": [],
   "source": [
    "s_df[BDQTY].sort_values().plot(kind='bar')"
   ]
  },
  {
   "cell_type": "code",
   "execution_count": null,
   "id": "9502ccf6",
   "metadata": {},
   "outputs": [],
   "source": [
    "# make time series to see spendings over time\n",
    "d_df = pd.DataFrame(index=total_df[DATE].unique())\n",
    "d_df[TPRICE] = total_df.groupby([DATE])[[TPRICE]].sum().astype(float)\n",
    "d_df[BQTY] = total_df.groupby([DATE])[[QTY]].sum().astype(int)\n",
    "d_df[BDQTY] = total_df.groupby([DATE])[[ITEM]].count()\n",
    "d_df.info()\n"
   ]
  },
  {
   "cell_type": "code",
   "execution_count": null,
   "id": "8ec013f2",
   "metadata": {},
   "outputs": [],
   "source": [
    "d_df[BDQTY].plot()\n"
   ]
  },
  {
   "cell_type": "code",
   "execution_count": null,
   "id": "14ccf651",
   "metadata": {},
   "outputs": [],
   "source": [
    "d_df[TPRICE].plot()"
   ]
  },
  {
   "cell_type": "code",
   "execution_count": null,
   "id": "22deaa23",
   "metadata": {},
   "outputs": [],
   "source": [
    "d_df[BQTY].plot()"
   ]
  },
  {
   "cell_type": "markdown",
   "id": "9ed299a1",
   "metadata": {},
   "source": [
    "## Spazio query marce"
   ]
  },
  {
   "cell_type": "code",
   "execution_count": null,
   "id": "4b419b7d",
   "metadata": {},
   "outputs": [],
   "source": [
    "# 170 - triplette con basket id diversi\n",
    "stored_basket_df.groupby(basket_dependent_attributes)[BASKET].nunique().sort_values()[-170:]"
   ]
  },
  {
   "cell_type": "code",
   "execution_count": null,
   "id": "471eef74",
   "metadata": {},
   "outputs": [],
   "source": [
    "# 3307 - ordini con una sola riga\n",
    "stored_basket_df.groupby('basket_id').size().sort_values()[:3310]"
   ]
  },
  {
   "cell_type": "code",
   "execution_count": null,
   "id": "2afd1d32",
   "metadata": {},
   "outputs": [],
   "source": [
    "restoring_basket_df[BASKET].sort_values()"
   ]
  },
  {
   "cell_type": "markdown",
   "id": "f882d654",
   "metadata": {},
   "source": [
    "## Spazio grafici"
   ]
  },
  {
   "cell_type": "code",
   "execution_count": null,
   "id": "4c7de792",
   "metadata": {},
   "outputs": [],
   "source": [
    "clean_basket_df['shop_id'].value_counts().plot(kind='bar')"
   ]
  },
  {
   "cell_type": "code",
   "execution_count": null,
   "id": "b12616c3",
   "metadata": {},
   "outputs": [],
   "source": [
    "clean_basket_df.plot(x='item_price', y='item_cnt_day', kind='scatter')"
   ]
  },
  {
   "cell_type": "code",
   "execution_count": null,
   "id": "fa2959a6",
   "metadata": {},
   "outputs": [],
   "source": [
    "clean_basket_df[BASKET].sort_values()"
   ]
  },
  {
   "cell_type": "markdown",
   "id": "1a15adb7",
   "metadata": {},
   "source": [
    "## Spazio cazzeggio"
   ]
  },
  {
   "cell_type": "code",
   "execution_count": null,
   "id": "e34f5103",
   "metadata": {},
   "outputs": [],
   "source": [
    "df = pd.DataFrame([[4,9],[4,3],[4,9],[4,3],[4, np.nan],[3,1],[3,np.nan],[2,np.nan],[np.nan,2], [np.nan,3]], columns=['A', 'B'])"
   ]
  },
  {
   "cell_type": "code",
   "execution_count": null,
   "id": "c3e1dc7a",
   "metadata": {},
   "outputs": [],
   "source": [
    "df"
   ]
  },
  {
   "cell_type": "code",
   "execution_count": null,
   "id": "8a5f5a50",
   "metadata": {},
   "outputs": [],
   "source": [
    "df['B'] = df.groupby('A')['B'].apply(lambda x: x.fillna(x.mode().iloc[0]) if len(x.mode()) == 1 else x)"
   ]
  },
  {
   "cell_type": "code",
   "execution_count": null,
   "id": "70b80078",
   "metadata": {},
   "outputs": [],
   "source": [
    "df"
   ]
  },
  {
   "cell_type": "code",
   "execution_count": null,
   "id": "0de0ffa2",
   "metadata": {},
   "outputs": [],
   "source": [
    "df['B'] = df.groupby('A')['B'].apply(lambda x: x.replace(0 if len(x.mode()) > 1 else x))"
   ]
  },
  {
   "cell_type": "code",
   "execution_count": null,
   "id": "3ab3eebf",
   "metadata": {},
   "outputs": [],
   "source": [
    "# df.loc[df.groupby('A')['B'].agg(lambda x: len(x.mode())) > 1, 'B'] = 0\n"
   ]
  },
  {
   "cell_type": "markdown",
   "id": "ca1dd86e",
   "metadata": {},
   "source": [
    "### TDL\n",
    "\n",
    "- basket id has trailing '.0' (?)\n",
    "\n",
    "- real distinct item (id) in minor table"
   ]
  }
 ],
 "metadata": {
  "kernelspec": {
   "display_name": "dm-exam-venv",
   "language": "python",
   "name": "dm-exam-venv"
  },
  "language_info": {
   "codemirror_mode": {
    "name": "ipython",
    "version": 3
   },
   "file_extension": ".py",
   "mimetype": "text/x-python",
   "name": "python",
   "nbconvert_exporter": "python",
   "pygments_lexer": "ipython3",
   "version": "3.10.4"
  }
 },
 "nbformat": 4,
 "nbformat_minor": 5
}
