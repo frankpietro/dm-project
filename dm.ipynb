{
 "cells": [
  {
   "cell_type": "markdown",
   "id": "07b99d6b",
   "metadata": {},
   "source": [
    "# Data Mining Project\n",
    "### Giorgio Donati, g.donati24@studenti.unipi.it\n",
    "### Pietro Francaviglia, p.francaviglia1@studenti.unipi.it\n",
    "#### A.Y. 2021-2022\n"
   ]
  },
  {
   "cell_type": "markdown",
   "id": "6defe5e4",
   "metadata": {},
   "source": [
    "# Libraries and datasets"
   ]
  },
  {
   "cell_type": "code",
   "execution_count": 1,
   "id": "d45a9a1e",
   "metadata": {},
   "outputs": [],
   "source": [
    "import math\n",
    "import numpy as np\n",
    "import pandas as pd\n",
    "import scipy.stats as stats\n",
    "import matplotlib.pyplot as plt"
   ]
  },
  {
   "cell_type": "code",
   "execution_count": 2,
   "id": "aa4f4d7a",
   "metadata": {},
   "outputs": [],
   "source": [
    "# load datasets\n",
    "original_basket_df = pd.read_csv('datasets/baskets_supermarket.csv')\n",
    "original_categories_df = pd.read_csv('datasets/item_categories.csv')\n",
    "original_items_df = pd.read_csv('datasets/items.csv')"
   ]
  },
  {
   "cell_type": "code",
   "execution_count": 3,
   "id": "8d9e7e74",
   "metadata": {},
   "outputs": [],
   "source": [
    "# global variables for column names\n",
    "# existing\n",
    "ITEM = 'item_id'\n",
    "CAT = 'item_category_id'\n",
    "DATE = 'date'\n",
    "SHOP = 'shop_id'\n",
    "PUNIT = 'item_price'\n",
    "CNT = 'item_cnt_day'\n",
    "USER = 'user_id'\n",
    "BASKET = 'basket_id'\n",
    "INAME = 'item_name'\n",
    "CNAME = 'item_category_name'\n",
    "\n",
    "# new\n",
    "TMP = 'temp_id'\n",
    "PSUM = 'total_price'\n",
    "IDCNT = 'item_dist_count'\n",
    "ICNT = 'item_count'\n",
    "BCNT = 'basket_count'\n",
    "PMAX = 'price_max'\n",
    "PAVG = 'price_avg'\n",
    "PMIN = 'price_min'\n",
    "PVAR = 'price_var'\n",
    "CCNT = 'category_count'"
   ]
  },
  {
   "cell_type": "code",
   "execution_count": 4,
   "id": "5b7db67b",
   "metadata": {},
   "outputs": [
    {
     "name": "stdout",
     "output_type": "stream",
     "text": [
      "<class 'pandas.core.frame.DataFrame'>\n",
      "RangeIndex: 504087 entries, 0 to 504086\n",
      "Data columns (total 8 columns):\n",
      " #   Column        Non-Null Count   Dtype  \n",
      "---  ------        --------------   -----  \n",
      " 0   Unnamed: 0    504087 non-null  int64  \n",
      " 1   date          352861 non-null  object \n",
      " 2   shop_id       469023 non-null  float64\n",
      " 3   item_id       405085 non-null  float64\n",
      " 4   item_price    451795 non-null  float64\n",
      " 5   item_cnt_day  497039 non-null  float64\n",
      " 6   user_id       433351 non-null  float64\n",
      " 7   basket_id     437967 non-null  object \n",
      "dtypes: float64(5), int64(1), object(2)\n",
      "memory usage: 30.8+ MB\n"
     ]
    }
   ],
   "source": [
    "original_basket_df.info()"
   ]
  },
  {
   "cell_type": "code",
   "execution_count": 5,
   "id": "9a01b2ed",
   "metadata": {},
   "outputs": [
    {
     "name": "stdout",
     "output_type": "stream",
     "text": [
      "<class 'pandas.core.frame.DataFrame'>\n",
      "RangeIndex: 22170 entries, 0 to 22169\n",
      "Data columns (total 3 columns):\n",
      " #   Column            Non-Null Count  Dtype \n",
      "---  ------            --------------  ----- \n",
      " 0   item_name         22170 non-null  object\n",
      " 1   item_id           22170 non-null  int64 \n",
      " 2   item_category_id  22170 non-null  int64 \n",
      "dtypes: int64(2), object(1)\n",
      "memory usage: 519.7+ KB\n"
     ]
    }
   ],
   "source": [
    "original_items_df.info()"
   ]
  },
  {
   "cell_type": "code",
   "execution_count": 6,
   "id": "41fa7ebc",
   "metadata": {},
   "outputs": [
    {
     "name": "stdout",
     "output_type": "stream",
     "text": [
      "<class 'pandas.core.frame.DataFrame'>\n",
      "RangeIndex: 84 entries, 0 to 83\n",
      "Data columns (total 2 columns):\n",
      " #   Column              Non-Null Count  Dtype \n",
      "---  ------              --------------  ----- \n",
      " 0   item_category_name  84 non-null     object\n",
      " 1   item_category_id    84 non-null     int64 \n",
      "dtypes: int64(1), object(1)\n",
      "memory usage: 1.4+ KB\n"
     ]
    }
   ],
   "source": [
    "original_categories_df.info()"
   ]
  },
  {
   "cell_type": "markdown",
   "id": "15e18099",
   "metadata": {},
   "source": [
    "# Data cleaning"
   ]
  },
  {
   "cell_type": "markdown",
   "id": "972e2daf",
   "metadata": {},
   "source": [
    "## Basket dataset"
   ]
  },
  {
   "cell_type": "code",
   "execution_count": 7,
   "id": "21fcc1da",
   "metadata": {
    "scrolled": true
   },
   "outputs": [],
   "source": [
    "basket_df = original_basket_df"
   ]
  },
  {
   "cell_type": "markdown",
   "id": "a25b906f",
   "metadata": {},
   "source": [
    "### Cleaning ID columns"
   ]
  },
  {
   "cell_type": "code",
   "execution_count": 8,
   "id": "ecd0c607",
   "metadata": {},
   "outputs": [
    {
     "name": "stdout",
     "output_type": "stream",
     "text": [
      "<class 'pandas.core.frame.DataFrame'>\n",
      "RangeIndex: 504087 entries, 0 to 504086\n",
      "Data columns (total 8 columns):\n",
      " #   Column        Non-Null Count   Dtype         \n",
      "---  ------        --------------   -----         \n",
      " 0   Unnamed: 0    504087 non-null  int64         \n",
      " 1   date          352861 non-null  datetime64[ns]\n",
      " 2   shop_id       469023 non-null  Int64         \n",
      " 3   item_id       405085 non-null  Int64         \n",
      " 4   item_price    451795 non-null  float64       \n",
      " 5   item_cnt_day  497039 non-null  Int64         \n",
      " 6   user_id       433351 non-null  Int64         \n",
      " 7   basket_id     437967 non-null  object        \n",
      "dtypes: Int64(4), datetime64[ns](1), float64(1), int64(1), object(1)\n",
      "memory usage: 32.7+ MB\n"
     ]
    }
   ],
   "source": [
    "non_floating_attributes = [SHOP, ITEM, CNT, USER]\n",
    "for col in non_floating_attributes:\n",
    "    basket_df[col] = basket_df[col].astype('Int64')\n",
    "\n",
    "basket_df[DATE] = pd.to_datetime(basket_df[DATE])\n",
    "    \n",
    "basket_df.info()"
   ]
  },
  {
   "cell_type": "markdown",
   "id": "6a9dd9a0",
   "metadata": {},
   "source": [
    "#### Subset with basket_id"
   ]
  },
  {
   "cell_type": "code",
   "execution_count": 9,
   "id": "f447d5b5",
   "metadata": {
    "scrolled": true
   },
   "outputs": [
    {
     "name": "stdout",
     "output_type": "stream",
     "text": [
      "<class 'pandas.core.frame.DataFrame'>\n",
      "Int64Index: 437967 entries, 0 to 504086\n",
      "Data columns (total 8 columns):\n",
      " #   Column        Non-Null Count   Dtype         \n",
      "---  ------        --------------   -----         \n",
      " 0   Unnamed: 0    437967 non-null  int64         \n",
      " 1   date          306631 non-null  datetime64[ns]\n",
      " 2   shop_id       407650 non-null  Int64         \n",
      " 3   item_id       352049 non-null  Int64         \n",
      " 4   item_price    392583 non-null  float64       \n",
      " 5   item_cnt_day  431863 non-null  Int64         \n",
      " 6   user_id       376422 non-null  Int64         \n",
      " 7   basket_id     437967 non-null  object        \n",
      "dtypes: Int64(4), datetime64[ns](1), float64(1), int64(1), object(1)\n",
      "memory usage: 31.7+ MB\n"
     ]
    }
   ],
   "source": [
    "stored_basket_df = basket_df[basket_df[BASKET].notna()]\n",
    "stored_basket_df.info()"
   ]
  },
  {
   "cell_type": "code",
   "execution_count": 10,
   "id": "ff0cd76f",
   "metadata": {},
   "outputs": [],
   "source": [
    "def integrate(int_attr, gr_attr, df):\n",
    "    df[int_attr] = df.groupby(gr_attr)[int_attr].apply(lambda x: x.fillna(x.mode().iloc[0] if len(x.mode()) == 1 else x))"
   ]
  },
  {
   "cell_type": "code",
   "execution_count": 11,
   "id": "148dd7a9",
   "metadata": {
    "scrolled": true
   },
   "outputs": [
    {
     "name": "stderr",
     "output_type": "stream",
     "text": [
      "/tmp/ipykernel_62762/631791158.py:2: SettingWithCopyWarning: \n",
      "A value is trying to be set on a copy of a slice from a DataFrame.\n",
      "Try using .loc[row_indexer,col_indexer] = value instead\n",
      "\n",
      "See the caveats in the documentation: https://pandas.pydata.org/pandas-docs/stable/user_guide/indexing.html#returning-a-view-versus-a-copy\n",
      "  df[int_attr] = df.groupby(gr_attr)[int_attr].apply(lambda x: x.fillna(x.mode().iloc[0] if len(x.mode()) == 1 else x))\n",
      "/tmp/ipykernel_62762/631791158.py:2: SettingWithCopyWarning: \n",
      "A value is trying to be set on a copy of a slice from a DataFrame.\n",
      "Try using .loc[row_indexer,col_indexer] = value instead\n",
      "\n",
      "See the caveats in the documentation: https://pandas.pydata.org/pandas-docs/stable/user_guide/indexing.html#returning-a-view-versus-a-copy\n",
      "  df[int_attr] = df.groupby(gr_attr)[int_attr].apply(lambda x: x.fillna(x.mode().iloc[0] if len(x.mode()) == 1 else x))\n"
     ]
    },
    {
     "name": "stdout",
     "output_type": "stream",
     "text": [
      "<class 'pandas.core.frame.DataFrame'>\n",
      "Int64Index: 437708 entries, 0 to 504086\n",
      "Data columns (total 8 columns):\n",
      " #   Column        Non-Null Count   Dtype         \n",
      "---  ------        --------------   -----         \n",
      " 0   Unnamed: 0    437708 non-null  int64         \n",
      " 1   date          435787 non-null  datetime64[ns]\n",
      " 2   shop_id       437524 non-null  Int64         \n",
      " 3   item_id       351844 non-null  Int64         \n",
      " 4   item_price    392353 non-null  float64       \n",
      " 5   item_cnt_day  431606 non-null  Int64         \n",
      " 6   user_id       437212 non-null  Int64         \n",
      " 7   basket_id     437708 non-null  object        \n",
      "dtypes: Int64(4), datetime64[ns](1), float64(1), int64(1), object(1)\n",
      "memory usage: 31.7+ MB\n"
     ]
    },
    {
     "name": "stderr",
     "output_type": "stream",
     "text": [
      "/tmp/ipykernel_62762/631791158.py:2: SettingWithCopyWarning: \n",
      "A value is trying to be set on a copy of a slice from a DataFrame.\n",
      "Try using .loc[row_indexer,col_indexer] = value instead\n",
      "\n",
      "See the caveats in the documentation: https://pandas.pydata.org/pandas-docs/stable/user_guide/indexing.html#returning-a-view-versus-a-copy\n",
      "  df[int_attr] = df.groupby(gr_attr)[int_attr].apply(lambda x: x.fillna(x.mode().iloc[0] if len(x.mode()) == 1 else x))\n"
     ]
    }
   ],
   "source": [
    "basket_dependent_attributes = [DATE, SHOP, USER]\n",
    "for attr in basket_dependent_attributes:\n",
    "    integrate(attr, BASKET, stored_basket_df)\n",
    "\n",
    "stored_basket_df = stored_basket_df.dropna(subset=basket_dependent_attributes, thresh=2)\n",
    "    \n",
    "stored_basket_df.info()"
   ]
  },
  {
   "cell_type": "markdown",
   "id": "cff76925",
   "metadata": {},
   "source": [
    "#### Subset without basket_id"
   ]
  },
  {
   "cell_type": "code",
   "execution_count": 12,
   "id": "6f3025cf",
   "metadata": {},
   "outputs": [
    {
     "name": "stdout",
     "output_type": "stream",
     "text": [
      "<class 'pandas.core.frame.DataFrame'>\n",
      "Int64Index: 66120 entries, 20 to 504077\n",
      "Data columns (total 8 columns):\n",
      " #   Column        Non-Null Count  Dtype         \n",
      "---  ------        --------------  -----         \n",
      " 0   Unnamed: 0    66120 non-null  int64         \n",
      " 1   date          46230 non-null  datetime64[ns]\n",
      " 2   shop_id       61373 non-null  Int64         \n",
      " 3   item_id       53036 non-null  Int64         \n",
      " 4   item_price    59212 non-null  float64       \n",
      " 5   item_cnt_day  65176 non-null  Int64         \n",
      " 6   user_id       56929 non-null  Int64         \n",
      " 7   basket_id     0 non-null      object        \n",
      "dtypes: Int64(4), datetime64[ns](1), float64(1), int64(1), object(1)\n",
      "memory usage: 4.8+ MB\n"
     ]
    }
   ],
   "source": [
    "null_basket_df = basket_df[basket_df[BASKET].isna()]\n",
    "\n",
    "null_basket_df.info()"
   ]
  },
  {
   "cell_type": "code",
   "execution_count": 13,
   "id": "f06a07f5",
   "metadata": {
    "scrolled": true
   },
   "outputs": [
    {
     "name": "stdout",
     "output_type": "stream",
     "text": [
      "<class 'pandas.core.frame.DataFrame'>\n",
      "Int64Index: 36987 entries, 61 to 504077\n",
      "Data columns (total 8 columns):\n",
      " #   Column        Non-Null Count  Dtype         \n",
      "---  ------        --------------  -----         \n",
      " 0   Unnamed: 0    36987 non-null  int64         \n",
      " 1   date          36987 non-null  datetime64[ns]\n",
      " 2   shop_id       36987 non-null  Int64         \n",
      " 3   item_id       29726 non-null  Int64         \n",
      " 4   item_price    33150 non-null  float64       \n",
      " 5   item_cnt_day  36454 non-null  Int64         \n",
      " 6   user_id       36987 non-null  Int64         \n",
      " 7   basket_id     0 non-null      object        \n",
      "dtypes: Int64(4), datetime64[ns](1), float64(1), int64(1), object(1)\n",
      "memory usage: 2.7+ MB\n"
     ]
    }
   ],
   "source": [
    "null_basket_df = null_basket_df.dropna(subset=basket_dependent_attributes)\n",
    "null_basket_df.info()"
   ]
  },
  {
   "cell_type": "code",
   "execution_count": 14,
   "id": "d230b33c",
   "metadata": {},
   "outputs": [
    {
     "data": {
      "text/plain": [
       "61           0\n",
       "67           0\n",
       "105          1\n",
       "107          1\n",
       "109          1\n",
       "          ... \n",
       "504036    6737\n",
       "504038    6737\n",
       "504051    6737\n",
       "504063    6736\n",
       "504077    6738\n",
       "Name: temp_id, Length: 36987, dtype: int64"
      ]
     },
     "execution_count": 14,
     "metadata": {},
     "output_type": "execute_result"
    }
   ],
   "source": [
    "null_basket_df[TMP] = null_basket_df.groupby(basket_dependent_attributes).ngroup().astype(int)\n",
    "null_basket_df[TMP]"
   ]
  },
  {
   "cell_type": "code",
   "execution_count": 15,
   "id": "e1bbfb08",
   "metadata": {},
   "outputs": [
    {
     "name": "stdout",
     "output_type": "stream",
     "text": [
      "<class 'pandas.core.frame.DataFrame'>\n",
      "Int64Index: 27748 entries, 61 to 504051\n",
      "Data columns (total 8 columns):\n",
      " #   Column        Non-Null Count  Dtype         \n",
      "---  ------        --------------  -----         \n",
      " 0   Unnamed: 0    27748 non-null  int64         \n",
      " 1   date          27748 non-null  datetime64[ns]\n",
      " 2   shop_id       27748 non-null  Int64         \n",
      " 3   item_id       22323 non-null  Int64         \n",
      " 4   item_price    24897 non-null  float64       \n",
      " 5   item_cnt_day  27342 non-null  Int64         \n",
      " 6   user_id       27748 non-null  Int64         \n",
      " 7   basket_id     27748 non-null  object        \n",
      "dtypes: Int64(4), datetime64[ns](1), float64(1), int64(1), object(1)\n",
      "memory usage: 2.0+ MB\n"
     ]
    },
    {
     "name": "stderr",
     "output_type": "stream",
     "text": [
      "/tmp/ipykernel_62762/4133404889.py:2: SettingWithCopyWarning: \n",
      "A value is trying to be set on a copy of a slice from a DataFrame.\n",
      "Try using .loc[row_indexer,col_indexer] = value instead\n",
      "\n",
      "See the caveats in the documentation: https://pandas.pydata.org/pandas-docs/stable/user_guide/indexing.html#returning-a-view-versus-a-copy\n",
      "  new_basket_df[BASKET] = 'R' + null_basket_df[TMP].astype(str)\n",
      "/tmp/ipykernel_62762/4133404889.py:3: FutureWarning: In a future version of pandas all arguments of DataFrame.drop except for the argument 'labels' will be keyword-only.\n",
      "  new_basket_df = new_basket_df.drop(TMP, 1)\n"
     ]
    }
   ],
   "source": [
    "new_basket_df = null_basket_df[null_basket_df.duplicated(subset=[TMP], keep=False)]\n",
    "new_basket_df[BASKET] = 'R' + null_basket_df[TMP].astype(str)\n",
    "new_basket_df = new_basket_df.drop(TMP, 1)\n",
    "new_basket_df.info()"
   ]
  },
  {
   "cell_type": "code",
   "execution_count": 16,
   "id": "861852ae",
   "metadata": {},
   "outputs": [
    {
     "name": "stdout",
     "output_type": "stream",
     "text": [
      "<class 'pandas.core.frame.DataFrame'>\n",
      "Int64Index: 9239 entries, 121 to 504077\n",
      "Data columns (total 9 columns):\n",
      " #   Column        Non-Null Count  Dtype         \n",
      "---  ------        --------------  -----         \n",
      " 0   Unnamed: 0    9239 non-null   int64         \n",
      " 1   date          9239 non-null   datetime64[ns]\n",
      " 2   shop_id       9239 non-null   Int64         \n",
      " 3   item_id       7403 non-null   Int64         \n",
      " 4   item_price    8253 non-null   float64       \n",
      " 5   item_cnt_day  9112 non-null   Int64         \n",
      " 6   user_id       9239 non-null   Int64         \n",
      " 7   basket_id     0 non-null      object        \n",
      " 8   temp_id       9239 non-null   int64         \n",
      "dtypes: Int64(4), datetime64[ns](1), float64(1), int64(2), object(1)\n",
      "memory usage: 757.9+ KB\n"
     ]
    }
   ],
   "source": [
    "single_basket_df = null_basket_df.drop_duplicates(subset=[TMP], keep=False)\n",
    "single_basket_df.info()"
   ]
  },
  {
   "cell_type": "code",
   "execution_count": 17,
   "id": "186bb143",
   "metadata": {},
   "outputs": [
    {
     "name": "stdout",
     "output_type": "stream",
     "text": [
      "<class 'pandas.core.frame.DataFrame'>\n",
      "Int64Index: 446947 entries, 0 to 504077\n",
      "Data columns (total 9 columns):\n",
      " #   Column        Non-Null Count   Dtype         \n",
      "---  ------        --------------   -----         \n",
      " 0   Unnamed: 0    446947 non-null  int64         \n",
      " 1   date          445026 non-null  datetime64[ns]\n",
      " 2   shop_id       446763 non-null  Int64         \n",
      " 3   item_id       359247 non-null  Int64         \n",
      " 4   item_price    400606 non-null  float64       \n",
      " 5   item_cnt_day  440718 non-null  Int64         \n",
      " 6   user_id       446451 non-null  Int64         \n",
      " 7   basket_id     437708 non-null  object        \n",
      " 8   temp_id       9239 non-null    float64       \n",
      "dtypes: Int64(4), datetime64[ns](1), float64(2), int64(1), object(1)\n",
      "memory usage: 35.8+ MB\n"
     ]
    }
   ],
   "source": [
    "restoring_basket_df = pd.concat([stored_basket_df, single_basket_df])\n",
    "restoring_basket_df.info()"
   ]
  },
  {
   "cell_type": "code",
   "execution_count": 18,
   "id": "8dcddda5",
   "metadata": {},
   "outputs": [
    {
     "name": "stdout",
     "output_type": "stream",
     "text": [
      "<class 'pandas.core.frame.DataFrame'>\n",
      "Int64Index: 446947 entries, 0 to 504077\n",
      "Data columns (total 9 columns):\n",
      " #   Column        Non-Null Count   Dtype         \n",
      "---  ------        --------------   -----         \n",
      " 0   Unnamed: 0    446947 non-null  int64         \n",
      " 1   date          445026 non-null  datetime64[ns]\n",
      " 2   shop_id       446763 non-null  Int64         \n",
      " 3   item_id       359247 non-null  Int64         \n",
      " 4   item_price    400606 non-null  float64       \n",
      " 5   item_cnt_day  440718 non-null  Int64         \n",
      " 6   user_id       446451 non-null  Int64         \n",
      " 7   basket_id     443752 non-null  object        \n",
      " 8   temp_id       9239 non-null    float64       \n",
      "dtypes: Int64(4), datetime64[ns](1), float64(2), int64(1), object(1)\n",
      "memory usage: 35.8+ MB\n"
     ]
    }
   ],
   "source": [
    "integrate(BASKET, basket_dependent_attributes, restoring_basket_df)\n",
    "restoring_basket_df.info()"
   ]
  },
  {
   "cell_type": "code",
   "execution_count": 19,
   "id": "e3d462b1",
   "metadata": {
    "scrolled": true
   },
   "outputs": [
    {
     "name": "stdout",
     "output_type": "stream",
     "text": [
      "<class 'pandas.core.frame.DataFrame'>\n",
      "Int64Index: 444346 entries, 0 to 504077\n",
      "Data columns (total 9 columns):\n",
      " #   Column        Non-Null Count   Dtype         \n",
      "---  ------        --------------   -----         \n",
      " 0   Unnamed: 0    444346 non-null  int64         \n",
      " 1   date          444346 non-null  datetime64[ns]\n",
      " 2   shop_id       444346 non-null  Int64         \n",
      " 3   item_id       357166 non-null  Int64         \n",
      " 4   item_price    398288 non-null  float64       \n",
      " 5   item_cnt_day  438157 non-null  Int64         \n",
      " 6   user_id       444346 non-null  Int64         \n",
      " 7   basket_id     443752 non-null  object        \n",
      " 8   temp_id       9239 non-null    float64       \n",
      "dtypes: Int64(4), datetime64[ns](1), float64(2), int64(1), object(1)\n",
      "memory usage: 35.6+ MB\n"
     ]
    }
   ],
   "source": [
    "restoring_basket_df = restoring_basket_df.dropna(subset=[BASKET, DATE, SHOP, USER], thresh=3)\n",
    "restoring_basket_df.info()"
   ]
  },
  {
   "cell_type": "code",
   "execution_count": 20,
   "id": "9d0418a6",
   "metadata": {},
   "outputs": [
    {
     "name": "stdout",
     "output_type": "stream",
     "text": [
      "<class 'pandas.core.frame.DataFrame'>\n",
      "Int64Index: 444346 entries, 0 to 504077\n",
      "Data columns (total 8 columns):\n",
      " #   Column        Non-Null Count   Dtype         \n",
      "---  ------        --------------   -----         \n",
      " 0   Unnamed: 0    444346 non-null  int64         \n",
      " 1   date          444346 non-null  datetime64[ns]\n",
      " 2   shop_id       444346 non-null  Int64         \n",
      " 3   item_id       357166 non-null  Int64         \n",
      " 4   item_price    398288 non-null  float64       \n",
      " 5   item_cnt_day  438157 non-null  Int64         \n",
      " 6   user_id       444346 non-null  Int64         \n",
      " 7   basket_id     444346 non-null  object        \n",
      "dtypes: Int64(4), datetime64[ns](1), float64(1), int64(1), object(1)\n",
      "memory usage: 32.2+ MB\n"
     ]
    },
    {
     "name": "stderr",
     "output_type": "stream",
     "text": [
      "/tmp/ipykernel_62762/2587483246.py:2: FutureWarning: In a future version of pandas all arguments of DataFrame.drop except for the argument 'labels' will be keyword-only.\n",
      "  restoring_basket_df = restoring_basket_df.drop(TMP, 1)\n"
     ]
    }
   ],
   "source": [
    "restoring_basket_df[BASKET] = restoring_basket_df[BASKET].fillna('S' + restoring_basket_df[TMP].astype(str))\n",
    "restoring_basket_df = restoring_basket_df.drop(TMP, 1)\n",
    "restoring_basket_df.info()"
   ]
  },
  {
   "cell_type": "markdown",
   "id": "4be169d6",
   "metadata": {},
   "source": [
    "#### Merging subsets"
   ]
  },
  {
   "cell_type": "code",
   "execution_count": 21,
   "id": "356651ed",
   "metadata": {},
   "outputs": [
    {
     "name": "stdout",
     "output_type": "stream",
     "text": [
      "<class 'pandas.core.frame.DataFrame'>\n",
      "Int64Index: 472094 entries, 0 to 504051\n",
      "Data columns (total 8 columns):\n",
      " #   Column        Non-Null Count   Dtype         \n",
      "---  ------        --------------   -----         \n",
      " 0   Unnamed: 0    472094 non-null  int64         \n",
      " 1   date          472094 non-null  datetime64[ns]\n",
      " 2   shop_id       472094 non-null  Int64         \n",
      " 3   item_id       379489 non-null  Int64         \n",
      " 4   item_price    423185 non-null  float64       \n",
      " 5   item_cnt_day  465499 non-null  Int64         \n",
      " 6   user_id       472094 non-null  Int64         \n",
      " 7   basket_id     472094 non-null  object        \n",
      "dtypes: Int64(4), datetime64[ns](1), float64(1), int64(1), object(1)\n",
      "memory usage: 34.2+ MB\n"
     ]
    }
   ],
   "source": [
    "clean_basket_df = pd.concat([restoring_basket_df, new_basket_df])\n",
    "clean_basket_df.info()"
   ]
  },
  {
   "cell_type": "markdown",
   "id": "bfe00415",
   "metadata": {},
   "source": [
    "### Cleaning item columns"
   ]
  },
  {
   "cell_type": "code",
   "execution_count": 22,
   "id": "cc01db2d",
   "metadata": {},
   "outputs": [
    {
     "name": "stdout",
     "output_type": "stream",
     "text": [
      "<class 'pandas.core.frame.DataFrame'>\n",
      "Int64Index: 464180 entries, 0 to 504051\n",
      "Data columns (total 8 columns):\n",
      " #   Column        Non-Null Count   Dtype         \n",
      "---  ------        --------------   -----         \n",
      " 0   Unnamed: 0    464180 non-null  int64         \n",
      " 1   date          464180 non-null  datetime64[ns]\n",
      " 2   shop_id       464180 non-null  Int64         \n",
      " 3   item_id       373163 non-null  Int64         \n",
      " 4   item_price    416080 non-null  float64       \n",
      " 5   item_cnt_day  464180 non-null  Int64         \n",
      " 6   user_id       464180 non-null  Int64         \n",
      " 7   basket_id     464180 non-null  object        \n",
      "dtypes: Int64(4), datetime64[ns](1), float64(1), int64(1), object(1)\n",
      "memory usage: 33.6+ MB\n"
     ]
    }
   ],
   "source": [
    "clean_basket_df = clean_basket_df.dropna(subset=CNT)\n",
    "clean_basket_df = clean_basket_df[clean_basket_df[CNT] > 0]\n",
    "clean_basket_df.info()"
   ]
  },
  {
   "cell_type": "code",
   "execution_count": 23,
   "id": "11e5bb07",
   "metadata": {},
   "outputs": [
    {
     "name": "stdout",
     "output_type": "stream",
     "text": [
      "<class 'pandas.core.frame.DataFrame'>\n",
      "Int64Index: 454723 entries, 0 to 504051\n",
      "Data columns (total 8 columns):\n",
      " #   Column        Non-Null Count   Dtype         \n",
      "---  ------        --------------   -----         \n",
      " 0   Unnamed: 0    454723 non-null  int64         \n",
      " 1   date          454723 non-null  datetime64[ns]\n",
      " 2   shop_id       454723 non-null  Int64         \n",
      " 3   item_id       373163 non-null  Int64         \n",
      " 4   item_price    416080 non-null  float64       \n",
      " 5   item_cnt_day  454723 non-null  Int64         \n",
      " 6   user_id       454723 non-null  Int64         \n",
      " 7   basket_id     454723 non-null  object        \n",
      "dtypes: Int64(4), datetime64[ns](1), float64(1), int64(1), object(1)\n",
      "memory usage: 33.0+ MB\n"
     ]
    }
   ],
   "source": [
    "clean_basket_df = clean_basket_df.dropna(subset=[ITEM, PUNIT], thresh=1)\n",
    "clean_basket_df.info()"
   ]
  },
  {
   "cell_type": "code",
   "execution_count": 24,
   "id": "f5e8c4fd",
   "metadata": {},
   "outputs": [
    {
     "name": "stdout",
     "output_type": "stream",
     "text": [
      "<class 'pandas.core.frame.DataFrame'>\n",
      "Int64Index: 454723 entries, 0 to 504051\n",
      "Data columns (total 8 columns):\n",
      " #   Column        Non-Null Count   Dtype         \n",
      "---  ------        --------------   -----         \n",
      " 0   Unnamed: 0    454723 non-null  int64         \n",
      " 1   date          454723 non-null  datetime64[ns]\n",
      " 2   shop_id       454723 non-null  Int64         \n",
      " 3   item_id       454723 non-null  Int64         \n",
      " 4   item_price    416080 non-null  float64       \n",
      " 5   item_cnt_day  454723 non-null  Int64         \n",
      " 6   user_id       454723 non-null  Int64         \n",
      " 7   basket_id     454723 non-null  object        \n",
      "dtypes: Int64(4), datetime64[ns](1), float64(1), int64(1), object(1)\n",
      "memory usage: 49.1+ MB\n"
     ]
    }
   ],
   "source": [
    "s = clean_basket_df.loc[clean_basket_df[ITEM].isna(), ITEM].fillna(-clean_basket_df[ITEM].isna().cumsum())\n",
    "clean_basket_df[ITEM] = clean_basket_df[ITEM].fillna(s)\n",
    "clean_basket_df.info()"
   ]
  },
  {
   "cell_type": "code",
   "execution_count": 25,
   "id": "af2b1b65",
   "metadata": {},
   "outputs": [
    {
     "name": "stdout",
     "output_type": "stream",
     "text": [
      "<class 'pandas.core.frame.DataFrame'>\n",
      "Int64Index: 22170 entries, 0 to 22169\n",
      "Data columns (total 4 columns):\n",
      " #   Column            Non-Null Count  Dtype  \n",
      "---  ------            --------------  -----  \n",
      " 0   item_name         22170 non-null  object \n",
      " 1   item_id           22170 non-null  int64  \n",
      " 2   item_category_id  22170 non-null  int64  \n",
      " 3   item_price        16813 non-null  float64\n",
      "dtypes: float64(1), int64(2), object(1)\n",
      "memory usage: 866.0+ KB\n"
     ]
    }
   ],
   "source": [
    "temp = clean_basket_df.groupby(ITEM)[PUNIT].mean()\n",
    "priced_items_df = pd.merge(original_items_df, temp, on=ITEM, how='left')\n",
    "priced_items_df.info()"
   ]
  },
  {
   "cell_type": "code",
   "execution_count": 26,
   "id": "2cac6454",
   "metadata": {},
   "outputs": [
    {
     "name": "stdout",
     "output_type": "stream",
     "text": [
      "<class 'pandas.core.frame.DataFrame'>\n",
      "Int64Index: 454412 entries, 0 to 454722\n",
      "Data columns (total 7 columns):\n",
      " #   Column        Non-Null Count   Dtype         \n",
      "---  ------        --------------   -----         \n",
      " 0   item_id       454412 non-null  Int64         \n",
      " 1   date          454412 non-null  datetime64[ns]\n",
      " 2   shop_id       454412 non-null  Int64         \n",
      " 3   item_price    454412 non-null  float64       \n",
      " 4   item_cnt_day  454412 non-null  Int64         \n",
      " 5   user_id       454412 non-null  Int64         \n",
      " 6   basket_id     454412 non-null  object        \n",
      "dtypes: Int64(4), datetime64[ns](1), float64(1), object(1)\n",
      "memory usage: 29.5+ MB\n"
     ]
    }
   ],
   "source": [
    "clean_basket_df = clean_basket_df.set_index(ITEM).join(priced_items_df.set_index(ITEM), lsuffix='', rsuffix='_temp').reset_index()\n",
    "clean_basket_df[PUNIT] = clean_basket_df[PUNIT].fillna(clean_basket_df['item_price_temp'])\n",
    "clean_basket_df = clean_basket_df.drop([INAME, CAT, 'item_price_temp'], axis=1)\n",
    "clean_basket_df = clean_basket_df.dropna()\n",
    "clean_basket_df = clean_basket_df.drop('Unnamed: 0', axis=1)\n",
    "\n",
    "clean_basket_df.info()"
   ]
  },
  {
   "cell_type": "markdown",
   "id": "7080d747",
   "metadata": {},
   "source": [
    "### Baskets have unique entry for each item"
   ]
  },
  {
   "cell_type": "code",
   "execution_count": 27,
   "id": "9b5a9f79",
   "metadata": {},
   "outputs": [
    {
     "data": {
      "text/plain": [
       "basket_id  item_id\n",
       "R2533      16581      2\n",
       "dtype: int64"
      ]
     },
     "execution_count": 27,
     "metadata": {},
     "output_type": "execute_result"
    }
   ],
   "source": [
    "basket_item_count = clean_basket_df[clean_basket_df[ITEM] > 0].groupby([BASKET, ITEM]).size()\n",
    "basket_item_count[basket_item_count > 1]"
   ]
  },
  {
   "cell_type": "code",
   "execution_count": 28,
   "id": "a8f80c23",
   "metadata": {},
   "outputs": [],
   "source": [
    "id = basket_item_count[basket_item_count > 1].index\n",
    "index = clean_basket_df[(clean_basket_df[BASKET] == id[0][0]) & (clean_basket_df[ITEM] == id[0][1])].index\n",
    "dropIndex = index[0]\n",
    "keepIndex = index[1]"
   ]
  },
  {
   "cell_type": "code",
   "execution_count": 29,
   "id": "c3c174d4",
   "metadata": {},
   "outputs": [],
   "source": [
    "# add qty of drop to the keeping row and drop the other row\n",
    "clean_basket_df[CNT][keepIndex] += clean_basket_df[CNT][dropIndex]\n",
    "clean_basket_df.drop(axis=0, labels=dropIndex, inplace=True)"
   ]
  },
  {
   "cell_type": "code",
   "execution_count": 30,
   "id": "29d66bf2",
   "metadata": {},
   "outputs": [
    {
     "data": {
      "text/plain": [
       "True"
      ]
     },
     "execution_count": 30,
     "metadata": {},
     "output_type": "execute_result"
    }
   ],
   "source": [
    "basket_item_count = clean_basket_df[clean_basket_df[ITEM] > 0].groupby([BASKET, ITEM]).size()\n",
    "basket_item_count[basket_item_count > 1].empty"
   ]
  },
  {
   "cell_type": "markdown",
   "id": "03fd292b",
   "metadata": {},
   "source": [
    "# Data visualization"
   ]
  },
  {
   "cell_type": "code",
   "execution_count": 31,
   "id": "b9b8fc9a",
   "metadata": {},
   "outputs": [],
   "source": [
    "total_df = clean_basket_df"
   ]
  },
  {
   "cell_type": "markdown",
   "id": "ec288166",
   "metadata": {},
   "source": [
    "### Basket number"
   ]
  },
  {
   "cell_type": "code",
   "execution_count": 32,
   "id": "db94a353",
   "metadata": {},
   "outputs": [
    {
     "data": {
      "text/plain": [
       "42252"
      ]
     },
     "execution_count": 32,
     "metadata": {},
     "output_type": "execute_result"
    }
   ],
   "source": [
    "basketsCount = len(clean_basket_df.groupby([BASKET])[BASKET])\n",
    "basketsCount"
   ]
  },
  {
   "cell_type": "markdown",
   "id": "bd26d571",
   "metadata": {},
   "source": [
    "### Baskets have same shop, user and date"
   ]
  },
  {
   "cell_type": "code",
   "execution_count": 33,
   "id": "bc9a0fdb",
   "metadata": {},
   "outputs": [
    {
     "name": "stdout",
     "output_type": "stream",
     "text": [
      "True\n"
     ]
    }
   ],
   "source": [
    "# data integrity\n",
    "basketShopCount = len(clean_basket_df.groupby([BASKET, SHOP])[[BASKET, SHOP]])\n",
    "basketUserCount = len(clean_basket_df.groupby([BASKET, USER])[[BASKET, USER]])\n",
    "basketDateCount = len(clean_basket_df.groupby([BASKET, DATE])[[BASKET, DATE]])\n",
    "\n",
    "if (basketShopCount == basketsCount and basketUserCount == basketsCount and basketDateCount == basketsCount):\n",
    "    print(True)"
   ]
  },
  {
   "cell_type": "markdown",
   "id": "0b3b5067",
   "metadata": {},
   "source": [
    "## Data visualization"
   ]
  },
  {
   "cell_type": "code",
   "execution_count": 34,
   "id": "9c70394e",
   "metadata": {},
   "outputs": [],
   "source": [
    "total_df = clean_basket_df"
   ]
  },
  {
   "cell_type": "markdown",
   "id": "8ba15c93",
   "metadata": {},
   "source": [
    "### Record total price"
   ]
  },
  {
   "cell_type": "code",
   "execution_count": 35,
   "id": "f136cd3e",
   "metadata": {},
   "outputs": [
    {
     "name": "stdout",
     "output_type": "stream",
     "text": [
      "<class 'pandas.core.frame.DataFrame'>\n",
      "Int64Index: 454411 entries, 0 to 454722\n",
      "Data columns (total 8 columns):\n",
      " #   Column        Non-Null Count   Dtype         \n",
      "---  ------        --------------   -----         \n",
      " 0   item_id       454411 non-null  Int64         \n",
      " 1   date          454411 non-null  datetime64[ns]\n",
      " 2   shop_id       454411 non-null  Int64         \n",
      " 3   item_price    454411 non-null  float64       \n",
      " 4   item_cnt_day  454411 non-null  Int64         \n",
      " 5   user_id       454411 non-null  Int64         \n",
      " 6   basket_id     454411 non-null  object        \n",
      " 7   total_price   454411 non-null  Float64       \n",
      "dtypes: Float64(1), Int64(4), datetime64[ns](1), float64(1), object(1)\n",
      "memory usage: 33.4+ MB\n"
     ]
    }
   ],
   "source": [
    "# total price\n",
    "total_df[PSUM] = total_df[PUNIT] * total_df[CNT]\n",
    "total_df.info()"
   ]
  },
  {
   "cell_type": "markdown",
   "id": "4c6ffcb4",
   "metadata": {},
   "source": [
    "### Domains"
   ]
  },
  {
   "cell_type": "code",
   "execution_count": 37,
   "id": "90dfb4e9",
   "metadata": {},
   "outputs": [
    {
     "name": "stderr",
     "output_type": "stream",
     "text": [
      "/tmp/ipykernel_62762/3229925861.py:1: FutureWarning: DataFrame.mean and DataFrame.median with numeric_only=None will include datetime64 and datetime64tz columns in a future version.\n",
      "  total_df.mean()\n",
      "/tmp/ipykernel_62762/3229925861.py:1: FutureWarning: Dropping of nuisance columns in DataFrame reductions (with 'numeric_only=None') is deprecated; in a future version this will raise TypeError.  Select only valid columns before calling the reduction.\n",
      "  total_df.mean()\n"
     ]
    },
    {
     "data": {
      "text/plain": [
       "item_id         1068.887338\n",
       "shop_id           32.699688\n",
       "item_price       869.325156\n",
       "item_cnt_day       1.249776\n",
       "user_id          411.743538\n",
       "total_price     1099.643366\n",
       "dtype: float64"
      ]
     },
     "execution_count": 37,
     "metadata": {},
     "output_type": "execute_result"
    }
   ],
   "source": [
    "total_df.mean()"
   ]
  },
  {
   "cell_type": "code",
   "execution_count": 38,
   "id": "be4d1d58",
   "metadata": {},
   "outputs": [
    {
     "data": {
      "text/plain": [
       "item_id                       22168\n",
       "date            2015-06-10 00:00:00\n",
       "shop_id                          59\n",
       "item_price                  35990.0\n",
       "item_cnt_day                    512\n",
       "user_id                         824\n",
       "basket_id                   S9966.0\n",
       "total_price               1044450.0\n",
       "dtype: object"
      ]
     },
     "execution_count": 38,
     "metadata": {},
     "output_type": "execute_result"
    }
   ],
   "source": [
    "total_df.max()"
   ]
  },
  {
   "cell_type": "markdown",
   "id": "5c35c0cb",
   "metadata": {},
   "source": [
    "### Basket table"
   ]
  },
  {
   "cell_type": "code",
   "execution_count": 43,
   "id": "d6322296",
   "metadata": {},
   "outputs": [
    {
     "name": "stdout",
     "output_type": "stream",
     "text": [
      "<class 'pandas.core.frame.DataFrame'>\n",
      "Index: 42252 entries, B11 to S9966.0\n",
      "Data columns (total 7 columns):\n",
      " #   Column           Non-Null Count  Dtype         \n",
      "---  ------           --------------  -----         \n",
      " 0   basket_id        42252 non-null  object        \n",
      " 1   date             42252 non-null  datetime64[ns]\n",
      " 2   user_id          42252 non-null  int64         \n",
      " 3   shop_id          42252 non-null  int64         \n",
      " 4   total_price      42252 non-null  float64       \n",
      " 5   item_count       42252 non-null  int64         \n",
      " 6   item_dist_count  42252 non-null  int64         \n",
      "dtypes: datetime64[ns](1), float64(1), int64(4), object(1)\n",
      "memory usage: 2.6+ MB\n"
     ]
    }
   ],
   "source": [
    "# make tab for basket (basket price, user, date, shop, basket quantity)\n",
    "b_df = pd.DataFrame()\n",
    "b_df[BASKET] = total_df.groupby([BASKET])[[BASKET]].first()\n",
    "b_df[DATE] = total_df.groupby([BASKET])[[DATE]].first()\n",
    "b_df[USER] = total_df.groupby([BASKET])[[USER]].first().astype(int)\n",
    "b_df[SHOP] = total_df.groupby([BASKET])[[SHOP]].first().astype(int)\n",
    "b_df[PSUM] = total_df.groupby([BASKET])[[PSUM]].sum().astype(float)\n",
    "b_df[ICNT] = total_df.groupby([BASKET])[[CNT]].sum().astype(int)\n",
    "b_df[IDCNT] = total_df.groupby([BASKET])[[ITEM]].nunique()\n",
    "b_df.info()"
   ]
  },
  {
   "cell_type": "code",
   "execution_count": 44,
   "id": "6325e234",
   "metadata": {},
   "outputs": [],
   "source": [
    "# b_df[PSUM].sort_values().plot()"
   ]
  },
  {
   "cell_type": "code",
   "execution_count": 45,
   "id": "26759ec5",
   "metadata": {},
   "outputs": [],
   "source": [
    "# b_df[ICNT].sort_values().plot()"
   ]
  },
  {
   "cell_type": "code",
   "execution_count": 46,
   "id": "46393b70",
   "metadata": {},
   "outputs": [],
   "source": [
    "# b_df[IDCNT].sort_values().plot()"
   ]
  },
  {
   "cell_type": "markdown",
   "id": "34e73d8c",
   "metadata": {},
   "source": [
    "### Item table"
   ]
  },
  {
   "cell_type": "code",
   "execution_count": 47,
   "id": "f2443fd0",
   "metadata": {},
   "outputs": [
    {
     "name": "stdout",
     "output_type": "stream",
     "text": [
      "<class 'pandas.core.frame.DataFrame'>\n",
      "Index: 98373 entries, -81560 to 22168\n",
      "Data columns (total 6 columns):\n",
      " #   Column      Non-Null Count  Dtype  \n",
      "---  ------      --------------  -----  \n",
      " 0   item_id     98373 non-null  int64  \n",
      " 1   price_max   98373 non-null  float64\n",
      " 2   price_min   98373 non-null  float64\n",
      " 3   price_avg   98373 non-null  float64\n",
      " 4   price_var   98373 non-null  float64\n",
      " 5   item_count  98373 non-null  Int64  \n",
      "dtypes: Int64(1), float64(4), int64(1)\n",
      "memory usage: 5.4 MB\n"
     ]
    }
   ],
   "source": [
    "i_df = pd.DataFrame()\n",
    "i_df[ITEM] = total_df.groupby([ITEM])[[ITEM]].first().astype(int)\n",
    "i_df[PMAX] = total_df.groupby([ITEM])[[PUNIT]].max()\n",
    "i_df[PMIN] = total_df.groupby([ITEM])[PUNIT].min()\n",
    "i_df[PAVG] = total_df.groupby([ITEM])[PUNIT].mean()\n",
    "i_df[PVAR] = total_df.groupby([ITEM])[PUNIT].var().fillna(0)\n",
    "i_df[ICNT] = total_df.groupby([ITEM])[CNT].sum()\n",
    "i_df.info()"
   ]
  },
  {
   "cell_type": "markdown",
   "id": "184bfc38",
   "metadata": {},
   "source": []
  },
  {
   "cell_type": "markdown",
   "id": "a82ccf69",
   "metadata": {},
   "source": [
    "### User table"
   ]
  },
  {
   "cell_type": "code",
   "execution_count": 52,
   "id": "a2ba0f8e",
   "metadata": {},
   "outputs": [
    {
     "name": "stdout",
     "output_type": "stream",
     "text": [
      "<class 'pandas.core.frame.DataFrame'>\n",
      "Index: 824 entries, 1 to 824\n",
      "Data columns (total 5 columns):\n",
      " #   Column           Non-Null Count  Dtype  \n",
      "---  ------           --------------  -----  \n",
      " 0   user_id          824 non-null    int64  \n",
      " 1   total_price      824 non-null    float64\n",
      " 2   item_count       824 non-null    int64  \n",
      " 3   item_dist_count  824 non-null    int64  \n",
      " 4   basket_count     824 non-null    int64  \n",
      "dtypes: float64(1), int64(4)\n",
      "memory usage: 39.4 KB\n"
     ]
    }
   ],
   "source": [
    "# make tab for user (total spent, item bought, average basket price, basket bought)\n",
    "u_df = pd.DataFrame()\n",
    "u_df[USER] = total_df.groupby([USER])[[USER]].first().astype(int)\n",
    "u_df[PSUM] = total_df.groupby([USER])[[PSUM]].sum().astype(float)\n",
    "u_df[ICNT] = total_df.groupby([USER])[[CNT]].sum().astype(int)\n",
    "u_df[IDCNT] = total_df.groupby([USER])[ITEM].nunique()\n",
    "u_df[BCNT] = b_df.groupby([USER]).size()\n",
    "u_df.info()"
   ]
  },
  {
   "cell_type": "code",
   "execution_count": 53,
   "id": "72289302",
   "metadata": {},
   "outputs": [],
   "source": [
    "# u_df[PSUM].sort_values().plot(kind='bar')"
   ]
  },
  {
   "cell_type": "code",
   "execution_count": 54,
   "id": "270cbe34",
   "metadata": {},
   "outputs": [],
   "source": [
    "# u_df[ICNT].sort_values().plot(kind='bar')"
   ]
  },
  {
   "cell_type": "code",
   "execution_count": 55,
   "id": "bc7f6558",
   "metadata": {},
   "outputs": [],
   "source": [
    "# u_df[IDCNT].sort_values().plot(kind='bar')"
   ]
  },
  {
   "cell_type": "markdown",
   "id": "ffe68d78",
   "metadata": {},
   "source": [
    "### Shop table"
   ]
  },
  {
   "cell_type": "code",
   "execution_count": 56,
   "id": "e6076cd5",
   "metadata": {},
   "outputs": [
    {
     "name": "stdout",
     "output_type": "stream",
     "text": [
      "<class 'pandas.core.frame.DataFrame'>\n",
      "Index: 59 entries, 0 to 59\n",
      "Data columns (total 5 columns):\n",
      " #   Column           Non-Null Count  Dtype  \n",
      "---  ------           --------------  -----  \n",
      " 0   shop_id          59 non-null     int64  \n",
      " 1   total_price      59 non-null     float64\n",
      " 2   item_count       59 non-null     int64  \n",
      " 3   item_dist_count  59 non-null     int64  \n",
      " 4   basket_count     59 non-null     int64  \n",
      "dtypes: float64(1), int64(4)\n",
      "memory usage: 2.8 KB\n"
     ]
    }
   ],
   "source": [
    "# make tab for shop (item sold, average price, total sold)\n",
    "s_df = pd.DataFrame()\n",
    "s_df[SHOP] = total_df.groupby([SHOP])[[SHOP]].first().astype(int)\n",
    "s_df[PSUM] = total_df.groupby([SHOP])[[PSUM]].sum().astype(float)\n",
    "s_df[ICNT] = total_df.groupby([SHOP])[[CNT]].sum().astype(int)\n",
    "s_df[IDCNT] = total_df.groupby([SHOP])[[ITEM]].nunique()\n",
    "s_df[BCNT] = b_df.groupby([SHOP]).size()\n",
    "s_df.info()"
   ]
  },
  {
   "cell_type": "code",
   "execution_count": 57,
   "id": "fd37bc99",
   "metadata": {},
   "outputs": [],
   "source": [
    "# s_df[PSUM].sort_values().plot(kind='bar')"
   ]
  },
  {
   "cell_type": "code",
   "execution_count": 58,
   "id": "bd69246f",
   "metadata": {},
   "outputs": [],
   "source": [
    "# s_df[ICNT].sort_values().plot(kind='bar')"
   ]
  },
  {
   "cell_type": "code",
   "execution_count": 59,
   "id": "d1a77eac",
   "metadata": {},
   "outputs": [],
   "source": [
    "# s_df[IDCNT].sort_values().plot(kind='bar')"
   ]
  },
  {
   "cell_type": "markdown",
   "id": "35469ec8",
   "metadata": {},
   "source": [
    "### Date table"
   ]
  },
  {
   "cell_type": "code",
   "execution_count": 60,
   "id": "9502ccf6",
   "metadata": {},
   "outputs": [
    {
     "name": "stdout",
     "output_type": "stream",
     "text": [
      "<class 'pandas.core.frame.DataFrame'>\n",
      "DatetimeIndex: 203 entries, 2013-06-12 to 2013-01-01\n",
      "Data columns (total 4 columns):\n",
      " #   Column           Non-Null Count  Dtype  \n",
      "---  ------           --------------  -----  \n",
      " 0   total_price      203 non-null    float64\n",
      " 1   item_count       203 non-null    int64  \n",
      " 2   item_dist_count  203 non-null    int64  \n",
      " 3   basket_count     203 non-null    int64  \n",
      "dtypes: float64(1), int64(3)\n",
      "memory usage: 7.9 KB\n"
     ]
    }
   ],
   "source": [
    "# make time series to see spendings over time\n",
    "d_df = pd.DataFrame(index=total_df[DATE].unique())\n",
    "d_df[PSUM] = total_df.groupby([DATE])[[PSUM]].sum().astype(float)\n",
    "d_df[ICNT] = total_df.groupby([DATE])[[CNT]].sum().astype(int)\n",
    "d_df[IDCNT] = total_df.groupby([DATE])[[ITEM]].count()\n",
    "d_df[BCNT] = b_df.groupby([DATE]).size()\n",
    "d_df.info()"
   ]
  },
  {
   "cell_type": "code",
   "execution_count": 74,
   "id": "8ec013f2",
   "metadata": {},
   "outputs": [],
   "source": [
    "temp_d_df = d_df.reset_index().sort_values('index').rename(columns={'index': 'date'})"
   ]
  },
  {
   "cell_type": "code",
   "execution_count": 100,
   "id": "ec5f9f66",
   "metadata": {},
   "outputs": [
    {
     "data": {
      "text/plain": [
       "date\n",
       "1     6\n",
       "2     6\n",
       "3     6\n",
       "4     6\n",
       "5     6\n",
       "6     6\n",
       "7     6\n",
       "8     6\n",
       "9     6\n",
       "10    6\n",
       "11    6\n",
       "12    5\n",
       "Name: date, dtype: int64"
      ]
     },
     "execution_count": 100,
     "metadata": {},
     "output_type": "execute_result"
    }
   ],
   "source": [
    "temp_d_df[temp_d_df.date .dt.year == 2014].groupby(temp_d_df.date.dt.day).date.count()"
   ]
  },
  {
   "cell_type": "code",
   "execution_count": 148,
   "id": "14ccf651",
   "metadata": {},
   "outputs": [
    {
     "data": {
      "text/plain": [
       "<AxesSubplot:title={'center':'Total expenses by year'}>"
      ]
     },
     "execution_count": 148,
     "metadata": {},
     "output_type": "execute_result"
    },
    {
     "data": {
      "image/png": "[encoded data removed]",
      "text/plain": [
       "<Figure size 432x288 with 1 Axes>"
      ]
     },
     "metadata": {},
     "output_type": "display_data"
    }
   ],
   "source": [
    "psum_y = temp_d_df.groupby(temp_d_df.date.dt.year)[PSUM].sum()\n",
    "psum_y.plot.pie(autopct='%1.1f%%', legend=False, ylabel='', title='Total expenses by year')"
   ]
  },
  {
   "cell_type": "code",
   "execution_count": 129,
   "id": "a0fbe1af",
   "metadata": {},
   "outputs": [
    {
     "data": {
      "text/plain": [
       "<AxesSubplot:title={'center':'Total expenses by month'}>"
      ]
     },
     "execution_count": 129,
     "metadata": {},
     "output_type": "execute_result"
    },
    {
     "data": {
      "image/png": "[encoded data removed]",
      "text/plain": [
       "<Figure size 432x288 with 1 Axes>"
      ]
     },
     "metadata": {},
     "output_type": "display_data"
    }
   ],
   "source": [
    "psum_m = temp_d_df.groupby(temp_d_df.date.dt.month)[PSUM].sum()\n",
    "psum_m.plot.pie(autopct='%1.1f%%', legend=False, ylabel='', title='Total expenses by month')"
   ]
  },
  {
   "cell_type": "code",
   "execution_count": 130,
   "id": "22deaa23",
   "metadata": {},
   "outputs": [
    {
     "data": {
      "text/plain": [
       "<AxesSubplot:title={'center':'Total expenses by day'}>"
      ]
     },
     "execution_count": 130,
     "metadata": {},
     "output_type": "execute_result"
    },
    {
     "data": {
      "image/png": "[encoded data removed]",
      "text/plain": [
       "<Figure size 432x288 with 1 Axes>"
      ]
     },
     "metadata": {},
     "output_type": "display_data"
    }
   ],
   "source": [
    "psum_d = temp_d_df.groupby(temp_d_df.date.dt.day)[PSUM].sum()\n",
    "psum_d.plot.pie(autopct='%1.1f%%', legend=False, ylabel='', title='Total expenses by day')"
   ]
  },
  {
   "cell_type": "code",
   "execution_count": 132,
   "id": "24731adc",
   "metadata": {},
   "outputs": [
    {
     "data": {
      "text/plain": [
       "<AxesSubplot:title={'center':'Total baskets by year'}>"
      ]
     },
     "execution_count": 132,
     "metadata": {},
     "output_type": "execute_result"
    },
    {
     "data": {
      "image/png": "[encoded data removed]",
      "text/plain": [
       "<Figure size 432x288 with 1 Axes>"
      ]
     },
     "metadata": {},
     "output_type": "display_data"
    }
   ],
   "source": [
    "bcnt_y = temp_d_df.groupby(temp_d_df.date.dt.year)[BCNT].sum()\n",
    "bcnt_y.plot.pie(autopct='%1.1f%%', legend=False, ylabel='', title='Total baskets by year')"
   ]
  },
  {
   "cell_type": "code",
   "execution_count": 134,
   "id": "cb80b92f",
   "metadata": {},
   "outputs": [
    {
     "data": {
      "text/plain": [
       "<AxesSubplot:title={'center':'Total baskets by month'}>"
      ]
     },
     "execution_count": 134,
     "metadata": {},
     "output_type": "execute_result"
    },
    {
     "data": {
      "image/png": "[encoded data removed]",
      "text/plain": [
       "<Figure size 432x288 with 1 Axes>"
      ]
     },
     "metadata": {},
     "output_type": "display_data"
    }
   ],
   "source": [
    "bcnt_m = temp_d_df.groupby(temp_d_df.date.dt.month)[BCNT].sum()\n",
    "bcnt_m.plot.pie(autopct='%1.1f%%', legend=False, ylabel='', title='Total baskets by month')"
   ]
  },
  {
   "cell_type": "code",
   "execution_count": 133,
   "id": "1efad65b",
   "metadata": {},
   "outputs": [
    {
     "data": {
      "text/plain": [
       "<AxesSubplot:title={'center':'Total baskets by day'}>"
      ]
     },
     "execution_count": 133,
     "metadata": {},
     "output_type": "execute_result"
    },
    {
     "data": {
      "image/png": "[encoded data removed]",
      "text/plain": [
       "<Figure size 432x288 with 1 Axes>"
      ]
     },
     "metadata": {},
     "output_type": "display_data"
    }
   ],
   "source": [
    "bcnt_d = temp_d_df.groupby(temp_d_df.date.dt.day)[BCNT].sum()\n",
    "bcnt_d.plot.pie(autopct='%1.1f%%', legend=False, ylabel='', title='Total baskets by day')"
   ]
  },
  {
   "cell_type": "code",
   "execution_count": 141,
   "id": "f30d753d",
   "metadata": {},
   "outputs": [
    {
     "data": {
      "text/html": [
       "<div>\n",
       "<style scoped>\n",
       "    .dataframe tbody tr th:only-of-type {\n",
       "        vertical-align: middle;\n",
       "    }\n",
       "\n",
       "    .dataframe tbody tr th {\n",
       "        vertical-align: top;\n",
       "    }\n",
       "\n",
       "    .dataframe thead th {\n",
       "        text-align: right;\n",
       "    }\n",
       "</style>\n",
       "<table border=\"1\" class=\"dataframe\">\n",
       "  <thead>\n",
       "    <tr style=\"text-align: right;\">\n",
       "      <th></th>\n",
       "      <th>date</th>\n",
       "      <th>total_price</th>\n",
       "      <th>item_count</th>\n",
       "      <th>item_dist_count</th>\n",
       "      <th>basket_count</th>\n",
       "    </tr>\n",
       "    <tr>\n",
       "      <th>date</th>\n",
       "      <th></th>\n",
       "      <th></th>\n",
       "      <th></th>\n",
       "      <th></th>\n",
       "      <th></th>\n",
       "    </tr>\n",
       "  </thead>\n",
       "  <tbody>\n",
       "    <tr>\n",
       "      <th>0</th>\n",
       "      <td>29</td>\n",
       "      <td>29</td>\n",
       "      <td>29</td>\n",
       "      <td>29</td>\n",
       "      <td>29</td>\n",
       "    </tr>\n",
       "    <tr>\n",
       "      <th>1</th>\n",
       "      <td>30</td>\n",
       "      <td>30</td>\n",
       "      <td>30</td>\n",
       "      <td>30</td>\n",
       "      <td>30</td>\n",
       "    </tr>\n",
       "    <tr>\n",
       "      <th>2</th>\n",
       "      <td>29</td>\n",
       "      <td>29</td>\n",
       "      <td>29</td>\n",
       "      <td>29</td>\n",
       "      <td>29</td>\n",
       "    </tr>\n",
       "    <tr>\n",
       "      <th>3</th>\n",
       "      <td>26</td>\n",
       "      <td>26</td>\n",
       "      <td>26</td>\n",
       "      <td>26</td>\n",
       "      <td>26</td>\n",
       "    </tr>\n",
       "    <tr>\n",
       "      <th>4</th>\n",
       "      <td>29</td>\n",
       "      <td>29</td>\n",
       "      <td>29</td>\n",
       "      <td>29</td>\n",
       "      <td>29</td>\n",
       "    </tr>\n",
       "    <tr>\n",
       "      <th>5</th>\n",
       "      <td>30</td>\n",
       "      <td>30</td>\n",
       "      <td>30</td>\n",
       "      <td>30</td>\n",
       "      <td>30</td>\n",
       "    </tr>\n",
       "    <tr>\n",
       "      <th>6</th>\n",
       "      <td>30</td>\n",
       "      <td>30</td>\n",
       "      <td>30</td>\n",
       "      <td>30</td>\n",
       "      <td>30</td>\n",
       "    </tr>\n",
       "  </tbody>\n",
       "</table>\n",
       "</div>"
      ],
      "text/plain": [
       "      date  total_price  item_count  item_dist_count  basket_count\n",
       "date                                                              \n",
       "0       29           29          29               29            29\n",
       "1       30           30          30               30            30\n",
       "2       29           29          29               29            29\n",
       "3       26           26          26               26            26\n",
       "4       29           29          29               29            29\n",
       "5       30           30          30               30            30\n",
       "6       30           30          30               30            30"
      ]
     },
     "execution_count": 141,
     "metadata": {},
     "output_type": "execute_result"
    }
   ],
   "source": [
    "temp_d_df.groupby(temp_d_df.date.dt.day_of_week).count()"
   ]
  },
  {
   "cell_type": "code",
   "execution_count": 143,
   "id": "8b10d72a",
   "metadata": {},
   "outputs": [
    {
     "data": {
      "text/plain": [
       "date\n",
       "0    12695.160354\n",
       "1    10751.245026\n",
       "2    11121.244592\n",
       "3    10929.660330\n",
       "4    12730.325346\n",
       "5    12888.180828\n",
       "6    11468.690514\n",
       "dtype: float64"
      ]
     },
     "execution_count": 143,
     "metadata": {},
     "output_type": "execute_result"
    }
   ],
   "source": [
    "psum_w = temp_d_df.groupby(temp_d_df.date.dt.weekday)[PSUM].sum()\n",
    "bcnt_w = temp_d_df.groupby(temp_d_df.date.dt.weekday)[BCNT].sum()\n",
    "s = psum_w / bcnt_w\n",
    "s\n",
    "psum_w.plot.pie(autopct='%1.1f%%', legend=False, ylabel='', title='Total expenses by weekday')"
   ]
  },
  {
   "cell_type": "code",
   "execution_count": 145,
   "id": "6538148a",
   "metadata": {},
   "outputs": [
    {
     "data": {
      "text/plain": [
       "<AxesSubplot:title={'center':'Total expenses by weekday'}>"
      ]
     },
     "execution_count": 145,
     "metadata": {},
     "output_type": "execute_result"
    },
    {
     "data": {
      "image/png": "[encoded data removed]",
      "text/plain": [
       "<Figure size 432x288 with 1 Axes>"
      ]
     },
     "metadata": {},
     "output_type": "display_data"
    }
   ],
   "source": [
    "bcnt_w.plot.pie(autopct='%1.1f%%', legend=False, ylabel='', title='Total expenses by weekday')"
   ]
  },
  {
   "cell_type": "code",
   "execution_count": 146,
   "id": "bda4db1a",
   "metadata": {},
   "outputs": [
    {
     "data": {
      "text/plain": [
       "<AxesSubplot:title={'center':'Total expenses by weekday'}>"
      ]
     },
     "execution_count": 146,
     "metadata": {},
     "output_type": "execute_result"
    },
    {
     "data": {
      "image/png": "[encoded data removed]",
      "text/plain": [
       "<Figure size 432x288 with 1 Axes>"
      ]
     },
     "metadata": {},
     "output_type": "display_data"
    }
   ],
   "source": [
    "psum_w.plot.pie(autopct='%1.1f%%', legend=False, ylabel='', title='Total expenses by weekday')"
   ]
  },
  {
   "cell_type": "markdown",
   "id": "9ed299a1",
   "metadata": {},
   "source": [
    "## Spazio query marce"
   ]
  },
  {
   "cell_type": "code",
   "execution_count": 64,
   "id": "4b419b7d",
   "metadata": {},
   "outputs": [
    {
     "data": {
      "text/plain": [
       "date        shop_id  user_id\n",
       "2013-05-04  4        191        2\n",
       "2014-02-05  6        308        2\n",
       "2013-04-02  43       257        2\n",
       "2014-01-10  58       441        2\n",
       "2015-04-02  49       203        2\n",
       "                               ..\n",
       "2013-02-12  16       100        3\n",
       "2013-06-05  49       203        3\n",
       "2014-01-06  7        571        3\n",
       "2014-02-09  53       580        4\n",
       "2014-05-04  25       102        4\n",
       "Name: basket_id, Length: 170, dtype: int64"
      ]
     },
     "execution_count": 64,
     "metadata": {},
     "output_type": "execute_result"
    }
   ],
   "source": [
    "# 170 - triplette con basket id diversi\n",
    "stored_basket_df.groupby(basket_dependent_attributes)[BASKET].nunique().sort_values()[-170:]"
   ]
  },
  {
   "cell_type": "code",
   "execution_count": 65,
   "id": "471eef74",
   "metadata": {},
   "outputs": [
    {
     "data": {
      "text/plain": [
       "basket_id\n",
       "B869996     1\n",
       "B5120383    1\n",
       "B8617328    1\n",
       "B8633312    1\n",
       "B8617336    1\n",
       "           ..\n",
       "B8610368    1\n",
       "B8612872    1\n",
       "B8611812    2\n",
       "B8614448    2\n",
       "B8623836    2\n",
       "Length: 3310, dtype: int64"
      ]
     },
     "execution_count": 65,
     "metadata": {},
     "output_type": "execute_result"
    }
   ],
   "source": [
    "# 3307 - ordini con una sola riga\n",
    "stored_basket_df.groupby('basket_id').size().sort_values()[:3310]"
   ]
  },
  {
   "cell_type": "code",
   "execution_count": 66,
   "id": "2afd1d32",
   "metadata": {},
   "outputs": [
    {
     "data": {
      "text/plain": [
       "0             B11\n",
       "1             B11\n",
       "2             B11\n",
       "3             B11\n",
       "4             B11\n",
       "           ...   \n",
       "257043    S9916.0\n",
       "257725    S9949.0\n",
       "257767    S9950.0\n",
       "258066    S9964.0\n",
       "258106    S9966.0\n",
       "Name: basket_id, Length: 444346, dtype: object"
      ]
     },
     "execution_count": 66,
     "metadata": {},
     "output_type": "execute_result"
    }
   ],
   "source": [
    "restoring_basket_df[BASKET].sort_values()"
   ]
  },
  {
   "cell_type": "code",
   "execution_count": null,
   "id": "f3e82b72",
   "metadata": {},
   "outputs": [],
   "source": []
  },
  {
   "cell_type": "markdown",
   "id": "f882d654",
   "metadata": {},
   "source": [
    "## Spazio grafici"
   ]
  },
  {
   "cell_type": "code",
   "execution_count": null,
   "id": "4c7de792",
   "metadata": {},
   "outputs": [],
   "source": [
    "clean_basket_df['shop_id'].value_counts().plot(kind='bar')"
   ]
  },
  {
   "cell_type": "code",
   "execution_count": null,
   "id": "b12616c3",
   "metadata": {},
   "outputs": [],
   "source": [
    "clean_basket_df.plot(x='item_price', y='item_cnt_day', kind='scatter')"
   ]
  },
  {
   "cell_type": "code",
   "execution_count": null,
   "id": "fa2959a6",
   "metadata": {},
   "outputs": [],
   "source": [
    "clean_basket_df[BASKET].sort_values()"
   ]
  },
  {
   "cell_type": "markdown",
   "id": "1a15adb7",
   "metadata": {},
   "source": [
    "## Spazio cazzeggio"
   ]
  },
  {
   "cell_type": "code",
   "execution_count": null,
   "id": "e34f5103",
   "metadata": {},
   "outputs": [],
   "source": [
    "df = pd.DataFrame([[4,9],[4,3],[4,9],[4,3],[4, np.nan],[3,1],[3,np.nan],[2,np.nan],[np.nan,2], [np.nan,3]], columns=['A', 'B'])\n",
    "df['C'] = 1"
   ]
  },
  {
   "cell_type": "code",
   "execution_count": null,
   "id": "c3e1dc7a",
   "metadata": {},
   "outputs": [],
   "source": [
    "df.var()"
   ]
  },
  {
   "cell_type": "code",
   "execution_count": null,
   "id": "8a5f5a50",
   "metadata": {},
   "outputs": [],
   "source": [
    "df['B'] = df.groupby('A')['B'].apply(lambda x: x.fillna(x.mode().iloc[0]) if len(x.mode()) == 1 else x)"
   ]
  },
  {
   "cell_type": "code",
   "execution_count": null,
   "id": "70b80078",
   "metadata": {},
   "outputs": [],
   "source": [
    "df"
   ]
  },
  {
   "cell_type": "code",
   "execution_count": null,
   "id": "0de0ffa2",
   "metadata": {},
   "outputs": [],
   "source": [
    "df['B'] = df.groupby('A')['B'].apply(lambda x: x.replace(0 if len(x.mode()) > 1 else x))"
   ]
  },
  {
   "cell_type": "code",
   "execution_count": null,
   "id": "3ab3eebf",
   "metadata": {},
   "outputs": [],
   "source": [
    "# df.loc[df.groupby('A')['B'].agg(lambda x: len(x.mode())) > 1, 'B'] = 0\n"
   ]
  },
  {
   "cell_type": "code",
   "execution_count": null,
   "id": "5a78fc5c",
   "metadata": {},
   "outputs": [],
   "source": [
    "b_df"
   ]
  },
  {
   "cell_type": "code",
   "execution_count": null,
   "id": "c43f19ef",
   "metadata": {},
   "outputs": [],
   "source": [
    "total_df[total_df[BASKET] == 'B12103']"
   ]
  },
  {
   "cell_type": "code",
   "execution_count": null,
   "id": "88682fef",
   "metadata": {},
   "outputs": [],
   "source": []
  },
  {
   "cell_type": "markdown",
   "id": "ca1dd86e",
   "metadata": {},
   "source": [
    "### TDL\n",
    "\n",
    "- basket id has trailing '.0' (?)\n",
    "\n",
    "- real distinct item (id) in minor table"
   ]
  },
  {
   "cell_type": "code",
   "execution_count": null,
   "id": "f65fb55e",
   "metadata": {},
   "outputs": [],
   "source": [
    "original_items_df.info()"
   ]
  },
  {
   "cell_type": "code",
   "execution_count": null,
   "id": "053fdb59",
   "metadata": {},
   "outputs": [],
   "source": [
    "priced_items_df.info()\n"
   ]
  },
  {
   "cell_type": "code",
   "execution_count": null,
   "id": "de79b3fb",
   "metadata": {},
   "outputs": [],
   "source": [
    "\n"
   ]
  }
 ],
 "metadata": {
  "kernelspec": {
   "display_name": "dm-exam-venv",
   "language": "python",
   "name": "dm-exam-venv"
  },
  "language_info": {
   "codemirror_mode": {
    "name": "ipython",
    "version": 3
   },
   "file_extension": ".py",
   "mimetype": "text/x-python",
   "name": "python",
   "nbconvert_exporter": "python",
   "pygments_lexer": "ipython3",
   "version": "3.10.4"
  }
 },
 "nbformat": 4,
 "nbformat_minor": 5
}
