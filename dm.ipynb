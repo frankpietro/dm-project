{
 "cells": [
  {
   "cell_type": "markdown",
   "id": "69ff7be0",
   "metadata": {},
   "source": [
    "# Data Mining Project\n",
    "### Giorgio Donati, g.donati24@studenti.unipi.it\n",
    "### Pietro Francaviglia, p.francaviglia1@studenti.unipi.it\n",
    "#### A.Y. 2021-2022\n"
   ]
  },
  {
   "cell_type": "markdown",
   "id": "15451a56",
   "metadata": {},
   "source": [
    "## Libraries and datasets"
   ]
  },
  {
   "cell_type": "code",
   "execution_count": 1,
   "id": "8a40fa14",
   "metadata": {},
   "outputs": [],
   "source": [
    "import math\n",
    "import numpy as np\n",
    "import pandas as pd\n",
    "import scipy.stats as stats\n",
    "import matplotlib.pyplot as plt"
   ]
  },
  {
   "cell_type": "code",
   "execution_count": 2,
   "id": "fcc53d24",
   "metadata": {},
   "outputs": [],
   "source": [
    "# load datasets\n",
    "basket_df = pd.read_csv('datasets/baskets_supermarket.csv')\n",
    "categories_df = pd.read_csv('datasets/item_categories.csv')\n",
    "items_df = pd.read_csv('datasets/items.csv')"
   ]
  },
  {
   "cell_type": "markdown",
   "id": "85290685",
   "metadata": {},
   "source": [
    "## Basket dataset"
   ]
  },
  {
   "cell_type": "code",
   "execution_count": 3,
   "id": "3cf44406",
   "metadata": {},
   "outputs": [
    {
     "data": {
      "text/html": [
       "<div>\n",
       "<style scoped>\n",
       "    .dataframe tbody tr th:only-of-type {\n",
       "        vertical-align: middle;\n",
       "    }\n",
       "\n",
       "    .dataframe tbody tr th {\n",
       "        vertical-align: top;\n",
       "    }\n",
       "\n",
       "    .dataframe thead th {\n",
       "        text-align: right;\n",
       "    }\n",
       "</style>\n",
       "<table border=\"1\" class=\"dataframe\">\n",
       "  <thead>\n",
       "    <tr style=\"text-align: right;\">\n",
       "      <th></th>\n",
       "      <th>Unnamed: 0</th>\n",
       "      <th>date</th>\n",
       "      <th>shop_id</th>\n",
       "      <th>item_id</th>\n",
       "      <th>item_price</th>\n",
       "      <th>item_cnt_day</th>\n",
       "      <th>user_id</th>\n",
       "      <th>basket_id</th>\n",
       "    </tr>\n",
       "  </thead>\n",
       "  <tbody>\n",
       "    <tr>\n",
       "      <th>0</th>\n",
       "      <td>32632</td>\n",
       "      <td>NaN</td>\n",
       "      <td>2.0</td>\n",
       "      <td>NaN</td>\n",
       "      <td>249.0</td>\n",
       "      <td>1.0</td>\n",
       "      <td>1.0</td>\n",
       "      <td>B11</td>\n",
       "    </tr>\n",
       "    <tr>\n",
       "      <th>1</th>\n",
       "      <td>33487</td>\n",
       "      <td>01.01.2013</td>\n",
       "      <td>2.0</td>\n",
       "      <td>20424.0</td>\n",
       "      <td>NaN</td>\n",
       "      <td>1.0</td>\n",
       "      <td>1.0</td>\n",
       "      <td>B11</td>\n",
       "    </tr>\n",
       "    <tr>\n",
       "      <th>2</th>\n",
       "      <td>32099</td>\n",
       "      <td>01.01.2013</td>\n",
       "      <td>2.0</td>\n",
       "      <td>6916.0</td>\n",
       "      <td>999.5</td>\n",
       "      <td>1.0</td>\n",
       "      <td>1.0</td>\n",
       "      <td>B11</td>\n",
       "    </tr>\n",
       "    <tr>\n",
       "      <th>3</th>\n",
       "      <td>33529</td>\n",
       "      <td>01.01.2013</td>\n",
       "      <td>2.0</td>\n",
       "      <td>19718.0</td>\n",
       "      <td>149.0</td>\n",
       "      <td>1.0</td>\n",
       "      <td>1.0</td>\n",
       "      <td>B11</td>\n",
       "    </tr>\n",
       "    <tr>\n",
       "      <th>4</th>\n",
       "      <td>31974</td>\n",
       "      <td>NaN</td>\n",
       "      <td>2.0</td>\n",
       "      <td>11828.0</td>\n",
       "      <td>1699.0</td>\n",
       "      <td>1.0</td>\n",
       "      <td>1.0</td>\n",
       "      <td>B11</td>\n",
       "    </tr>\n",
       "  </tbody>\n",
       "</table>\n",
       "</div>"
      ],
      "text/plain": [
       "   Unnamed: 0        date  shop_id  item_id  item_price  item_cnt_day  \\\n",
       "0       32632         NaN      2.0      NaN       249.0           1.0   \n",
       "1       33487  01.01.2013      2.0  20424.0         NaN           1.0   \n",
       "2       32099  01.01.2013      2.0   6916.0       999.5           1.0   \n",
       "3       33529  01.01.2013      2.0  19718.0       149.0           1.0   \n",
       "4       31974         NaN      2.0  11828.0      1699.0           1.0   \n",
       "\n",
       "   user_id basket_id  \n",
       "0      1.0       B11  \n",
       "1      1.0       B11  \n",
       "2      1.0       B11  \n",
       "3      1.0       B11  \n",
       "4      1.0       B11  "
      ]
     },
     "execution_count": 3,
     "metadata": {},
     "output_type": "execute_result"
    }
   ],
   "source": [
    "# basket_df.head()"
   ]
  },
  {
   "cell_type": "code",
   "execution_count": 5,
   "id": "cce3578f",
   "metadata": {
    "scrolled": true
   },
   "outputs": [
    {
     "name": "stdout",
     "output_type": "stream",
     "text": [
      "<class 'pandas.core.frame.DataFrame'>\n",
      "RangeIndex: 504087 entries, 0 to 504086\n",
      "Data columns (total 8 columns):\n",
      " #   Column        Non-Null Count   Dtype  \n",
      "---  ------        --------------   -----  \n",
      " 0   Unnamed: 0    504087 non-null  int64  \n",
      " 1   date          352861 non-null  object \n",
      " 2   shop_id       469023 non-null  float64\n",
      " 3   item_id       405085 non-null  float64\n",
      " 4   item_price    451795 non-null  float64\n",
      " 5   item_cnt_day  497039 non-null  float64\n",
      " 6   user_id       433351 non-null  float64\n",
      " 7   basket_id     437967 non-null  object \n",
      "dtypes: float64(5), int64(1), object(2)\n",
      "memory usage: 30.8+ MB\n"
     ]
    }
   ],
   "source": [
    "basket_df.info()"
   ]
  },
  {
   "cell_type": "markdown",
   "id": "81705723",
   "metadata": {},
   "source": [
    "### Cleaning data"
   ]
  },
  {
   "cell_type": "code",
   "execution_count": 6,
   "id": "05676665",
   "metadata": {},
   "outputs": [
    {
     "name": "stdout",
     "output_type": "stream",
     "text": [
      "<class 'pandas.core.frame.DataFrame'>\n",
      "RangeIndex: 504087 entries, 0 to 504086\n",
      "Data columns (total 8 columns):\n",
      " #   Column        Non-Null Count   Dtype  \n",
      "---  ------        --------------   -----  \n",
      " 0   Unnamed: 0    504087 non-null  int64  \n",
      " 1   date          352861 non-null  object \n",
      " 2   shop_id       469023 non-null  Int64  \n",
      " 3   item_id       405085 non-null  Int64  \n",
      " 4   item_price    451795 non-null  float64\n",
      " 5   item_cnt_day  497039 non-null  Int64  \n",
      " 6   user_id       433351 non-null  Int64  \n",
      " 7   basket_id     437967 non-null  object \n",
      "dtypes: Int64(4), float64(1), int64(1), object(2)\n",
      "memory usage: 32.7+ MB\n"
     ]
    }
   ],
   "source": [
    "non_floating_attributes = ['shop_id', 'item_id', 'item_cnt_day', 'user_id']\n",
    "for col in non_floating_attributes:\n",
    "    basket_df[col] = basket_df[col].astype('Int64')\n",
    "\n",
    "basket_df.info()"
   ]
  },
  {
   "cell_type": "markdown",
   "id": "be277fce",
   "metadata": {},
   "source": [
    "#### Subset with basket_id"
   ]
  },
  {
   "cell_type": "code",
   "execution_count": 7,
   "id": "f86f2609",
   "metadata": {
    "scrolled": true
   },
   "outputs": [
    {
     "name": "stdout",
     "output_type": "stream",
     "text": [
      "<class 'pandas.core.frame.DataFrame'>\n",
      "Int64Index: 437967 entries, 0 to 504086\n",
      "Data columns (total 8 columns):\n",
      " #   Column        Non-Null Count   Dtype  \n",
      "---  ------        --------------   -----  \n",
      " 0   Unnamed: 0    437967 non-null  int64  \n",
      " 1   date          306631 non-null  object \n",
      " 2   shop_id       407650 non-null  Int64  \n",
      " 3   item_id       352049 non-null  Int64  \n",
      " 4   item_price    392583 non-null  float64\n",
      " 5   item_cnt_day  431863 non-null  Int64  \n",
      " 6   user_id       376422 non-null  Int64  \n",
      " 7   basket_id     437967 non-null  object \n",
      "dtypes: Int64(4), float64(1), int64(1), object(2)\n",
      "memory usage: 31.7+ MB\n"
     ]
    }
   ],
   "source": [
    "stored_basket_df = basket_df[basket_df['basket_id'].notna()]\n",
    "stored_basket_df.info()"
   ]
  },
  {
   "cell_type": "code",
   "execution_count": 8,
   "id": "c17ca094",
   "metadata": {
    "scrolled": true
   },
   "outputs": [
    {
     "name": "stderr",
     "output_type": "stream",
     "text": [
      "/tmp/ipykernel_119686/4235431671.py:3: SettingWithCopyWarning: \n",
      "A value is trying to be set on a copy of a slice from a DataFrame.\n",
      "Try using .loc[row_indexer,col_indexer] = value instead\n",
      "\n",
      "See the caveats in the documentation: https://pandas.pydata.org/pandas-docs/stable/user_guide/indexing.html#returning-a-view-versus-a-copy\n",
      "  stored_basket_df[attr] = stored_basket_df.groupby('basket_id')[attr].apply(lambda x: x.fillna(x.mode().iloc[0] if len(x.mode()) == 1 else x))\n",
      "/tmp/ipykernel_119686/4235431671.py:3: SettingWithCopyWarning: \n",
      "A value is trying to be set on a copy of a slice from a DataFrame.\n",
      "Try using .loc[row_indexer,col_indexer] = value instead\n",
      "\n",
      "See the caveats in the documentation: https://pandas.pydata.org/pandas-docs/stable/user_guide/indexing.html#returning-a-view-versus-a-copy\n",
      "  stored_basket_df[attr] = stored_basket_df.groupby('basket_id')[attr].apply(lambda x: x.fillna(x.mode().iloc[0] if len(x.mode()) == 1 else x))\n"
     ]
    },
    {
     "name": "stdout",
     "output_type": "stream",
     "text": [
      "<class 'pandas.core.frame.DataFrame'>\n",
      "Int64Index: 437967 entries, 0 to 504086\n",
      "Data columns (total 8 columns):\n",
      " #   Column        Non-Null Count   Dtype  \n",
      "---  ------        --------------   -----  \n",
      " 0   Unnamed: 0    437967 non-null  int64  \n",
      " 1   date          435812 non-null  object \n",
      " 2   shop_id       437690 non-null  Int64  \n",
      " 3   item_id       352049 non-null  Int64  \n",
      " 4   item_price    392583 non-null  float64\n",
      " 5   item_cnt_day  431863 non-null  Int64  \n",
      " 6   user_id       437269 non-null  Int64  \n",
      " 7   basket_id     437967 non-null  object \n",
      "dtypes: Int64(4), float64(1), int64(1), object(2)\n",
      "memory usage: 31.7+ MB\n"
     ]
    },
    {
     "name": "stderr",
     "output_type": "stream",
     "text": [
      "/tmp/ipykernel_119686/4235431671.py:3: SettingWithCopyWarning: \n",
      "A value is trying to be set on a copy of a slice from a DataFrame.\n",
      "Try using .loc[row_indexer,col_indexer] = value instead\n",
      "\n",
      "See the caveats in the documentation: https://pandas.pydata.org/pandas-docs/stable/user_guide/indexing.html#returning-a-view-versus-a-copy\n",
      "  stored_basket_df[attr] = stored_basket_df.groupby('basket_id')[attr].apply(lambda x: x.fillna(x.mode().iloc[0] if len(x.mode()) == 1 else x))\n"
     ]
    }
   ],
   "source": [
    "basket_dependent_attributes = ['date', 'shop_id', 'user_id']\n",
    "for attr in basket_dependent_attributes:\n",
    "    stored_basket_df[attr] = stored_basket_df.groupby('basket_id')[attr].apply(lambda x: x.fillna(x.mode().iloc[0] if len(x.mode()) == 1 else x))\n",
    "\n",
    "stored_basket_df.info()"
   ]
  },
  {
   "cell_type": "markdown",
   "id": "9f6aeeae",
   "metadata": {},
   "source": [
    "#### Subset without basket_id"
   ]
  },
  {
   "cell_type": "code",
   "execution_count": 9,
   "id": "d56b7607",
   "metadata": {},
   "outputs": [
    {
     "name": "stdout",
     "output_type": "stream",
     "text": [
      "<class 'pandas.core.frame.DataFrame'>\n",
      "Int64Index: 66120 entries, 20 to 504077\n",
      "Data columns (total 8 columns):\n",
      " #   Column        Non-Null Count  Dtype  \n",
      "---  ------        --------------  -----  \n",
      " 0   Unnamed: 0    66120 non-null  int64  \n",
      " 1   date          46230 non-null  object \n",
      " 2   shop_id       61373 non-null  Int64  \n",
      " 3   item_id       53036 non-null  Int64  \n",
      " 4   item_price    59212 non-null  float64\n",
      " 5   item_cnt_day  65176 non-null  Int64  \n",
      " 6   user_id       56929 non-null  Int64  \n",
      " 7   basket_id     0 non-null      object \n",
      "dtypes: Int64(4), float64(1), int64(1), object(2)\n",
      "memory usage: 4.8+ MB\n"
     ]
    }
   ],
   "source": [
    "null_basket_df = basket_df[basket_df['basket_id'].isna()]\n",
    "\n",
    "key_columns = ['date', 'shop_id', 'user_id']\n",
    "\n",
    "null_basket_df.info()"
   ]
  },
  {
   "cell_type": "code",
   "execution_count": 10,
   "id": "7b0226f1",
   "metadata": {},
   "outputs": [
    {
     "name": "stdout",
     "output_type": "stream",
     "text": [
      "<class 'pandas.core.frame.DataFrame'>\n",
      "Int64Index: 27748 entries, 61 to 504051\n",
      "Data columns (total 8 columns):\n",
      " #   Column        Non-Null Count  Dtype  \n",
      "---  ------        --------------  -----  \n",
      " 0   Unnamed: 0    27748 non-null  int64  \n",
      " 1   date          27748 non-null  object \n",
      " 2   shop_id       27748 non-null  Int64  \n",
      " 3   item_id       22323 non-null  Int64  \n",
      " 4   item_price    24897 non-null  float64\n",
      " 5   item_cnt_day  27342 non-null  Int64  \n",
      " 6   user_id       27748 non-null  Int64  \n",
      " 7   basket_id     27748 non-null  int64  \n",
      "dtypes: Int64(4), float64(1), int64(2), object(1)\n",
      "memory usage: 2.0+ MB\n"
     ]
    }
   ],
   "source": [
    "null_basket_df = null_basket_df.dropna(subset=key_columns)\n",
    "null_basket_df.info()"
   ]
  },
  {
   "cell_type": "code",
   "execution_count": 23,
   "id": "03c43d2d",
   "metadata": {},
   "outputs": [
    {
     "name": "stdout",
     "output_type": "stream",
     "text": [
      "<class 'pandas.core.frame.DataFrame'>\n",
      "Int64Index: 27748 entries, 61 to 504051\n",
      "Data columns (total 8 columns):\n",
      " #   Column        Non-Null Count  Dtype  \n",
      "---  ------        --------------  -----  \n",
      " 0   Unnamed: 0    27748 non-null  int64  \n",
      " 1   date          27748 non-null  object \n",
      " 2   shop_id       27748 non-null  Int64  \n",
      " 3   item_id       22323 non-null  Int64  \n",
      " 4   item_price    24897 non-null  float64\n",
      " 5   item_cnt_day  27342 non-null  Int64  \n",
      " 6   user_id       27748 non-null  Int64  \n",
      " 7   basket_id     27748 non-null  object \n",
      "dtypes: Int64(4), float64(1), int64(1), object(2)\n",
      "memory usage: 2.0+ MB\n"
     ]
    }
   ],
   "source": [
    "null_basket_df['basket_id'] = null_basket_df.groupby(key_columns).ngroup()\n",
    "null_basket_df = null_basket_df[null_basket_df.duplicated(subset=['basket_id'], keep=False)]\n",
    "null_basket_df['basket_id'] = 'R' + null_basket_df['basket_id'].astype(str)\n",
    "null_basket_df.info()"
   ]
  },
  {
   "cell_type": "markdown",
   "id": "0515ed5b",
   "metadata": {},
   "source": [
    "#### Merging subsets"
   ]
  },
  {
   "cell_type": "code",
   "execution_count": 25,
   "id": "5e4276bd",
   "metadata": {},
   "outputs": [
    {
     "name": "stdout",
     "output_type": "stream",
     "text": [
      "<class 'pandas.core.frame.DataFrame'>\n",
      "Int64Index: 465715 entries, 0 to 504051\n",
      "Data columns (total 8 columns):\n",
      " #   Column        Non-Null Count   Dtype  \n",
      "---  ------        --------------   -----  \n",
      " 0   Unnamed: 0    465715 non-null  int64  \n",
      " 1   date          463560 non-null  object \n",
      " 2   shop_id       465438 non-null  Int64  \n",
      " 3   item_id       374372 non-null  Int64  \n",
      " 4   item_price    417480 non-null  float64\n",
      " 5   item_cnt_day  459205 non-null  Int64  \n",
      " 6   user_id       465017 non-null  Int64  \n",
      " 7   basket_id     465715 non-null  object \n",
      "dtypes: Int64(4), float64(1), int64(1), object(2)\n",
      "memory usage: 33.8+ MB\n"
     ]
    }
   ],
   "source": [
    "clean_basket_df = pd.concat([stored_basket_df, null_basket_df])\n",
    "clean_basket_df.info()"
   ]
  },
  {
   "cell_type": "markdown",
   "id": "54a3df75",
   "metadata": {},
   "source": [
    "## Other datasets"
   ]
  },
  {
   "cell_type": "code",
   "execution_count": 26,
   "id": "96c7ece4",
   "metadata": {},
   "outputs": [
    {
     "name": "stdout",
     "output_type": "stream",
     "text": [
      "<class 'pandas.core.frame.DataFrame'>\n",
      "RangeIndex: 84 entries, 0 to 83\n",
      "Data columns (total 2 columns):\n",
      " #   Column              Non-Null Count  Dtype \n",
      "---  ------              --------------  ----- \n",
      " 0   item_category_name  84 non-null     object\n",
      " 1   item_category_id    84 non-null     int64 \n",
      "dtypes: int64(1), object(1)\n",
      "memory usage: 1.4+ KB\n"
     ]
    }
   ],
   "source": [
    "categories_df.info()"
   ]
  },
  {
   "cell_type": "code",
   "execution_count": 27,
   "id": "e7038fbb",
   "metadata": {},
   "outputs": [
    {
     "name": "stdout",
     "output_type": "stream",
     "text": [
      "<class 'pandas.core.frame.DataFrame'>\n",
      "RangeIndex: 22170 entries, 0 to 22169\n",
      "Data columns (total 3 columns):\n",
      " #   Column            Non-Null Count  Dtype \n",
      "---  ------            --------------  ----- \n",
      " 0   item_name         22170 non-null  object\n",
      " 1   item_id           22170 non-null  int64 \n",
      " 2   item_category_id  22170 non-null  int64 \n",
      "dtypes: int64(2), object(1)\n",
      "memory usage: 519.7+ KB\n"
     ]
    }
   ],
   "source": [
    "items_df.info()"
   ]
  },
  {
   "cell_type": "code",
   "execution_count": null,
   "id": "c7e70f6d",
   "metadata": {},
   "outputs": [],
   "source": []
  },
  {
   "cell_type": "code",
   "execution_count": null,
   "id": "1684dacc",
   "metadata": {},
   "outputs": [],
   "source": []
  },
  {
   "cell_type": "code",
   "execution_count": null,
   "id": "9ad704ec",
   "metadata": {},
   "outputs": [],
   "source": []
  },
  {
   "cell_type": "code",
   "execution_count": 14,
   "id": "684adfeb",
   "metadata": {},
   "outputs": [],
   "source": [
    "df = pd.DataFrame([[4,9],[4,3],[4,9],[4,3],[4, np.nan],[3,1],[3,np.nan],[2,np.nan],[np.nan,2], [np.nan,3]], columns=['A', 'B'])"
   ]
  },
  {
   "cell_type": "code",
   "execution_count": 15,
   "id": "d2cf0851",
   "metadata": {},
   "outputs": [
    {
     "data": {
      "text/html": [
       "<div>\n",
       "<style scoped>\n",
       "    .dataframe tbody tr th:only-of-type {\n",
       "        vertical-align: middle;\n",
       "    }\n",
       "\n",
       "    .dataframe tbody tr th {\n",
       "        vertical-align: top;\n",
       "    }\n",
       "\n",
       "    .dataframe thead th {\n",
       "        text-align: right;\n",
       "    }\n",
       "</style>\n",
       "<table border=\"1\" class=\"dataframe\">\n",
       "  <thead>\n",
       "    <tr style=\"text-align: right;\">\n",
       "      <th></th>\n",
       "      <th>A</th>\n",
       "      <th>B</th>\n",
       "    </tr>\n",
       "  </thead>\n",
       "  <tbody>\n",
       "    <tr>\n",
       "      <th>0</th>\n",
       "      <td>4.0</td>\n",
       "      <td>9.0</td>\n",
       "    </tr>\n",
       "    <tr>\n",
       "      <th>1</th>\n",
       "      <td>4.0</td>\n",
       "      <td>3.0</td>\n",
       "    </tr>\n",
       "    <tr>\n",
       "      <th>2</th>\n",
       "      <td>4.0</td>\n",
       "      <td>9.0</td>\n",
       "    </tr>\n",
       "    <tr>\n",
       "      <th>3</th>\n",
       "      <td>4.0</td>\n",
       "      <td>3.0</td>\n",
       "    </tr>\n",
       "    <tr>\n",
       "      <th>4</th>\n",
       "      <td>4.0</td>\n",
       "      <td>NaN</td>\n",
       "    </tr>\n",
       "    <tr>\n",
       "      <th>5</th>\n",
       "      <td>3.0</td>\n",
       "      <td>1.0</td>\n",
       "    </tr>\n",
       "    <tr>\n",
       "      <th>6</th>\n",
       "      <td>3.0</td>\n",
       "      <td>NaN</td>\n",
       "    </tr>\n",
       "    <tr>\n",
       "      <th>7</th>\n",
       "      <td>2.0</td>\n",
       "      <td>NaN</td>\n",
       "    </tr>\n",
       "    <tr>\n",
       "      <th>8</th>\n",
       "      <td>NaN</td>\n",
       "      <td>2.0</td>\n",
       "    </tr>\n",
       "    <tr>\n",
       "      <th>9</th>\n",
       "      <td>NaN</td>\n",
       "      <td>3.0</td>\n",
       "    </tr>\n",
       "  </tbody>\n",
       "</table>\n",
       "</div>"
      ],
      "text/plain": [
       "     A    B\n",
       "0  4.0  9.0\n",
       "1  4.0  3.0\n",
       "2  4.0  9.0\n",
       "3  4.0  3.0\n",
       "4  4.0  NaN\n",
       "5  3.0  1.0\n",
       "6  3.0  NaN\n",
       "7  2.0  NaN\n",
       "8  NaN  2.0\n",
       "9  NaN  3.0"
      ]
     },
     "execution_count": 15,
     "metadata": {},
     "output_type": "execute_result"
    }
   ],
   "source": [
    "df"
   ]
  },
  {
   "cell_type": "code",
   "execution_count": 16,
   "id": "4efe4672",
   "metadata": {},
   "outputs": [],
   "source": [
    "df['B'] = df.groupby('A')['B'].apply(lambda x: x.fillna(x.mode().iloc[0]) if len(x.mode()) == 1 else x)"
   ]
  },
  {
   "cell_type": "code",
   "execution_count": 17,
   "id": "ac55e686",
   "metadata": {},
   "outputs": [
    {
     "data": {
      "text/html": [
       "<div>\n",
       "<style scoped>\n",
       "    .dataframe tbody tr th:only-of-type {\n",
       "        vertical-align: middle;\n",
       "    }\n",
       "\n",
       "    .dataframe tbody tr th {\n",
       "        vertical-align: top;\n",
       "    }\n",
       "\n",
       "    .dataframe thead th {\n",
       "        text-align: right;\n",
       "    }\n",
       "</style>\n",
       "<table border=\"1\" class=\"dataframe\">\n",
       "  <thead>\n",
       "    <tr style=\"text-align: right;\">\n",
       "      <th></th>\n",
       "      <th>A</th>\n",
       "      <th>B</th>\n",
       "    </tr>\n",
       "  </thead>\n",
       "  <tbody>\n",
       "    <tr>\n",
       "      <th>0</th>\n",
       "      <td>4.0</td>\n",
       "      <td>9.0</td>\n",
       "    </tr>\n",
       "    <tr>\n",
       "      <th>1</th>\n",
       "      <td>4.0</td>\n",
       "      <td>3.0</td>\n",
       "    </tr>\n",
       "    <tr>\n",
       "      <th>2</th>\n",
       "      <td>4.0</td>\n",
       "      <td>9.0</td>\n",
       "    </tr>\n",
       "    <tr>\n",
       "      <th>3</th>\n",
       "      <td>4.0</td>\n",
       "      <td>3.0</td>\n",
       "    </tr>\n",
       "    <tr>\n",
       "      <th>4</th>\n",
       "      <td>4.0</td>\n",
       "      <td>NaN</td>\n",
       "    </tr>\n",
       "    <tr>\n",
       "      <th>5</th>\n",
       "      <td>3.0</td>\n",
       "      <td>1.0</td>\n",
       "    </tr>\n",
       "    <tr>\n",
       "      <th>6</th>\n",
       "      <td>3.0</td>\n",
       "      <td>1.0</td>\n",
       "    </tr>\n",
       "    <tr>\n",
       "      <th>7</th>\n",
       "      <td>2.0</td>\n",
       "      <td>NaN</td>\n",
       "    </tr>\n",
       "    <tr>\n",
       "      <th>8</th>\n",
       "      <td>NaN</td>\n",
       "      <td>NaN</td>\n",
       "    </tr>\n",
       "    <tr>\n",
       "      <th>9</th>\n",
       "      <td>NaN</td>\n",
       "      <td>NaN</td>\n",
       "    </tr>\n",
       "  </tbody>\n",
       "</table>\n",
       "</div>"
      ],
      "text/plain": [
       "     A    B\n",
       "0  4.0  9.0\n",
       "1  4.0  3.0\n",
       "2  4.0  9.0\n",
       "3  4.0  3.0\n",
       "4  4.0  NaN\n",
       "5  3.0  1.0\n",
       "6  3.0  1.0\n",
       "7  2.0  NaN\n",
       "8  NaN  NaN\n",
       "9  NaN  NaN"
      ]
     },
     "execution_count": 17,
     "metadata": {},
     "output_type": "execute_result"
    }
   ],
   "source": [
    "df"
   ]
  },
  {
   "cell_type": "code",
   "execution_count": 18,
   "id": "2c6048e1",
   "metadata": {},
   "outputs": [],
   "source": [
    "df['B'] = df.groupby('A').ngroup()"
   ]
  },
  {
   "cell_type": "code",
   "execution_count": 19,
   "id": "cfd9fd1c",
   "metadata": {},
   "outputs": [
    {
     "data": {
      "text/html": [
       "<div>\n",
       "<style scoped>\n",
       "    .dataframe tbody tr th:only-of-type {\n",
       "        vertical-align: middle;\n",
       "    }\n",
       "\n",
       "    .dataframe tbody tr th {\n",
       "        vertical-align: top;\n",
       "    }\n",
       "\n",
       "    .dataframe thead th {\n",
       "        text-align: right;\n",
       "    }\n",
       "</style>\n",
       "<table border=\"1\" class=\"dataframe\">\n",
       "  <thead>\n",
       "    <tr style=\"text-align: right;\">\n",
       "      <th></th>\n",
       "      <th>A</th>\n",
       "      <th>B</th>\n",
       "    </tr>\n",
       "  </thead>\n",
       "  <tbody>\n",
       "    <tr>\n",
       "      <th>0</th>\n",
       "      <td>4.0</td>\n",
       "      <td>2</td>\n",
       "    </tr>\n",
       "    <tr>\n",
       "      <th>1</th>\n",
       "      <td>4.0</td>\n",
       "      <td>2</td>\n",
       "    </tr>\n",
       "    <tr>\n",
       "      <th>2</th>\n",
       "      <td>4.0</td>\n",
       "      <td>2</td>\n",
       "    </tr>\n",
       "    <tr>\n",
       "      <th>3</th>\n",
       "      <td>4.0</td>\n",
       "      <td>2</td>\n",
       "    </tr>\n",
       "    <tr>\n",
       "      <th>4</th>\n",
       "      <td>4.0</td>\n",
       "      <td>2</td>\n",
       "    </tr>\n",
       "    <tr>\n",
       "      <th>5</th>\n",
       "      <td>3.0</td>\n",
       "      <td>1</td>\n",
       "    </tr>\n",
       "    <tr>\n",
       "      <th>6</th>\n",
       "      <td>3.0</td>\n",
       "      <td>1</td>\n",
       "    </tr>\n",
       "    <tr>\n",
       "      <th>7</th>\n",
       "      <td>2.0</td>\n",
       "      <td>0</td>\n",
       "    </tr>\n",
       "    <tr>\n",
       "      <th>8</th>\n",
       "      <td>NaN</td>\n",
       "      <td>-1</td>\n",
       "    </tr>\n",
       "    <tr>\n",
       "      <th>9</th>\n",
       "      <td>NaN</td>\n",
       "      <td>-1</td>\n",
       "    </tr>\n",
       "  </tbody>\n",
       "</table>\n",
       "</div>"
      ],
      "text/plain": [
       "     A  B\n",
       "0  4.0  2\n",
       "1  4.0  2\n",
       "2  4.0  2\n",
       "3  4.0  2\n",
       "4  4.0  2\n",
       "5  3.0  1\n",
       "6  3.0  1\n",
       "7  2.0  0\n",
       "8  NaN -1\n",
       "9  NaN -1"
      ]
     },
     "execution_count": 19,
     "metadata": {},
     "output_type": "execute_result"
    }
   ],
   "source": [
    "df\n"
   ]
  },
  {
   "cell_type": "code",
   "execution_count": null,
   "id": "1a25e07a",
   "metadata": {},
   "outputs": [],
   "source": []
  }
 ],
 "metadata": {
  "kernelspec": {
   "display_name": "dm-exam-venv",
   "language": "python",
   "name": "dm-exam-venv"
  },
  "language_info": {
   "codemirror_mode": {
    "name": "ipython",
    "version": 3
   },
   "file_extension": ".py",
   "mimetype": "text/x-python",
   "name": "python",
   "nbconvert_exporter": "python",
   "pygments_lexer": "ipython3",
   "version": "3.10.4"
  }
 },
 "nbformat": 4,
 "nbformat_minor": 5
}
